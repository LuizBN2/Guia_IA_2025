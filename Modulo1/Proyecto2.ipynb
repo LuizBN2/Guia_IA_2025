{
 "cells": [
  {
   "cell_type": "markdown",
   "id": "10772458-975a-44d0-8837-622a2d93a0f6",
   "metadata": {},
   "source": [
    "<div style=\"text-align: center;\">\n",
    "    <h1 style=\"color: red;\">Anexo 2</h1>\n",
    "    <h3>Proyecto 2: Aplicación de TF-IDF</h3>\n",
    "    <hr/>\n",
    "    <p style=\"text-align: right;\">Mg. Luis Felipe Bustamante Narváez</p>\n",
    "</div>"
   ]
  },
  {
   "cell_type": "markdown",
   "id": "64b53f66-3053-4149-81df-9d0274a3b39a",
   "metadata": {},
   "source": [
    "## Importamos los datos para su manipulación"
   ]
  },
  {
   "cell_type": "code",
   "execution_count": 124,
   "id": "3bdbbad6-8b23-4bbf-8d7f-35bfa275846e",
   "metadata": {},
   "outputs": [
    {
     "data": {
      "text/html": [
       "<div>\n",
       "<style scoped>\n",
       "    .dataframe tbody tr th:only-of-type {\n",
       "        vertical-align: middle;\n",
       "    }\n",
       "\n",
       "    .dataframe tbody tr th {\n",
       "        vertical-align: top;\n",
       "    }\n",
       "\n",
       "    .dataframe thead th {\n",
       "        text-align: right;\n",
       "    }\n",
       "</style>\n",
       "<table border=\"1\" class=\"dataframe\">\n",
       "  <thead>\n",
       "    <tr style=\"text-align: right;\">\n",
       "      <th></th>\n",
       "      <th>color</th>\n",
       "      <th>director_name</th>\n",
       "      <th>num_critic_for_reviews</th>\n",
       "      <th>duration</th>\n",
       "      <th>director_facebook_likes</th>\n",
       "      <th>actor_3_facebook_likes</th>\n",
       "      <th>actor_2_name</th>\n",
       "      <th>actor_1_facebook_likes</th>\n",
       "      <th>gross</th>\n",
       "      <th>genres</th>\n",
       "      <th>...</th>\n",
       "      <th>num_user_for_reviews</th>\n",
       "      <th>language</th>\n",
       "      <th>country</th>\n",
       "      <th>content_rating</th>\n",
       "      <th>budget</th>\n",
       "      <th>title_year</th>\n",
       "      <th>actor_2_facebook_likes</th>\n",
       "      <th>imdb_score</th>\n",
       "      <th>aspect_ratio</th>\n",
       "      <th>movie_facebook_likes</th>\n",
       "    </tr>\n",
       "  </thead>\n",
       "  <tbody>\n",
       "    <tr>\n",
       "      <th>0</th>\n",
       "      <td>Color</td>\n",
       "      <td>James Cameron</td>\n",
       "      <td>723.0</td>\n",
       "      <td>178.0</td>\n",
       "      <td>0.0</td>\n",
       "      <td>855.0</td>\n",
       "      <td>Joel David Moore</td>\n",
       "      <td>1000.0</td>\n",
       "      <td>760505847.0</td>\n",
       "      <td>Action|Adventure|Fantasy|Sci-Fi</td>\n",
       "      <td>...</td>\n",
       "      <td>3054.0</td>\n",
       "      <td>English</td>\n",
       "      <td>USA</td>\n",
       "      <td>PG-13</td>\n",
       "      <td>237000000.0</td>\n",
       "      <td>2009.0</td>\n",
       "      <td>936.0</td>\n",
       "      <td>7.9</td>\n",
       "      <td>1.78</td>\n",
       "      <td>33000</td>\n",
       "    </tr>\n",
       "    <tr>\n",
       "      <th>1</th>\n",
       "      <td>Color</td>\n",
       "      <td>Gore Verbinski</td>\n",
       "      <td>302.0</td>\n",
       "      <td>169.0</td>\n",
       "      <td>563.0</td>\n",
       "      <td>1000.0</td>\n",
       "      <td>Orlando Bloom</td>\n",
       "      <td>40000.0</td>\n",
       "      <td>309404152.0</td>\n",
       "      <td>Action|Adventure|Fantasy</td>\n",
       "      <td>...</td>\n",
       "      <td>1238.0</td>\n",
       "      <td>English</td>\n",
       "      <td>USA</td>\n",
       "      <td>PG-13</td>\n",
       "      <td>300000000.0</td>\n",
       "      <td>2007.0</td>\n",
       "      <td>5000.0</td>\n",
       "      <td>7.1</td>\n",
       "      <td>2.35</td>\n",
       "      <td>0</td>\n",
       "    </tr>\n",
       "    <tr>\n",
       "      <th>2</th>\n",
       "      <td>Color</td>\n",
       "      <td>Sam Mendes</td>\n",
       "      <td>602.0</td>\n",
       "      <td>148.0</td>\n",
       "      <td>0.0</td>\n",
       "      <td>161.0</td>\n",
       "      <td>Rory Kinnear</td>\n",
       "      <td>11000.0</td>\n",
       "      <td>200074175.0</td>\n",
       "      <td>Action|Adventure|Thriller</td>\n",
       "      <td>...</td>\n",
       "      <td>994.0</td>\n",
       "      <td>English</td>\n",
       "      <td>UK</td>\n",
       "      <td>PG-13</td>\n",
       "      <td>245000000.0</td>\n",
       "      <td>2015.0</td>\n",
       "      <td>393.0</td>\n",
       "      <td>6.8</td>\n",
       "      <td>2.35</td>\n",
       "      <td>85000</td>\n",
       "    </tr>\n",
       "    <tr>\n",
       "      <th>3</th>\n",
       "      <td>Color</td>\n",
       "      <td>Christopher Nolan</td>\n",
       "      <td>813.0</td>\n",
       "      <td>164.0</td>\n",
       "      <td>22000.0</td>\n",
       "      <td>23000.0</td>\n",
       "      <td>Christian Bale</td>\n",
       "      <td>27000.0</td>\n",
       "      <td>448130642.0</td>\n",
       "      <td>Action|Thriller</td>\n",
       "      <td>...</td>\n",
       "      <td>2701.0</td>\n",
       "      <td>English</td>\n",
       "      <td>USA</td>\n",
       "      <td>PG-13</td>\n",
       "      <td>250000000.0</td>\n",
       "      <td>2012.0</td>\n",
       "      <td>23000.0</td>\n",
       "      <td>8.5</td>\n",
       "      <td>2.35</td>\n",
       "      <td>164000</td>\n",
       "    </tr>\n",
       "    <tr>\n",
       "      <th>4</th>\n",
       "      <td>NaN</td>\n",
       "      <td>Doug Walker</td>\n",
       "      <td>NaN</td>\n",
       "      <td>NaN</td>\n",
       "      <td>131.0</td>\n",
       "      <td>NaN</td>\n",
       "      <td>Rob Walker</td>\n",
       "      <td>131.0</td>\n",
       "      <td>NaN</td>\n",
       "      <td>Documentary</td>\n",
       "      <td>...</td>\n",
       "      <td>NaN</td>\n",
       "      <td>NaN</td>\n",
       "      <td>NaN</td>\n",
       "      <td>NaN</td>\n",
       "      <td>NaN</td>\n",
       "      <td>NaN</td>\n",
       "      <td>12.0</td>\n",
       "      <td>7.1</td>\n",
       "      <td>NaN</td>\n",
       "      <td>0</td>\n",
       "    </tr>\n",
       "  </tbody>\n",
       "</table>\n",
       "<p>5 rows × 28 columns</p>\n",
       "</div>"
      ],
      "text/plain": [
       "   color      director_name  num_critic_for_reviews  duration  \\\n",
       "0  Color      James Cameron                   723.0     178.0   \n",
       "1  Color     Gore Verbinski                   302.0     169.0   \n",
       "2  Color         Sam Mendes                   602.0     148.0   \n",
       "3  Color  Christopher Nolan                   813.0     164.0   \n",
       "4    NaN        Doug Walker                     NaN       NaN   \n",
       "\n",
       "   director_facebook_likes  actor_3_facebook_likes      actor_2_name  \\\n",
       "0                      0.0                   855.0  Joel David Moore   \n",
       "1                    563.0                  1000.0     Orlando Bloom   \n",
       "2                      0.0                   161.0      Rory Kinnear   \n",
       "3                  22000.0                 23000.0    Christian Bale   \n",
       "4                    131.0                     NaN        Rob Walker   \n",
       "\n",
       "   actor_1_facebook_likes        gross                           genres  ...  \\\n",
       "0                  1000.0  760505847.0  Action|Adventure|Fantasy|Sci-Fi  ...   \n",
       "1                 40000.0  309404152.0         Action|Adventure|Fantasy  ...   \n",
       "2                 11000.0  200074175.0        Action|Adventure|Thriller  ...   \n",
       "3                 27000.0  448130642.0                  Action|Thriller  ...   \n",
       "4                   131.0          NaN                      Documentary  ...   \n",
       "\n",
       "  num_user_for_reviews language  country  content_rating       budget  \\\n",
       "0               3054.0  English      USA           PG-13  237000000.0   \n",
       "1               1238.0  English      USA           PG-13  300000000.0   \n",
       "2                994.0  English       UK           PG-13  245000000.0   \n",
       "3               2701.0  English      USA           PG-13  250000000.0   \n",
       "4                  NaN      NaN      NaN             NaN          NaN   \n",
       "\n",
       "   title_year actor_2_facebook_likes imdb_score  aspect_ratio  \\\n",
       "0      2009.0                  936.0        7.9          1.78   \n",
       "1      2007.0                 5000.0        7.1          2.35   \n",
       "2      2015.0                  393.0        6.8          2.35   \n",
       "3      2012.0                23000.0        8.5          2.35   \n",
       "4         NaN                   12.0        7.1           NaN   \n",
       "\n",
       "  movie_facebook_likes  \n",
       "0                33000  \n",
       "1                    0  \n",
       "2                85000  \n",
       "3               164000  \n",
       "4                    0  \n",
       "\n",
       "[5 rows x 28 columns]"
      ]
     },
     "execution_count": 124,
     "metadata": {},
     "output_type": "execute_result"
    }
   ],
   "source": [
    "import pandas as pd\n",
    "df = pd.read_csv('movie_metadata.csv', encoding='UTF-8')\n",
    "df.head()"
   ]
  },
  {
   "cell_type": "code",
   "execution_count": null,
   "id": "8d2f2b21-2a58-40bc-a17d-f5c5fa4f0c01",
   "metadata": {},
   "outputs": [],
   "source": [
    "# añadimos la columna id al principio de la tabla\n",
    "df.insert(0, 'id', range(1, len(df)+ 1))\n",
    "df"
   ]
  },
  {
   "cell_type": "code",
   "execution_count": null,
   "id": "a1c31d98-be4c-4059-bd99-db16c4a79561",
   "metadata": {},
   "outputs": [],
   "source": [
    "# Mostramos las columnas que no se ven para poder seleccionarlas\n",
    "df.iloc[:,10:20].head()\n"
   ]
  },
  {
   "cell_type": "code",
   "execution_count": null,
   "id": "2d01637d-36ab-40ec-b987-870ca989e33f",
   "metadata": {},
   "outputs": [],
   "source": [
    "# De acuerdo a esto, necesitamos las columnas id, genres, movie_title y plot_keywords\n",
    "#verificamos su ubicación\n",
    "df.columns\n"
   ]
  },
  {
   "cell_type": "code",
   "execution_count": null,
   "id": "810aacfa-b856-45af-8acf-b7967dec591e",
   "metadata": {},
   "outputs": [],
   "source": [
    "# Necesitamos las columnas: 0, 10,12, 17\n",
    "cols_mantener = [0, 10, 12, 17]\n",
    "df_new = df.iloc[:,cols_mantener]\n",
    "df_new"
   ]
  },
  {
   "cell_type": "code",
   "execution_count": null,
   "id": "3c80a4dc-70d5-4652-a7ea-32e370fb6a26",
   "metadata": {},
   "outputs": [],
   "source": [
    "# cambiamos los nombres de las columnas para poder utilizarlos de mejor manera\n",
    "df_new = df_new.rename(columns={df_new.columns[1]:'genero', \n",
    "                                df_new.columns[2]:'titulo', \n",
    "                                df_new.columns[3]:'plot_keywords'})\n",
    "df_new"
   ]
  },
  {
   "cell_type": "code",
   "execution_count": null,
   "id": "84dae2c7-aa9a-4f33-9d28-739d35206d04",
   "metadata": {},
   "outputs": [],
   "source": [
    "# necesitamos reordenar las columnas para el manejo de los datos\n",
    "col_mover = df_new.pop('titulo')\n",
    "df_new.insert(1, 'titulo', col_mover)\n",
    "df_new"
   ]
  },
  {
   "cell_type": "code",
   "execution_count": null,
   "id": "43e5c40f-3c4e-4f09-b788-0811f89acc16",
   "metadata": {},
   "outputs": [],
   "source": [
    "# eliminamos los espacios en blanco al principio y al final de cada texto\n",
    "for i in range(1, len(df_new.columns)):\n",
    "    df_new.iloc[:,i] = df_new.iloc[:,i].str.strip()\n",
    "df_new"
   ]
  },
  {
   "cell_type": "code",
   "execution_count": 125,
   "id": "f1905cfd-d0b5-4c9d-ac91-31ae5a8e8a72",
   "metadata": {},
   "outputs": [
    {
     "data": {
      "text/html": [
       "<div>\n",
       "<style scoped>\n",
       "    .dataframe tbody tr th:only-of-type {\n",
       "        vertical-align: middle;\n",
       "    }\n",
       "\n",
       "    .dataframe tbody tr th {\n",
       "        vertical-align: top;\n",
       "    }\n",
       "\n",
       "    .dataframe thead th {\n",
       "        text-align: right;\n",
       "    }\n",
       "</style>\n",
       "<table border=\"1\" class=\"dataframe\">\n",
       "  <thead>\n",
       "    <tr style=\"text-align: right;\">\n",
       "      <th></th>\n",
       "      <th>id</th>\n",
       "      <th>titulo</th>\n",
       "      <th>genero</th>\n",
       "      <th>plot_keywords</th>\n",
       "      <th>texto</th>\n",
       "    </tr>\n",
       "  </thead>\n",
       "  <tbody>\n",
       "    <tr>\n",
       "      <th>0</th>\n",
       "      <td>1</td>\n",
       "      <td>Avatar</td>\n",
       "      <td>Action Adventure Fantasy Sci-Fi</td>\n",
       "      <td>avatar future marine native paraplegic</td>\n",
       "      <td>Action Adventure Fantasy Sci-Fi avatar future ...</td>\n",
       "    </tr>\n",
       "    <tr>\n",
       "      <th>1</th>\n",
       "      <td>2</td>\n",
       "      <td>Pirates of the Caribbean: At World's End</td>\n",
       "      <td>Action Adventure Fantasy</td>\n",
       "      <td>goddess marriage ceremony marriage proposal pi...</td>\n",
       "      <td>Action Adventure Fantasy goddess marriage cere...</td>\n",
       "    </tr>\n",
       "    <tr>\n",
       "      <th>2</th>\n",
       "      <td>3</td>\n",
       "      <td>Spectre</td>\n",
       "      <td>Action Adventure Thriller</td>\n",
       "      <td>bomb espionage sequel spy terrorist</td>\n",
       "      <td>Action Adventure Thriller bomb espionage seque...</td>\n",
       "    </tr>\n",
       "    <tr>\n",
       "      <th>3</th>\n",
       "      <td>4</td>\n",
       "      <td>The Dark Knight Rises</td>\n",
       "      <td>Action Thriller</td>\n",
       "      <td>deception imprisonment lawlessness police offi...</td>\n",
       "      <td>Action Thriller deception imprisonment lawless...</td>\n",
       "    </tr>\n",
       "    <tr>\n",
       "      <th>4</th>\n",
       "      <td>5</td>\n",
       "      <td>Star Wars: Episode VII - The Force Awakens</td>\n",
       "      <td>Documentary</td>\n",
       "      <td>NaN</td>\n",
       "      <td>Documentary nan</td>\n",
       "    </tr>\n",
       "  </tbody>\n",
       "</table>\n",
       "</div>"
      ],
      "text/plain": [
       "   id                                      titulo  \\\n",
       "0   1                                      Avatar   \n",
       "1   2    Pirates of the Caribbean: At World's End   \n",
       "2   3                                     Spectre   \n",
       "3   4                       The Dark Knight Rises   \n",
       "4   5  Star Wars: Episode VII - The Force Awakens   \n",
       "\n",
       "                            genero  \\\n",
       "0  Action Adventure Fantasy Sci-Fi   \n",
       "1         Action Adventure Fantasy   \n",
       "2        Action Adventure Thriller   \n",
       "3                  Action Thriller   \n",
       "4                      Documentary   \n",
       "\n",
       "                                       plot_keywords  \\\n",
       "0             avatar future marine native paraplegic   \n",
       "1  goddess marriage ceremony marriage proposal pi...   \n",
       "2                bomb espionage sequel spy terrorist   \n",
       "3  deception imprisonment lawlessness police offi...   \n",
       "4                                                NaN   \n",
       "\n",
       "                                               texto  \n",
       "0  Action Adventure Fantasy Sci-Fi avatar future ...  \n",
       "1  Action Adventure Fantasy goddess marriage cere...  \n",
       "2  Action Adventure Thriller bomb espionage seque...  \n",
       "3  Action Thriller deception imprisonment lawless...  \n",
       "4                                    Documentary nan  "
      ]
     },
     "execution_count": 125,
     "metadata": {},
     "output_type": "execute_result"
    }
   ],
   "source": [
    "# reemplazamos el caracter | por espacio vacío\n",
    "for i in range(2, len(df_new.columns)):\n",
    "    df_new.iloc[:,i] = df_new.iloc[:,i].str.replace('|', ' ')\n",
    "df_new.head()"
   ]
  },
  {
   "cell_type": "code",
   "execution_count": null,
   "id": "2b41e00a-54f8-453a-846b-5a4655770030",
   "metadata": {},
   "outputs": [],
   "source": [
    "# Unimos las columnas genero y plot_keywords\n",
    "df_new['texto'] = df_new[['genero', 'plot_keywords']].apply(lambda row: ' '.join(row.values.astype(str)), axis=1)\n",
    "df_new"
   ]
  },
  {
   "cell_type": "code",
   "execution_count": null,
   "id": "bb2fcee3-60bd-4d26-8ba3-7d954f02561d",
   "metadata": {},
   "outputs": [],
   "source": [
    "# observamos con un ejemplo como quedó la columna texto\n",
    "df_new['texto'].iloc[0]"
   ]
  },
  {
   "cell_type": "markdown",
   "id": "fac373fa-1f54-41d0-8586-98128406683d",
   "metadata": {},
   "source": [
    "## TF-IDF"
   ]
  },
  {
   "cell_type": "code",
   "execution_count": null,
   "id": "02b0ebae-32b6-486d-bb22-3012467b33d9",
   "metadata": {},
   "outputs": [],
   "source": [
    "from sklearn.feature_extraction.text import TfidfVectorizer\n",
    "from sklearn.metrics.pairwise import cosine_similarity, euclidean_distances"
   ]
  },
  {
   "cell_type": "code",
   "execution_count": null,
   "id": "30aa27b0-572e-4b33-82aa-62abac6d92d2",
   "metadata": {},
   "outputs": [],
   "source": [
    "# vectorizamos poniendo un número máximo de tokens, entre más palabras haya, debe ser mayor este dato\n",
    "tfIdf = TfidfVectorizer(max_features=3000)"
   ]
  },
  {
   "cell_type": "code",
   "execution_count": null,
   "id": "93f28ba2-f0cf-44da-90d5-9c08442c54d2",
   "metadata": {},
   "outputs": [],
   "source": [
    "# Matriz de vectores (total de registros, total de dimensiones creadas)\n",
    "X = tfIdf.fit_transform(df_new['texto'])\n",
    "X"
   ]
  },
  {
   "cell_type": "code",
   "execution_count": null,
   "id": "ae54f8e5-6cf9-442a-b17f-798b6fa8eee4",
   "metadata": {},
   "outputs": [],
   "source": [
    "# Creamos una serie para mapear las etiquetas de los nombres de las películas\n",
    "movies = pd.Series(df_new.index, index=df_new['titulo'])\n",
    "movies"
   ]
  },
  {
   "cell_type": "code",
   "execution_count": null,
   "id": "efbd2d3e-0365-4142-b420-a6f4afdd401c",
   "metadata": {},
   "outputs": [],
   "source": [
    "# Podemos buscar el índice de cada película\n",
    "indice = movies['A Plague So Pleasant']\n",
    "indice"
   ]
  },
  {
   "cell_type": "code",
   "execution_count": null,
   "id": "80d03bb8-6f7a-4259-99c8-4fd1659d43d6",
   "metadata": {},
   "outputs": [],
   "source": [
    "# consultamos\n",
    "consulta = X[indice]\n",
    "consulta"
   ]
  },
  {
   "cell_type": "code",
   "execution_count": 126,
   "id": "4a3e9b52-5715-4a72-843e-c55e736f99f2",
   "metadata": {},
   "outputs": [
    {
     "data": {
      "text/plain": [
       "array([[0., 0., 0., ..., 0., 0., 0.]], shape=(1, 3000))"
      ]
     },
     "execution_count": 126,
     "metadata": {},
     "output_type": "execute_result"
    }
   ],
   "source": [
    "# Observamos el vector\n",
    "consulta2 = consulta.toarray()\n",
    "consulta2"
   ]
  },
  {
   "cell_type": "code",
   "execution_count": null,
   "id": "59ce24bb-609e-4e03-a74f-044490de2d06",
   "metadata": {},
   "outputs": [],
   "source": [
    "# observemos las columnas del vector donde no hay datos en cero, donde hay tokens\n",
    "print(consulta)"
   ]
  },
  {
   "cell_type": "code",
   "execution_count": 127,
   "id": "7fdf4a24-d551-46b0-916c-7584e05c29f8",
   "metadata": {},
   "outputs": [
    {
     "data": {
      "text/plain": [
       "array([[0.        , 0.        , 0.05807863, ..., 1.        , 0.64349593,\n",
       "        0.        ]], shape=(1, 5043))"
      ]
     },
     "execution_count": 127,
     "metadata": {},
     "output_type": "execute_result"
    }
   ],
   "source": [
    "# calculamos la similitud de los vectores (el valor de prueba con el resto de los datos)\n",
    "simil = cosine_similarity(consulta2, X)\n",
    "simil"
   ]
  },
  {
   "cell_type": "code",
   "execution_count": 128,
   "id": "71816bf8-70c5-4a2a-808e-ad85f00d5324",
   "metadata": {},
   "outputs": [
    {
     "name": "stdout",
     "output_type": "stream",
     "text": [
      "La similitud entre la película \n",
      "\"Identity\" y nuestra película consultada,\n",
      "\"A Plague So Pleasant\", es de 0.039206668970362867\n"
     ]
    }
   ],
   "source": [
    "# Lo anterior muestra el arreglo de similitudes, veamos un ejemplo de similitud entre \n",
    "# la película 0 y nuestra consulta, y luego con la película 2 y nuestra consulta\n",
    "comparar = 1763\n",
    "a = simil[0][comparar]  #simil[consulta (siempre es 0), peli a comparar]\n",
    "print(f'''La similitud entre la película \n",
    "\"{df_new.iloc[comparar, 1]}\" y nuestra película consultada,\n",
    "\"{df_new.iloc[indice, 1]}\", es de {a}''')\n"
   ]
  },
  {
   "cell_type": "code",
   "execution_count": null,
   "id": "b694a664-1b15-4b3d-989f-f8a88e5a022f",
   "metadata": {},
   "outputs": [],
   "source": [
    "# calcular la similitud de manera más profesional\n",
    "simil2 = simil.flatten()"
   ]
  },
  {
   "cell_type": "code",
   "execution_count": null,
   "id": "5a2544a1-6964-4c40-b298-a5d753d8c64d",
   "metadata": {},
   "outputs": [],
   "source": [
    "# ejemplo\n",
    "comparar = 1763\n",
    "b = simil2[comparar]  #simil[consulta (siempre es 0), peli a comparar]\n",
    "print(f'''La similitud entre la película \n",
    "\"{df_new.iloc[comparar, 1]}\" y nuestra película consultada,\n",
    "\"{df_new.iloc[indice, 1]}\", es de {b}''')\n",
    "# Nótese que de esta manera solo se pone el valor de la película a comparar"
   ]
  },
  {
   "cell_type": "markdown",
   "id": "141d1387-795e-4be4-9f2a-015ed4ad05d7",
   "metadata": {},
   "source": [
    "## Gráficos de similitud"
   ]
  },
  {
   "cell_type": "code",
   "execution_count": null,
   "id": "8f569471-835f-4f16-a9f3-4f6d2dfa36e7",
   "metadata": {},
   "outputs": [],
   "source": [
    "!pip install matplotlib"
   ]
  },
  {
   "cell_type": "code",
   "execution_count": null,
   "id": "6e447091-1e75-4aa8-8a0c-9df0d88f5df1",
   "metadata": {},
   "outputs": [],
   "source": [
    "import matplotlib.pyplot as plt"
   ]
  },
  {
   "cell_type": "code",
   "execution_count": 121,
   "id": "f3809511-2457-4151-8e77-7778a85ca057",
   "metadata": {},
   "outputs": [
    {
     "data": {
      "image/png": "[encoded data removed]",
      "text/plain": [
       "<Figure size 640x480 with 1 Axes>"
      ]
     },
     "metadata": {},
     "output_type": "display_data"
    }
   ],
   "source": [
    "# Recordemos que usamos simil2 ya que esta está vectorizada con el flatten\n",
    "plt.plot(simil2)\n",
    "plt.show()"
   ]
  },
  {
   "cell_type": "code",
   "execution_count": null,
   "id": "f6e3f08d-07a1-4514-ad7e-80e5e63be289",
   "metadata": {},
   "outputs": [],
   "source": [
    "# ordenemos la similitud\n",
    "similOrden = (-simil2).argsort()\n",
    "similOrden"
   ]
  },
  {
   "cell_type": "code",
   "execution_count": 120,
   "id": "d077647e-dc8e-4888-87b6-40ae86dda471",
   "metadata": {},
   "outputs": [
    {
     "data": {
      "image/png": "[encoded data removed]",
      "text/plain": [
       "<Figure size 640x480 with 1 Axes>"
      ]
     },
     "metadata": {},
     "output_type": "display_data"
    }
   ],
   "source": [
    "# graficamos ordenadamente de mayor a menor similitud\n",
    "plt.plot(simil2[similOrden])\n",
    "plt.show()\n",
    "\n",
    "#Esto nos muestra una gráfia logarítmica generada por IDF"
   ]
  },
  {
   "cell_type": "markdown",
   "id": "255766d7-a057-465f-b74f-5dbbda7dfb30",
   "metadata": {},
   "source": [
    "## Recomendación de películas"
   ]
  },
  {
   "cell_type": "code",
   "execution_count": null,
   "id": "dc572373-4a82-477b-b446-36924c1b7b6c",
   "metadata": {},
   "outputs": [],
   "source": [
    "#Ordenamos la similitud omitiendo la película de la consulta\n",
    "#creando un top 10 de recomendaciones\n",
    "recomendacion = (-simil2).argsort()[1:11]"
   ]
  },
  {
   "cell_type": "code",
   "execution_count": 122,
   "id": "c04c96e0-9c52-4f4c-8852-ff08a7155323",
   "metadata": {},
   "outputs": [
    {
     "data": {
      "text/plain": [
       "5002                 Run, Hide, Die\n",
       "4372    A Beginner's Guide to Snuff\n",
       "4211                      Antibirth\n",
       "4525          The Vatican Exorcisms\n",
       "2461                    Restoration\n",
       "5028                    Tin Can Man\n",
       "4422                      Unsullied\n",
       "4473                  Forget Me Not\n",
       "4341     The Curse of Downers Grove\n",
       "4807                         Fabled\n",
       "Name: titulo, dtype: object"
      ]
     },
     "execution_count": 122,
     "metadata": {},
     "output_type": "execute_result"
    }
   ],
   "source": [
    "# Creamos la lista del top10 de recomendados\n",
    "df_new['titulo'].iloc[recomendacion]"
   ]
  },
  {
   "cell_type": "markdown",
   "id": "07d84e1b-136d-451e-8a75-4779b2e55a7c",
   "metadata": {},
   "source": [
    "## Conclusiones"
   ]
  },
  {
   "cell_type": "markdown",
   "id": "79c99cd0-b20c-4c53-9bd9-cc6c6f019ccf",
   "metadata": {},
   "source": [
    "<div style=\"text-align: center;\">\n",
    "    <p>Al consultar una película cualquiera, como en el ejemplo, \"A Plague So Pleasant\",\n",
    "    de acuerdo con el género y las plot_keywords de la tabla, podemos recomendar un top 10 de películas que tienen similitud con esta, algo básico, pero similar a lo que usan las aplicaciones de streaming como NetFlix, Disney, entre otras.</p>\n",
    "    <hr/>\n",
    "    <p style=\"text-align: right;\">Mg. Luis Felipe Bustamante Narváez</p>\n",
    "</div>"
   ]
  }
 ],
 "metadata": {
  "kernelspec": {
   "display_name": "Python 3 (ipykernel)",
   "language": "python",
   "name": "python3"
  },
  "language_info": {
   "codemirror_mode": {
    "name": "ipython",
    "version": 3
   },
   "file_extension": ".py",
   "mimetype": "text/x-python",
   "name": "python",
   "nbconvert_exporter": "python",
   "pygments_lexer": "ipython3",
   "version": "3.12.9"
  }
 },
 "nbformat": 4,
 "nbformat_minor": 5
}
