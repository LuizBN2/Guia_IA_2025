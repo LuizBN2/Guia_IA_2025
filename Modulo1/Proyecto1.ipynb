{
  "cells": [
    {
      "cell_type": "markdown",
      "id": "23c2c4f7-c342-4d54-9ad1-1d01845735f1",
      "metadata": {
        "id": "23c2c4f7-c342-4d54-9ad1-1d01845735f1"
      },
      "source": [
        "<div style=\"text-align: center;\">\n",
        "    <h1 style=\"color: red;\">Anexo 1</h1>\n",
        "    <h3>Proyecto 1: Tokenization, Stimming and Lemmatization</h3>\n",
        "    <hr/>\n",
        "    <p style=\"text-align: right;\">Mg. Luis Felipe Bustamante Narváez</p>\n",
        "</div>"
      ]
    },
    {
      "cell_type": "markdown",
      "id": "8853348f-d7c3-473d-a582-82e8d61cf7e1",
      "metadata": {
        "id": "8853348f-d7c3-473d-a582-82e8d61cf7e1"
      },
      "source": [
        "## Tokenization"
      ]
    },
    {
      "cell_type": "code",
      "execution_count": null,
      "id": "e1580883-d893-4c25-9153-a8a4018a57bb",
      "metadata": {
        "id": "e1580883-d893-4c25-9153-a8a4018a57bb",
        "outputId": "7dc6135f-c7a3-4656-8d49-a0528302aa9f"
      },
      "outputs": [
        {
          "name": "stdout",
          "output_type": "stream",
          "text": [
            "Requirement already satisfied: scikit-learn in c:\\users\\luis_\\anaconda3\\envs\\notebook\\lib\\site-packages (1.6.1)\n",
            "Requirement already satisfied: numpy>=1.19.5 in c:\\users\\luis_\\anaconda3\\envs\\notebook\\lib\\site-packages (from scikit-learn) (2.2.3)\n",
            "Requirement already satisfied: scipy>=1.6.0 in c:\\users\\luis_\\anaconda3\\envs\\notebook\\lib\\site-packages (from scikit-learn) (1.15.2)\n",
            "Requirement already satisfied: joblib>=1.2.0 in c:\\users\\luis_\\anaconda3\\envs\\notebook\\lib\\site-packages (from scikit-learn) (1.4.2)\n",
            "Requirement already satisfied: threadpoolctl>=3.1.0 in c:\\users\\luis_\\anaconda3\\envs\\notebook\\lib\\site-packages (from scikit-learn) (3.6.0)\n"
          ]
        }
      ],
      "source": [
        "# Instalamos skitlearn\n",
        "!pip install -U scikit-learn"
      ]
    },
    {
      "cell_type": "code",
      "execution_count": null,
      "id": "25e9cb6a-0010-413f-a623-12ef894c1ff9",
      "metadata": {
        "id": "25e9cb6a-0010-413f-a623-12ef894c1ff9"
      },
      "outputs": [],
      "source": [
        "import pandas as pd"
      ]
    },
    {
      "cell_type": "code",
      "execution_count": null,
      "id": "fa49aefd-ceea-4ae7-9533-777454d474b7",
      "metadata": {
        "id": "fa49aefd-ceea-4ae7-9533-777454d474b7"
      },
      "outputs": [],
      "source": [
        "# Creamos el dataframe para mostrar la base de datos\n",
        "df = pd.read_csv('df_total.csv', encoding='UTF-8')"
      ]
    },
    {
      "cell_type": "code",
      "execution_count": null,
      "id": "64cbf104-9fa5-4914-9c07-be8bc0fd28a3",
      "metadata": {
        "id": "64cbf104-9fa5-4914-9c07-be8bc0fd28a3",
        "outputId": "8d084e13-8332-47f7-a494-fac5514316a6"
      },
      "outputs": [
        {
          "data": {
            "text/html": [
              "<div>\n",
              "<style scoped>\n",
              "    .dataframe tbody tr th:only-of-type {\n",
              "        vertical-align: middle;\n",
              "    }\n",
              "\n",
              "    .dataframe tbody tr th {\n",
              "        vertical-align: top;\n",
              "    }\n",
              "\n",
              "    .dataframe thead th {\n",
              "        text-align: right;\n",
              "    }\n",
              "</style>\n",
              "<table border=\"1\" class=\"dataframe\">\n",
              "  <thead>\n",
              "    <tr style=\"text-align: right;\">\n",
              "      <th></th>\n",
              "      <th>url</th>\n",
              "      <th>news</th>\n",
              "      <th>Type</th>\n",
              "    </tr>\n",
              "  </thead>\n",
              "  <tbody>\n",
              "    <tr>\n",
              "      <th>0</th>\n",
              "      <td>https://www.larepublica.co/redirect/post/3201905</td>\n",
              "      <td>Durante el foro La banca articulador empresari...</td>\n",
              "      <td>Otra</td>\n",
              "    </tr>\n",
              "    <tr>\n",
              "      <th>1</th>\n",
              "      <td>https://www.larepublica.co/redirect/post/3210288</td>\n",
              "      <td>El regulador de valores de China dijo el domin...</td>\n",
              "      <td>Regulaciones</td>\n",
              "    </tr>\n",
              "    <tr>\n",
              "      <th>2</th>\n",
              "      <td>https://www.larepublica.co/redirect/post/3240676</td>\n",
              "      <td>En una industria históricamente masculina como...</td>\n",
              "      <td>Alianzas</td>\n",
              "    </tr>\n",
              "    <tr>\n",
              "      <th>3</th>\n",
              "      <td>https://www.larepublica.co/redirect/post/3342889</td>\n",
              "      <td>Con el dato de marzo el IPC interanual encaden...</td>\n",
              "      <td>Macroeconomia</td>\n",
              "    </tr>\n",
              "    <tr>\n",
              "      <th>4</th>\n",
              "      <td>https://www.larepublica.co/redirect/post/3427208</td>\n",
              "      <td>Ayer en Cartagena se dio inicio a la versión n...</td>\n",
              "      <td>Otra</td>\n",
              "    </tr>\n",
              "    <tr>\n",
              "      <th>...</th>\n",
              "      <td>...</td>\n",
              "      <td>...</td>\n",
              "      <td>...</td>\n",
              "    </tr>\n",
              "    <tr>\n",
              "      <th>1212</th>\n",
              "      <td>https://www.bbva.com/es/como-lograr-que-los-in...</td>\n",
              "      <td>En la vida de toda empresa emergente llega un ...</td>\n",
              "      <td>Innovacion</td>\n",
              "    </tr>\n",
              "    <tr>\n",
              "      <th>1213</th>\n",
              "      <td>https://www.bbva.com/es/podcast-como-nos-afect...</td>\n",
              "      <td>La espiral alcista de los precios continúa y g...</td>\n",
              "      <td>Macroeconomia</td>\n",
              "    </tr>\n",
              "    <tr>\n",
              "      <th>1214</th>\n",
              "      <td>https://www.larepublica.co/redirect/post/3253735</td>\n",
              "      <td>Las grandes derrotas nacionales son experienci...</td>\n",
              "      <td>Alianzas</td>\n",
              "    </tr>\n",
              "    <tr>\n",
              "      <th>1215</th>\n",
              "      <td>https://www.bbva.com/es/bbva-y-barcelona-healt...</td>\n",
              "      <td>BBVA ha alcanzado un acuerdo de colaboración c...</td>\n",
              "      <td>Innovacion</td>\n",
              "    </tr>\n",
              "    <tr>\n",
              "      <th>1216</th>\n",
              "      <td>https://www.larepublica.co/redirect/post/3263980</td>\n",
              "      <td>Casi entrando a la parte final de noviembre la...</td>\n",
              "      <td>Alianzas</td>\n",
              "    </tr>\n",
              "  </tbody>\n",
              "</table>\n",
              "<p>1217 rows × 3 columns</p>\n",
              "</div>"
            ],
            "text/plain": [
              "                                                    url  \\\n",
              "0      https://www.larepublica.co/redirect/post/3201905   \n",
              "1      https://www.larepublica.co/redirect/post/3210288   \n",
              "2      https://www.larepublica.co/redirect/post/3240676   \n",
              "3      https://www.larepublica.co/redirect/post/3342889   \n",
              "4      https://www.larepublica.co/redirect/post/3427208   \n",
              "...                                                 ...   \n",
              "1212  https://www.bbva.com/es/como-lograr-que-los-in...   \n",
              "1213  https://www.bbva.com/es/podcast-como-nos-afect...   \n",
              "1214   https://www.larepublica.co/redirect/post/3253735   \n",
              "1215  https://www.bbva.com/es/bbva-y-barcelona-healt...   \n",
              "1216   https://www.larepublica.co/redirect/post/3263980   \n",
              "\n",
              "                                                   news           Type  \n",
              "0     Durante el foro La banca articulador empresari...           Otra  \n",
              "1     El regulador de valores de China dijo el domin...   Regulaciones  \n",
              "2     En una industria históricamente masculina como...       Alianzas  \n",
              "3     Con el dato de marzo el IPC interanual encaden...  Macroeconomia  \n",
              "4     Ayer en Cartagena se dio inicio a la versión n...           Otra  \n",
              "...                                                 ...            ...  \n",
              "1212  En la vida de toda empresa emergente llega un ...     Innovacion  \n",
              "1213  La espiral alcista de los precios continúa y g...  Macroeconomia  \n",
              "1214  Las grandes derrotas nacionales son experienci...       Alianzas  \n",
              "1215  BBVA ha alcanzado un acuerdo de colaboración c...     Innovacion  \n",
              "1216  Casi entrando a la parte final de noviembre la...       Alianzas  \n",
              "\n",
              "[1217 rows x 3 columns]"
            ]
          },
          "execution_count": 4,
          "metadata": {},
          "output_type": "execute_result"
        }
      ],
      "source": [
        "df"
      ]
    },
    {
      "cell_type": "code",
      "execution_count": null,
      "id": "040e74c5-ef38-4f0f-8169-892c14d097b2",
      "metadata": {
        "id": "040e74c5-ef38-4f0f-8169-892c14d097b2",
        "outputId": "3939ae6a-ff1e-4958-f832-e19b1a492b1d"
      },
      "outputs": [
        {
          "data": {
            "text/plain": [
              "'En una industria históricamente masculina como lo es la aviación Viva presentó su avión rosado A320NEO que apuesta por la equidad de género la lucha contra el cáncer de mama la inclusión y la diversidad.Desde Francia llegó Go Pink que tuvo un precio promedio de US50 millones convirtiéndose en la aeronave número 20 de las 21 con las que finalizará el año esta aerolínea.En Viva estamos trabajando muy fuerte para que haya más mujeres. Actualmente el grupo ejecutivo está compuesto por 42 mujeres pero la meta es llegar en 2022 con 50 de ellas en nuestro staff señaló Félix Antelo CEO de Viva.Asimismo agregó que están evaluando traer otro avión con esta propuesta para el próximo año así como proyectan un crecimiento de 60 en sillas para el último trimestre de 2021 en comparación con el mismo periodo de 2019.Vamos a estar moviendo más de dos millones de pasajeros para finalizar el año es un número ambicioso pero estamos contentos por la reacción del mercado y porque muchos pasajeros están eligiendo a Viva por la flota nueva la nueva imagen y los precios bajos dijo.Sobre los planes de expansión internacional de la compañía la aerolínea continuará creciendo pues proyectan abrir 15 rutas en tres años.Tenemos una buena apuesta por Florida Nueva York República Dominicana y Buenos Aires probablemente para el próximo año contó Declan Ryan presidente del Grupo Viva.Del mismo modo reveló que se estudia una alianza con Viva Aerobus la aerolínea mexicana que recientemente empezó a operar en Colombia.Viva Aerobus es como un hijo para mí. Juan Carlos el CEO es un gran amigo y seguramente vamos a trabajar con ellos. Es algo que se contempla.Teniendo en cuenta la entrada de más empresas al modelo de low cost muchos cuestionan si la industria va camino a ser solo de este nicho no obstante es algo que no podrán asumir todas las aerolíneas según Ryan.En promedio las personas ahorran US50 al viajar con modelo de bajo costo es decir US14 billones han sido ahorrados por los colombianos. Sin embargo la historia de la aviación nos ha mostrado que cuando las grandes aerolíneas tratan de trabajar bajo el modelo de low cost no les funciona por sus costos.'"
            ]
          },
          "execution_count": 5,
          "metadata": {},
          "output_type": "execute_result"
        }
      ],
      "source": [
        "#Mostramos la estructura de los datos\n",
        "df['news'][2]"
      ]
    },
    {
      "cell_type": "code",
      "execution_count": null,
      "id": "deea1eae-47fa-46ac-b0ba-6def74a74659",
      "metadata": {
        "id": "deea1eae-47fa-46ac-b0ba-6def74a74659"
      },
      "outputs": [],
      "source": [
        "# Separamos los datos en variable independiente y variable dependiente\n",
        "# variable independiente\n",
        "X = df['news']\n",
        "#variable dependiente ( A predecir)\n",
        "Y = df['Type']"
      ]
    },
    {
      "cell_type": "code",
      "execution_count": null,
      "id": "3069ff64-e4e7-4134-b9cd-5f6a6065acd8",
      "metadata": {
        "id": "3069ff64-e4e7-4134-b9cd-5f6a6065acd8",
        "outputId": "698d9340-f810-4a1c-fb7a-ce02e9e8b3b4"
      },
      "outputs": [
        {
          "data": {
            "text/plain": [
              "Type\n",
              "Macroeconomia     340\n",
              "Alianzas          247\n",
              "Innovacion        195\n",
              "Regulaciones      142\n",
              "Sostenibilidad    137\n",
              "Otra              130\n",
              "Reputacion         26\n",
              "Name: count, dtype: int64"
            ]
          },
          "execution_count": 7,
          "metadata": {},
          "output_type": "execute_result"
        }
      ],
      "source": [
        "#Mostramos la variable dependiente\n",
        "df['Type'].value_counts()"
      ]
    },
    {
      "cell_type": "code",
      "execution_count": null,
      "id": "c2e1e38d-0cb1-4cb0-aca7-5d7ad56aa097",
      "metadata": {
        "id": "c2e1e38d-0cb1-4cb0-aca7-5d7ad56aa097"
      },
      "outputs": [],
      "source": [
        "from sklearn.model_selection import train_test_split"
      ]
    },
    {
      "cell_type": "code",
      "execution_count": null,
      "id": "44cb25b9-2157-46be-bc15-234bd47f3d31",
      "metadata": {
        "id": "44cb25b9-2157-46be-bc15-234bd47f3d31"
      },
      "outputs": [],
      "source": [
        "# Asignamos los datos de entrenamiento (80%) y prueba (20%)\n",
        "X_train, X_test, Y_train, Y_test = train_test_split(X, Y, test_size=0.2)"
      ]
    },
    {
      "cell_type": "code",
      "execution_count": null,
      "id": "1d04b3a8-a40c-4626-a9bc-13dbdb5d151e",
      "metadata": {
        "id": "1d04b3a8-a40c-4626-a9bc-13dbdb5d151e",
        "outputId": "a36595e8-73a0-4902-e511-bd197fd1495a"
      },
      "outputs": [
        {
          "data": {
            "text/plain": [
              "1183    Desde mayo de 2021 la inflación ha venido en u...\n",
              "1071    El Banco de Bogotá anuncia la alianza con Quán...\n",
              "382     Un estudio diagnosticó la participación de las...\n",
              "518     El Departamento Administrativo Nacional de Est...\n",
              "584     La empresa que funciona como el Airbnb del cow...\n",
              "                              ...                        \n",
              "1093    BBVA estuvo presente en la tercera edición de ...\n",
              "617     Los contextos internacionales y locales contin...\n",
              "497     Chile se comienza a quedar atrás. Es algo que ...\n",
              "342     La autoridad investigadora del Instituto Feder...\n",
              "297     El actual brote de inflación es un momento de ...\n",
              "Name: news, Length: 973, dtype: object"
            ]
          },
          "execution_count": 10,
          "metadata": {},
          "output_type": "execute_result"
        }
      ],
      "source": [
        "#Mostramos los datos de entrenamiento  (1217datos*0.8 = 973)\n",
        "X_train"
      ]
    },
    {
      "cell_type": "code",
      "execution_count": null,
      "id": "dc4dbf48-8fe3-41b0-8ff9-58f529580e06",
      "metadata": {
        "id": "dc4dbf48-8fe3-41b0-8ff9-58f529580e06",
        "outputId": "59e6fec7-bd85-49ac-bcc8-d6c840f617c1"
      },
      "outputs": [
        {
          "data": {
            "text/plain": [
              "354    La alianza entre Davivienda y  Binance anunció...\n",
              "866    La consejera presidencial para la Niñez y la A...\n",
              "143    Las acciones subieron y los rendimientos de lo...\n",
              "539    La billetera digital MOVii firmó una alianza c...\n",
              "803    El Consumption Tracker es un indicador que con...\n",
              "                             ...                        \n",
              "271    La operación ha tenido una muy buena aceptació...\n",
              "347    Bitso la plataforma de inversión en criptomone...\n",
              "32     La inflación anual de Argentina llegó a 64 en ...\n",
              "409    Una brutal hola vendedora de acciones chinas c...\n",
              "206    El aprendizaje automático, el metaverso y los ...\n",
              "Name: news, Length: 244, dtype: object"
            ]
          },
          "execution_count": 11,
          "metadata": {},
          "output_type": "execute_result"
        }
      ],
      "source": [
        "#Mostramos los datos de prueba (1217datos*0.2 = 244)\n",
        "X_test"
      ]
    },
    {
      "cell_type": "code",
      "execution_count": null,
      "id": "96c8369e-7ed8-4ffe-bded-7d7633b83cc9",
      "metadata": {
        "id": "96c8369e-7ed8-4ffe-bded-7d7633b83cc9",
        "outputId": "906494d1-65db-4c82-db85-e48acedd0126"
      },
      "outputs": [
        {
          "data": {
            "text/plain": [
              "1183    Macroeconomia\n",
              "1071         Alianzas\n",
              "382          Alianzas\n",
              "518     Macroeconomia\n",
              "584          Alianzas\n",
              "            ...      \n",
              "1093       Innovacion\n",
              "617     Macroeconomia\n",
              "497      Regulaciones\n",
              "342      Regulaciones\n",
              "297     Macroeconomia\n",
              "Name: Type, Length: 973, dtype: object"
            ]
          },
          "execution_count": 12,
          "metadata": {},
          "output_type": "execute_result"
        }
      ],
      "source": [
        "#Mostramos los datos a predecir de entrenamiento  (1217datos*0.8 = 973)\n",
        "Y_train"
      ]
    },
    {
      "cell_type": "code",
      "execution_count": null,
      "id": "46e24e49-db17-4967-80fb-490e2d5ce094",
      "metadata": {
        "id": "46e24e49-db17-4967-80fb-490e2d5ce094",
        "outputId": "8d69e42c-fb91-4b7b-cbe2-bf578cd516e8"
      },
      "outputs": [
        {
          "data": {
            "text/plain": [
              "354          Alianzas\n",
              "866          Alianzas\n",
              "143     Macroeconomia\n",
              "539          Alianzas\n",
              "803              Otra\n",
              "            ...      \n",
              "271    Sostenibilidad\n",
              "347          Alianzas\n",
              "32      Macroeconomia\n",
              "409      Regulaciones\n",
              "206        Innovacion\n",
              "Name: Type, Length: 244, dtype: object"
            ]
          },
          "execution_count": 13,
          "metadata": {},
          "output_type": "execute_result"
        }
      ],
      "source": [
        "#Mostramos los datos a predecir de prueba  (1217datos*0.2 = 244)\n",
        "Y_test"
      ]
    },
    {
      "cell_type": "code",
      "execution_count": null,
      "id": "814e9357-9e69-4fc4-a291-81e86b0a086f",
      "metadata": {
        "id": "814e9357-9e69-4fc4-a291-81e86b0a086f"
      },
      "outputs": [],
      "source": [
        "# Vectorizamos los datos\n",
        "from sklearn.feature_extraction.text import CountVectorizer\n",
        "vectorizer = CountVectorizer()"
      ]
    },
    {
      "cell_type": "code",
      "execution_count": null,
      "id": "52e5fe02-0cb0-49e0-bb2f-38b0ad2342a9",
      "metadata": {
        "id": "52e5fe02-0cb0-49e0-bb2f-38b0ad2342a9"
      },
      "outputs": [],
      "source": [
        "# vectorizamos los datos de entramiento\n",
        "X_train_transformed = vectorizer.fit_transform(X_train)\n",
        "# vectorizamos los datos de prueba\n",
        "X_test_transformed = vectorizer.transform(X_test)\n"
      ]
    },
    {
      "cell_type": "code",
      "execution_count": null,
      "id": "6c6a8e5a-ea55-4433-ac42-c70b81c8972f",
      "metadata": {
        "id": "6c6a8e5a-ea55-4433-ac42-c70b81c8972f",
        "outputId": "30c645fb-ede4-4169-e7a2-c4db76d18d6f"
      },
      "outputs": [
        {
          "data": {
            "text/plain": [
              "<Compressed Sparse Row sparse matrix of dtype 'int64'\n",
              "\twith 230614 stored elements and shape (973, 26504)>"
            ]
          },
          "execution_count": 16,
          "metadata": {},
          "output_type": "execute_result"
        }
      ],
      "source": [
        "#Mostramos los datos transformados entrenamiento (de forma nativa)\n",
        "X_train_transformed"
      ]
    },
    {
      "cell_type": "code",
      "execution_count": null,
      "id": "f69c776d-a50e-48e0-85ae-5624d48a5f58",
      "metadata": {
        "id": "f69c776d-a50e-48e0-85ae-5624d48a5f58",
        "outputId": "d3b70177-6474-4a08-e14b-9dd7c7829f5c"
      },
      "outputs": [
        {
          "data": {
            "text/plain": [
              "array([[0, 0, 0, ..., 0, 0, 0],\n",
              "       [0, 0, 0, ..., 0, 0, 0],\n",
              "       [0, 0, 0, ..., 0, 0, 0],\n",
              "       ...,\n",
              "       [0, 0, 0, ..., 0, 0, 0],\n",
              "       [0, 0, 0, ..., 0, 0, 0],\n",
              "       [0, 1, 0, ..., 0, 0, 0]], shape=(973, 26504))"
            ]
          },
          "execution_count": 17,
          "metadata": {},
          "output_type": "execute_result"
        }
      ],
      "source": [
        "#Mostramos los datos transformados entrenamiento\n",
        "X_train_transformed_dense = X_train_transformed.toarray()\n",
        "X_train_transformed_dense"
      ]
    },
    {
      "cell_type": "code",
      "execution_count": null,
      "id": "a60a37b0-054d-43ac-b67d-792936bb06dd",
      "metadata": {
        "id": "a60a37b0-054d-43ac-b67d-792936bb06dd",
        "outputId": "9083b951-4b46-46d3-94b2-6366c639353c"
      },
      "outputs": [
        {
          "data": {
            "text/plain": [
              "<Compressed Sparse Row sparse matrix of dtype 'int64'\n",
              "\twith 57230 stored elements and shape (244, 26504)>"
            ]
          },
          "execution_count": 18,
          "metadata": {},
          "output_type": "execute_result"
        }
      ],
      "source": [
        "#Mostramos los datos transformados prueba (de forma nativa)\n",
        "X_test_transformed"
      ]
    },
    {
      "cell_type": "code",
      "execution_count": null,
      "id": "c0bff6dc-b59b-4327-9974-584832a06a5a",
      "metadata": {
        "id": "c0bff6dc-b59b-4327-9974-584832a06a5a",
        "outputId": "b556ead3-f1e9-4f37-f230-9e27c69c8278"
      },
      "outputs": [
        {
          "data": {
            "text/plain": [
              "array([[0, 1, 0, ..., 0, 0, 0],\n",
              "       [0, 0, 0, ..., 0, 0, 0],\n",
              "       [0, 0, 0, ..., 0, 0, 0],\n",
              "       ...,\n",
              "       [0, 0, 0, ..., 0, 0, 0],\n",
              "       [0, 0, 0, ..., 0, 0, 0],\n",
              "       [0, 4, 0, ..., 0, 0, 0]], shape=(244, 26504))"
            ]
          },
          "execution_count": 19,
          "metadata": {},
          "output_type": "execute_result"
        }
      ],
      "source": [
        "#Mostramos los datos transformados prueba\n",
        "X_test_transformed_dense = X_test_transformed.toarray()\n",
        "X_test_transformed_dense"
      ]
    },
    {
      "cell_type": "code",
      "execution_count": null,
      "id": "e128fe3c-9ab2-4088-bf05-e1ba0112b06c",
      "metadata": {
        "id": "e128fe3c-9ab2-4088-bf05-e1ba0112b06c"
      },
      "outputs": [],
      "source": [
        "from sklearn.naive_bayes import MultinomialNB\n",
        "from sklearn import metrics"
      ]
    },
    {
      "cell_type": "code",
      "execution_count": null,
      "id": "15960e5c-85a4-4e26-90ed-8756dc8c7e61",
      "metadata": {
        "id": "15960e5c-85a4-4e26-90ed-8756dc8c7e61",
        "outputId": "1b317f2a-f8b8-4609-a68d-b7e2418c2b2b"
      },
      "outputs": [
        {
          "name": "stdout",
          "output_type": "stream",
          "text": [
            "0.8114754098360656\n"
          ]
        }
      ],
      "source": [
        "# Creamos la variable para el modelo\n",
        "model = MultinomialNB()\n",
        "# Entrenamos el modelo con los datos de entrenamiento vectorizados y los valores reales dependientes de entrenamiento\n",
        "model.fit(X_train_transformed, Y_train)\n",
        "#Creamos la predicción con los datos de prueba vectorizados\n",
        "Y_predict = model.predict(X_test_transformed)\n",
        "#Revisamos el porcentaje de predicción\n",
        "accuracy = metrics.accuracy_score(Y_test, Y_predict)\n",
        "print(accuracy)\n"
      ]
    },
    {
      "cell_type": "markdown",
      "id": "30d665f6-7598-4a14-b1f6-f764ea562680",
      "metadata": {
        "id": "30d665f6-7598-4a14-b1f6-f764ea562680"
      },
      "source": [
        "## Stimming"
      ]
    },
    {
      "cell_type": "code",
      "execution_count": null,
      "id": "9f94101a-01ca-4fee-b810-8511f2aeb98c",
      "metadata": {
        "id": "9f94101a-01ca-4fee-b810-8511f2aeb98c"
      },
      "outputs": [],
      "source": [
        "import nltk\n",
        "from nltk.tokenize import word_tokenize\n",
        "from nltk.corpus import stopwords\n",
        "from nltk.stem import SnowballStemmer"
      ]
    },
    {
      "cell_type": "code",
      "execution_count": null,
      "id": "1e2b6cdf-9276-4eaa-975d-86d53aa537f3",
      "metadata": {
        "id": "1e2b6cdf-9276-4eaa-975d-86d53aa537f3",
        "outputId": "673e013f-7cd3-421e-ad4d-5194fef443e2"
      },
      "outputs": [
        {
          "name": "stderr",
          "output_type": "stream",
          "text": [
            "[nltk_data] Downloading package punkt to\n",
            "[nltk_data]     C:\\Users\\luis_\\AppData\\Roaming\\nltk_data...\n",
            "[nltk_data]   Package punkt is already up-to-date!\n",
            "[nltk_data] Downloading package stopwords to\n",
            "[nltk_data]     C:\\Users\\luis_\\AppData\\Roaming\\nltk_data...\n",
            "[nltk_data]   Package stopwords is already up-to-date!\n"
          ]
        },
        {
          "data": {
            "text/plain": [
              "True"
            ]
          },
          "execution_count": 23,
          "metadata": {},
          "output_type": "execute_result"
        }
      ],
      "source": [
        "nltk.download('punkt')\n",
        "nltk.download('stopwords')"
      ]
    },
    {
      "cell_type": "code",
      "execution_count": null,
      "id": "eccbd920-ee4b-4e9a-ba36-ed3156f6fdd3",
      "metadata": {
        "id": "eccbd920-ee4b-4e9a-ba36-ed3156f6fdd3"
      },
      "outputs": [],
      "source": [
        "stemmer = SnowballStemmer('spanish')"
      ]
    },
    {
      "cell_type": "code",
      "execution_count": null,
      "id": "af0fc652-8345-42b6-a78e-8f9a460fb0c2",
      "metadata": {
        "id": "af0fc652-8345-42b6-a78e-8f9a460fb0c2",
        "outputId": "958316f1-9077-44b5-d536-f5434e57e240"
      },
      "outputs": [
        {
          "data": {
            "text/plain": [
              "\"\\ndef tokenize_and_stem(text):\\n    # Tokenizar el texto y convertirlo a minúsculas\\n    tokens = word_tokenize(text.lower())\\n\\n    # Aplicar stemming con un bucle for\\n    stems = []\\n    for token in tokens:\\n        if token.isalpha():  # Filtrar solo palabras (sin números ni símbolos)\\n            stem = stemmer.stem(token)  # Aplicar stemming\\n            stems.append(stem)  # Agregar a la lista\\n\\n    # Unir los stems en un solo string y retornarlo\\n    return ' '.join(stems)\\n\""
            ]
          },
          "execution_count": 25,
          "metadata": {},
          "output_type": "execute_result"
        }
      ],
      "source": [
        "# Función para tokenizar y stimmar\n",
        "def tokenize_and_stem(text):\n",
        "    tokens = word_tokenize(text.lower())\n",
        "    stems = [stemmer.stem(token) for token in tokens if token.isalpha()]\n",
        "    return ' '.join(stems)\n",
        "\n",
        "# Otra manera de mostrar esta función\n",
        "\"\"\"\n",
        "def tokenize_and_stem(text):\n",
        "    # Tokenizar el texto y convertirlo a minúsculas\n",
        "    tokens = word_tokenize(text.lower())\n",
        "\n",
        "    # Aplicar stemming con un bucle for\n",
        "    stems = []\n",
        "    for token in tokens:\n",
        "        if token.isalpha():  # Filtrar solo palabras (sin números ni símbolos)\n",
        "            stem = stemmer.stem(token)  # Aplicar stemming\n",
        "            stems.append(stem)  # Agregar a la lista\n",
        "\n",
        "    # Unir los stems en un solo string y retornarlo\n",
        "    return ' '.join(stems)\n",
        "\"\"\""
      ]
    },
    {
      "cell_type": "code",
      "execution_count": null,
      "id": "7e70a266-bd09-46a6-8803-25d09388f58c",
      "metadata": {
        "id": "7e70a266-bd09-46a6-8803-25d09388f58c"
      },
      "outputs": [],
      "source": [
        "# Agregamos una nueva columna al dataframe para mostrar los tokens\n",
        "df['news_stemmer'] = df['news'].apply(tokenize_and_stem)"
      ]
    },
    {
      "cell_type": "code",
      "execution_count": null,
      "id": "73bcd3af-99e8-4857-a3f3-998e30c22ae3",
      "metadata": {
        "id": "73bcd3af-99e8-4857-a3f3-998e30c22ae3",
        "outputId": "2504b11e-bca6-4f1d-b69d-01caa3d032c5"
      },
      "outputs": [
        {
          "data": {
            "text/html": [
              "<div>\n",
              "<style scoped>\n",
              "    .dataframe tbody tr th:only-of-type {\n",
              "        vertical-align: middle;\n",
              "    }\n",
              "\n",
              "    .dataframe tbody tr th {\n",
              "        vertical-align: top;\n",
              "    }\n",
              "\n",
              "    .dataframe thead th {\n",
              "        text-align: right;\n",
              "    }\n",
              "</style>\n",
              "<table border=\"1\" class=\"dataframe\">\n",
              "  <thead>\n",
              "    <tr style=\"text-align: right;\">\n",
              "      <th></th>\n",
              "      <th>url</th>\n",
              "      <th>news</th>\n",
              "      <th>Type</th>\n",
              "      <th>news_stemmer</th>\n",
              "    </tr>\n",
              "  </thead>\n",
              "  <tbody>\n",
              "    <tr>\n",
              "      <th>0</th>\n",
              "      <td>https://www.larepublica.co/redirect/post/3201905</td>\n",
              "      <td>Durante el foro La banca articulador empresari...</td>\n",
              "      <td>Otra</td>\n",
              "      <td>durant el for la banc articul empresarial par ...</td>\n",
              "    </tr>\n",
              "    <tr>\n",
              "      <th>1</th>\n",
              "      <td>https://www.larepublica.co/redirect/post/3210288</td>\n",
              "      <td>El regulador de valores de China dijo el domin...</td>\n",
              "      <td>Regulaciones</td>\n",
              "      <td>el regul de valor de chin dij el doming que bu...</td>\n",
              "    </tr>\n",
              "    <tr>\n",
              "      <th>2</th>\n",
              "      <td>https://www.larepublica.co/redirect/post/3240676</td>\n",
              "      <td>En una industria históricamente masculina como...</td>\n",
              "      <td>Alianzas</td>\n",
              "      <td>en una industri histor masculin com lo es la a...</td>\n",
              "    </tr>\n",
              "    <tr>\n",
              "      <th>3</th>\n",
              "      <td>https://www.larepublica.co/redirect/post/3342889</td>\n",
              "      <td>Con el dato de marzo el IPC interanual encaden...</td>\n",
              "      <td>Macroeconomia</td>\n",
              "      <td>con el dat de marz el ipc interanual encaden s...</td>\n",
              "    </tr>\n",
              "    <tr>\n",
              "      <th>4</th>\n",
              "      <td>https://www.larepublica.co/redirect/post/3427208</td>\n",
              "      <td>Ayer en Cartagena se dio inicio a la versión n...</td>\n",
              "      <td>Otra</td>\n",
              "      <td>ayer en cartagen se dio inici a la version num...</td>\n",
              "    </tr>\n",
              "    <tr>\n",
              "      <th>...</th>\n",
              "      <td>...</td>\n",
              "      <td>...</td>\n",
              "      <td>...</td>\n",
              "      <td>...</td>\n",
              "    </tr>\n",
              "    <tr>\n",
              "      <th>1212</th>\n",
              "      <td>https://www.bbva.com/es/como-lograr-que-los-in...</td>\n",
              "      <td>En la vida de toda empresa emergente llega un ...</td>\n",
              "      <td>Innovacion</td>\n",
              "      <td>en la vid de tod empres emergent lleg un momen...</td>\n",
              "    </tr>\n",
              "    <tr>\n",
              "      <th>1213</th>\n",
              "      <td>https://www.bbva.com/es/podcast-como-nos-afect...</td>\n",
              "      <td>La espiral alcista de los precios continúa y g...</td>\n",
              "      <td>Macroeconomia</td>\n",
              "      <td>la espiral alcist de los preci continu y gener...</td>\n",
              "    </tr>\n",
              "    <tr>\n",
              "      <th>1214</th>\n",
              "      <td>https://www.larepublica.co/redirect/post/3253735</td>\n",
              "      <td>Las grandes derrotas nacionales son experienci...</td>\n",
              "      <td>Alianzas</td>\n",
              "      <td>las grand derrot nacional son experient trauma...</td>\n",
              "    </tr>\n",
              "    <tr>\n",
              "      <th>1215</th>\n",
              "      <td>https://www.bbva.com/es/bbva-y-barcelona-healt...</td>\n",
              "      <td>BBVA ha alcanzado un acuerdo de colaboración c...</td>\n",
              "      <td>Innovacion</td>\n",
              "      <td>bbva ha alcanz un acuerd de colabor con barcel...</td>\n",
              "    </tr>\n",
              "    <tr>\n",
              "      <th>1216</th>\n",
              "      <td>https://www.larepublica.co/redirect/post/3263980</td>\n",
              "      <td>Casi entrando a la parte final de noviembre la...</td>\n",
              "      <td>Alianzas</td>\n",
              "      <td>casi entrand a la part final de noviembr la ep...</td>\n",
              "    </tr>\n",
              "  </tbody>\n",
              "</table>\n",
              "<p>1217 rows × 4 columns</p>\n",
              "</div>"
            ],
            "text/plain": [
              "                                                    url  \\\n",
              "0      https://www.larepublica.co/redirect/post/3201905   \n",
              "1      https://www.larepublica.co/redirect/post/3210288   \n",
              "2      https://www.larepublica.co/redirect/post/3240676   \n",
              "3      https://www.larepublica.co/redirect/post/3342889   \n",
              "4      https://www.larepublica.co/redirect/post/3427208   \n",
              "...                                                 ...   \n",
              "1212  https://www.bbva.com/es/como-lograr-que-los-in...   \n",
              "1213  https://www.bbva.com/es/podcast-como-nos-afect...   \n",
              "1214   https://www.larepublica.co/redirect/post/3253735   \n",
              "1215  https://www.bbva.com/es/bbva-y-barcelona-healt...   \n",
              "1216   https://www.larepublica.co/redirect/post/3263980   \n",
              "\n",
              "                                                   news           Type  \\\n",
              "0     Durante el foro La banca articulador empresari...           Otra   \n",
              "1     El regulador de valores de China dijo el domin...   Regulaciones   \n",
              "2     En una industria históricamente masculina como...       Alianzas   \n",
              "3     Con el dato de marzo el IPC interanual encaden...  Macroeconomia   \n",
              "4     Ayer en Cartagena se dio inicio a la versión n...           Otra   \n",
              "...                                                 ...            ...   \n",
              "1212  En la vida de toda empresa emergente llega un ...     Innovacion   \n",
              "1213  La espiral alcista de los precios continúa y g...  Macroeconomia   \n",
              "1214  Las grandes derrotas nacionales son experienci...       Alianzas   \n",
              "1215  BBVA ha alcanzado un acuerdo de colaboración c...     Innovacion   \n",
              "1216  Casi entrando a la parte final de noviembre la...       Alianzas   \n",
              "\n",
              "                                           news_stemmer  \n",
              "0     durant el for la banc articul empresarial par ...  \n",
              "1     el regul de valor de chin dij el doming que bu...  \n",
              "2     en una industri histor masculin com lo es la a...  \n",
              "3     con el dat de marz el ipc interanual encaden s...  \n",
              "4     ayer en cartagen se dio inici a la version num...  \n",
              "...                                                 ...  \n",
              "1212  en la vid de tod empres emergent lleg un momen...  \n",
              "1213  la espiral alcist de los preci continu y gener...  \n",
              "1214  las grand derrot nacional son experient trauma...  \n",
              "1215  bbva ha alcanz un acuerd de colabor con barcel...  \n",
              "1216  casi entrand a la part final de noviembr la ep...  \n",
              "\n",
              "[1217 rows x 4 columns]"
            ]
          },
          "execution_count": 27,
          "metadata": {},
          "output_type": "execute_result"
        }
      ],
      "source": [
        "df"
      ]
    },
    {
      "cell_type": "code",
      "execution_count": null,
      "id": "cabe179d-1553-4382-9a03-6b76d03781af",
      "metadata": {
        "id": "cabe179d-1553-4382-9a03-6b76d03781af",
        "outputId": "92913c89-49d6-434f-e498-616487f0726e"
      },
      "outputs": [
        {
          "name": "stdout",
          "output_type": "stream",
          "text": [
            "0.8073770491803278\n"
          ]
        }
      ],
      "source": [
        "# Separamos los datos en variables de entrada y etiquetas\n",
        "Xs = df['news_stemmer']\n",
        "Ys = df['Type']\n",
        "# Creamos el entrenamiento\n",
        "Xs_train, Xs_test, Ys_train, Ys_test = train_test_split(Xs, Ys, test_size=0.2)\n",
        "vectorizerS = CountVectorizer()\n",
        "# Transformamos los documentos en vectores\n",
        "Xs_train_transformed = vectorizerS.fit_transform(Xs_train)\n",
        "Xs_test_transformed = vectorizerS.transform(Xs_test)\n",
        "# Creamos el modelo\n",
        "modelS = MultinomialNB()\n",
        "# Entrenamos el modelo\n",
        "modelS.fit(Xs_train_transformed, Ys_train)\n",
        "# Medimos el rendimiento del modelo\n",
        "Ys_predict = modelS.predict(Xs_test_transformed)\n",
        "# Mostramos su eficiencia\n",
        "acurracyS = metrics.accuracy_score(Ys_test, Ys_predict)\n",
        "print(acurracyS)\n"
      ]
    },
    {
      "cell_type": "markdown",
      "id": "87a836eb-e570-440e-834c-9c3bc2dd7179",
      "metadata": {
        "id": "87a836eb-e570-440e-834c-9c3bc2dd7179"
      },
      "source": [
        "### Comparamos las dimensiones del texto original y los stimming"
      ]
    },
    {
      "cell_type": "code",
      "execution_count": null,
      "id": "f2b5ca58-b589-4d05-8639-1b92dad422e0",
      "metadata": {
        "id": "f2b5ca58-b589-4d05-8639-1b92dad422e0",
        "outputId": "a48b6b5e-a540-4f97-ca12-8da7eb0e9b14"
      },
      "outputs": [
        {
          "data": {
            "text/html": [
              "<div>\n",
              "<style scoped>\n",
              "    .dataframe tbody tr th:only-of-type {\n",
              "        vertical-align: middle;\n",
              "    }\n",
              "\n",
              "    .dataframe tbody tr th {\n",
              "        vertical-align: top;\n",
              "    }\n",
              "\n",
              "    .dataframe thead th {\n",
              "        text-align: right;\n",
              "    }\n",
              "</style>\n",
              "<table border=\"1\" class=\"dataframe\">\n",
              "  <thead>\n",
              "    <tr style=\"text-align: right;\">\n",
              "      <th></th>\n",
              "      <th>DataSet</th>\n",
              "      <th>Vectores</th>\n",
              "      <th>Dimensiones</th>\n",
              "    </tr>\n",
              "  </thead>\n",
              "  <tbody>\n",
              "    <tr>\n",
              "      <th>0</th>\n",
              "      <td>X_train_transformed</td>\n",
              "      <td>973</td>\n",
              "      <td>26504</td>\n",
              "    </tr>\n",
              "    <tr>\n",
              "      <th>1</th>\n",
              "      <td>Xs_train_transformed</td>\n",
              "      <td>973</td>\n",
              "      <td>12087</td>\n",
              "    </tr>\n",
              "  </tbody>\n",
              "</table>\n",
              "</div>"
            ],
            "text/plain": [
              "                DataSet  Vectores  Dimensiones\n",
              "0   X_train_transformed       973        26504\n",
              "1  Xs_train_transformed       973        12087"
            ]
          },
          "execution_count": 29,
          "metadata": {},
          "output_type": "execute_result"
        }
      ],
      "source": [
        "origin = X_train_transformed.shape\n",
        "stimming = Xs_train_transformed.shape\n",
        "\n",
        "# Opcional --- creamos un DataFrame para mejorar la visual y repasar\n",
        "dfCompare = pd.DataFrame({\n",
        "    'DataSet': ['X_train_transformed', 'Xs_train_transformed'],\n",
        "    'Vectores': [origin[0], stimming[0]],\n",
        "    'Dimensiones': [origin[1], stimming[1]]\n",
        "})\n",
        "dfCompare"
      ]
    },
    {
      "cell_type": "markdown",
      "id": "0a463867-e449-4ac3-90ed-ac00f97b664c",
      "metadata": {
        "id": "0a463867-e449-4ac3-90ed-ac00f97b664c"
      },
      "source": [
        "## Lemmatization"
      ]
    },
    {
      "cell_type": "code",
      "execution_count": null,
      "id": "995c78f8-49ed-47ca-bdf2-dd02a5f04f03",
      "metadata": {
        "id": "995c78f8-49ed-47ca-bdf2-dd02a5f04f03"
      },
      "outputs": [],
      "source": [
        "import spacy"
      ]
    },
    {
      "cell_type": "code",
      "execution_count": null,
      "id": "d9f5f7e7-9820-4549-9e5b-c776d614140b",
      "metadata": {
        "id": "d9f5f7e7-9820-4549-9e5b-c776d614140b"
      },
      "outputs": [],
      "source": [
        "nlp = spacy.load('es_core_news_sm')"
      ]
    },
    {
      "cell_type": "code",
      "execution_count": null,
      "id": "3a4b0918-7c5e-4371-be25-1a39cedf80f9",
      "metadata": {
        "id": "3a4b0918-7c5e-4371-be25-1a39cedf80f9"
      },
      "outputs": [],
      "source": [
        "# función de lemmatization\n",
        "def lemmatize_text(text):\n",
        "    doc = nlp(text.lower())\n",
        "    lemmas = [token.lemma_ for token in doc if token.is_alpha]\n",
        "    return ' '.join(lemmas)"
      ]
    },
    {
      "cell_type": "code",
      "execution_count": null,
      "id": "55497557-2717-4e31-96d9-bf43e90011f9",
      "metadata": {
        "id": "55497557-2717-4e31-96d9-bf43e90011f9"
      },
      "outputs": [],
      "source": [
        "# Agregamos una nueva columna al dataframe para mostrar los lemmas\n",
        "df['news_lemma'] = df['news'].apply(lemmatize_text)"
      ]
    },
    {
      "cell_type": "code",
      "execution_count": null,
      "id": "cccf0c13-c969-4b59-8468-329ce4ff4280",
      "metadata": {
        "id": "cccf0c13-c969-4b59-8468-329ce4ff4280",
        "outputId": "34028323-7633-4f37-83c4-c59a5b7f24d6"
      },
      "outputs": [
        {
          "data": {
            "text/plain": [
              "'el emprendimiento del sector inmobiliario rentatop cerrar uno ronda de financiación por millón con el inmobiliaria century con el que planear acelerar su crecimiento y fortalecer su startup desarrollar uno plataforma que utilizar big data e inteligencia artificial para realizar en línea todo el proceso presente en uno arriendo residencial oferta y demanda de inmueble residencial calificación crediticio búsqueda de garantía y firma de uno acuerdo comercial entre el compañía significar que el plataforma ser el encargada de manejar el arriendo de inmueble que tener en su portafolio el inmobiliaria en partir de el alianza el plataforma lograr tener desde el inicio uno alcance nacional gracias a el presencia de nuestro más de oficina y nuestro fuerza comercial de más de agente en diferente ciudad del país afirmar alberto rodríguez presidente y ceo de century este el plataforma sumar en total uno portafolio de más de propiedad y uno valor de mercado superior a el millón según el mismo compañía'"
            ]
          },
          "execution_count": 34,
          "metadata": {},
          "output_type": "execute_result"
        }
      ],
      "source": [
        "df['news_lemma'][5]"
      ]
    },
    {
      "cell_type": "code",
      "execution_count": null,
      "id": "24ff5db5-540c-4cf9-bc08-60bc281bd874",
      "metadata": {
        "id": "24ff5db5-540c-4cf9-bc08-60bc281bd874",
        "outputId": "0d0840e9-ac41-47f2-ce68-b87bfaee9166"
      },
      "outputs": [
        {
          "name": "stdout",
          "output_type": "stream",
          "text": [
            "0.7745901639344263\n"
          ]
        }
      ],
      "source": [
        "# Separamos los datos en variables de entrada y etiquetas\n",
        "Xl = df['news_lemma']\n",
        "Yl = df['Type']\n",
        "# Creamos el entrenamiento\n",
        "Xl_train, Xl_test, Yl_train, Yl_test = train_test_split(Xl, Yl, test_size=0.2)\n",
        "vectorizerL = CountVectorizer()\n",
        "# Transformamos los documentos en vectores\n",
        "Xl_train_transformed = vectorizerL.fit_transform(Xl_train)\n",
        "Xl_test_transformed = vectorizerL.transform(Xl_test)\n",
        "# Creamos el modelo\n",
        "modelL = MultinomialNB()\n",
        "# Entrenamos el modelo\n",
        "modelL.fit(Xl_train_transformed, Yl_train)\n",
        "# Medimos el rendimiento del modelo\n",
        "Yl_predict = modelL.predict(Xl_test_transformed)\n",
        "# Mostramos su eficiencia\n",
        "acurracyL = metrics.accuracy_score(Yl_test, Yl_predict)\n",
        "print(acurracyL)\n"
      ]
    },
    {
      "cell_type": "markdown",
      "id": "7962b7fe-d5bb-4600-bf89-b113eee1ef14",
      "metadata": {
        "id": "7962b7fe-d5bb-4600-bf89-b113eee1ef14"
      },
      "source": [
        "### Comparamos las dimensiones del texto original y los stimming"
      ]
    },
    {
      "cell_type": "code",
      "execution_count": null,
      "id": "6ed7730d-52df-45de-85fd-7ec0b9cb8ec0",
      "metadata": {
        "id": "6ed7730d-52df-45de-85fd-7ec0b9cb8ec0",
        "outputId": "f0dc7510-74c3-42d6-89f9-d056cef8410a"
      },
      "outputs": [
        {
          "data": {
            "text/html": [
              "<div>\n",
              "<style scoped>\n",
              "    .dataframe tbody tr th:only-of-type {\n",
              "        vertical-align: middle;\n",
              "    }\n",
              "\n",
              "    .dataframe tbody tr th {\n",
              "        vertical-align: top;\n",
              "    }\n",
              "\n",
              "    .dataframe thead th {\n",
              "        text-align: right;\n",
              "    }\n",
              "</style>\n",
              "<table border=\"1\" class=\"dataframe\">\n",
              "  <thead>\n",
              "    <tr style=\"text-align: right;\">\n",
              "      <th></th>\n",
              "      <th>DataSet</th>\n",
              "      <th>Vectores</th>\n",
              "      <th>Dimensiones</th>\n",
              "    </tr>\n",
              "  </thead>\n",
              "  <tbody>\n",
              "    <tr>\n",
              "      <th>0</th>\n",
              "      <td>X_train_transformed</td>\n",
              "      <td>973</td>\n",
              "      <td>26504</td>\n",
              "    </tr>\n",
              "    <tr>\n",
              "      <th>1</th>\n",
              "      <td>Xs_train_transformed</td>\n",
              "      <td>973</td>\n",
              "      <td>12087</td>\n",
              "    </tr>\n",
              "    <tr>\n",
              "      <th>2</th>\n",
              "      <td>Xl_train_transformed</td>\n",
              "      <td>973</td>\n",
              "      <td>16432</td>\n",
              "    </tr>\n",
              "  </tbody>\n",
              "</table>\n",
              "</div>"
            ],
            "text/plain": [
              "                DataSet  Vectores  Dimensiones\n",
              "0   X_train_transformed       973        26504\n",
              "1  Xs_train_transformed       973        12087\n",
              "2  Xl_train_transformed       973        16432"
            ]
          },
          "execution_count": 36,
          "metadata": {},
          "output_type": "execute_result"
        }
      ],
      "source": [
        "origin = X_train_transformed.shape\n",
        "stimming = Xs_train_transformed.shape\n",
        "lemmatizing = Xl_train_transformed.shape\n",
        "\n",
        "# Opcional --- creamos un DataFrame para mejorar la visual y repasar\n",
        "dfCompare = pd.DataFrame({\n",
        "    'DataSet': ['X_train_transformed', 'Xs_train_transformed', 'Xl_train_transformed'],\n",
        "    'Vectores': [origin[0], stimming[0], lemmatizing[0]],\n",
        "    'Dimensiones': [origin[1], stimming[1], lemmatizing[1]]\n",
        "})\n",
        "dfCompare"
      ]
    },
    {
      "cell_type": "markdown",
      "id": "2eebb5c4-51d6-4246-bcfe-8cace2af891c",
      "metadata": {
        "id": "2eebb5c4-51d6-4246-bcfe-8cace2af891c"
      },
      "source": [
        "## Conclusiones"
      ]
    },
    {
      "cell_type": "markdown",
      "id": "43f92290-a2d8-491d-bbc8-fa5bc62d2505",
      "metadata": {
        "id": "43f92290-a2d8-491d-bbc8-fa5bc62d2505"
      },
      "source": [
        "<div style=\"text-align: center;\">\n",
        "    <p>Se puede tomar la decisión de seleccionar el mejor modelo, aunque los datos son pocos, se puede observar una buena predicción, aunque en el texto se ve mejor la lemmatización, este requiere un gasto computacional más alto, que no se ve reflejado, para este ejemplo, en la eficacia del modelo.</p>\n",
        "    <hr/>\n",
        "    <p style=\"text-align: right;\">Mg. Luis Felipe Bustamante Narváez</p>\n",
        "</div>"
      ]
    }
  ],
  "metadata": {
    "kernelspec": {
      "display_name": "Python 3 (ipykernel)",
      "language": "python",
      "name": "python3"
    },
    "language_info": {
      "codemirror_mode": {
        "name": "ipython",
        "version": 3
      },
      "file_extension": ".py",
      "mimetype": "text/x-python",
      "name": "python",
      "nbconvert_exporter": "python",
      "pygments_lexer": "ipython3",
      "version": "3.12.9"
    },
    "colab": {
      "provenance": []
    }
  },
  "nbformat": 4,
  "nbformat_minor": 5
}