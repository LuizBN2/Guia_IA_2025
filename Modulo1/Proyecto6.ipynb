{
 "cells": [
  {
   "cell_type": "markdown",
   "id": "91573c1e-6dbb-4c8f-acdc-26ae79d1200e",
   "metadata": {},
   "source": [
    "<div style=\"text-align: center;\">\n",
    "    <h1 style=\"color: red;\">Anexo 6</h1>\n",
    "    <h3>Proyecto 6: Conversión masiva de nombres de archivos</h3>\n",
    "    <hr/>\n",
    "    <p style=\"text-align: right;\">Mg. Luis Felipe Bustamante Narváez</p>\n",
    "</div>"
   ]
  },
  {
   "cell_type": "markdown",
   "id": "dee637b4-f811-4a63-86c4-1a8d1c989668",
   "metadata": {},
   "source": [
    "## Renombrar"
   ]
  },
  {
   "cell_type": "markdown",
   "id": "1ca95006-1b92-476b-9c19-a3a531bac4ef",
   "metadata": {},
   "source": [
    "Este ejercicio, permitirá cambiar el nombre de forma masiva a diferentes archivos para ejecutarlos de manera rápida en un análisis de vectorización para NPL, evitando errores por los nombres que traen estos archivos a la hora de descargarlos o de generarlos."
   ]
  },
  {
   "cell_type": "markdown",
   "id": "9c2fe913-943b-440f-8b7c-a99476fe4b02",
   "metadata": {},
   "source": [
    "## Librerías"
   ]
  },
  {
   "cell_type": "code",
   "execution_count": 2,
   "id": "940bd16f-abcd-4cbc-9d1f-af90240df7a7",
   "metadata": {},
   "outputs": [],
   "source": [
    "import os"
   ]
  },
  {
   "cell_type": "markdown",
   "id": "b98518b6-3b33-4368-bd6c-f43e38b161d4",
   "metadata": {},
   "source": [
    "## Ruta de los archivos a cambiar su nombre"
   ]
  },
  {
   "cell_type": "code",
   "execution_count": 3,
   "id": "9daeb63f-6433-44da-8a1e-acaeabc0d91c",
   "metadata": {},
   "outputs": [],
   "source": [
    "pathOrigin = 'Entrenamiento_Word2Vec/textos'\n",
    "pathFinal = 'Entrenamiento_Word2Vec/textos/textos'"
   ]
  },
  {
   "cell_type": "markdown",
   "id": "2ca19eb8-5915-41dd-a247-cf09a9d92616",
   "metadata": {},
   "source": [
    "## Función para renombrar"
   ]
  },
  {
   "cell_type": "code",
   "execution_count": 9,
   "id": "2bc78c81-b65e-40a2-87ad-439431af8499",
   "metadata": {},
   "outputs": [],
   "source": [
    "def changeNames(originPath, finalPath, prefix):\n",
    "    files = os.listdir(originPath)    \n",
    "    for counter, fileName in enumerate(files):\n",
    "        name, extension = os.path.splitext(fileName)\n",
    "        newName = f'{prefix}_{counter}{extension}'\n",
    "        try:\n",
    "            os.rename(os.path.join(originPath, fileName), os.path.join(finalPath, newName))\n",
    "            print(\"Cambio de nombres realizado.\")\n",
    "        except (err):\n",
    "            print(\"Error al renombrar: \", err)"
   ]
  },
  {
   "cell_type": "markdown",
   "id": "edada56d-d903-4011-915c-d54364212146",
   "metadata": {},
   "source": [
    "## Llamamos la función"
   ]
  },
  {
   "cell_type": "code",
   "execution_count": null,
   "id": "55e575e4-e80b-479d-9dcc-a49a3b81699e",
   "metadata": {},
   "outputs": [],
   "source": [
    "prefix = 'texto'\n",
    "changeNames(pathOrigin, pathFinal, prefix)"
   ]
  },
  {
   "cell_type": "markdown",
   "id": "750a83aa-c8d9-438e-9a3a-4372b79f020f",
   "metadata": {},
   "source": [
    "## Conclusiones"
   ]
  },
  {
   "cell_type": "markdown",
   "id": "68dce818-61df-4bd1-a649-8e634993da87",
   "metadata": {},
   "source": [
    "<div style=\"text-align: center;\">\n",
    "    <p>Este código, permite renombrar listas largas de archivos para una mejor manipulación en entrenamientos de AI.</p>\n",
    "    <hr/>\n",
    "    <p style=\"text-align: right;\">Mg. Luis Felipe Bustamante Narváez</p>\n",
    "</div>"
   ]
  }
 ],
 "metadata": {
  "kernelspec": {
   "display_name": "Python 3 (ipykernel)",
   "language": "python",
   "name": "python3"
  },
  "language_info": {
   "codemirror_mode": {
    "name": "ipython",
    "version": 3
   },
   "file_extension": ".py",
   "mimetype": "text/x-python",
   "name": "python",
   "nbconvert_exporter": "python",
   "pygments_lexer": "ipython3",
   "version": "3.12.9"
  }
 },
 "nbformat": 4,
 "nbformat_minor": 5
}
