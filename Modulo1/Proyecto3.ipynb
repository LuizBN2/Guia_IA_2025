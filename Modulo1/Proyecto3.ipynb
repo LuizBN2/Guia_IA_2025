{
 "cells": [
  {
   "cell_type": "markdown",
   "id": "886f6965-5e81-4362-aac3-bbcc63e928ee",
   "metadata": {},
   "source": [
    "<div style=\"text-align: center;\">\n",
    "    <h1 style=\"color: red;\">Anexo 3</h1>\n",
    "    <h3>Proyecto 3: Aplicación de Words Embedding</h3>\n",
    "    <hr/>\n",
    "    <p style=\"text-align: right;\">Mg. Luis Felipe Bustamante Narváez</p>\n",
    "</div>"
   ]
  },
  {
   "cell_type": "markdown",
   "id": "ecc0f257-f9ce-4eaf-9be5-2e0f68f62702",
   "metadata": {},
   "source": [
    "## Analogías"
   ]
  },
  {
   "cell_type": "code",
   "execution_count": null,
   "id": "1fca33c4-597c-4fea-8f44-6f5c90034771",
   "metadata": {},
   "outputs": [],
   "source": [
    "!pip install gensim"
   ]
  },
  {
   "cell_type": "code",
   "execution_count": 2,
   "id": "08496d82-6455-4e29-80e1-5a43d2cef5d6",
   "metadata": {},
   "outputs": [],
   "source": [
    "import gensim"
   ]
  },
  {
   "cell_type": "code",
   "execution_count": 3,
   "id": "7e1f9a60-910d-4670-84da-fb88d03ce7f8",
   "metadata": {},
   "outputs": [],
   "source": [
    "#Cargamos el archivo de la db en un muestreo de vectores \n",
    "vectores = gensim.models.KeyedVectors.load_word2vec_format('SBW-vectors-300-min5.txt')"
   ]
  },
  {
   "cell_type": "code",
   "execution_count": 4,
   "id": "ef1f27fe-d292-42c4-9e5d-5b7701f90cfc",
   "metadata": {},
   "outputs": [],
   "source": [
    "# Definimos la función que analizará la similitud\n",
    "def analogics(v1, v2, v3):\n",
    "    simil = vectores.most_similar(positive=[v1, v3], negative=[v2]) #buscamos el negativo\n",
    "    print(f'{v1} es a {v2}, como {simil[0][0]} es a {v3}')"
   ]
  },
  {
   "cell_type": "code",
   "execution_count": 5,
   "id": "52a771a3-d27d-4c70-8b37-23f5f7f7d48e",
   "metadata": {},
   "outputs": [
    {
     "name": "stdout",
     "output_type": "stream",
     "text": [
      "rey es a hombre, como reina es a mujer\n"
     ]
    }
   ],
   "source": [
    "# Llamamos la función con un ejemplo\n",
    "analogics('rey', 'hombre', 'mujer')"
   ]
  },
  {
   "cell_type": "code",
   "execution_count": 6,
   "id": "6fe2a3c8-764e-4bd0-b0d3-a6a87943121a",
   "metadata": {},
   "outputs": [
    {
     "name": "stdout",
     "output_type": "stream",
     "text": [
      "Colombia es a colombiano, como Venezuela es a venezolano\n"
     ]
    }
   ],
   "source": [
    "analogics('Colombia', 'colombiano', 'venezolano')"
   ]
  },
  {
   "cell_type": "code",
   "execution_count": 30,
   "id": "4f291bf9-584a-49f9-94e7-69d55f5fa23d",
   "metadata": {
    "collapsed": true,
    "jupyter": {
     "outputs_hidden": true
    }
   },
   "outputs": [
    {
     "name": "stdout",
     "output_type": "stream",
     "text": [
      "pan es a trigo, como yogur es a leche\n"
     ]
    }
   ],
   "source": [
    "analogics('pan', 'trigo', 'leche')"
   ]
  },
  {
   "cell_type": "code",
   "execution_count": 14,
   "id": "58877c5b-9963-4d84-ab98-3260a116a4d9",
   "metadata": {},
   "outputs": [
    {
     "name": "stdout",
     "output_type": "stream",
     "text": [
      "vaca es a leche, como gallina es a huevo\n"
     ]
    }
   ],
   "source": [
    "analogics('vaca', 'leche', 'huevo')"
   ]
  },
  {
   "cell_type": "code",
   "execution_count": 15,
   "id": "7096329e-e090-4fc9-9fe8-ccb699dcd148",
   "metadata": {},
   "outputs": [
    {
     "name": "stdout",
     "output_type": "stream",
     "text": [
      "lápiz es a borrador, como pincel es a corrector\n"
     ]
    }
   ],
   "source": [
    "analogics('lápiz', 'borrador', 'corrector')"
   ]
  },
  {
   "cell_type": "code",
   "execution_count": 16,
   "id": "319f91ae-013f-4f90-8261-146a028bd792",
   "metadata": {},
   "outputs": [
    {
     "name": "stdout",
     "output_type": "stream",
     "text": [
      "chimenea es a humo, como desagüe es a agua\n"
     ]
    }
   ],
   "source": [
    "analogics('chimenea', 'humo', 'agua')"
   ]
  },
  {
   "cell_type": "code",
   "execution_count": 17,
   "id": "ff62e58e-74c6-483a-8623-2909c5ffa199",
   "metadata": {},
   "outputs": [
    {
     "name": "stdout",
     "output_type": "stream",
     "text": [
      "carne es a carnívoro, como carnes es a vegetariano\n"
     ]
    }
   ],
   "source": [
    "# Obsevemos que no siempre es preciso\n",
    "analogics('carne', 'carnívoro', 'vegetariano')"
   ]
  },
  {
   "cell_type": "markdown",
   "id": "727ff6df-fc21-484d-8959-e3ed7ed9932e",
   "metadata": {},
   "source": [
    "## Valores cercanos"
   ]
  },
  {
   "cell_type": "code",
   "execution_count": 25,
   "id": "77e07200-01e4-4f14-b419-8945a87624bc",
   "metadata": {},
   "outputs": [],
   "source": [
    "#definimos la función de los cercanos\n",
    "def cercanos(v):\n",
    "    vecinos = vectores.most_similar(positive=[v])\n",
    "    print(f'Vecinos de {v}:\\n')\n",
    "    for word, score in vecinos:\n",
    "        print(f'{word}')"
   ]
  },
  {
   "cell_type": "code",
   "execution_count": 26,
   "id": "ce8da1be-4068-49da-b339-a54c6fb6b8fa",
   "metadata": {},
   "outputs": [
    {
     "name": "stdout",
     "output_type": "stream",
     "text": [
      "Vecinos de rey:\n",
      "\n",
      "monarca\n",
      "reyes\n",
      "reino\n",
      "príncipe\n",
      "reina\n",
      "Harthacnut\n",
      "Ragnald\n",
      "Sverkersson\n",
      "regente\n",
      "Hardeknut\n"
     ]
    }
   ],
   "source": [
    "cercanos('rey')"
   ]
  },
  {
   "cell_type": "code",
   "execution_count": 27,
   "id": "eae0a14e-f3ba-41ad-b101-d74e50ab36f9",
   "metadata": {},
   "outputs": [
    {
     "name": "stdout",
     "output_type": "stream",
     "text": [
      "Vecinos de ves:\n",
      "\n",
      "sabes\n",
      "piensas\n",
      "dices\n",
      "tú\n",
      "verás\n",
      "vas\n",
      "sientes\n",
      "estás\n",
      "tienes\n",
      "crees\n"
     ]
    }
   ],
   "source": [
    "cercanos('ves')"
   ]
  },
  {
   "cell_type": "code",
   "execution_count": 28,
   "id": "2fa5429f-7455-4a32-9d5f-b1dfa6ddeac6",
   "metadata": {},
   "outputs": [
    {
     "name": "stdout",
     "output_type": "stream",
     "text": [
      "Vecinos de vez:\n",
      "\n",
      "ocasión\n",
      "cuando\n",
      "nuevamente\n",
      "ya\n",
      "tamporada\n",
      "rememoraría\n",
      "luego\n",
      "Súperfinal\n",
      "que\n",
      "cosa\n"
     ]
    }
   ],
   "source": [
    "cercanos('vez')"
   ]
  },
  {
   "cell_type": "code",
   "execution_count": 31,
   "id": "563e45fb-5e98-4802-945a-09e3f55bfc63",
   "metadata": {},
   "outputs": [
    {
     "name": "stdout",
     "output_type": "stream",
     "text": [
      "Vecinos de vegetariano:\n",
      "\n",
      "vegetariana\n",
      "vegano\n",
      "vegetarianismo\n",
      "vegetarianos\n",
      "vegana\n",
      "abstemio\n",
      "veganismo\n",
      "crudiveganismo\n",
      "veganos\n",
      "crudivorismo\n"
     ]
    }
   ],
   "source": [
    "cercanos('vegetariano')"
   ]
  },
  {
   "cell_type": "markdown",
   "id": "535eb00a-de06-41b7-a7b9-e3725b6912be",
   "metadata": {},
   "source": [
    "## Conclusiones"
   ]
  },
  {
   "cell_type": "markdown",
   "id": "51f49cc1-6e82-4a4a-b8d0-2f2098898b43",
   "metadata": {},
   "source": [
    "<div style=\"text-align: center;\">\n",
    "    <p>Con la base de datos consumida, se puede observar el comportamiento de las words embedding, cómo hallar similitudes entre palabras asociadas a un contexto y cómo visualizar las palabras que constituyen una clasificación asociada a una palabra específica.</p>\n",
    "    <hr/>\n",
    "    <p style=\"text-align: right;\">Mg. Luis Felipe Bustamante Narváez</p>\n",
    "</div>"
   ]
  }
 ],
 "metadata": {
  "kernelspec": {
   "display_name": "Python 3 (ipykernel)",
   "language": "python",
   "name": "python3"
  },
  "language_info": {
   "codemirror_mode": {
    "name": "ipython",
    "version": 3
   },
   "file_extension": ".py",
   "mimetype": "text/x-python",
   "name": "python",
   "nbconvert_exporter": "python",
   "pygments_lexer": "ipython3",
   "version": "3.12.9"
  }
 },
 "nbformat": 4,
 "nbformat_minor": 5
}
