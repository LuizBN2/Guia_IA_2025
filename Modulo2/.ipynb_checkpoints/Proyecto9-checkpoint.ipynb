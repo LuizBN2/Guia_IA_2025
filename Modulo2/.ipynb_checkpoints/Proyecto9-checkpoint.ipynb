{
 "cells": [
  {
   "cell_type": "markdown",
   "id": "d87edabd-9013-488c-ac7d-c2ae94ec9b58",
   "metadata": {},
   "source": [
    "<div style=\"text-align: center;\">\n",
    "    <h1 style=\"color: blue;\">Anexo 9</h1>\n",
    "    <h3>Proyecto 9: Generador de texto</h3>\n",
    "    <hr/>\n",
    "    <p style=\"text-align: right;\">Mg. Luis Felipe Bustamante Narváez</p>\n",
    "</div>"
   ]
  },
  {
   "cell_type": "markdown",
   "id": "ec142f33-73be-40ea-81f4-e54add705b5d",
   "metadata": {},
   "source": [
    "En este ejercicio realizaremos un generador de texto, basado en el archivo pdf trabajado en el clasificador <span style='color:red;'>mario-benedetti.pdf</span>. Este archivo, nos permitirá entrenar un modelo de <b style='color:red;'>Markov</b> de <b style='color:red;'>Segundo Orden</b>.\n",
    "\n",
    "Tengamos en cuenta los siguientes detalles de la manera de escribir del autor:\n",
    "\n",
    "<div align=\"center\">\n",
    "    <table>\n",
    "        <tr>\n",
    "            <td align=\"center\">\n",
    "                <img src=\"imagenes/mario-benedetti.jpg\" alt=\"Mario Benedetti\" width=\"211\"><br>\n",
    "                <strong>Mario Benedetti</strong>\n",
    "            </td>            \n",
    "        </tr>\n",
    "        <tr>\n",
    "        <td style='color:gray; text-align:center;'>\n",
    "            Mario Benedetti (1920-2009), fue un escritor, poeta y periodista uruguayo, \n",
    "            considerado una de las figuras más importantes de la literatura latinoamericana.\n",
    "            Nació el 14 de septiembre de 1920 en Paso de los Toros, Uruguay. Su obra abarcó\n",
    "            poesía, narrativa, ensayo y teatro, con un estilo sencillo y cercano que\n",
    "            exploraba el amor, la memoria, el exilio y la lucha social.\n",
    "            Durante la dictadura en Uruguay (1973-1985), se exilió en varios países como\n",
    "            Argentina, Cuba y España, lo que marcó profundamente su escritura. Entre sus\n",
    "            libros más conocidos se encuentran La tregua (1960), Gracias por el fuego (1965)\n",
    "            y El amor, las mujeres y la vida (1995).\n",
    "            Benedetti falleció el 17 de mayo de 2009 en Montevideo, dejando un legado\n",
    "            literario que sigue conmoviendo a lectores de todas las generaciones.\n",
    "        </td>            \n",
    "        </tr>\n",
    "    </table>\n",
    "</div>\n",
    "\n",
    "**📖 1. Temas y Filosofía**<br><br>\n",
    "Escribe de manera directa y accesible. Sus temas son el amor, la vida cotidiana, la lucha social, el exilio y la esperanza. Su tono es cálido, humano y cercano al lector.\n",
    "\n",
    "**🖋 2. Lenguaje y Estilo**<br><br>\n",
    "Usa un lenguaje sencillo, directo y coloquial. Sus poemas parecen conversaciones o pensamientos escritos sin mucha ornamentación.\n",
    "\n",
    "**🔄 3. Estructura y Ritmo**<br><br>\n",
    "Prefiere el verso libre y la naturalidad del habla cotidiana, sin preocuparse demasiado por la métrica.\n",
    "\n"
   ]
  },
  {
   "cell_type": "markdown",
   "id": "e029bec1-d5fc-4212-ac8f-568470ab0d78",
   "metadata": {},
   "source": [
    "## Librerías"
   ]
  },
  {
   "cell_type": "code",
   "execution_count": 65,
   "id": "d9e54d66-ac9d-4591-be98-ac23dfa9dfb6",
   "metadata": {},
   "outputs": [],
   "source": [
    "import numpy as np\n",
    "import string\n",
    "import PyPDF2\n",
    "import itertools"
   ]
  },
  {
   "cell_type": "markdown",
   "id": "b12e7f37-3080-4597-a39c-c0f19f5b31f9",
   "metadata": {},
   "source": [
    "## Convertimos el pdf en .txt"
   ]
  },
  {
   "cell_type": "markdown",
   "id": "6ab6836d-062a-4d76-b922-8a7c1fd4de7b",
   "metadata": {},
   "source": [
    "En esta oportunidad, como ya conocemos el manejo de pdf's, vamos a usar un conversor a .txt, para agilizar la manipulación de los datos."
   ]
  },
  {
   "cell_type": "code",
   "execution_count": 41,
   "id": "ce13cdb9-d4f3-4865-a3de-7848d35ce016",
   "metadata": {},
   "outputs": [],
   "source": [
    "def pdf_to_text(pdf_path, txt_path):\n",
    "    with open(pdf_path, 'rb') as pdf_file:\n",
    "        reader = PyPDF2.PdfReader(pdf_file)\n",
    "        text = ''\n",
    "        for page in reader.pages:\n",
    "            text += page.extract_text() + '\\n'\n",
    "    with open(txt_path, 'w', encoding='utf-8') as txt_file:\n",
    "        txt_file.write(text)\n",
    "\n",
    "    print(f'Texto extraído y guardado en \"{txt_path}\"')"
   ]
  },
  {
   "cell_type": "code",
   "execution_count": 42,
   "id": "0ff0bff8-214d-49bb-b2af-58a107b1650a",
   "metadata": {},
   "outputs": [
    {
     "name": "stdout",
     "output_type": "stream",
     "text": [
      "Texto extraído y guardado en \"textos/mario_benedetti.txt\"\n"
     ]
    }
   ],
   "source": [
    "# Ruta pdf\n",
    "pdf = 'textos/mario_benedetti.pdf'\n",
    "txt = 'textos/mario_benedetti.txt'\n",
    "pdf_to_text(pdf, txt)"
   ]
  },
  {
   "cell_type": "markdown",
   "id": "8a09820a-7094-4980-af9a-339b6bbca7d3",
   "metadata": {},
   "source": [
    "## Diccionarios"
   ]
  },
  {
   "cell_type": "markdown",
   "id": "051b6920-b094-4f1d-9e86-d8d6b36311ec",
   "metadata": {},
   "source": [
    "### Diccionario inicial\n",
    "\n",
    "<p>Supongamos que tenemos la siguiente frase:</p>\n",
    "\n",
    "<div style=\"display: flex; justify-content: center; align-items: center; font-family: Arial, sans-serif; margin-top: 20px; margin-left: 350px\">\n",
    "  <div style=\"padding: 10px; border: 2px solid #3498db; background: #ecf0f1; border-radius: 5px; text-align: center;\">la</div>\n",
    "  <div style=\"margin: 10px 10px; font-size: 20px; color: #3498db;\">→</div>\n",
    "  <div style=\"padding: 10px; border: 2px solid #e74c3c; background: #f9ebea; border-radius: 5px; text-align: center;\">casa</div>\n",
    "  <div style=\"margin: 10px 10px; font-size: 20px; color: #e74c3c;\">→</div>\n",
    "  <div style=\"padding: 10px; border: 2px solid #2ecc71; background: #eafaf1; border-radius: 5px; text-align: center;\">del</div>\n",
    "  <div style=\"margin: 10px 10px; font-size: 20px; color: #2ecc71;\">→</div>\n",
    "  <div style=\"padding: 10px; border: 2px solid #f1c40f; background: #fef9e7; border-radius: 5px; text-align: center;\">perro</div>\n",
    "  <div style=\"margin: 10px 10px; font-size: 20px; color: #f1c40f;\">→</div>\n",
    "  <div style=\"padding: 10px; border: 2px solid #9b59b6; background: #f5eef8; border-radius: 5px; text-align: center;\">?</div>\n",
    "</div>\n",
    "\n",
    "<hr>\n",
    "\n",
    "<p>Necesitamos obtener la primera palabra de cada frase, y las veces que dicha palabra aparece dentro del texto como primera palabra.</p>\n",
    "<p>Por ejemplo, en el diagrama anterior, la palabra <b style=\"padding: 10px; border: 2px solid #3498db; background: #ecf0f1; border-radius: 5px; text-align: center;\">la</b> aparece como primera palabra de la frase <b style=\"padding: 10px; border: 2px solid #f1c40f; background: #fef9e7; border-radius: 5px; text-align: center;\">la casa del perro </b> si suponemos que es la única frase de nuestro texto, entonces dicha palabra se repite <b style=\"padding: 10px; border: 2px solid #2ecc71; background: #eafaf1; border-radius: 5px; text-align: center;\">1</b> vez.</p>\n",
    "\n",
    "<p>Luego, el diccionario inicial quedaría así:</p>\n",
    "\n",
    "<div style=\"display: flex; justify-content: center; align-items: center; font-family: Arial, sans-serif; margin-top: 20px; margin-left: 400px\">\n",
    "  <div style=\"padding: 10px; border: 2px solid #e74c3c; background: #f9ebea; border-radius: 5px; text-align: center;\">pa_inicial = { 'la': 1 }</div>\n",
    "</div>\n",
    "<hr>"
   ]
  },
  {
   "cell_type": "code",
   "execution_count": 43,
   "id": "627d45a4-9587-498f-9303-3e8c2646bc25",
   "metadata": {},
   "outputs": [],
   "source": [
    "pa_inicial = {}"
   ]
  },
  {
   "cell_type": "markdown",
   "id": "a5d0b2a9-dc0e-4ff3-b6f2-1d8e3c80e30a",
   "metadata": {},
   "source": [
    "### Diccionario de Markov Primero Orden\n",
    "\n",
    "<p>Supongamos que tenemos las siguientes frases:</p>\n",
    "\n",
    "<div style=\"display: flex; justify-content: center; align-items: center; font-family: Arial, sans-serif; margin-top: 20px; margin-left: 350px\">\n",
    "  <div style=\"padding: 10px; border: 2px solid #3498db; background: #ecf0f1; border-radius: 5px; text-align: center;\">la</div>\n",
    "  <div style=\"margin: 10px 10px; font-size: 20px; color: #3498db;\">→</div>\n",
    "  <div style=\"padding: 10px; border: 2px solid #e74c3c; background: #f9ebea; border-radius: 5px; text-align: center;\">casa</div>\n",
    "  <div style=\"margin: 10px 10px; font-size: 20px; color: #e74c3c;\">→</div>\n",
    "  <div style=\"padding: 10px; border: 2px solid #2ecc71; background: #eafaf1; border-radius: 5px; text-align: center;\">del</div>\n",
    "  <div style=\"margin: 10px 10px; font-size: 20px; color: #2ecc71;\">→</div>\n",
    "  <div style=\"padding: 10px; border: 2px solid #f1c40f; background: #fef9e7; border-radius: 5px; text-align: center;\">perro</div>\n",
    "  <div style=\"margin: 10px 10px; font-size: 20px; color: #f1c40f;\">→</div>\n",
    "  <div style=\"padding: 10px; border: 2px solid #9b59b6; background: #f5eef8; border-radius: 5px; text-align: center;\">?</div>\n",
    "</div>\n",
    "\n",
    "<div style=\"display: flex; justify-content: center; align-items: center; font-family: Arial, sans-serif; margin-top: 20px; margin-left: 350px\">\n",
    "  <div style=\"padding: 10px; border: 2px solid #3498db; background: #ecf0f1; border-radius: 5px; text-align: center;\">el</div>\n",
    "  <div style=\"margin: 10px 10px; font-size: 20px; color: #3498db;\">→</div>\n",
    "  <div style=\"padding: 10px; border: 2px solid #e74c3c; background: #f9ebea; border-radius: 5px; text-align: center;\">vino</div>\n",
    "  <div style=\"margin: 10px 10px; font-size: 20px; color: #e74c3c;\">→</div>\n",
    "  <div style=\"padding: 10px; border: 2px solid #2ecc71; background: #eafaf1; border-radius: 5px; text-align: center;\">está</div>\n",
    "  <div style=\"margin: 10px 10px; font-size: 20px; color: #2ecc71;\">→</div>\n",
    "  <div style=\"padding: 10px; border: 2px solid #f1c40f; background: #fef9e7; border-radius: 5px; text-align: center;\">frío</div>\n",
    "  <div style=\"margin: 10px 10px; font-size: 20px; color: #f1c40f;\">→</div>\n",
    "  <div style=\"padding: 10px; border: 2px solid #9b59b6; background: #f5eef8; border-radius: 5px; text-align: center;\">?</div>\n",
    "</div>\n",
    "\n",
    "<div style=\"display: flex; justify-content: center; align-items: center; font-family: Arial, sans-serif; margin-top: 20px; margin-left: 350px\">\n",
    "  <div style=\"padding: 10px; border: 2px solid #3498db; background: #ecf0f1; border-radius: 5px; text-align: center;\">la</div>\n",
    "  <div style=\"margin: 10px 10px; font-size: 20px; color: #3498db;\">→</div>\n",
    "  <div style=\"padding: 10px; border: 2px solid #e74c3c; background: #f9ebea; border-radius: 5px; text-align: center;\">viuda</div>\n",
    "  <div style=\"margin: 10px 10px; font-size: 20px; color: #e74c3c;\">→</div>\n",
    "  <div style=\"padding: 10px; border: 2px solid #2ecc71; background: #eafaf1; border-radius: 5px; text-align: center;\">del</div>\n",
    "  <div style=\"margin: 10px 10px; font-size: 20px; color: #2ecc71;\">→</div>\n",
    "  <div style=\"padding: 10px; border: 2px solid #f1c40f; background: #fef9e7; border-radius: 5px; text-align: center;\">general</div>\n",
    "  <div style=\"margin: 10px 10px; font-size: 20px; color: #f1c40f;\">→</div>\n",
    "  <div style=\"padding: 10px; border: 2px solid #9b59b6; background: #f5eef8; border-radius: 5px; text-align: center;\">?</div>\n",
    "</div>\n",
    "<hr>\n",
    "\n",
    "\n",
    "<p>Necesitamos obtener la primera palabra de cada frase, y las veces que dicha palabra aparece dentro del texto como primera palabra, como vimos anteriormente, además necesitamos saber cuales son las secuencias de primer orden, para componer nuestro diccionario.</p>\n",
    "\n",
    "<p>Luego, el diccionario inicial y el diccionario de primer orden quedarían así:</p>\n",
    "\n",
    "<div style=\"display: flex; justify-content: center; align-items: center; font-family: Arial, sans-serif; margin-top: 20px; margin-left: 400px\">\n",
    "  <div style=\"padding: 10px; border: 2px solid #e74c3c; background: #f9ebea; border-radius: 5px; text-align: center;\">pa_inicial = { 'la': 2, 'el':1 }</div>\n",
    "</div>\n",
    "\n",
    "<div style=\"display: flex; justify-content: center; align-items: center; font-family: Arial, sans-serif; margin-top: 20px; margin-left: 350px\">\n",
    "  <div style=\"padding: 10px; border: 2px solid #9b59b6; background: #f5eef8; border-radius: 5px; text-align: right;\">primer_orden = { 'la': ['casa', 'viuda'],<br>\n",
    "          'casa': ['del'],<br>\n",
    "          'del': ['perro', 'general'],<br>\n",
    "          'perro': ['END'],<br>\n",
    "          'el': ['vino'],<br>\n",
    "          'vino': ['frío'],<br>\n",
    "          'frío': ['END'],<br>\n",
    "          'viuda': ['del'],<br>\n",
    "          'general': ['END']<br>\n",
    "          }</div>\n",
    "</div>\n",
    "<hr>"
   ]
  },
  {
   "cell_type": "code",
   "execution_count": 44,
   "id": "d2bacb60-667f-4513-8cc8-c03897eb0281",
   "metadata": {},
   "outputs": [],
   "source": [
    "primer_orden = {}"
   ]
  },
  {
   "cell_type": "markdown",
   "id": "1266b1bf-2108-4498-a999-760970a181dc",
   "metadata": {},
   "source": [
    "### Diccionario de Markov Segundo Orden\n",
    "\n",
    "<p>Supongamos para el ejemplo anterior:</p>\n",
    "\n",
    "<div style=\"display: flex; justify-content: center; align-items: center; font-family: Arial, sans-serif; margin-top: 20px; margin-left: 350px\">\n",
    "  <div style=\"padding: 10px; border: 2px solid #3498db; background: #ecf0f1; border-radius: 5px; text-align: center;\">la</div>\n",
    "  <div style=\"margin: 10px 10px; font-size: 20px; color: #3498db;\">→</div>\n",
    "  <div style=\"padding: 10px; border: 2px solid #e74c3c; background: #f9ebea; border-radius: 5px; text-align: center;\">casa</div>\n",
    "  <div style=\"margin: 10px 10px; font-size: 20px; color: #e74c3c;\">→</div>\n",
    "  <div style=\"padding: 10px; border: 2px solid #2ecc71; background: #eafaf1; border-radius: 5px; text-align: center;\">del</div>\n",
    "  <div style=\"margin: 10px 10px; font-size: 20px; color: #2ecc71;\">→</div>\n",
    "  <div style=\"padding: 10px; border: 2px solid #f1c40f; background: #fef9e7; border-radius: 5px; text-align: center;\">perro</div>\n",
    "  <div style=\"margin: 10px 10px; font-size: 20px; color: #f1c40f;\">→</div>\n",
    "  <div style=\"padding: 10px; border: 2px solid #9b59b6; background: #f5eef8; border-radius: 5px; text-align: center;\">?</div>\n",
    "</div>\n",
    "\n",
    "<div style=\"display: flex; justify-content: center; align-items: center; font-family: Arial, sans-serif; margin-top: 20px; margin-left: 350px\">\n",
    "  <div style=\"padding: 10px; border: 2px solid #3498db; background: #ecf0f1; border-radius: 5px; text-align: center;\">el</div>\n",
    "  <div style=\"margin: 10px 10px; font-size: 20px; color: #3498db;\">→</div>\n",
    "  <div style=\"padding: 10px; border: 2px solid #e74c3c; background: #f9ebea; border-radius: 5px; text-align: center;\">vino</div>\n",
    "  <div style=\"margin: 10px 10px; font-size: 20px; color: #e74c3c;\">→</div>\n",
    "  <div style=\"padding: 10px; border: 2px solid #2ecc71; background: #eafaf1; border-radius: 5px; text-align: center;\">está</div>\n",
    "  <div style=\"margin: 10px 10px; font-size: 20px; color: #2ecc71;\">→</div>\n",
    "  <div style=\"padding: 10px; border: 2px solid #f1c40f; background: #fef9e7; border-radius: 5px; text-align: center;\">frío</div>\n",
    "  <div style=\"margin: 10px 10px; font-size: 20px; color: #f1c40f;\">→</div>\n",
    "  <div style=\"padding: 10px; border: 2px solid #9b59b6; background: #f5eef8; border-radius: 5px; text-align: center;\">?</div>\n",
    "</div>\n",
    "\n",
    "<div style=\"display: flex; justify-content: center; align-items: center; font-family: Arial, sans-serif; margin-top: 20px; margin-left: 350px\">\n",
    "  <div style=\"padding: 10px; border: 2px solid #3498db; background: #ecf0f1; border-radius: 5px; text-align: center;\">la</div>\n",
    "  <div style=\"margin: 10px 10px; font-size: 20px; color: #3498db;\">→</div>\n",
    "  <div style=\"padding: 10px; border: 2px solid #e74c3c; background: #f9ebea; border-radius: 5px; text-align: center;\">viuda</div>\n",
    "  <div style=\"margin: 10px 10px; font-size: 20px; color: #e74c3c;\">→</div>\n",
    "  <div style=\"padding: 10px; border: 2px solid #2ecc71; background: #eafaf1; border-radius: 5px; text-align: center;\">del</div>\n",
    "  <div style=\"margin: 10px 10px; font-size: 20px; color: #2ecc71;\">→</div>\n",
    "  <div style=\"padding: 10px; border: 2px solid #f1c40f; background: #fef9e7; border-radius: 5px; text-align: center;\">general</div>\n",
    "  <div style=\"margin: 10px 10px; font-size: 20px; color: #f1c40f;\">→</div>\n",
    "  <div style=\"padding: 10px; border: 2px solid #9b59b6; background: #f5eef8; border-radius: 5px; text-align: center;\">?</div>\n",
    "</div>\n",
    "<hr>\n",
    "\n",
    "\n",
    "<p>Necesitamos el conjunto de palabras que anteceden a una palabra cualquiera, para ello, usamos un diccionario donde la clave sean las dos palabras inmediatamente anteriores en el tiempo.</p>\n",
    "\n",
    "<p>Luego, el diccionario de segundo orden quedaría así:</p>\n",
    "\n",
    "<div style=\"display: flex; justify-content: center; align-items: center; font-family: Arial, sans-serif; margin-top: 20px; margin-left: 350px\">\n",
    "  <div style=\"padding: 10px; border: 2px solid #f1c40f; background: #fef9e7; border-radius: 5px; text-align: right;\">segundo_orden = { ('la', 'casa'): ['del'],<br>\n",
    "          ('casa', 'del'): ['perro'],<br>\n",
    "          ('el', 'vino'): ['está'],<br>\n",
    "          ('vino', 'está'): ['frío'],<br>\n",
    "          ('la', 'viuda'): ['del'],<br>\n",
    "          ('viuda', 'del'): ['general'],<br>          \n",
    "          }</div>\n",
    "</div>\n",
    "<hr>\n",
    "<p>Notemos, que las claves de cada diccionario, son conjuntos de palabras.</p>\n"
   ]
  },
  {
   "cell_type": "code",
   "execution_count": 45,
   "id": "d5157079-97fc-4309-abcc-b4c2bf65d286",
   "metadata": {},
   "outputs": [],
   "source": [
    "segundo_orden = {}"
   ]
  },
  {
   "cell_type": "code",
   "execution_count": 46,
   "id": "e7e6351d-f6c0-43a7-a78b-009ed7303585",
   "metadata": {},
   "outputs": [],
   "source": [
    "# Función para remover puntuación y poner en minúsculas\n",
    "def remove_punct_lower(txt):\n",
    "    txt = txt.translate(str.maketrans('','', string.punctuation))\n",
    "    txt = txt.lower()\n",
    "    return txt"
   ]
  },
  {
   "cell_type": "code",
   "execution_count": 47,
   "id": "0fc37809-3eeb-45a2-9343-64c8a5a4552d",
   "metadata": {},
   "outputs": [],
   "source": [
    "# Función para añadir valores al diccionario\n",
    "def add_dict(dicc, key, value):\n",
    "    if key not in dicc:\n",
    "        dicc[key]= []\n",
    "    dicc[key].append(value)"
   ]
  },
  {
   "cell_type": "markdown",
   "id": "04a1e833-3450-4c57-8dce-98ac43afb0ca",
   "metadata": {},
   "source": [
    "## Cargamos el archivo"
   ]
  },
  {
   "cell_type": "code",
   "execution_count": 60,
   "id": "04b6ba89-000a-4465-af99-31402a59a73e",
   "metadata": {},
   "outputs": [],
   "source": [
    "# Reiniciar diccionarios\n",
    "pa_inicial = {}\n",
    "primer_orden = {}\n",
    "segundo_orden = {}"
   ]
  },
  {
   "cell_type": "code",
   "execution_count": 61,
   "id": "122bd040-8e88-4840-822a-570087addcc3",
   "metadata": {},
   "outputs": [],
   "source": [
    "# Si necesitamos reiniciar este código para efectos prácticos, basta con reiniciar los dict\n",
    "with open('textos/mario_benedetti.txt', 'r', encoding='utf-8') as archivo:\n",
    "    for linea in archivo:\n",
    "        #print(linea)  #comentar\n",
    "        #llamamos a la función \n",
    "        tokens = remove_punct_lower(linea).split()\n",
    "        #print(tokens)  #comentar\n",
    "        T = len(tokens)\n",
    "        #print(f'Tamaño de la línea: {T}')  #Comentar\n",
    "        #Recorremos los elementos de la fila\n",
    "        for i in range(T):\n",
    "            token = tokens[i]\n",
    "            if i == 0:\n",
    "                pa_inicial[token] = pa_inicial.get(token, 0.) + 1\n",
    "                #print(f'Palabra inicial: {token}') #comentar\n",
    "            else:\n",
    "                t_1 = tokens[i-1]\n",
    "                #últimas 2 palabras de cada frase\n",
    "                if i == T-1:\n",
    "                    add_dict(segundo_orden, (t_1, token), 'END')\n",
    "                #palabras con una sola palabra previa\n",
    "                if i == 1:\n",
    "                    add_dict(primer_orden, t_1, token)\n",
    "                else:\n",
    "                    t_2 = tokens[i-2]\n",
    "                    add_dict(segundo_orden, (t_2, t_1), token)\n",
    "                "
   ]
  },
  {
   "cell_type": "code",
   "execution_count": 86,
   "id": "8bf9997d-b7e8-48ac-9a5b-ca901a35edd3",
   "metadata": {},
   "outputs": [
    {
     "data": {
      "text/plain": [
       "{'poemas': 3.0, 'mario': 1.0, 'la': 26.0, 'una': 16.0, 'genera': 1.0}"
      ]
     },
     "execution_count": 86,
     "metadata": {},
     "output_type": "execute_result"
    }
   ],
   "source": [
    "dict(itertools.islice(pa_inicial.items(), 5))"
   ]
  },
  {
   "cell_type": "code",
   "execution_count": 85,
   "id": "be07b57f-940b-4b43-9631-1ef6e671fec8",
   "metadata": {},
   "outputs": [
    {
     "data": {
      "text/plain": [
       "{('poemas', 'varios'): ['END'],\n",
       " ('mario', 'benedetti'): ['END'],\n",
       " ('buena', 'tiniebla'): ['END'],\n",
       " ('la', 'buena'): ['tiniebla', 'fe', 'suerte'],\n",
       " ('una', 'mujer'): ['desnuda', 'desnuda', 'desnuda', 'querida', 'dice']}"
      ]
     },
     "execution_count": 85,
     "metadata": {},
     "output_type": "execute_result"
    }
   ],
   "source": [
    "dict(itertools.islice(segundo_orden.items(), 5))"
   ]
  },
  {
   "cell_type": "code",
   "execution_count": 84,
   "id": "c5744d46-8a29-4736-89aa-5a402283510f",
   "metadata": {},
   "outputs": [
    {
     "data": {
      "text/plain": [
       "{'poemas': ['varios', 'a', 'al'],\n",
       " 'mario': ['benedetti'],\n",
       " 'la': ['buena',\n",
       "  'madriguera',\n",
       "  'lluvia',\n",
       "  'vida',\n",
       "  'patria',\n",
       "  'política',\n",
       "  'claridad',\n",
       "  'primavera',\n",
       "  'misma',\n",
       "  'luz',\n",
       "  'válida',\n",
       "  'madre',\n",
       "  'incógnita',\n",
       "  'pareja',\n",
       "  'pareja',\n",
       "  'despareja',\n",
       "  'gente',\n",
       "  'cosa',\n",
       "  'querida',\n",
       "  'culpa',\n",
       "  'culpa',\n",
       "  'ebriedad',\n",
       "  'política',\n",
       "  'muerte',\n",
       "  'generosidad',\n",
       "  'soledad']}"
      ]
     },
     "execution_count": 84,
     "metadata": {},
     "output_type": "execute_result"
    }
   ],
   "source": [
    "dict(itertools.islice(primer_orden.items(), 3))"
   ]
  },
  {
   "cell_type": "markdown",
   "id": "3900f552-d77f-4b66-84a1-327f1405ac39",
   "metadata": {},
   "source": [
    "### Explicación\n",
    "\n",
    "Analicemos los resultados de los cinco primeros elementos de cada uno de los diccionarios creados a partir del texto.\n",
    "\n",
    "1. pa_inicial:\n",
    " \n",
    "     <p>\n",
    "        <span style=\"color: black\">{</span>\n",
    "        <span style=\"color: purple\">'poemas'</span>: <span style=\"color: green\">3.0</span>,\n",
    "        <span style=\"color: purple\">'mario'</span>: <span style=\"color: green\">1.0</span>,\n",
    "        <span style=\"color: purple\">'la'</span>: <span style=\"color: green\">26.0</span>,\n",
    "        <span style=\"color: purple\">'una'</span>: <span style=\"color: green\">16.0</span>,\n",
    "        <span style=\"color: purple\">'genera'</span>: <span style=\"color: green\">1.0</span>\n",
    "        <span style=\"color: black\">}</span>\n",
    "    </p>\n",
    "\n",
    "   Indica, por ejemplo que, la palabra <b style=\"color: purple\">la</b> aparece como palabra inicial <b style=\"color: green\">16.0</b>.\n",
    "\n",
    "2. primer_orden:\n",
    "\n",
    "   <pre>\n",
    "        <span style=\"color: black\">{</span>\n",
    "        <span style=\"color: purple\">'poemas'</span>: <span style=\"color: black\">[</span>\n",
    "            <span style=\"color: green\">'varios'</span>, \n",
    "            <span style=\"color: green\">'a'</span>, \n",
    "            <span style=\"color: green\">'al'</span>\n",
    "        <span style=\"color: black\">]</span>,\n",
    "        <span style=\"color: purple\">'mario'</span>: <span style=\"color: black\">[</span>\n",
    "            <span style=\"color: green\">'benedetti'</span>\n",
    "        <span style=\"color: black\">]</span>,\n",
    "        <span style=\"color: purple\">'la'</span>: <span style=\"color: black\">[</span>\n",
    "            <span style=\"color: green\">'buena'</span>,\n",
    "            <span style=\"color: green\">'madriguera'</span>,\n",
    "            <span style=\"color: green\">'lluvia'</span>,\n",
    "            <span style=\"color: green\">'vida'</span>,\n",
    "            .\n",
    "            .\n",
    "            .\n",
    "            <span style=\"color: green\">'política'</span>,\n",
    "            <span style=\"color: green\">'muerte'</span>,\n",
    "            <span style=\"color: green\">'generosidad'</span>,\n",
    "            <span style=\"color: green\">'soledad'</span>\n",
    "        <span style=\"color: black\">]</span>\n",
    "        <span style=\"color: black\">}</span>\n",
    "    </pre>\n",
    "\n",
    "   Indica, por ejemplo que, después de la palabra <span style=\"color: purple\">'la'</span> aparecen las siguientes palabras: <span style=\"color: green\">'buena', 'madriguera', 'lluvia', etc.</span>.\n",
    "\n",
    "3. segundo_orden:\n",
    "\n",
    "   <pre>\n",
    "        <span style=\"color: black\">{</span>\n",
    "        <span style=\"color: fuchsia\">(</span><span style=\"color: purple\">'poemas'</span>, <span style=\"color: purple\">'varios'</span><span style=\"color: fuchsia\">)</span>: <span style=\"color: black\">[</span><span style=\"color: green\">'END'</span><span style=\"color: black\">]</span>,\n",
    "        <span style=\"color: fuchsia\">(</span><span style=\"color: purple\">'mario'</span>, <span style=\"color: purple\">'benedetti'</span><span style=\"color: fuchsia\">)</span>: <span style=\"color: black\">[</span><span style=\"color: green\">'END'</span><span style=\"color: black\">]</span>,\n",
    "        <span style=\"color: fuchsia\">(</span><span style=\"color: purple\">'buena'</span>, <span style=\"color: purple\">'tiniebla'</span><span style=\"color: fuchsia\">)</span>: <span style=\"color: black\">[</span><span style=\"color: green\">'END'</span><span style=\"color: black\">]</span>,\n",
    "        <span style=\"color: fuchsia\">(</span><span style=\"color: purple\">'la'</span>, <span style=\"color: purple\">'buena'</span><span style=\"color: fuchsia\">)</span>: <span style=\"color: black\">[</span>\n",
    "            <span style=\"color: green\">'tiniebla'</span>, \n",
    "            <span style=\"color: green\">'fe'</span>, \n",
    "            <span style=\"color: green\">'suerte'</span>\n",
    "        <span style=\"color: black\">]</span>,\n",
    "        <span style=\"color: fuchsia\">(</span><span style=\"color: purple\">'una'</span>, <span style=\"color: purple\">'mujer'</span><span style=\"color: fuchsia\">)</span>: <span style=\"color: black\">[</span>\n",
    "            <span style=\"color: green\">'desnuda'</span>, \n",
    "            <span style=\"color: green\">'desnuda'</span>, \n",
    "            <span style=\"color: green\">'desnuda'</span>, \n",
    "            <span style=\"color: green\">'querida'</span>, \n",
    "            <span style=\"color: green\">'dice'</span>\n",
    "        <span style=\"color: black\">]</span>\n",
    "        <span style=\"color: black\">}</span>\n",
    "    </pre>\n",
    "\n",
    "   Indica, por ejemplo que, después de las palabras <span style=\"color: fuchsia\">(</span><span style=\"color: purple\">'la', 'buena'</span><span style=\"color: fuchsia\">)</span> aparecen las siguientes palabras: <span style=\"color: green\">'tiniebla', 'fe' y 'suerte'</span>."
   ]
  },
  {
   "cell_type": "markdown",
   "id": "24dc3384-071b-420e-a79b-8cf9b2102c07",
   "metadata": {},
   "source": [
    "## Probabilidades"
   ]
  },
  {
   "cell_type": "markdown",
   "id": "c9146084-7895-4cde-a036-b6f5a3551d59",
   "metadata": {},
   "source": [
    "### Normalización"
   ]
  },
  {
   "cell_type": "markdown",
   "id": "a364b187-c853-4ced-83e6-3bbb9eb8e509",
   "metadata": {},
   "source": [
    "#### Palabras iniciales"
   ]
  },
  {
   "cell_type": "code",
   "execution_count": 88,
   "id": "7ffcedb0-56a3-4809-b9d1-c891aaf331fc",
   "metadata": {},
   "outputs": [
    {
     "data": {
      "text/plain": [
       "1474.0"
      ]
     },
     "execution_count": 88,
     "metadata": {},
     "output_type": "execute_result"
    }
   ],
   "source": [
    "# Calculamos el total de apariciones de todas las palabras iniciales\n",
    "inicial_total = sum(pa_inicial.values())\n",
    "inicial_total"
   ]
  },
  {
   "cell_type": "code",
   "execution_count": 75,
   "id": "85f06da7-646a-47e8-88f5-8ca667655f24",
   "metadata": {},
   "outputs": [],
   "source": [
    "# Creamos el diccionario inicial de probabilidad\n",
    "pa_inicial_prob = pa_inicial.copy()\n",
    "for key, value in pa_inicial.items():\n",
    "    pa_inicial_prob[key] = value / inicial_total"
   ]
  },
  {
   "cell_type": "code",
   "execution_count": 83,
   "id": "e0c76249-a062-4784-b924-e5dd553577ea",
   "metadata": {
    "scrolled": true
   },
   "outputs": [
    {
     "data": {
      "text/plain": [
       "{'poemas': 0.0020352781546811396,\n",
       " 'mario': 0.0006784260515603799,\n",
       " 'la': 0.017639077340569877}"
      ]
     },
     "execution_count": 83,
     "metadata": {},
     "output_type": "execute_result"
    }
   ],
   "source": [
    "dict(itertools.islice(pa_inicial_prob.items(), 3))"
   ]
  },
  {
   "cell_type": "markdown",
   "id": "9c2f22d2-b444-4ae8-aff7-d70e29d5c234",
   "metadata": {},
   "source": [
    "#### Función de conversión a probabilidad"
   ]
  },
  {
   "cell_type": "code",
   "execution_count": 77,
   "id": "75ad9e1d-1d58-47b6-b4d4-d65f624023b8",
   "metadata": {},
   "outputs": [],
   "source": [
    "# Función para convertir las listas de primer orden en diccionarios\n",
    "# 'poemas': ['varios', a', 'al'],\n",
    "def list_to_pdicc(listas):\n",
    "    # Creamos un diccionario vacío\n",
    "    d = {}\n",
    "    # Obtenemos la longitud de la lista de elementos\n",
    "    n = len(listas)\n",
    "\n",
    "    #Ciclo para contar la ocurrencia de cada elemento en la lista\n",
    "    for lista in listas:\n",
    "        d[lista] = d.get(lista, 0.) + 1\n",
    "\n",
    "    # Ciclo para cnvertir los conteos en probabilidades relativas\n",
    "    for key, value in d.items():\n",
    "        d[key] = value / n\n",
    "\n",
    "    # Retornamos el diccionario de probabilidades\n",
    "    return d"
   ]
  },
  {
   "cell_type": "markdown",
   "id": "5a2c363b-0b18-40c5-9328-ec413db1b6ca",
   "metadata": {},
   "source": [
    "#### Primer Orden"
   ]
  },
  {
   "cell_type": "code",
   "execution_count": 79,
   "id": "76abe882-e4cc-4e0a-8296-10d7cd513424",
   "metadata": {},
   "outputs": [],
   "source": [
    "# Llamamos la función de probabilidad de primer orden\n",
    "primer_orden_prob = primer_orden.copy()\n",
    "for t_1, t in primer_orden.items():\n",
    "    primer_orden_prob[t_1] = list_to_pdicc(t)"
   ]
  },
  {
   "cell_type": "code",
   "execution_count": 87,
   "id": "4a85e782-3b19-4137-9992-39d0d402892f",
   "metadata": {},
   "outputs": [
    {
     "data": {
      "text/plain": [
       "{'poemas': {'varios': 0.3333333333333333,\n",
       "  'a': 0.3333333333333333,\n",
       "  'al': 0.3333333333333333},\n",
       " 'mario': {'benedetti': 1.0}}"
      ]
     },
     "execution_count": 87,
     "metadata": {},
     "output_type": "execute_result"
    }
   ],
   "source": [
    "dict(itertools.islice(primer_orden_prob.items(), 2))"
   ]
  },
  {
   "cell_type": "markdown",
   "id": "5cd0f904-c23b-4f2f-b0bf-3d89e771a3ab",
   "metadata": {},
   "source": [
    "#### Segundo Orden"
   ]
  },
  {
   "cell_type": "code",
   "execution_count": 89,
   "id": "7980fc6a-b47b-499a-8508-4190a6744235",
   "metadata": {},
   "outputs": [],
   "source": [
    "# Llamamos la función de probabilidad de segundo orden\n",
    "segundo_orden_prob = segundo_orden.copy()\n",
    "for s, t in segundo_orden.items():\n",
    "    segundo_orden_prob[s] = list_to_pdicc(t)    "
   ]
  },
  {
   "cell_type": "code",
   "execution_count": 92,
   "id": "08becea2-dddd-4628-9568-42435dd2a386",
   "metadata": {},
   "outputs": [
    {
     "data": {
      "text/plain": [
       "{('poemas', 'varios'): {'END': 1.0},\n",
       " ('mario', 'benedetti'): {'END': 1.0},\n",
       " ('buena', 'tiniebla'): {'END': 1.0},\n",
       " ('la', 'buena'): {'tiniebla': 0.3333333333333333,\n",
       "  'fe': 0.3333333333333333,\n",
       "  'suerte': 0.3333333333333333},\n",
       " ('una', 'mujer'): {'desnuda': 0.6, 'querida': 0.2, 'dice': 0.2}}"
      ]
     },
     "execution_count": 92,
     "metadata": {},
     "output_type": "execute_result"
    }
   ],
   "source": [
    "dict(itertools.islice(segundo_orden_prob.items(), 5))"
   ]
  },
  {
   "cell_type": "markdown",
   "id": "83cd0454-fd9a-449a-ad2a-375d1383e081",
   "metadata": {},
   "source": [
    "### Función de prueba"
   ]
  },
  {
   "cell_type": "markdown",
   "id": "46cf9e49-2ea4-433a-b74c-e925710151e0",
   "metadata": {},
   "source": [
    "Con esta función, realizaremos las pruebas necesarias para evaluar el comportamiento de las probabilidades de aparición de una palabra. \n",
    "\n",
    "La función recibe dos parámetros, <b style='color:red;'>diccionario</b> e <b style='color:blue;'>imprimir</b>; el primer parámetro recibe el diccionario de trabajo a evaluar, y el segundo recibe un booleano, para saber si mostramos o no los pasos de la ejecución."
   ]
  },
  {
   "cell_type": "code",
   "execution_count": 173,
   "id": "f4d115de-c279-4dea-b8a3-e0c16986ac81",
   "metadata": {},
   "outputs": [],
   "source": [
    "def palabra_ejemplo(d, imp):\n",
    "    # Generamos un número aleatorio en el rango [0, 1]\n",
    "    p0 = np.random.random()\n",
    "    if imp:\n",
    "        print(f\"p0:\\t\\t{p0}\")\n",
    "\n",
    "    # Inicializamos una variable para realizar la suma acumulativa de probabilidades\n",
    "    cumulative = 0\n",
    "    if imp:\n",
    "        print(f\"prob. acum.:\\t{cumulative}\")\n",
    "\n",
    "    # Ciclo que recorre cada clave (k) y su probabilidad (p) en el diccionario (d)\n",
    "    for k, p in d.items():\n",
    "        cumulative += p\n",
    "        if imp:\n",
    "            print(f\"Prob:\\t\\t{p}\\titem:\\t'{k}'\")\n",
    "            print(f\"prob. acum.:\\t{cumulative}\")\n",
    "\n",
    "        # Comprobamos si el número aleatorio es menor que la acumulación de probabilidades\n",
    "        if p0 < cumulative:\n",
    "            # Si la condición se cumple, devuelve la clave (k) seleccionada\n",
    "            respuesta = f\"La palabra siguiente debería ser '{k}'\"\n",
    "            return respuesta if imp else k"
   ]
  },
  {
   "cell_type": "code",
   "execution_count": 99,
   "id": "b294e9d6-881f-4b00-95e3-90a510d6d6d8",
   "metadata": {},
   "outputs": [
    {
     "name": "stdout",
     "output_type": "stream",
     "text": [
      "{'varios': 0.3333333333333333, 'a': 0.3333333333333333, 'al': 0.3333333333333333}\n"
     ]
    }
   ],
   "source": [
    "# Verificamos que nos traería una palabra en particular\n",
    "print(primer_orden_prob['poemas'])"
   ]
  },
  {
   "cell_type": "code",
   "execution_count": 174,
   "id": "8f66e3b6-8646-4a4e-b5b9-9137753e1ad5",
   "metadata": {},
   "outputs": [
    {
     "name": "stdout",
     "output_type": "stream",
     "text": [
      "p0:\t\t0.36180865610514357\n",
      "prob. acum.:\t0\n",
      "Prob:\t\t0.3333333333333333\titem:\t'varios'\n",
      "prob. acum.:\t0.3333333333333333\n",
      "Prob:\t\t0.3333333333333333\titem:\t'a'\n",
      "prob. acum.:\t0.6666666666666666\n"
     ]
    },
    {
     "data": {
      "text/plain": [
       "\"La palabra siguiente debería ser 'a'\""
      ]
     },
     "execution_count": 174,
     "metadata": {},
     "output_type": "execute_result"
    }
   ],
   "source": [
    "# Llamamos la función\n",
    "palabra_ejemplo(primer_orden_prob['poemas'], True)"
   ]
  },
  {
   "cell_type": "markdown",
   "id": "6637054c-b1e3-485b-90de-9a113d2b2eb0",
   "metadata": {},
   "source": [
    "## Generador"
   ]
  },
  {
   "cell_type": "markdown",
   "id": "86d1058a-43d1-4268-9f30-33cb74a72d58",
   "metadata": {},
   "source": [
    "### Función del generador de texto"
   ]
  },
  {
   "cell_type": "code",
   "execution_count": 175,
   "id": "9b2b3490-222b-4792-8ceb-ed94b4623dde",
   "metadata": {},
   "outputs": [],
   "source": [
    "def generador(tamaño):\n",
    "    for i in range(tamaño):\n",
    "        oracion = []\n",
    "        #Palabra inicial\n",
    "        pal_0 = palabra_ejemplo(pa_inicial_prob, False)\n",
    "        oracion.append(pal_0)\n",
    "        #segunda palabra\n",
    "        pal_1 = palabra_ejemplo(primer_orden_prob[pal_0], False)\n",
    "        oracion.append(pal_1)\n",
    "\n",
    "        # Segundo orden hasta el final\n",
    "        while True:\n",
    "            pal_2 = palabra_ejemplo(segundo_orden_prob[(pal_0, pal_1)], False)\n",
    "            if pal_2 == 'END':\n",
    "                break\n",
    "            oracion.append(pal_2)\n",
    "            pal_0 = pal_1\n",
    "            pal_1 = pal_2\n",
    "        texto = ' '.join(oracion)\n",
    "        print(texto)"
   ]
  },
  {
   "cell_type": "markdown",
   "id": "024572e6-c9d0-4c1b-8930-d503c9128bf7",
   "metadata": {},
   "source": [
    "### Explicación\n",
    "<ul>\n",
    "<li>Esta función recibe un parámetro tamaño, que representa la cantidad de oraciones que se generarán:\n",
    "    <div style=\"display: flex; justify-content: center; align-items: center; font-family: Arial, sans-serif; margin-top: 20px; margin-left: 350px\">\n",
    "        <div style=\"padding: 10px; border: 2px solid #f1c40f; background: #fef9e7; border-radius: 5px; text-align: center;\">\n",
    "            <span style='color:green;'>def</span>\n",
    "            <span style='color:blue;'>generador</span>\n",
    "            (tamaño):\n",
    "        </div>\n",
    "    </div>\n",
    "</li>\n",
    "<hr>\n",
    "<li>Se inicia un bucle que se ejecutará <b>tamaño</b> veces, es decir, generará <b>tamaño</b> oraciones.\n",
    "    <div style=\"display: flex; justify-content: center; align-items: center; font-family: Arial, sans-serif; margin-top: 20px; margin-left: 350px\">\n",
    "        <div style=\"padding: 10px; border: 2px solid #f1c40f; background: #fef9e7; border-radius: 5px; text-align: center;\">\n",
    "            <span style='color:green;'>for</span>\n",
    "            i\n",
    "            <span style='color:green;'>in range</span>\n",
    "            (tamaño):\n",
    "        </div>\n",
    "    </div>\n",
    "</li>\n",
    "<hr>\n",
    "<li>Se crea una lista vacía llamada oracion, donde se almacenarán las palabras generadas.\n",
    "    <div style=\"display: flex; justify-content: center; align-items: center; font-family: Arial, sans-serif; margin-top: 20px; margin-left: 400px\">\n",
    "        <div style=\"padding: 10px; border: 2px solid #f1c40f; background: #fef9e7; border-radius: 5px; text-align: center;\">\n",
    "            oracion\n",
    "            <span style='color:fuchsia;'>=</span>            \n",
    "            <span style='color:brown;'>[]</span>\n",
    "        </div>\n",
    "    </div>\n",
    "</li>\n",
    "<hr>\n",
    "<li>Se elige la primera palabra de la oración con la función <b>palabra_ejemplo(pa_inicial_prob, False)</b>. <b>pa_inicial_prob</b> es un diccionario que contiene probabilidades de palabras las iniciales. La palabra seleccionada se agrega a <b></b>oracion</b>.\n",
    "    <div style=\"display: flex; justify-content: center; align-items: center; font-family: Arial, sans-serif; margin-top: 20px; margin-left: 230px\">\n",
    "        <div style=\"padding: 10px; border: 2px solid #f1c40f; background: #fef9e7; border-radius: 5px; text-align: left;\">\n",
    "            pal_0\n",
    "            <span style='color:fuchsia;'>=</span> \n",
    "            palabra_ejemplo(pa_inicial_prob,\n",
    "            <span style='color:green;'>False</span>\n",
    "            )\n",
    "            <br>\n",
    "            oracion.\n",
    "            <span style='color:blue;'>append</span>\n",
    "            (pal_0)\n",
    "        </div>\n",
    "    </div>   \n",
    "</li>\n",
    "<hr>\n",
    "<li>Se elige la segunda palabra, dependiendo de la primera <b>(pal_0)</b>. <b>primer_orden_prob</b> es el diccionario que mapea palabras iniciales a posibles segundas palabras con sus probabilidades. <b>palabra_ejemplo(primer_orden_prob[pal_0], False)</b> selecciona la segunda palabra basada en <b>pal_0</b>. Se agrega <b>pal_1</b> a <b>oracion</b>.\n",
    "    <div style=\"display: flex; justify-content: center; align-items: center; font-family: Arial, sans-serif; margin-top: 20px; margin-left: 180px\">\n",
    "        <div style=\"padding: 10px; border: 2px solid #f1c40f; background: #fef9e7; border-radius: 5px; text-align: left;\">\n",
    "            pal_1\n",
    "            <span style='color:fuchsia;'>=</span> \n",
    "            palabra_ejemplo(primer_orden_prob\n",
    "            <span style='color:brown;'>[</span>\n",
    "            pal_0\n",
    "            <span style='color:brown;'>]</span>,\n",
    "            <span style='color:green;'>False</span>\n",
    "            )\n",
    "            <br>\n",
    "            oracion.\n",
    "            <span style='color:blue;'>append</span>\n",
    "            (pal_1)\n",
    "        </div>\n",
    "    </div> \n",
    "</li>\n",
    "<hr>\n",
    "<li>Se entra en un bucle while True para generar palabras de manera recurrente. <b>segundo_orden_prob</b> es un diccionario que usa tuplas <b>(pal_0, pal_1)</b> como clave y devuelve las probabilidades de la siguiente palabra. Se selecciona la siguiente palabra <b>(pal_2)</b> en función de las dos palabras anteriores.\n",
    "    <div style=\"display: flex; justify-content: center; align-items: center; font-family: Arial, sans-serif; margin-top: 20px; margin-left: 110px\">\n",
    "        <div style=\"padding: 10px; border: 2px solid #f1c40f; background: #fef9e7; border-radius: 5px; text-align: left;\">\n",
    "            <span style='color:blue;'>while True</span>:<br>\n",
    "            <span style='color:black; margin-left:20px;'>pal_2</span> \n",
    "            <span style='color:fuchsia;'>=</span> \n",
    "            palabra_ejemplo(segundo_orden_prob\n",
    "            <span style='color:brown;'>[</span>\n",
    "            (pal_0, pal_1)\n",
    "            <span style='color:brown;'>]</span>,\n",
    "            <span style='color:green;'>False</span>\n",
    "            )\n",
    "        </div>\n",
    "    </div>    \n",
    "</li>\n",
    "<hr>\n",
    "<li>Si <b>pal_2</b> es <b>'END'</b>, se termina la generación de palabras y se sale del bucle.\n",
    "    <div style=\"display: flex; justify-content: center; align-items: center; font-family: Arial, sans-serif; margin-top: 20px; margin-left: 350px\">\n",
    "        <div style=\"padding: 10px; border: 2px solid #f1c40f; background: #fef9e7; border-radius: 5px; text-align: center;\">\n",
    "            <span style='color:green;'>if</span>\n",
    "            pal_2\n",
    "            <span style='color:fuchsia;'> == </span> \n",
    "            <span style='color:red;'>'END'</span>:<br>\n",
    "            <span style='color:green; margin-left:20px;'>break</span>            \n",
    "        </div>\n",
    "    </div> \n",
    "</li>\n",
    "<hr>\n",
    "<li>Si pal_2 no es <b>'END'</b>, se agrega a la lista oracion. Luego, se actualizan las variables: <b>pal_0 toma el valor de pal_1</b> y <b>pal_1 toma el valor de pal_2</b>. Esto asegura que en la siguiente iteración se utilicen las dos palabras más recientes para predecir la siguiente.\n",
    "    <div style=\"display: flex; justify-content: center; align-items: center; font-family: Arial, sans-serif; margin-top: 20px; margin-left: 320px\">\n",
    "        <div style=\"padding: 10px; border: 2px solid #f1c40f; background: #fef9e7; border-radius: 5px; text-align: left;\">            \n",
    "            oracion.\n",
    "            <span style='color:blue;'>append</span>\n",
    "            <span style='color:black;'>(pal_2)</span><br>\n",
    "            <span style='color:black;'>pal_0</span>\n",
    "            <span style='color:fuchsia;'>=</span>\n",
    "            <span style='color:black;'>pal_1</span><br>\n",
    "            <span style='color:black;'>pal_1</span>\n",
    "            <span style='color:fuchsia;'>=</span>\n",
    "            <span style='color:black;'>pal_2</span>\n",
    "        </div>\n",
    "    </div>\n",
    "</li>\n",
    "<hr>\n",
    "<li>La lista oracion se convierte en una cadena de texto separada por espacios con <b>'&nbsp;&nbsp;'.join(oracion)</b>. Se imprime la oración generada.\n",
    "    <div style=\"display: flex; justify-content: center; align-items: center; font-family: Arial, sans-serif; margin-top: 20px; margin-left: 320px\">\n",
    "        <div style=\"padding: 10px; border: 2px solid #f1c40f; background: #fef9e7; border-radius: 5px; text-align: left;\">            \n",
    "            texto\n",
    "            <span style='color:fuchsia;'>=</span>\n",
    "            <span style='color:red;'>'&nbsp;&nbsp;'</span>.\n",
    "            <span style='color:blue;'>join</span>\n",
    "            <span style='color:black;'>(oracion)</span><br>\n",
    "            <span style='color:green; margin-left:20px;'>print</span>\n",
    "            <span style='color:black;'>(texto)</span><br>            \n",
    "        </div>\n",
    "    </div>\n",
    "</li>\n",
    "<hr>\n",
    "</ul>"
   ]
  },
  {
   "cell_type": "code",
   "execution_count": 180,
   "id": "b8ff015c-0290-481f-8a44-8fde0f524e3a",
   "metadata": {},
   "outputs": [
    {
     "name": "stdout",
     "output_type": "stream",
     "text": [
      "mi nombre con su hermano el insociable\n",
      "en esas noches en que fui un viejo cargado de recelos\n",
      "mientras los g randes temas\n",
      "la muerte\n",
      "pero no viceversa por algo en el aire que absorbieron noche a noche\n"
     ]
    }
   ],
   "source": [
    "# Probamos la creación de un poema, de acuerdo con la manera de escritura de Mario Benedetti\n",
    "generador(5)"
   ]
  },
  {
   "cell_type": "markdown",
   "id": "6b927a0e-1686-458e-a966-663fd0854956",
   "metadata": {},
   "source": [
    "## Conclusiones"
   ]
  },
  {
   "cell_type": "markdown",
   "id": "68446cb1-7478-4c00-901f-15b30924b5be",
   "metadata": {},
   "source": [
    "<div style=\"text-align: center;\">\n",
    "    <p>Aquí construimos un generador de texto basado en modelos de Markov de segundo orden. usando probabilidades de aparición de palabras para construir oraciones de manera secuencial hasta encontrar una palabra de terminación ('END').</p>\n",
    "    <hr/>\n",
    "    <p style=\"text-align: right;\">Mg. Luis Felipe Bustamante Narváez</p>\n",
    "</div>"
   ]
  }
 ],
 "metadata": {
  "kernelspec": {
   "display_name": "Python 3 (ipykernel)",
   "language": "python",
   "name": "python3"
  },
  "language_info": {
   "codemirror_mode": {
    "name": "ipython",
    "version": 3
   },
   "file_extension": ".py",
   "mimetype": "text/x-python",
   "name": "python",
   "nbconvert_exporter": "python",
   "pygments_lexer": "ipython3",
   "version": "3.12.9"
  }
 },
 "nbformat": 4,
 "nbformat_minor": 5
}
