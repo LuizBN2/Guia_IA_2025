{
 "cells": [
  {
   "cell_type": "markdown",
   "id": "d87edabd-9013-488c-ac7d-c2ae94ec9b58",
   "metadata": {},
   "source": [
    "<div style=\"text-align: center;\">\n",
    "    <h1 style=\"color: blue;\">Anexo 9</h1>\n",
    "    <h3>Proyecto 9: Generador de texto</h3>\n",
    "    <hr/>\n",
    "    <p style=\"text-align: right;\">Mg. Luis Felipe Bustamante Narváez</p>\n",
    "</div>"
   ]
  },
  {
   "cell_type": "markdown",
   "id": "ec142f33-73be-40ea-81f4-e54add705b5d",
   "metadata": {},
   "source": [
    "En este ejercicio realizaremos un generador de texto, basado en el archivo pdf trabajado en el clasificador <span style='color:red;'>mario-benedetti.pdf</span>. Este archivo, nos permitirá entrenar un modelo de <b style='color:red;'>Markov</b> de <b style='color:red;'>Segundo Orden</b>.\n",
    "\n",
    "Tengamos en cuenta los siguientes detalles de la manera de escribir del autor:\n",
    "\n",
    "<div align=\"center\">\n",
    "    <table>\n",
    "        <tr>\n",
    "            <td align=\"center\">\n",
    "                <img src=\"imagenes/mario-benedetti.jpg\" alt=\"Mario Benedetti\" width=\"211\"><br>\n",
    "                <strong>Mario Benedetti</strong>\n",
    "            </td>            \n",
    "        </tr>\n",
    "        <tr>\n",
    "        <td style='color:gray; text-align:center;'>\n",
    "            Mario Benedetti (1920-2009), fue un escritor, poeta y periodista uruguayo, \n",
    "            considerado una de las figuras más importantes de la literatura latinoamericana.\n",
    "            Nació el 14 de septiembre de 1920 en Paso de los Toros, Uruguay. Su obra abarcó\n",
    "            poesía, narrativa, ensayo y teatro, con un estilo sencillo y cercano que\n",
    "            exploraba el amor, la memoria, el exilio y la lucha social.\n",
    "            Durante la dictadura en Uruguay (1973-1985), se exilió en varios países como\n",
    "            Argentina, Cuba y España, lo que marcó profundamente su escritura. Entre sus\n",
    "            libros más conocidos se encuentran La tregua (1960), Gracias por el fuego (1965)\n",
    "            y El amor, las mujeres y la vida (1995).\n",
    "            Benedetti falleció el 17 de mayo de 2009 en Montevideo, dejando un legado\n",
    "            literario que sigue conmoviendo a lectores de todas las generaciones.\n",
    "        </td>            \n",
    "        </tr>\n",
    "    </table>\n",
    "</div>\n",
    "\n",
    "**📖 1. Temas y Filosofía**<br><br>\n",
    "Escribe de manera directa y accesible. Sus temas son el amor, la vida cotidiana, la lucha social, el exilio y la esperanza. Su tono es cálido, humano y cercano al lector.\n",
    "\n",
    "**🖋 2. Lenguaje y Estilo**<br><br>\n",
    "Usa un lenguaje sencillo, directo y coloquial. Sus poemas parecen conversaciones o pensamientos escritos sin mucha ornamentación.\n",
    "\n",
    "**🔄 3. Estructura y Ritmo**<br><br>\n",
    "Prefiere el verso libre y la naturalidad del habla cotidiana, sin preocuparse demasiado por la métrica.\n",
    "\n"
   ]
  },
  {
   "cell_type": "markdown",
   "id": "e029bec1-d5fc-4212-ac8f-568470ab0d78",
   "metadata": {},
   "source": [
    "## Librerías"
   ]
  },
  {
   "cell_type": "code",
   "execution_count": 1,
   "id": "d9e54d66-ac9d-4591-be98-ac23dfa9dfb6",
   "metadata": {},
   "outputs": [],
   "source": [
    "import numpy as np\n",
    "import string"
   ]
  },
  {
   "cell_type": "code",
   "execution_count": null,
   "id": "cc5f2481-6187-4fc4-a5a7-5027af323c99",
   "metadata": {},
   "outputs": [],
   "source": []
  },
  {
   "cell_type": "code",
   "execution_count": null,
   "id": "250bf871-9f1e-4d1c-af80-df598c5e0dcb",
   "metadata": {},
   "outputs": [],
   "source": []
  },
  {
   "cell_type": "code",
   "execution_count": null,
   "id": "ce13cdb9-d4f3-4865-a3de-7848d35ce016",
   "metadata": {},
   "outputs": [],
   "source": []
  },
  {
   "cell_type": "code",
   "execution_count": null,
   "id": "0ff0bff8-214d-49bb-b2af-58a107b1650a",
   "metadata": {},
   "outputs": [],
   "source": []
  },
  {
   "cell_type": "code",
   "execution_count": null,
   "id": "caa4a34b-a80e-4318-b920-6b3488c29a80",
   "metadata": {},
   "outputs": [],
   "source": []
  },
  {
   "cell_type": "code",
   "execution_count": null,
   "id": "122bd040-8e88-4840-822a-570087addcc3",
   "metadata": {},
   "outputs": [],
   "source": []
  },
  {
   "cell_type": "markdown",
   "id": "6b927a0e-1686-458e-a966-663fd0854956",
   "metadata": {},
   "source": [
    "## Conclusiones"
   ]
  },
  {
   "cell_type": "markdown",
   "id": "68446cb1-7478-4c00-901f-15b30924b5be",
   "metadata": {},
   "source": [
    "<div style=\"text-align: center;\">\n",
    "    <p>...</p>\n",
    "    <hr/>\n",
    "    <p style=\"text-align: right;\">Mg. Luis Felipe Bustamante Narváez</p>\n",
    "</div>"
   ]
  }
 ],
 "metadata": {
  "kernelspec": {
   "display_name": "Python 3 (ipykernel)",
   "language": "python",
   "name": "python3"
  },
  "language_info": {
   "codemirror_mode": {
    "name": "ipython",
    "version": 3
   },
   "file_extension": ".py",
   "mimetype": "text/x-python",
   "name": "python",
   "nbconvert_exporter": "python",
   "pygments_lexer": "ipython3",
   "version": "3.12.9"
  }
 },
 "nbformat": 4,
 "nbformat_minor": 5
}
