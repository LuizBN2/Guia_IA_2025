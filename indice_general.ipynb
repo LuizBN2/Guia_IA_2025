{
 "cells": [
  {
   "cell_type": "markdown",
   "id": "fceb14db-84ac-4dec-ac3b-d5fde018411a",
   "metadata": {},
   "source": [
    "<div style=\"text-align: center;\">\n",
    "    <h1 style=\"color: orange;\">Índice</h1>\n",
    "    <h3>Ineligencia Artificial 1</h3>\n",
    "    <hr/>\n",
    "    <p style=\"text-align: right;\">Mg. Luis Felipe Bustamante Narváez</p>\n",
    "</div>"
   ]
  },
  {
   "cell_type": "markdown",
   "id": "d9c7b9f8-8f75-42be-bc38-c42a8b96c03d",
   "metadata": {},
   "source": [
    "# <span style=\"color: red;\">Módulo 1</span>\n",
    "\n",
    "> "
   ]
  },
  {
   "cell_type": "markdown",
   "id": "819edb94-9364-4c09-81f3-c6b3e19e70ec",
   "metadata": {},
   "source": [
    "<pre>\n",
    "Introducción.......................  1\n",
    "Capítulo 1: Fundamentos...........  3\n",
    "Capítulo 2: Avanzado..............  7\n",
    "Conclusión........................ 12\n",
    "</pre>"
   ]
  },
  {
   "cell_type": "markdown",
   "id": "36192d96-6b0d-40c7-be9b-5e709d2fe627",
   "metadata": {},
   "source": [
    "<!DOCTYPE html>\n",
    "<html lang=\"es\">\n",
    "<head>\n",
    "    <meta charset=\"UTF-8\">\n",
    "    <meta name=\"viewport\" content=\"width=device-width, initial-scale=1.0\">\n",
    "    <title>Índice de Páginas</title>\n",
    "    <style>\n",
    "        table {\n",
    "            width: 100%;\n",
    "            border-collapse: collapse;\n",
    "        }\n",
    "        th, td {\n",
    "            padding: 8px;\n",
    "            text-align: left;\n",
    "            border: 1px solid #ddd;\n",
    "        }\n",
    "        td {\n",
    "            text-align: right;\n",
    "        }\n",
    "    </style>\n",
    "</head>\n",
    "<body>\n",
    "\n",
    "<h1>Índice de Páginas</h1>\n",
    "\n",
    "<table>\n",
    "    <tr>\n",
    "        <th>Sección</th>\n",
    "        <th>Página</th>\n",
    "    </tr>\n",
    "    <tr>\n",
    "        <td>Introducción</td>\n",
    "        <td>1</td>\n",
    "    </tr>\n",
    "    <tr>\n",
    "        <td>Capítulo 1: Fundamentos</td>\n",
    "        <td>3</td>\n",
    "    </tr>\n",
    "    <tr>\n",
    "        <td>Capítulo 2: Avanzado</td>\n",
    "        <td>7</td>\n",
    "    </tr>\n",
    "    <tr>\n",
    "        <td>Conclusión</td>\n",
    "        <td>12</td>\n",
    "    </tr>\n",
    "</table>\n",
    "\n",
    "</body>\n",
    "</html>\n"
   ]
  },
  {
   "cell_type": "markdown",
   "id": "5409070e-f4dc-4b86-b89d-f3783c15b8d0",
   "metadata": {},
   "source": [
    "<h3 style=\"color: red;\">Anexo 3</h3>Aplicación de Words Embedding"
   ]
  },
  {
   "cell_type": "markdown",
   "id": "533c38da-17f1-4c36-a445-0dcf9cdf379d",
   "metadata": {},
   "source": [
    "<h3 style=\"color: red;\">Anexo 4</h3>Creación de Words Embedding Nivel 1"
   ]
  },
  {
   "cell_type": "markdown",
   "id": "bf9e1c43-2be8-4b82-9c9d-6c0e54dcd568",
   "metadata": {},
   "source": [
    "<h3 style=\"color: red;\">Anexo 5</h3>Creación de Words Embedding Nivel 2"
   ]
  },
  {
   "cell_type": "markdown",
   "id": "89268d3d-c564-4f83-8979-244919fe2890",
   "metadata": {},
   "source": [
    "<h3 style=\"color: red;\">Anexo 6</h3>Conversión masiva de nombres de archivos"
   ]
  },
  {
   "cell_type": "markdown",
   "id": "6370aaae-7cd0-4fcb-af62-d39d7ee390a7",
   "metadata": {},
   "source": [
    "<h3 style=\"color: red;\">Anexo 7</h3>Creación de Words Embedding Nivel 3"
   ]
  },
  {
   "cell_type": "markdown",
   "id": "667fb403-e3db-4af0-969c-a2bfa0584c2d",
   "metadata": {},
   "source": [
    "<h1 style=\"color: blue;\">Módulo 2</h1>\n",
    "\n",
    "- Proyectos del 8 al 10"
   ]
  },
  {
   "cell_type": "markdown",
   "id": "39a40f32-ecf9-4001-821e-9db883de7a86",
   "metadata": {},
   "source": [
    "<h3 style=\"color: blue;\">Anexo 8</h3>Clasificador de texto"
   ]
  },
  {
   "cell_type": "markdown",
   "id": "37c01894-3673-4de2-97f0-b10ce75cb3db",
   "metadata": {},
   "source": [
    "<h3 style=\"color: blue;\">Anexo 9</h3>Generador de texto"
   ]
  },
  {
   "cell_type": "markdown",
   "id": "dee2a582-1456-4695-8bfc-fca838aded46",
   "metadata": {},
   "source": [
    "<h3 style=\"color: blue;\">Anexo 10</h3>Spinning de Texto"
   ]
  },
  {
   "cell_type": "markdown",
   "id": "c58818a6-bb56-42e9-9559-a50a160ab844",
   "metadata": {},
   "source": [
    "<h1 style=\"color: green;\">Módulo 3</h1>\n",
    "\n",
    "- Proyectos del 11 al 16"
   ]
  },
  {
   "cell_type": "markdown",
   "id": "a47933d2-bf39-4012-a265-9fcae2190713",
   "metadata": {},
   "source": [
    "<h3 style=\"color: green;\">Anexo 11</h3>Detector de Spam"
   ]
  },
  {
   "cell_type": "markdown",
   "id": "1967d81d-297d-4762-a9d0-7e62058eb9c5",
   "metadata": {},
   "source": [
    "<h3 style=\"color: green;\">Anexo 12</h3>Analisis de Sentimiento"
   ]
  },
  {
   "cell_type": "markdown",
   "id": "89f492ef-f83c-4c8f-bfb3-d24029f255f0",
   "metadata": {},
   "source": [
    "<h3 style=\"color: green;\">Anexo 13</h3>Analisis de Sentimiento Multiclase"
   ]
  },
  {
   "cell_type": "markdown",
   "id": "3cf54e74-d803-48ee-8f0d-bea1d6d90a22",
   "metadata": {},
   "source": [
    "<h3 style=\"color: green;\">Anexo 14</h3>Resumen de textos con Vectorización"
   ]
  },
  {
   "cell_type": "markdown",
   "id": "c9ac3a62-fcbb-4f73-87c5-ffea8421d314",
   "metadata": {},
   "source": [
    "<h3 style=\"color: green;\">Anexo 15</h3>Resumen de textos con Text Rank"
   ]
  },
  {
   "cell_type": "markdown",
   "id": "a125e76d-deca-4aa4-a3b6-50693621a943",
   "metadata": {},
   "source": [
    "<h3 style=\"color: green;\">Anexo 16</h3>Modelado de Temas con LDA"
   ]
  },
  {
   "cell_type": "markdown",
   "id": "1527cd08-6408-42d8-bd8e-e91c320f4824",
   "metadata": {},
   "source": [
    "<h1 style=\"color: #a64dff;\">Módulo 4</h1>\n",
    "\n",
    "- Proyectos del 17 al 24"
   ]
  },
  {
   "cell_type": "markdown",
   "id": "2298933e-1c26-4cf9-8e93-928cdd0ffb66",
   "metadata": {},
   "source": [
    "<h3 style=\"color: #a64dff;\">Anexo 17</h3>Regresión Lineal con TensorFlow\n"
   ]
  },
  {
   "cell_type": "markdown",
   "id": "0911b171-6ff4-48d9-884c-99f966ca4cd1",
   "metadata": {},
   "source": [
    "<h3 style=\"color: #a64dff;\">Anexo 18</h3>Análisis de Sentimiento con TensorFlow\n"
   ]
  },
  {
   "cell_type": "markdown",
   "id": "347edbae-58ef-44e1-a878-9f86d394a334",
   "metadata": {},
   "source": [
    "<h3 style=\"color: #a64dff;\">Anexo 19</h3>Creación de Red Neuronal"
   ]
  },
  {
   "cell_type": "markdown",
   "id": "946e785d-6b65-45a8-9efd-a8a573ad79ed",
   "metadata": {},
   "source": [
    "<h3 style=\"color: #a64dff;\">Anexo 20</h3>Manejo de TensorFlow para NLP"
   ]
  },
  {
   "cell_type": "markdown",
   "id": "80397cf2-f38e-426b-a32e-28676c68dcb6",
   "metadata": {},
   "source": [
    "<h3 style=\"color: #a64dff;\">Anexo 21</h3>Clasificador de Texto con CNN's para NLP"
   ]
  },
  {
   "cell_type": "markdown",
   "id": "30d5fae9-1886-48ab-b431-56ecd2599bf7",
   "metadata": {},
   "source": [
    "<h3 style=\"color: #a64dff;\">Anexo 22</h3>Clasificador de Texto CNN en Streamlit"
   ]
  },
  {
   "cell_type": "markdown",
   "id": "50255f53-385e-4bee-a64b-5cbe812dbe66",
   "metadata": {},
   "source": [
    "<h3 style=\"color: #a64dff;\">Anexo 23</h3>Clasificador de Texto con RNN's para NLP"
   ]
  },
  {
   "cell_type": "markdown",
   "id": "55d5ed18-d170-4a8a-9d4b-e1d192aa7e9d",
   "metadata": {},
   "source": [
    "<h3 style=\"color: #a64dff;\">Anexo 24</h3>Clasificador de Texto RNN en Streamlit"
   ]
  },
  {
   "cell_type": "markdown",
   "id": "a8e3a577-76f2-49d5-a011-70a16925e2d7",
   "metadata": {},
   "source": [
    "<h1 style=\"color: orange;\">Módulo 5</h1>\n",
    "\n",
    "- Proyecto 25"
   ]
  },
  {
   "cell_type": "markdown",
   "id": "396487c7-1ad3-45b8-bcc8-807edbde8fbd",
   "metadata": {},
   "source": [
    "<h3 style=\"color: orange;\">Anexo 25</h3>Generador de Resumen BiLSTM en Streamlit"
   ]
  }
 ],
 "metadata": {
  "kernelspec": {
   "display_name": "Python 3 (ipykernel)",
   "language": "python",
   "name": "python3"
  },
  "language_info": {
   "codemirror_mode": {
    "name": "ipython",
    "version": 3
   },
   "file_extension": ".py",
   "mimetype": "text/x-python",
   "name": "python",
   "nbconvert_exporter": "python",
   "pygments_lexer": "ipython3",
   "version": "3.12.9"
  }
 },
 "nbformat": 4,
 "nbformat_minor": 5
}
