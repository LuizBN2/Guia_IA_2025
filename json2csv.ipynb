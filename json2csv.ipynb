{
 "cells": [
  {
   "cell_type": "code",
   "execution_count": 2,
   "id": "6b14914a-0bd2-41e5-ae39-65e0d4c48f1f",
   "metadata": {},
   "outputs": [],
   "source": [
    "import pandas as pd"
   ]
  },
  {
   "cell_type": "code",
   "execution_count": 5,
   "id": "91f827a2-870c-4094-9e98-7c8296bfb474",
   "metadata": {},
   "outputs": [],
   "source": [
    "# Cargamos el json\n",
    "#Si está contenido en una lista (Estructurado)\n",
    "try:\n",
    "    df = pd.read_json('News_Category_Dataset_v3.json')\n",
    "except Exception:\n",
    "    df = pd.read_json('News_Category_Dataset_v3.json', lines= True)    "
   ]
  },
  {
   "cell_type": "code",
   "execution_count": 10,
   "id": "02224398-0388-4357-88c4-b15e545f1277",
   "metadata": {},
   "outputs": [
    {
     "data": {
      "text/plain": [
       "'Health experts said it is too early to predict whether demand would match up with the 171 million doses of the new boosters the U.S. ordered for the fall.'"
      ]
     },
     "execution_count": 10,
     "metadata": {},
     "output_type": "execute_result"
    }
   ],
   "source": [
    "df['short_description'][0]"
   ]
  }
 ],
 "metadata": {
  "kernelspec": {
   "display_name": "Python 3 (ipykernel)",
   "language": "python",
   "name": "python3"
  },
  "language_info": {
   "codemirror_mode": {
    "name": "ipython",
    "version": 3
   },
   "file_extension": ".py",
   "mimetype": "text/x-python",
   "name": "python",
   "nbconvert_exporter": "python",
   "pygments_lexer": "ipython3",
   "version": "3.12.9"
  }
 },
 "nbformat": 4,
 "nbformat_minor": 5
}
