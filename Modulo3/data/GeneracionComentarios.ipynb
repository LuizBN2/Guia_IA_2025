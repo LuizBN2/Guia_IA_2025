{
 "cells": [
  {
   "cell_type": "markdown",
   "id": "c29ab3b7-2251-4a0c-9409-43e82dc77940",
   "metadata": {},
   "source": [
    "# Generación de Comentarios para Analisis de Sentimiento"
   ]
  },
  {
   "cell_type": "markdown",
   "id": "1acf66b1-4310-4ba9-a46f-8d3162317acf",
   "metadata": {},
   "source": [
    "## Positivos y negativos"
   ]
  },
  {
   "cell_type": "code",
   "execution_count": 1,
   "id": "e4a4b6c5-990b-47fb-876f-d714904f7014",
   "metadata": {},
   "outputs": [
    {
     "name": "stdout",
     "output_type": "stream",
     "text": [
      "Archivo CSV generado con éxito: comentarios_peliculas.csv\n"
     ]
    }
   ],
   "source": [
    "import pandas as pd\n",
    "import random\n",
    "\n",
    "# Generar comentarios positivos y negativos de películas\n",
    "comentarios_positivos = [\n",
    "    \"Una película increíble, me encantó cada escena.\",\n",
    "    \"La historia es fascinante y los actores hicieron un gran trabajo.\",\n",
    "    \"Una obra maestra, la mejor película que he visto en años.\",\n",
    "    \"Excelente guion y efectos visuales impresionantes.\",\n",
    "    \"La actuación fue magistral, realmente sentí cada emoción.\",\n",
    "    \"El final fue perfecto, no podría haber sido mejor.\",\n",
    "    \"Me hizo reír, llorar y reflexionar, todo en una película.\",\n",
    "    \"Muy entretenida, sin duda la volvería a ver.\",\n",
    "    \"Una película inspiradora con un mensaje profundo.\",\n",
    "    \"Cada escena estaba llena de emoción y significado.\"\n",
    "]\n",
    "\n",
    "comentarios_negativos = [\n",
    "    \"Terrible, no entiendo cómo alguien puede disfrutar esta película.\",\n",
    "    \"El guion es predecible y los actores no transmiten nada.\",\n",
    "    \"Me aburrí desde el primer minuto, no la recomiendo.\",\n",
    "    \"Muy mala, esperaba mucho más y me decepcionó.\",\n",
    "    \"Los efectos especiales eran ridículos y poco creíbles.\",\n",
    "    \"El desarrollo de los personajes es pobre y sin sentido.\",\n",
    "    \"Una pérdida de tiempo total, me arrepiento de verla.\",\n",
    "    \"El final fue absurdo y dejó muchas preguntas sin respuesta.\",\n",
    "    \"No tiene ni pies ni cabeza, simplemente mala.\",\n",
    "    \"Me quedé dormido, así de mala es esta película.\"\n",
    "]\n",
    "\n",
    "# Crear datos sintéticos\n",
    "num_datos = 50000\n",
    "datos = []\n",
    "\n",
    "for _ in range(num_datos):\n",
    "    if random.random() < 0.5:\n",
    "        comentario = random.choice(comentarios_positivos)\n",
    "        etiqueta = \"positivo\"\n",
    "    else:\n",
    "        comentario = random.choice(comentarios_negativos)\n",
    "        etiqueta = \"negativo\"\n",
    "    \n",
    "    datos.append([comentario, etiqueta])\n",
    "\n",
    "# Introducir un 5% de errores\n",
    "num_errores = int(num_datos * 0.05)\n",
    "indices_error = random.sample(range(num_datos), num_errores)\n",
    "\n",
    "for idx in indices_error:\n",
    "    datos[idx][1] = \"positivo\" if datos[idx][1] == \"negativo\" else \"negativo\"\n",
    "\n",
    "# Crear DataFrame y guardar en CSV\n",
    "df = pd.DataFrame(datos, columns=[\"comentario\", \"sentimiento\"])\n",
    "df.to_csv(\"comentarios_peliculas.csv\", index=False, encoding=\"utf-8\")\n",
    "\n",
    "print(\"Archivo CSV generado con éxito: comentarios_peliculas.csv\")\n"
   ]
  },
  {
   "cell_type": "markdown",
   "id": "a2523b7d-d7fe-4806-9c98-401e18a57825",
   "metadata": {},
   "source": [
    "## Multiclase - Neutros"
   ]
  },
  {
   "cell_type": "code",
   "execution_count": 2,
   "id": "894c0664-d2fc-4924-92bd-ac39a8c11f3c",
   "metadata": {},
   "outputs": [
    {
     "name": "stdout",
     "output_type": "stream",
     "text": [
      "Archivo CSV generado con éxito: comentarios_facebook.csv\n"
     ]
    }
   ],
   "source": [
    "import pandas as pd\n",
    "import random\n",
    "\n",
    "# Generar comentarios positivos, negativos y neutros de Facebook\n",
    "comentarios_positivos = [\n",
    "    \"Me encanta esta publicación, muy inspiradora!\",\n",
    "    \"Excelente contenido, gracias por compartir!\",\n",
    "    \"Muy útil la información, me ayudó mucho.\",\n",
    "    \"Gran trabajo, sigue así!\",\n",
    "    \"Uno de los mejores posts que he visto!\",\n",
    "    \"Totalmente de acuerdo, muy buen punto.\",\n",
    "    \"Qué hermosa imagen, me alegra el día!\",\n",
    "    \"Buenísima recomendación, la probaré!\",\n",
    "    \"Siempre publicas cosas interesantes!\",\n",
    "    \"Me hiciste reír, gracias por compartir!\"\n",
    "]\n",
    "\n",
    "comentarios_negativos = [\n",
    "    \"Esto es una completa pérdida de tiempo.\",\n",
    "    \"No tiene sentido lo que dices, muy decepcionante.\",\n",
    "    \"Tu contenido ha ido empeorando cada vez más.\",\n",
    "    \"No estoy de acuerdo para nada, pésimo argumento.\",\n",
    "    \"Qué publicación tan aburrida y sin sentido.\",\n",
    "    \"No entiendo por qué esto está en mi feed.\",\n",
    "    \"Esto no aporta nada, mejor bórralo.\",\n",
    "    \"Malísima recomendación, no la sigan.\",\n",
    "    \"Me decepcionó mucho este contenido.\",\n",
    "    \"Demasiado exagerado, no vale la pena leerlo.\"\n",
    "]\n",
    "\n",
    "comentarios_neutros = [\n",
    "    \"Es un buen punto, aunque depende de la perspectiva.\",\n",
    "    \"Interesante, pero me gustaría más información.\",\n",
    "    \"No estoy seguro de qué pensar al respecto.\",\n",
    "    \"Podría ser cierto, aunque hay otras opiniones.\",\n",
    "    \"Creo que es un tema que merece más análisis.\",\n",
    "    \"Ni bueno ni malo, simplemente un comentario más.\",\n",
    "    \"Curioso, pero no tengo una opinión fuerte al respecto.\",\n",
    "    \"No afecta mi vida, pero es interesante saberlo.\",\n",
    "    \"Algunas partes son ciertas, otras no tanto.\",\n",
    "    \"No es algo en lo que piense mucho, pero es válido.\" \n",
    "]\n",
    "\n",
    "# Crear datos sintéticos\n",
    "num_datos = 50000\n",
    "datos = []\n",
    "\n",
    "for _ in range(num_datos):\n",
    "    tipo = random.random()\n",
    "    if tipo < 0.33:\n",
    "        comentario = random.choice(comentarios_positivos)\n",
    "        etiqueta = \"positivo\"\n",
    "    elif tipo < 0.66:\n",
    "        comentario = random.choice(comentarios_negativos)\n",
    "        etiqueta = \"negativo\"\n",
    "    else:\n",
    "        comentario = random.choice(comentarios_neutros)\n",
    "        etiqueta = \"neutro\"\n",
    "    \n",
    "    datos.append([comentario, etiqueta])\n",
    "\n",
    "# Introducir un 5% de errores\n",
    "num_errores = int(num_datos * 0.05)\n",
    "indices_error = random.sample(range(num_datos), num_errores)\n",
    "\n",
    "for idx in indices_error:\n",
    "    etiqueta_actual = datos[idx][1]\n",
    "    etiquetas_posibles = [\"positivo\", \"negativo\", \"neutro\"]\n",
    "    etiquetas_posibles.remove(etiqueta_actual)\n",
    "    datos[idx][1] = random.choice(etiquetas_posibles)\n",
    "\n",
    "# Crear DataFrame y guardar en CSV\n",
    "df = pd.DataFrame(datos, columns=[\"comentario\", \"sentimiento\"])\n",
    "df.to_csv(\"comentarios_facebook.csv\", index=False, encoding=\"utf-8\")\n",
    "\n",
    "print(\"Archivo CSV generado con éxito: comentarios_facebook.csv\")\n"
   ]
  }
 ],
 "metadata": {
  "kernelspec": {
   "display_name": "Python 3 (ipykernel)",
   "language": "python",
   "name": "python3"
  },
  "language_info": {
   "codemirror_mode": {
    "name": "ipython",
    "version": 3
   },
   "file_extension": ".py",
   "mimetype": "text/x-python",
   "name": "python",
   "nbconvert_exporter": "python",
   "pygments_lexer": "ipython3",
   "version": "3.12.9"
  }
 },
 "nbformat": 4,
 "nbformat_minor": 5
}
