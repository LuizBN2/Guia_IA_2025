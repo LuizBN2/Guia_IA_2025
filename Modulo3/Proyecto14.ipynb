{
 "cells": [
  {
   "cell_type": "markdown",
   "id": "ad7496e1-2f77-4068-bc46-19d4e200c9c0",
   "metadata": {},
   "source": [
    "<div style=\"text-align: center;\">\n",
    "    <h1 style=\"color: green;\">Anexo 14</h1>\n",
    "    <h3>Proyecto 14: Resumen de textos con Vectorización</h3>\n",
    "    <hr/>\n",
    "    <p style=\"text-align: right;\">Mg. Luis Felipe Bustamante Narváez</p>\n",
    "</div>"
   ]
  },
  {
   "cell_type": "markdown",
   "id": "1d2ffbf0-74e9-4444-a55b-940122c1b910",
   "metadata": {},
   "source": [
    "En este proyecto, desarrollaremos un generador de resúmenes a través de vectorización, tomando una base de datos importante, de diferentes artículos de prensa para analizar cómo pueden sumarizarse y permitir los beneficios de la inteligencia artificial."
   ]
  },
  {
   "cell_type": "markdown",
   "id": "9c70f792-ea9f-4cf5-831e-7601a8dcd882",
   "metadata": {},
   "source": [
    "## Librerías"
   ]
  },
  {
   "cell_type": "code",
   "execution_count": 3,
   "id": "b0c75c58-ef41-40a6-b3c2-e9f65617894c",
   "metadata": {},
   "outputs": [],
   "source": [
    "import pandas as pd\n",
    "import numpy as np\n",
    "import textwrap\n",
    "import nltk\n",
    "from nltk.corpus import stopwords\n",
    "from nltk import word_tokenize\n",
    "from sklearn.feature_extraction.text import TfidfVectorizer"
   ]
  },
  {
   "cell_type": "code",
   "execution_count": 4,
   "id": "3de60c24-8d15-46f6-b896-751fd41a5348",
   "metadata": {},
   "outputs": [
    {
     "name": "stderr",
     "output_type": "stream",
     "text": [
      "[nltk_data] Downloading package punkt to\n",
      "[nltk_data]     C:\\Users\\luis_\\AppData\\Roaming\\nltk_data...\n",
      "[nltk_data]   Package punkt is already up-to-date!\n",
      "[nltk_data] Downloading package stopwords to\n",
      "[nltk_data]     C:\\Users\\luis_\\AppData\\Roaming\\nltk_data...\n",
      "[nltk_data]   Package stopwords is already up-to-date!\n"
     ]
    },
    {
     "data": {
      "text/plain": [
       "True"
      ]
     },
     "execution_count": 4,
     "metadata": {},
     "output_type": "execute_result"
    }
   ],
   "source": [
    "nltk.download('punkt')\n",
    "nltk.download('stopwords')"
   ]
  },
  {
   "cell_type": "code",
   "execution_count": 5,
   "id": "e078ed81-53d5-4eb8-92c5-bac76bece318",
   "metadata": {},
   "outputs": [],
   "source": [
    "path = 'data/df_total.csv'\n",
    "df = pd.read_csv(path, encoding='utf-8')"
   ]
  },
  {
   "cell_type": "code",
   "execution_count": 6,
   "id": "2b069d26-ce2f-4e49-9ae1-6a4b51b2d268",
   "metadata": {},
   "outputs": [
    {
     "data": {
      "text/html": [
       "<div>\n",
       "<style scoped>\n",
       "    .dataframe tbody tr th:only-of-type {\n",
       "        vertical-align: middle;\n",
       "    }\n",
       "\n",
       "    .dataframe tbody tr th {\n",
       "        vertical-align: top;\n",
       "    }\n",
       "\n",
       "    .dataframe thead th {\n",
       "        text-align: right;\n",
       "    }\n",
       "</style>\n",
       "<table border=\"1\" class=\"dataframe\">\n",
       "  <thead>\n",
       "    <tr style=\"text-align: right;\">\n",
       "      <th></th>\n",
       "      <th>url</th>\n",
       "      <th>news</th>\n",
       "      <th>Type</th>\n",
       "    </tr>\n",
       "  </thead>\n",
       "  <tbody>\n",
       "    <tr>\n",
       "      <th>0</th>\n",
       "      <td>https://www.larepublica.co/redirect/post/3201905</td>\n",
       "      <td>Durante el foro La banca articulador empresari...</td>\n",
       "      <td>Otra</td>\n",
       "    </tr>\n",
       "    <tr>\n",
       "      <th>1</th>\n",
       "      <td>https://www.larepublica.co/redirect/post/3210288</td>\n",
       "      <td>El regulador de valores de China dijo el domin...</td>\n",
       "      <td>Regulaciones</td>\n",
       "    </tr>\n",
       "    <tr>\n",
       "      <th>2</th>\n",
       "      <td>https://www.larepublica.co/redirect/post/3240676</td>\n",
       "      <td>En una industria históricamente masculina como...</td>\n",
       "      <td>Alianzas</td>\n",
       "    </tr>\n",
       "    <tr>\n",
       "      <th>3</th>\n",
       "      <td>https://www.larepublica.co/redirect/post/3342889</td>\n",
       "      <td>Con el dato de marzo el IPC interanual encaden...</td>\n",
       "      <td>Macroeconomia</td>\n",
       "    </tr>\n",
       "    <tr>\n",
       "      <th>4</th>\n",
       "      <td>https://www.larepublica.co/redirect/post/3427208</td>\n",
       "      <td>Ayer en Cartagena se dio inicio a la versión n...</td>\n",
       "      <td>Otra</td>\n",
       "    </tr>\n",
       "    <tr>\n",
       "      <th>...</th>\n",
       "      <td>...</td>\n",
       "      <td>...</td>\n",
       "      <td>...</td>\n",
       "    </tr>\n",
       "    <tr>\n",
       "      <th>1212</th>\n",
       "      <td>https://www.bbva.com/es/como-lograr-que-los-in...</td>\n",
       "      <td>En la vida de toda empresa emergente llega un ...</td>\n",
       "      <td>Innovacion</td>\n",
       "    </tr>\n",
       "    <tr>\n",
       "      <th>1213</th>\n",
       "      <td>https://www.bbva.com/es/podcast-como-nos-afect...</td>\n",
       "      <td>La espiral alcista de los precios continúa y g...</td>\n",
       "      <td>Macroeconomia</td>\n",
       "    </tr>\n",
       "    <tr>\n",
       "      <th>1214</th>\n",
       "      <td>https://www.larepublica.co/redirect/post/3253735</td>\n",
       "      <td>Las grandes derrotas nacionales son experienci...</td>\n",
       "      <td>Alianzas</td>\n",
       "    </tr>\n",
       "    <tr>\n",
       "      <th>1215</th>\n",
       "      <td>https://www.bbva.com/es/bbva-y-barcelona-healt...</td>\n",
       "      <td>BBVA ha alcanzado un acuerdo de colaboración c...</td>\n",
       "      <td>Innovacion</td>\n",
       "    </tr>\n",
       "    <tr>\n",
       "      <th>1216</th>\n",
       "      <td>https://www.larepublica.co/redirect/post/3263980</td>\n",
       "      <td>Casi entrando a la parte final de noviembre la...</td>\n",
       "      <td>Alianzas</td>\n",
       "    </tr>\n",
       "  </tbody>\n",
       "</table>\n",
       "<p>1217 rows × 3 columns</p>\n",
       "</div>"
      ],
      "text/plain": [
       "                                                    url  \\\n",
       "0      https://www.larepublica.co/redirect/post/3201905   \n",
       "1      https://www.larepublica.co/redirect/post/3210288   \n",
       "2      https://www.larepublica.co/redirect/post/3240676   \n",
       "3      https://www.larepublica.co/redirect/post/3342889   \n",
       "4      https://www.larepublica.co/redirect/post/3427208   \n",
       "...                                                 ...   \n",
       "1212  https://www.bbva.com/es/como-lograr-que-los-in...   \n",
       "1213  https://www.bbva.com/es/podcast-como-nos-afect...   \n",
       "1214   https://www.larepublica.co/redirect/post/3253735   \n",
       "1215  https://www.bbva.com/es/bbva-y-barcelona-healt...   \n",
       "1216   https://www.larepublica.co/redirect/post/3263980   \n",
       "\n",
       "                                                   news           Type  \n",
       "0     Durante el foro La banca articulador empresari...           Otra  \n",
       "1     El regulador de valores de China dijo el domin...   Regulaciones  \n",
       "2     En una industria históricamente masculina como...       Alianzas  \n",
       "3     Con el dato de marzo el IPC interanual encaden...  Macroeconomia  \n",
       "4     Ayer en Cartagena se dio inicio a la versión n...           Otra  \n",
       "...                                                 ...            ...  \n",
       "1212  En la vida de toda empresa emergente llega un ...     Innovacion  \n",
       "1213  La espiral alcista de los precios continúa y g...  Macroeconomia  \n",
       "1214  Las grandes derrotas nacionales son experienci...       Alianzas  \n",
       "1215  BBVA ha alcanzado un acuerdo de colaboración c...     Innovacion  \n",
       "1216  Casi entrando a la parte final de noviembre la...       Alianzas  \n",
       "\n",
       "[1217 rows x 3 columns]"
      ]
     },
     "execution_count": 6,
     "metadata": {},
     "output_type": "execute_result"
    }
   ],
   "source": [
    "df"
   ]
  },
  {
   "cell_type": "code",
   "execution_count": 57,
   "id": "0c36e073-2a40-41b0-bf35-40e54bee8f5c",
   "metadata": {},
   "outputs": [
    {
     "name": "stdout",
     "output_type": "stream",
     "text": [
      "En una industria históricamente masculina como lo es la aviación Viva presentó su avión rosado A320NEO que apuesta por la equidad de género la lucha contra el cáncer de mama la inclusión y la diversidad.Desde Francia llegó Go Pink que tuvo un precio promedio de US50 millones convirtiéndose en la aeronave número 20 de las 21 con las que finalizará el año esta aerolínea.En Viva estamos trabajando muy fuerte para que haya más mujeres. Actualmente el grupo ejecutivo está compuesto por 42 mujeres per\n"
     ]
    }
   ],
   "source": [
    "print(df['news'][2][:500])"
   ]
  },
  {
   "cell_type": "code",
   "execution_count": 12,
   "id": "73a224c5-dcfb-41fd-8e9e-78f22aea12e7",
   "metadata": {},
   "outputs": [],
   "source": [
    "# Buscamos una noticia larga para tomar como ejemplo a la hora de hacer el resumen\n",
    "doc = df['news'].sample()"
   ]
  },
  {
   "cell_type": "code",
   "execution_count": 56,
   "id": "375fd10e-d537-4f4f-aba1-095f08a11c8b",
   "metadata": {},
   "outputs": [
    {
     "name": "stdout",
     "output_type": "stream",
     "text": [
      "El actual brote de inflación es un momento de déjà vu para las personas que vivieron las subidas de precios de principios de la década de 1980.La inflación de EE.UU. se aceleró a una tasa anual de 75 en enero alcanzando un máximo de cuatro décadas. El índice de precios al consumidor que mide lo que la gente paga por bienes y servicios estuvo el mes pasado en su nivel más alto desde febrero de 1982 en comparación con enero de hace un año según el Departamento de Trabajo.Blaise Jones recuerda a su\n"
     ]
    }
   ],
   "source": [
    "print(doc.iloc[0][:500])"
   ]
  },
  {
   "cell_type": "code",
   "execution_count": 17,
   "id": "d6d3c928-1cee-48b6-9605-b889da53e41b",
   "metadata": {},
   "outputs": [
    {
     "name": "stdout",
     "output_type": "stream",
     "text": [
      "[297]\n"
     ]
    }
   ],
   "source": [
    "# Obtener el índice de la noticia para manipulación de datos\n",
    "indice = df.index[df['news'] == doc.iloc[0]].tolist()\n",
    "print(indice)"
   ]
  },
  {
   "cell_type": "code",
   "execution_count": 20,
   "id": "71cb912b-7fa6-46c9-9d09-751b48cc8c3b",
   "metadata": {},
   "outputs": [
    {
     "name": "stdout",
     "output_type": "stream",
     "text": [
      "El actual brote de inflación es un momento de déjà vu para las personas que vivieron las subidas de \n"
     ]
    }
   ],
   "source": [
    "# hacemos la prueba\n",
    "print(df['news'][297][:100])"
   ]
  },
  {
   "cell_type": "markdown",
   "id": "ff9a3a51-9a50-4533-a1cf-221a0bb3158f",
   "metadata": {},
   "source": [
    "## Procesamiento de Datos"
   ]
  },
  {
   "cell_type": "markdown",
   "id": "6e7d7517-7658-4bc7-a1e0-7dd17ec48ff5",
   "metadata": {},
   "source": [
    "### TextWrap"
   ]
  },
  {
   "cell_type": "code",
   "execution_count": 21,
   "id": "f00c5d3a-1f3d-4da1-b01b-25ef8e4ad994",
   "metadata": {},
   "outputs": [],
   "source": [
    "# Eliminamos las palabras cortadas de las líneas\n",
    "doc2 = textwrap.fill(doc.iloc[0], replace_whitespace=False, fix_sentence_endings=True)"
   ]
  },
  {
   "cell_type": "code",
   "execution_count": 49,
   "id": "b9353165-a982-4135-947d-7246067b9437",
   "metadata": {},
   "outputs": [
    {
     "name": "stdout",
     "output_type": "stream",
     "text": [
      "El actual brote de inflación es un momento de déjà vu para las\n",
      "personas que vivieron las subidas de precios de principios de la\n",
      "década de 1980.La inflación de EE.UU. se aceleró a una tasa anual de\n",
      "75 en enero alcanzando un máximo de cuatro décadas.  El índice de\n",
      "precios al consumidor que mide lo que la gente paga por bienes y\n",
      "servicios estuvo el mes pasado en su nivel más alto desde febrero de\n",
      "1982 en comparación con enero de hace un año según el Departamento de\n",
      "Trabajo.Blaise Jones recuerda a s\n"
     ]
    }
   ],
   "source": [
    "print(doc2[:500])"
   ]
  },
  {
   "cell_type": "markdown",
   "id": "c63aa222-dc34-41b9-b3fd-3b3110267006",
   "metadata": {},
   "source": [
    "### Separación de líneas"
   ]
  },
  {
   "cell_type": "code",
   "execution_count": 55,
   "id": "5ab5b816-9815-4a33-ab25-7af069c437bd",
   "metadata": {},
   "outputs": [
    {
     "data": {
      "text/plain": [
       "['El actual brote de inflación es un momento de déjà vu para las\\npersonas que vivieron las subidas de precios de principios de la\\ndécada de 1980.La inflación de EE.UU',\n",
       " 'se aceleró a una tasa anual de\\n75 en enero alcanzando un máximo de cuatro décadas',\n",
       " ' El índice de\\nprecios al consumidor que mide lo que la gente paga por bienes y\\nservicios estuvo el mes pasado en su nivel más alto desde febrero de\\n1982 en comparación con enero de hace un año según el Departamento de\\nTrabajo.Blaise Jones recuerda a su madre hablando sobre el aumento del\\nprecio de la leche y la determinación de su padre de mantener baja la\\nfactura de calefacción de su hogar tácticas que incluían bajar el\\ntermostato a 62 grados a la hora de acostarse.Juro que podía ver mi\\nrespiración cuando me levantaba dijo el doctor Jones ahora de 59 años\\ny neurorradiólogo pediátrico en Cincinnati']"
      ]
     },
     "execution_count": 55,
     "metadata": {},
     "output_type": "execute_result"
    }
   ],
   "source": [
    "# Podemos separar por líneas, por puntos o comas, la idea es conservar oraciones\n",
    "# con ideas claras.\n",
    "lineas = doc2.split('. ')  #Usamos punto espacio, por las siglas o números que pueden haber\n",
    "lineas[:3]"
   ]
  },
  {
   "cell_type": "markdown",
   "id": "7b8f65d4-5c43-4742-b387-389767a92422",
   "metadata": {},
   "source": [
    "### Tokenización"
   ]
  },
  {
   "cell_type": "code",
   "execution_count": 32,
   "id": "381edaf7-6380-4075-ab7c-3f4e5ec03932",
   "metadata": {},
   "outputs": [],
   "source": [
    "# Creamos la tokenización usando las stopwords descargadas\n",
    "tokenizar = TfidfVectorizer(stop_words=stopwords.words('spanish'), norm='l1')"
   ]
  },
  {
   "cell_type": "code",
   "execution_count": 33,
   "id": "0f680403-232f-4f0a-b8ab-ff2d49b4ff2e",
   "metadata": {},
   "outputs": [
    {
     "data": {
      "text/plain": [
       "<26x433 sparse matrix of type '<class 'numpy.float64'>'\n",
       "\twith 560 stored elements in Compressed Sparse Row format>"
      ]
     },
     "execution_count": 33,
     "metadata": {},
     "output_type": "execute_result"
    }
   ],
   "source": [
    "# Creamos la matriz\n",
    "X = tokenizar.fit_transform(lineas)\n",
    "X"
   ]
  },
  {
   "cell_type": "code",
   "execution_count": 37,
   "id": "b1ad2aa8-b61b-4c12-a445-c65f68e00cc6",
   "metadata": {},
   "outputs": [
    {
     "name": "stdout",
     "output_type": "stream",
     "text": [
      "0.0 0.0 0.0 0.0 0.0 0.04756870737569473 0.0 0.0 0.0 0.0 \n",
      "0.0 0.0 0.0 0.0 0.0 0.0 0.0 0.0 0.0 0.0 \n",
      "0.0 0.0 0.0 0.0 0.0 0.0 0.018470715419332654 0.0 0.0 0.0 \n",
      "0.0 0.0 0.0 0.0 0.0 0.0 0.0 0.0 0.0 0.0 \n",
      "0.0 0.0 0.0 0.0 0.08059297416517343 0.0 0.0 0.0 0.0 0.0 \n",
      "0.0 0.0 0.0 0.0 0.0 0.0 0.0 0.0 0.0 0.0 \n",
      "0.0 0.0 0.0 0.0 0.0 0.0 0.0 0.0 0.0 0.0 \n",
      "0.0 0.0 0.0 0.0 0.0 0.0 0.0 0.0 0.0 0.0 \n",
      "0.0 0.0 0.0 0.0 0.0 0.0 0.0 0.0 0.0 0.0 \n",
      "0.0 0.0 0.0 0.0 0.0 0.0 0.0 0.0 0.0 0.0 \n"
     ]
    }
   ],
   "source": [
    "# Mostramos la matriz\n",
    "filas, columnas = X.shape\n",
    "\n",
    "for i in range(10):  #aquí ponemos las filas, pero al ser muchas el resultado es extenso.\n",
    "    for j in range(10):\n",
    "        print(X[i, j], end=' ') # imprime el elemento y un espacio en blanco\n",
    "    print()  #deja el renglón\n",
    "\n",
    "# Cada fila va a representar una palabra\n",
    "# Cada columna va a representar cada una de las oraciones"
   ]
  },
  {
   "cell_type": "code",
   "execution_count": 38,
   "id": "d3c31a68-11ba-4552-be70-730aee5ac88e",
   "metadata": {},
   "outputs": [],
   "source": [
    "# Promediamos los puntajes de cada una de las oraciones\n",
    "def obtener_score(tfidf_row):\n",
    "    x = tfidf_row[tfidf_row != 0]  # Elimina las oraciones que no tienen puntuación\n",
    "    return x.mean()"
   ]
  },
  {
   "cell_type": "code",
   "execution_count": 39,
   "id": "f7cadead-f4b2-4db4-906e-11f2b41e150d",
   "metadata": {},
   "outputs": [],
   "source": [
    "# Creamos el vector de puntuación y lo llenamos\n",
    "scores = np.zeros(len(lineas))\n",
    "for i in range(len(lineas)):\n",
    "    score = obtener_score(X[i,:])\n",
    "    scores[i] = score"
   ]
  },
  {
   "cell_type": "code",
   "execution_count": 40,
   "id": "cb666105-a061-4d49-a19b-89c3b46eef3a",
   "metadata": {},
   "outputs": [
    {
     "data": {
      "text/plain": [
       "array([0.06666667, 0.11111111, 0.01754386, 0.05      , 0.07692308,\n",
       "       0.0625    , 1.        , 0.25      , 0.04761905, 0.03703704,\n",
       "       0.04545455, 0.02439024, 0.03846154, 0.02083333, 0.06666667,\n",
       "       0.03225806, 0.04545455, 0.0625    , 0.05263158, 0.03225806,\n",
       "       0.125     , 0.09090909, 0.03703704, 0.07692308, 0.03030303,\n",
       "       0.07142857])"
      ]
     },
     "execution_count": 40,
     "metadata": {},
     "output_type": "execute_result"
    }
   ],
   "source": [
    "scores"
   ]
  },
  {
   "cell_type": "markdown",
   "id": "b040570c-6462-4839-b198-709bf95e7189",
   "metadata": {},
   "source": [
    "## Resumen"
   ]
  },
  {
   "cell_type": "code",
   "execution_count": 41,
   "id": "997608a3-4c3c-48e7-b490-81198c400232",
   "metadata": {},
   "outputs": [],
   "source": [
    "# Ordenamos los scores y mostramos las posiciones de mayor a menor\n",
    "sort_index = np.argsort(-scores)"
   ]
  },
  {
   "cell_type": "code",
   "execution_count": 42,
   "id": "67cab2cf-a5ac-41d4-9995-45b796b194c7",
   "metadata": {},
   "outputs": [
    {
     "data": {
      "text/plain": [
       "array([ 6,  7, 20,  1, 21, 23,  4, 25, 14,  0, 17,  5, 18,  3,  8, 10, 16,\n",
       "       12,  9, 22, 15, 19, 24, 11, 13,  2], dtype=int64)"
      ]
     },
     "execution_count": 42,
     "metadata": {},
     "output_type": "execute_result"
    }
   ],
   "source": [
    "sort_index"
   ]
  },
  {
   "cell_type": "code",
   "execution_count": 45,
   "id": "833d46ed-bdbb-4d21-832c-bc07ae955004",
   "metadata": {},
   "outputs": [
    {
     "name": "stdout",
     "output_type": "stream",
     "text": [
      "1.0:\n",
      " Jones\n",
      "\n",
      "0.25:\n",
      " Él y su esposa han sido frugales durante mucho\n",
      "tiempo\n",
      "\n",
      "0.125:\n",
      " Está posponiendo la\n",
      "instalación de un nuevo revestimiento de aluminio en su casa porque\n",
      "los precios han subido\n",
      "\n",
      "0.1111111111111111:\n",
      "se aceleró a una tasa anual de\n",
      "75 en enero alcanzando un máximo de cuatro décadas\n",
      "\n",
      "0.09090909090909093:\n",
      " Pagó el préstamo de su automóvil hace unos\n",
      "dos años pero continúa conduciendo un BMW 2014 golpeado\n",
      "\n",
      "0.07692307692307694:\n",
      "El fundador de la empresa de ferias comerciales Shamrock\n",
      "Productions condujo su Oldsmobile durante 450.000 millas hasta que el\n",
      "motor explotó\n",
      "\n",
      "0.07692307692307694:\n",
      " dos veces por semana\n",
      "para llenar la camioneta de la familia y tratar de evitar las colas en\n",
      "la bomba durante la crisis energética de 1979\n",
      "\n",
      "0.07142857142857144:\n",
      " Ella también se está saltando vacaciones costosas\n",
      "por ahora.A cada paso la gente se ve afectada por el aumento de los\n",
      "precios dijo la señora Navratil.\n",
      "\n",
      "0.0666666666666667:\n",
      " Cuando cerró la compra de la casa\n",
      "la tasa hipotecaria que el corredor había ofrecido saltó a cerca de\n",
      "135 desde alrededor de 1275 que tenía cuando había iniciado el proceso\n",
      "dijo\n",
      "\n",
      "0.0666666666666667:\n",
      "El actual brote de inflación es un momento de déjà vu para las\n",
      "personas que vivieron las subidas de precios de principios de la\n",
      "década de 1980.La inflación de EE.UU\n",
      "\n"
     ]
    }
   ],
   "source": [
    "# Resumen desordenado\n",
    "oraciones = []\n",
    "cantidad_oraciones = 10\n",
    "for i in range(cantidad_oraciones):\n",
    "    oraciones.append([sort_index[i], scores[sort_index[i]], lineas[sort_index[i]]])\n",
    "    print(f'{scores[sort_index[i]]}:\\n{lineas[sort_index[i]]}\\n')\n",
    "    "
   ]
  },
  {
   "cell_type": "code",
   "execution_count": 46,
   "id": "0f952291-c868-482f-ae5d-60672821af3e",
   "metadata": {},
   "outputs": [
    {
     "name": "stdout",
     "output_type": "stream",
     "text": [
      "El actual brote de inflación es un momento de déjà vu para las\n",
      "personas que vivieron las subidas de precios de principios de la\n",
      "década de 1980.La inflación de EE.UU\n",
      "se aceleró a una tasa anual de\n",
      "75 en enero alcanzando un máximo de cuatro décadas\n",
      " dos veces por semana\n",
      "para llenar la camioneta de la familia y tratar de evitar las colas en\n",
      "la bomba durante la crisis energética de 1979\n",
      " Jones\n",
      " Él y su esposa han sido frugales durante mucho\n",
      "tiempo\n",
      " Cuando cerró la compra de la casa\n",
      "la tasa hipotecaria que el corredor había ofrecido saltó a cerca de\n",
      "135 desde alrededor de 1275 que tenía cuando había iniciado el proceso\n",
      "dijo\n",
      " Está posponiendo la\n",
      "instalación de un nuevo revestimiento de aluminio en su casa porque\n",
      "los precios han subido\n",
      " Pagó el préstamo de su automóvil hace unos\n",
      "dos años pero continúa conduciendo un BMW 2014 golpeado\n",
      "El fundador de la empresa de ferias comerciales Shamrock\n",
      "Productions condujo su Oldsmobile durante 450.000 millas hasta que el\n",
      "motor explotó\n",
      " Ella también se está saltando vacaciones costosas\n",
      "por ahora.A cada paso la gente se ve afectada por el aumento de los\n",
      "precios dijo la señora Navratil.\n"
     ]
    }
   ],
   "source": [
    "# Ordenamiento de la lista por el primer elemento de cada sublista\n",
    "oraciones_sort = sorted(oraciones, key=lambda x:x[0])\n",
    "\n",
    "#Imprimimos la lista ordenada\n",
    "for item in oraciones_sort:\n",
    "    print(item[2]) # el 2 es la columna de las líneas"
   ]
  },
  {
   "cell_type": "markdown",
   "id": "45d2985c-bd1b-419e-870f-d24fb942592a",
   "metadata": {},
   "source": [
    "## Conclusiones"
   ]
  },
  {
   "cell_type": "markdown",
   "id": "5a3b11e0-d765-4133-8a80-c44561f738c3",
   "metadata": {},
   "source": [
    "<div style=\"text-align: center;\">\n",
    "    <p>Hace algunos años, la vectorización era la manera más adecuada para generar resúmenes,\n",
    "como podemos notar en los resultados, hace falta un poco de coherencia, pero se puede \n",
    "    entender la idea del texto que se pretende resumir.\n",
    "     </p>\n",
    "    <hr/>\n",
    "    <p style=\"text-align: right;\">Mg. Luis Felipe Bustamante Narváez</p>\n",
    "</div>"
   ]
  }
 ],
 "metadata": {
  "kernelspec": {
   "display_name": "Python 3 (ipykernel)",
   "language": "python",
   "name": "python3"
  },
  "language_info": {
   "codemirror_mode": {
    "name": "ipython",
    "version": 3
   },
   "file_extension": ".py",
   "mimetype": "text/x-python",
   "name": "python",
   "nbconvert_exporter": "python",
   "pygments_lexer": "ipython3",
   "version": "3.12.9"
  }
 },
 "nbformat": 4,
 "nbformat_minor": 5
}
