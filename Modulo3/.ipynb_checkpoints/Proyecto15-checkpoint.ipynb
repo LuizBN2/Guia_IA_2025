{
 "cells": [
  {
   "cell_type": "markdown",
   "id": "00f8437b-8346-468f-95f8-88c4d16fce2d",
   "metadata": {},
   "source": [
    "<div style=\"text-align: center;\">\n",
    "    <h1 style=\"color: green;\">Anexo 15</h1>\n",
    "    <h3>Proyecto 15: Resumen de textos con Text Rank</h3>\n",
    "    <hr/>\n",
    "    <p style=\"text-align: right;\">Mg. Luis Felipe Bustamante Narváez</p>\n",
    "</div>"
   ]
  },
  {
   "cell_type": "markdown",
   "id": "b1044fa0-fc1a-4813-85e1-bf25718bf5f1",
   "metadata": {},
   "source": [
    "En este ejercicio, desarrollaremos un generador de resumen de textos avanzado, utilizando el método TextRank, el cual permite analizar la similitud de las oraciones y palabras para contextualizar las ideas principales del tecto original.\n",
    "\n",
    "Recordemos que el TextRank está basado en el PageRank de Google, donde las oraciones o palabras equivalen a las páginas web y la similitud entre las oraciones o palabras, representan los enlaces que estas páginas tienen con otras páginas importantes."
   ]
  },
  {
   "cell_type": "markdown",
   "id": "caae7e1f-82fe-4d9e-a4dc-31efa9de1b7e",
   "metadata": {},
   "source": [
    "## Librerías"
   ]
  },
  {
   "cell_type": "code",
   "execution_count": 100,
   "id": "3a53a840-d2d8-4571-802a-991aff1e4af9",
   "metadata": {},
   "outputs": [],
   "source": [
    "import pandas as pd\n",
    "import numpy as np\n",
    "import textwrap\n",
    "import nltk\n",
    "from nltk.corpus import stopwords\n",
    "from nltk import word_tokenize\n",
    "from sklearn.feature_extraction.text import TfidfVectorizer\n",
    "from sklearn.metrics.pairwise import cosine_similarity \n",
    "import textwrap"
   ]
  },
  {
   "cell_type": "code",
   "execution_count": 3,
   "id": "beebd9e9-c40d-485b-a4de-d6666b0581fb",
   "metadata": {},
   "outputs": [
    {
     "name": "stderr",
     "output_type": "stream",
     "text": [
      "[nltk_data] Downloading package punkt to\n",
      "[nltk_data]     C:\\Users\\luis_\\AppData\\Roaming\\nltk_data...\n",
      "[nltk_data]   Package punkt is already up-to-date!\n",
      "[nltk_data] Downloading package stopwords to\n",
      "[nltk_data]     C:\\Users\\luis_\\AppData\\Roaming\\nltk_data...\n",
      "[nltk_data]   Package stopwords is already up-to-date!\n"
     ]
    },
    {
     "data": {
      "text/plain": [
       "True"
      ]
     },
     "execution_count": 3,
     "metadata": {},
     "output_type": "execute_result"
    }
   ],
   "source": [
    "nltk.download('punkt')\n",
    "nltk.download('stopwords')"
   ]
  },
  {
   "cell_type": "markdown",
   "id": "c9aad5b3-f9b6-43f7-8b2f-6e7e26f26c20",
   "metadata": {},
   "source": [
    "## Cargamos los Datos"
   ]
  },
  {
   "cell_type": "code",
   "execution_count": 4,
   "id": "9fb06519-3177-459d-bee0-a18e151e4eef",
   "metadata": {},
   "outputs": [],
   "source": [
    "path = 'data/df_total.csv'\n",
    "df = pd.read_csv(path, encoding='utf-8')"
   ]
  },
  {
   "cell_type": "code",
   "execution_count": 5,
   "id": "a94b1121-4a1d-4a90-abad-2744df5a95b1",
   "metadata": {},
   "outputs": [
    {
     "data": {
      "text/html": [
       "<div>\n",
       "<style scoped>\n",
       "    .dataframe tbody tr th:only-of-type {\n",
       "        vertical-align: middle;\n",
       "    }\n",
       "\n",
       "    .dataframe tbody tr th {\n",
       "        vertical-align: top;\n",
       "    }\n",
       "\n",
       "    .dataframe thead th {\n",
       "        text-align: right;\n",
       "    }\n",
       "</style>\n",
       "<table border=\"1\" class=\"dataframe\">\n",
       "  <thead>\n",
       "    <tr style=\"text-align: right;\">\n",
       "      <th></th>\n",
       "      <th>url</th>\n",
       "      <th>news</th>\n",
       "      <th>Type</th>\n",
       "    </tr>\n",
       "  </thead>\n",
       "  <tbody>\n",
       "    <tr>\n",
       "      <th>0</th>\n",
       "      <td>https://www.larepublica.co/redirect/post/3201905</td>\n",
       "      <td>Durante el foro La banca articulador empresari...</td>\n",
       "      <td>Otra</td>\n",
       "    </tr>\n",
       "    <tr>\n",
       "      <th>1</th>\n",
       "      <td>https://www.larepublica.co/redirect/post/3210288</td>\n",
       "      <td>El regulador de valores de China dijo el domin...</td>\n",
       "      <td>Regulaciones</td>\n",
       "    </tr>\n",
       "    <tr>\n",
       "      <th>2</th>\n",
       "      <td>https://www.larepublica.co/redirect/post/3240676</td>\n",
       "      <td>En una industria históricamente masculina como...</td>\n",
       "      <td>Alianzas</td>\n",
       "    </tr>\n",
       "    <tr>\n",
       "      <th>3</th>\n",
       "      <td>https://www.larepublica.co/redirect/post/3342889</td>\n",
       "      <td>Con el dato de marzo el IPC interanual encaden...</td>\n",
       "      <td>Macroeconomia</td>\n",
       "    </tr>\n",
       "    <tr>\n",
       "      <th>4</th>\n",
       "      <td>https://www.larepublica.co/redirect/post/3427208</td>\n",
       "      <td>Ayer en Cartagena se dio inicio a la versión n...</td>\n",
       "      <td>Otra</td>\n",
       "    </tr>\n",
       "    <tr>\n",
       "      <th>...</th>\n",
       "      <td>...</td>\n",
       "      <td>...</td>\n",
       "      <td>...</td>\n",
       "    </tr>\n",
       "    <tr>\n",
       "      <th>1212</th>\n",
       "      <td>https://www.bbva.com/es/como-lograr-que-los-in...</td>\n",
       "      <td>En la vida de toda empresa emergente llega un ...</td>\n",
       "      <td>Innovacion</td>\n",
       "    </tr>\n",
       "    <tr>\n",
       "      <th>1213</th>\n",
       "      <td>https://www.bbva.com/es/podcast-como-nos-afect...</td>\n",
       "      <td>La espiral alcista de los precios continúa y g...</td>\n",
       "      <td>Macroeconomia</td>\n",
       "    </tr>\n",
       "    <tr>\n",
       "      <th>1214</th>\n",
       "      <td>https://www.larepublica.co/redirect/post/3253735</td>\n",
       "      <td>Las grandes derrotas nacionales son experienci...</td>\n",
       "      <td>Alianzas</td>\n",
       "    </tr>\n",
       "    <tr>\n",
       "      <th>1215</th>\n",
       "      <td>https://www.bbva.com/es/bbva-y-barcelona-healt...</td>\n",
       "      <td>BBVA ha alcanzado un acuerdo de colaboración c...</td>\n",
       "      <td>Innovacion</td>\n",
       "    </tr>\n",
       "    <tr>\n",
       "      <th>1216</th>\n",
       "      <td>https://www.larepublica.co/redirect/post/3263980</td>\n",
       "      <td>Casi entrando a la parte final de noviembre la...</td>\n",
       "      <td>Alianzas</td>\n",
       "    </tr>\n",
       "  </tbody>\n",
       "</table>\n",
       "<p>1217 rows × 3 columns</p>\n",
       "</div>"
      ],
      "text/plain": [
       "                                                    url  \\\n",
       "0      https://www.larepublica.co/redirect/post/3201905   \n",
       "1      https://www.larepublica.co/redirect/post/3210288   \n",
       "2      https://www.larepublica.co/redirect/post/3240676   \n",
       "3      https://www.larepublica.co/redirect/post/3342889   \n",
       "4      https://www.larepublica.co/redirect/post/3427208   \n",
       "...                                                 ...   \n",
       "1212  https://www.bbva.com/es/como-lograr-que-los-in...   \n",
       "1213  https://www.bbva.com/es/podcast-como-nos-afect...   \n",
       "1214   https://www.larepublica.co/redirect/post/3253735   \n",
       "1215  https://www.bbva.com/es/bbva-y-barcelona-healt...   \n",
       "1216   https://www.larepublica.co/redirect/post/3263980   \n",
       "\n",
       "                                                   news           Type  \n",
       "0     Durante el foro La banca articulador empresari...           Otra  \n",
       "1     El regulador de valores de China dijo el domin...   Regulaciones  \n",
       "2     En una industria históricamente masculina como...       Alianzas  \n",
       "3     Con el dato de marzo el IPC interanual encaden...  Macroeconomia  \n",
       "4     Ayer en Cartagena se dio inicio a la versión n...           Otra  \n",
       "...                                                 ...            ...  \n",
       "1212  En la vida de toda empresa emergente llega un ...     Innovacion  \n",
       "1213  La espiral alcista de los precios continúa y g...  Macroeconomia  \n",
       "1214  Las grandes derrotas nacionales son experienci...       Alianzas  \n",
       "1215  BBVA ha alcanzado un acuerdo de colaboración c...     Innovacion  \n",
       "1216  Casi entrando a la parte final de noviembre la...       Alianzas  \n",
       "\n",
       "[1217 rows x 3 columns]"
      ]
     },
     "execution_count": 5,
     "metadata": {},
     "output_type": "execute_result"
    }
   ],
   "source": [
    "df"
   ]
  },
  {
   "cell_type": "code",
   "execution_count": 6,
   "id": "7f974b33-68d8-4cda-a827-80136c243b8e",
   "metadata": {},
   "outputs": [
    {
     "name": "stdout",
     "output_type": "stream",
     "text": [
      "En una industria históricamente masculina como lo es la aviación Viva presentó su avión rosado A320NEO que apuesta por la equidad de género la lucha contra el cáncer de mama la inclusión y la diversidad.Desde Francia llegó Go Pink que tuvo un precio promedio de US50 millones convirtiéndose en la aeronave número 20 de las 21 con las que finalizará el año esta aerolínea.En Viva estamos trabajando muy fuerte para que haya más mujeres. Actualmente el grupo ejecutivo está compuesto por 42 mujeres per\n"
     ]
    }
   ],
   "source": [
    "print(df['news'][2][:500])"
   ]
  },
  {
   "cell_type": "code",
   "execution_count": 18,
   "id": "39d3d4f0-b4c0-4fca-b3bf-e489dd93f283",
   "metadata": {},
   "outputs": [],
   "source": [
    "# Buscamos una noticia larga para tomar como ejemplo a la hora de hacer el resumen\n",
    "doc = df['news'].sample()"
   ]
  },
  {
   "cell_type": "code",
   "execution_count": 22,
   "id": "29a45de7-03d0-44be-a293-13923b2d3173",
   "metadata": {},
   "outputs": [
    {
     "name": "stdout",
     "output_type": "stream",
     "text": [
      "Como cambiarle a un coche su motor diésel por uno eléctrico mientras está en marcha. Esta analogía define la tarea titánica que ha supuesto para Ethereum su última actualización. Fruto de un trabajo de varios años, ‘The Merge’ constituye un cambio de paradigma sobre cómo se generan los criptoactivos de forma más segura y sostenible (elimina hasta un 99,95% de la energía necesaria hasta ahora), y permitirá que las finanzas descentralizadas (DeFi) afronten la implantación a gran escala. Pero tambi\n"
     ]
    }
   ],
   "source": [
    "print(doc.iloc[0][:500])"
   ]
  },
  {
   "cell_type": "code",
   "execution_count": 23,
   "id": "ac9c464f-bafe-4d59-a750-06774f11c97f",
   "metadata": {},
   "outputs": [
    {
     "name": "stdout",
     "output_type": "stream",
     "text": [
      "[257]\n"
     ]
    }
   ],
   "source": [
    "# Obtener el índice de la noticia para manipulación de datos\n",
    "indice = df.index[df['news'] == doc.iloc[0]].tolist()\n",
    "print(indice)"
   ]
  },
  {
   "cell_type": "code",
   "execution_count": 44,
   "id": "6f8eed86-5846-4fb3-b8e2-1db7b4837a01",
   "metadata": {},
   "outputs": [
    {
     "name": "stdout",
     "output_type": "stream",
     "text": [
      "Como cambiarle a un coche su motor diésel por uno eléctrico mientras está en marcha. Esta analogía d\n"
     ]
    }
   ],
   "source": [
    "# hacemos la prueba\n",
    "print(df['news'][257][:100])"
   ]
  },
  {
   "cell_type": "markdown",
   "id": "8fe8e972-545f-481d-98db-7191815502ef",
   "metadata": {},
   "source": [
    "## Procesamiento de Datos"
   ]
  },
  {
   "cell_type": "markdown",
   "id": "dada0d23-3a74-4da4-9dd4-0aa37a81a980",
   "metadata": {},
   "source": [
    "### TextWrap"
   ]
  },
  {
   "cell_type": "code",
   "execution_count": 45,
   "id": "471af0ec-1b2c-4de1-b5d6-cd387bd99468",
   "metadata": {},
   "outputs": [],
   "source": [
    "# Eliminamos las palabras cortadas de las líneas\n",
    "doc2 = textwrap.fill(doc.iloc[0], replace_whitespace=False, fix_sentence_endings=True)"
   ]
  },
  {
   "cell_type": "code",
   "execution_count": 46,
   "id": "c58cd7ed-298a-46cb-9d2b-432a2b498562",
   "metadata": {},
   "outputs": [
    {
     "name": "stdout",
     "output_type": "stream",
     "text": [
      "Como cambiarle a un coche su motor diésel por uno eléctrico mientras\n",
      "está en marcha.  Esta analogía define la tarea titánica que ha\n",
      "supuesto para Ethereum su última actualización.  Fruto de un trabajo\n",
      "de varios años, ‘The Merge’ constituye un cambio de paradigma sobre\n",
      "cómo se generan los criptoactivos de forma más segura y sostenible\n",
      "(elimina hasta un 99,95% de la energía necesaria hasta ahora), y\n",
      "permitirá que las finanzas descentralizadas (DeFi) afronten la\n",
      "implantación a gran escala.  Pero ta\n"
     ]
    }
   ],
   "source": [
    "print(doc2[:500])"
   ]
  },
  {
   "cell_type": "markdown",
   "id": "1c830d40-db2b-4256-9d67-c207ea554e65",
   "metadata": {},
   "source": [
    "### Separación en líneas"
   ]
  },
  {
   "cell_type": "code",
   "execution_count": 47,
   "id": "31b9b90e-55ee-4479-94ba-c4368f96683b",
   "metadata": {},
   "outputs": [],
   "source": [
    "# Podemos separar por líneas, por puntos o comas, la idea es conservar oraciones\n",
    "# con ideas claras.\n",
    "lineas = doc2.split('. ')  #Usamos punto espacio, por las siglas o números que pueden haber"
   ]
  },
  {
   "cell_type": "code",
   "execution_count": 49,
   "id": "9a9975c0-644d-449c-8ebc-401ef6642058",
   "metadata": {},
   "outputs": [
    {
     "data": {
      "text/plain": [
       "24"
      ]
     },
     "execution_count": 49,
     "metadata": {},
     "output_type": "execute_result"
    }
   ],
   "source": [
    "len(lineas)"
   ]
  },
  {
   "cell_type": "code",
   "execution_count": 50,
   "id": "72141a70-e867-47c6-9c50-445b28e16afc",
   "metadata": {},
   "outputs": [
    {
     "data": {
      "text/plain": [
       "[' Pero ahora\\nGary Gensler, presidente de la SEC (la Comisión de Bolsa y Valores de\\nEstados Unidos), ha apuntado a la posibilidad de categorizarlo como un\\nvalor, ya que con la fórmula del PoS se comporta como tal (genera\\ndividendos a través del depósito), lo que lo sometería a las\\nnormativas que regulan los valores.\\r\\nBrett Harrison, presidente de la\\nplataforma de criptoactivos FTX.US, ha recordado que esta complejidad\\naumenta al existir diferentes tipos de participación',\n",
       " ' Un usuario\\npuede depositar sus ‘tokens’ para convertirse en validador, participar\\nde manera indirecta a través de un ‘exchange’, como se ha mencionado\\nanteriormente, o prestarlos en protocolos financieros descentralizados\\nen los que obtener también rendimientos.\\r\\nEl debate está sobre la\\nmesa.']"
      ]
     },
     "execution_count": 50,
     "metadata": {},
     "output_type": "execute_result"
    }
   ],
   "source": [
    "lineas[22:]"
   ]
  },
  {
   "cell_type": "markdown",
   "id": "1899e285-b04c-4d8a-b444-ec333f748ac2",
   "metadata": {},
   "source": [
    "### Eliminación de oraciones vacías"
   ]
  },
  {
   "cell_type": "code",
   "execution_count": 51,
   "id": "e0264479-dffc-4d81-98ef-3659c880c8e2",
   "metadata": {},
   "outputs": [],
   "source": [
    "lineas = [item for item in lineas if item.strip()]"
   ]
  },
  {
   "cell_type": "code",
   "execution_count": 52,
   "id": "4957cb8d-fa79-465d-873d-5d3fcfc993e6",
   "metadata": {},
   "outputs": [
    {
     "data": {
      "text/plain": [
       "24"
      ]
     },
     "execution_count": 52,
     "metadata": {},
     "output_type": "execute_result"
    }
   ],
   "source": [
    "len(lineas)"
   ]
  },
  {
   "cell_type": "code",
   "execution_count": 53,
   "id": "0a203587-ede2-446f-8d6b-e91d53a5ed39",
   "metadata": {},
   "outputs": [
    {
     "data": {
      "text/plain": [
       "[' Pero ahora\\nGary Gensler, presidente de la SEC (la Comisión de Bolsa y Valores de\\nEstados Unidos), ha apuntado a la posibilidad de categorizarlo como un\\nvalor, ya que con la fórmula del PoS se comporta como tal (genera\\ndividendos a través del depósito), lo que lo sometería a las\\nnormativas que regulan los valores.\\r\\nBrett Harrison, presidente de la\\nplataforma de criptoactivos FTX.US, ha recordado que esta complejidad\\naumenta al existir diferentes tipos de participación',\n",
       " ' Un usuario\\npuede depositar sus ‘tokens’ para convertirse en validador, participar\\nde manera indirecta a través de un ‘exchange’, como se ha mencionado\\nanteriormente, o prestarlos en protocolos financieros descentralizados\\nen los que obtener también rendimientos.\\r\\nEl debate está sobre la\\nmesa.']"
      ]
     },
     "execution_count": 53,
     "metadata": {},
     "output_type": "execute_result"
    }
   ],
   "source": [
    "lineas[22:]"
   ]
  },
  {
   "cell_type": "markdown",
   "id": "63df2a09-6976-428a-95ac-8020e58b5e0e",
   "metadata": {},
   "source": [
    "## Vectorización"
   ]
  },
  {
   "cell_type": "code",
   "execution_count": 54,
   "id": "a3e2e18e-4201-447f-bb00-574d3352bab5",
   "metadata": {},
   "outputs": [],
   "source": [
    "# Creamos la tokenización usando las stopwords descargadas\n",
    "tokenizar = TfidfVectorizer(stop_words=stopwords.words('spanish'), norm='l1')"
   ]
  },
  {
   "cell_type": "code",
   "execution_count": 55,
   "id": "b085dd85-8470-4b59-95a0-72fa8796976d",
   "metadata": {},
   "outputs": [
    {
     "data": {
      "text/plain": [
       "<24x402 sparse matrix of type '<class 'numpy.float64'>'\n",
       "\twith 539 stored elements in Compressed Sparse Row format>"
      ]
     },
     "execution_count": 55,
     "metadata": {},
     "output_type": "execute_result"
    }
   ],
   "source": [
    "# Creamos la matriz\n",
    "X = tokenizar.fit_transform(lineas)\n",
    "X"
   ]
  },
  {
   "cell_type": "code",
   "execution_count": 56,
   "id": "3c69827e-50cd-4072-ad03-27104852e643",
   "metadata": {},
   "outputs": [
    {
     "name": "stdout",
     "output_type": "stream",
     "text": [
      "0.0 0.0 0.0 0.0 0.0 0.0 0.0 0.0 0.0 0.0 \n",
      "0.0 0.0 0.0 0.0 0.0 0.0 0.0 0.0 0.0 0.0 \n",
      "0.0 0.0 0.0 0.0 0.0 0.0 0.0 0.0 0.0 0.0 \n",
      "0.0 0.0 0.0 0.0 0.0 0.0 0.0 0.0 0.0 0.0 \n",
      "0.0 0.0 0.0 0.0 0.0 0.0 0.0 0.0 0.0 0.0 \n",
      "0.0 0.0 0.0 0.0 0.0 0.0 0.0 0.0 0.0 0.0 \n",
      "0.0 0.0 0.0 0.0 0.0 0.0 0.0 0.0 0.0 0.0 \n",
      "0.0 0.0 0.0 0.0 0.0 0.0 0.0 0.0 0.022037911607183422 0.0 \n",
      "0.0 0.0 0.0 0.0 0.0 0.0 0.0 0.0 0.0 0.0 \n",
      "0.0 0.0 0.0 0.0 0.0 0.0467110969446465 0.0 0.0 0.0 0.0 \n"
     ]
    }
   ],
   "source": [
    "# Mostramos la matriz\n",
    "filas, columnas = X.shape\n",
    "\n",
    "for i in range(10):  #aquí ponemos las filas, pero al ser muchas el resultado es extenso.\n",
    "    for j in range(10):\n",
    "        print(X[i, j], end=' ') # imprime el elemento y un espacio en blanco\n",
    "    print()  #deja el renglón\n",
    "\n",
    "# Cada fila va a representar una palabra\n",
    "# Cada columna va a representar cada una de las oraciones"
   ]
  },
  {
   "cell_type": "markdown",
   "id": "de2c1932-588f-4fba-a15a-a7b2a45784bb",
   "metadata": {},
   "source": [
    "## Calculamos la similitud"
   ]
  },
  {
   "cell_type": "code",
   "execution_count": 57,
   "id": "926f145a-4c31-4e22-9bba-01f3d077fd95",
   "metadata": {},
   "outputs": [],
   "source": [
    "# Matriz de similitud\n",
    "S = cosine_similarity(X)"
   ]
  },
  {
   "cell_type": "code",
   "execution_count": 58,
   "id": "4404e8f8-ead4-459a-b1d1-3b42d7a84b47",
   "metadata": {},
   "outputs": [
    {
     "data": {
      "text/plain": [
       "(24, 24)"
      ]
     },
     "execution_count": 58,
     "metadata": {},
     "output_type": "execute_result"
    }
   ],
   "source": [
    "S.shape"
   ]
  },
  {
   "cell_type": "code",
   "execution_count": 62,
   "id": "20c46da8-726c-4ac6-8add-60b4b9e815eb",
   "metadata": {},
   "outputs": [
    {
     "data": {
      "text/plain": [
       "array([[1.        , 0.        , 0.        , 0.        , 0.        ,\n",
       "        0.        , 0.12486586, 0.        , 0.        , 0.12170713,\n",
       "        0.07641065, 0.        , 0.        , 0.        , 0.        ,\n",
       "        0.        , 0.        , 0.        , 0.        , 0.        ,\n",
       "        0.        , 0.        , 0.        , 0.        ]])"
      ]
     },
     "execution_count": 62,
     "metadata": {},
     "output_type": "execute_result"
    }
   ],
   "source": [
    "# Muestra de similitudes, por ejemplo la oración 0, tiene similitud de 0.1248 con la\n",
    "# oración 6.\n",
    "S[:1]"
   ]
  },
  {
   "cell_type": "markdown",
   "id": "363a2cd7-fad7-4199-b1b6-7959f2d50f2c",
   "metadata": {},
   "source": [
    "## Normalización"
   ]
  },
  {
   "cell_type": "code",
   "execution_count": 63,
   "id": "31e92070-44e7-41a5-8df5-3180972c86a0",
   "metadata": {},
   "outputs": [],
   "source": [
    "S = S / S.sum(axis=1, keepdims=True)"
   ]
  },
  {
   "cell_type": "code",
   "execution_count": 64,
   "id": "8b3222a8-7450-4686-aa19-ad0c1fe97f9e",
   "metadata": {},
   "outputs": [
    {
     "data": {
      "text/plain": [
       "array([[0.75586724, 0.        , 0.        , 0.        , 0.        ,\n",
       "        0.        , 0.09438202, 0.        , 0.        , 0.09199444,\n",
       "        0.05775631, 0.        , 0.        , 0.        , 0.        ,\n",
       "        0.        , 0.        , 0.        , 0.        , 0.        ,\n",
       "        0.        , 0.        , 0.        , 0.        ]])"
      ]
     },
     "execution_count": 64,
     "metadata": {},
     "output_type": "execute_result"
    }
   ],
   "source": [
    "S[:1]"
   ]
  },
  {
   "cell_type": "code",
   "execution_count": 65,
   "id": "879fe5ca-79df-45bf-9513-f51e058e998e",
   "metadata": {},
   "outputs": [
    {
     "data": {
      "text/plain": [
       "1.0"
      ]
     },
     "execution_count": 65,
     "metadata": {},
     "output_type": "execute_result"
    }
   ],
   "source": [
    "# Probamos\n",
    "S[0].sum()"
   ]
  },
  {
   "cell_type": "markdown",
   "id": "37ad85c0-0858-410b-a224-c27b07ccb4c0",
   "metadata": {},
   "source": [
    "## Suavizado (Markov)"
   ]
  },
  {
   "cell_type": "code",
   "execution_count": 66,
   "id": "4db4d399-2629-4bf0-aefa-27de09d2f130",
   "metadata": {},
   "outputs": [],
   "source": [
    "# Matriz de transición uniforme\n",
    "U = np.ones_like(S)"
   ]
  },
  {
   "cell_type": "code",
   "execution_count": 67,
   "id": "7cf0616e-b8b7-479f-af2e-01650b2fff21",
   "metadata": {},
   "outputs": [
    {
     "data": {
      "text/plain": [
       "array([[1., 1., 1., 1., 1., 1., 1., 1., 1., 1., 1., 1., 1., 1., 1., 1.,\n",
       "        1., 1., 1., 1., 1., 1., 1., 1.]])"
      ]
     },
     "execution_count": 67,
     "metadata": {},
     "output_type": "execute_result"
    }
   ],
   "source": [
    "U[:1]"
   ]
  },
  {
   "cell_type": "code",
   "execution_count": 68,
   "id": "53e75a3e-73ee-4e9c-8bac-95a9f4e7f8df",
   "metadata": {},
   "outputs": [
    {
     "data": {
      "text/plain": [
       "(24, 24)"
      ]
     },
     "execution_count": 68,
     "metadata": {},
     "output_type": "execute_result"
    }
   ],
   "source": [
    "U.shape"
   ]
  },
  {
   "cell_type": "markdown",
   "id": "4b917905-427b-46e1-828e-19d61935dc28",
   "metadata": {},
   "source": [
    "### Normalizamos la matriz de transición"
   ]
  },
  {
   "cell_type": "code",
   "execution_count": 69,
   "id": "406e9af0-3b2a-47f8-8d68-cb65e5c239e5",
   "metadata": {},
   "outputs": [],
   "source": [
    "U = U / len(U)"
   ]
  },
  {
   "cell_type": "code",
   "execution_count": 70,
   "id": "ff5f5148-de18-429a-be66-093f1698db47",
   "metadata": {},
   "outputs": [
    {
     "data": {
      "text/plain": [
       "array([[0.04166667, 0.04166667, 0.04166667, 0.04166667, 0.04166667,\n",
       "        0.04166667, 0.04166667, 0.04166667, 0.04166667, 0.04166667,\n",
       "        0.04166667, 0.04166667, 0.04166667, 0.04166667, 0.04166667,\n",
       "        0.04166667, 0.04166667, 0.04166667, 0.04166667, 0.04166667,\n",
       "        0.04166667, 0.04166667, 0.04166667, 0.04166667]])"
      ]
     },
     "execution_count": 70,
     "metadata": {},
     "output_type": "execute_result"
    }
   ],
   "source": [
    "U[:1]"
   ]
  },
  {
   "cell_type": "markdown",
   "id": "bff3a4a3-3013-404b-a6e5-f1ca3144d928",
   "metadata": {},
   "source": [
    "### Matriz de similitud suavizada"
   ]
  },
  {
   "cell_type": "code",
   "execution_count": 71,
   "id": "078855ac-4be0-4bea-a4f8-eb951cbaa928",
   "metadata": {},
   "outputs": [],
   "source": [
    "factor = 0.1  #valor pequeño para omitir ceros\n",
    "S_s = (1 - factor)*S + factor*U"
   ]
  },
  {
   "cell_type": "code",
   "execution_count": 73,
   "id": "b0825392-cfd5-412d-8e0d-0a3ef8c404ec",
   "metadata": {},
   "outputs": [
    {
     "data": {
      "text/plain": [
       "array([[0.68444718, 0.00416667, 0.00416667, 0.00416667, 0.00416667,\n",
       "        0.00416667, 0.08911048, 0.00416667, 0.00416667, 0.08696166,\n",
       "        0.05614734, 0.00416667, 0.00416667, 0.00416667, 0.00416667,\n",
       "        0.00416667, 0.00416667, 0.00416667, 0.00416667, 0.00416667,\n",
       "        0.00416667, 0.00416667, 0.00416667, 0.00416667]])"
      ]
     },
     "execution_count": 73,
     "metadata": {},
     "output_type": "execute_result"
    }
   ],
   "source": [
    "S_s[:1]"
   ]
  },
  {
   "cell_type": "markdown",
   "id": "a7524aaa-e435-41c2-8421-434063aa265c",
   "metadata": {},
   "source": [
    "#### Explicación\n",
    "\n",
    "escrbimos la explicación del suavizado laplaciano de markov"
   ]
  },
  {
   "cell_type": "markdown",
   "id": "9100fab3-da14-4c8a-8454-8a4d549ff5d4",
   "metadata": {},
   "source": [
    "## Grafo\n",
    "\n",
    "Debemos crearlo por aparte"
   ]
  },
  {
   "cell_type": "markdown",
   "id": "455c7a39-e7ef-4ba8-bdd3-43ac580d710c",
   "metadata": {},
   "source": [
    "## TextRank"
   ]
  },
  {
   "cell_type": "markdown",
   "id": "0ae7bb94-258b-4e0c-8611-ad9042edf3fe",
   "metadata": {},
   "source": [
    "### Matriz Estacionaria\n",
    "\n",
    "Ya tenemos la matriz de transición, que nos indica la probabilidad de pasar de una oración a otra, ahora, necesitamos saber cuál es la probabilidad del estado actual en el tiempo, es decir de la oración que se está analizando sin tener en en cuenta hacia qué otra oración puede ir."
   ]
  },
  {
   "cell_type": "code",
   "execution_count": 92,
   "id": "2b4d50d3-e730-4978-8ab6-4bdb5aa37913",
   "metadata": {},
   "outputs": [],
   "source": [
    "eigen_values, eigen_vectors = np.linalg.eig(S.T)"
   ]
  },
  {
   "cell_type": "code",
   "execution_count": 93,
   "id": "c40d2a18-d0f9-4cbc-bd39-7cb600d3a31d",
   "metadata": {},
   "outputs": [
    {
     "data": {
      "text/plain": [
       "array([1.        , 0.86664673, 0.84524074, 0.82338475, 0.81472008,\n",
       "       0.77307318, 0.76045412, 0.74948088, 0.73398798, 0.72032562,\n",
       "       0.41731513, 0.42223906, 0.45962069, 0.46559459, 0.47809886,\n",
       "       0.50087105, 0.51123721, 0.65981025, 0.56322085, 0.57564347,\n",
       "       0.58091814, 0.63872781, 0.61032953, 0.62012229])"
      ]
     },
     "execution_count": 93,
     "metadata": {},
     "output_type": "execute_result"
    }
   ],
   "source": [
    "eigen_values"
   ]
  },
  {
   "cell_type": "code",
   "execution_count": 94,
   "id": "9ba4c8b1-d408-4b81-a117-b6b880556ea3",
   "metadata": {},
   "outputs": [
    {
     "name": "stdout",
     "output_type": "stream",
     "text": [
      "0\n"
     ]
    }
   ],
   "source": [
    "# Buscamos la posición donde el eigen_values fue 1\n",
    "pos_eigen = np.where(np.isclose(eigen_values, 1.0))[0]\n",
    "print(pos_eigen[0])"
   ]
  },
  {
   "cell_type": "code",
   "execution_count": 95,
   "id": "ae8aebfd-9209-4096-b0c3-e60e58581a0e",
   "metadata": {},
   "outputs": [
    {
     "data": {
      "text/plain": [
       "array([-0.17088315, -0.16683293, -0.20567838, -0.2498079 , -0.19706824,\n",
       "       -0.15889722, -0.19988734, -0.26248927, -0.20897602, -0.24820384,\n",
       "       -0.19229987, -0.2317503 , -0.2060358 , -0.16720484, -0.18848506,\n",
       "       -0.21172529, -0.21567576, -0.16973832, -0.19770387, -0.19485202,\n",
       "       -0.23640176, -0.20003379, -0.19189516, -0.18299742])"
      ]
     },
     "execution_count": 95,
     "metadata": {},
     "output_type": "execute_result"
    }
   ],
   "source": [
    "# Localizamos el eigen_vector de la posición donde halló el 1.0\n",
    "eigen_vectors[:,pos_eigen[0]]"
   ]
  },
  {
   "cell_type": "markdown",
   "id": "641ec1dc-1727-45ce-adbc-e81eac2d6e2d",
   "metadata": {},
   "source": [
    "#### Explicación\n",
    "\n",
    "explicación de los eigen y porque la matriz transpuesta"
   ]
  },
  {
   "cell_type": "markdown",
   "id": "6013696b-93d4-4c05-bbdb-9df076c6a5d9",
   "metadata": {},
   "source": [
    "### Puntuación"
   ]
  },
  {
   "cell_type": "code",
   "execution_count": 96,
   "id": "a233ab64-3462-40ce-83bd-4ab6082a6f59",
   "metadata": {},
   "outputs": [],
   "source": [
    "scores = eigen_vectors[:,pos_eigen[0]]"
   ]
  },
  {
   "cell_type": "code",
   "execution_count": 97,
   "id": "ec06ba2e-06d0-4f23-b3da-54dbd234ce4f",
   "metadata": {},
   "outputs": [],
   "source": [
    "sort_index = np.argsort(-scores)"
   ]
  },
  {
   "cell_type": "code",
   "execution_count": 98,
   "id": "45ed5492-67ed-463b-9933-81dd7bcb0eb6",
   "metadata": {},
   "outputs": [
    {
     "data": {
      "text/plain": [
       "array([ 5,  1, 13, 17,  0, 23, 14, 22, 10, 19,  4, 18,  6, 21,  2, 12,  8,\n",
       "       15, 16, 11, 20,  9,  3,  7], dtype=int64)"
      ]
     },
     "execution_count": 98,
     "metadata": {},
     "output_type": "execute_result"
    }
   ],
   "source": [
    "# orden de oraciones más importantes\n",
    "sort_index"
   ]
  },
  {
   "cell_type": "markdown",
   "id": "d0c66e89-22b4-45e3-8347-56b15892c8f0",
   "metadata": {},
   "source": [
    "## Resumen"
   ]
  },
  {
   "cell_type": "code",
   "execution_count": 111,
   "id": "369404f9-5d45-41b9-a433-f5f44c99faad",
   "metadata": {},
   "outputs": [
    {
     "name": "stdout",
     "output_type": "stream",
     "text": [
      "Resumen\n",
      "\n",
      "-0.16:  Un método muy seguro y probado aunque poco\n",
      "eficiente desde el punto de vista sostenible, ya\n",
      "que exige usar equipos computacionales cada vez\n",
      "más potentes que son grandes consumidores de\n",
      "energía\n",
      "-0.17:  Esta analogía define la tarea titánica que\n",
      "ha supuesto para Ethereum su última actualización\n",
      "-0.17:  En caso de conductas maliciosas, se podría\n",
      "penalizar al atacante con parte o la totalidad de\n",
      "los ethers que bloqueó en un inicio\n",
      "-0.17:  Como el hilo de Ariadna, este\n",
      "‘criptoglosario’ muestra cómo se relacionan unos\n",
      "con otros en la economía que viene… o que ya está\n",
      "aquí.  Como contrapartida, preocupa la pérdida de\n",
      "descentralización que podría acarrear PoS\n",
      "-0.17: Como cambiarle a un coche su motor diésel\n",
      "por uno eléctrico mientras está en marcha\n",
      "-0.18:  Un usuario puede depositar sus ‘tokens’\n",
      "para convertirse en validador, participar de\n",
      "manera indirecta a través de un ‘exchange’, como\n",
      "se ha mencionado anteriormente, o prestarlos en\n",
      "protocolos financieros descentralizados en los que\n",
      "obtener también rendimientos.  El debate está\n",
      "sobre la mesa.\n"
     ]
    }
   ],
   "source": [
    "print('Resumen\\n')\n",
    "cantidad_oraciones = 6\n",
    "for i in sort_index[:cantidad_oraciones]:\n",
    "    print(\"\\n\".join(textwrap.wrap(f\"{scores[i]:.2f}: {lineas[i]}\", width=50)))"
   ]
  },
  {
   "cell_type": "markdown",
   "id": "7688fa47-b180-4549-be8b-ae2094848a35",
   "metadata": {},
   "source": [
    "## Conclusiones"
   ]
  },
  {
   "cell_type": "markdown",
   "id": "cc73afae-ebb0-42fa-b906-fc821bea1929",
   "metadata": {},
   "source": [
    "<div style=\"text-align: center;\">\n",
    "    <p>La tecnología del método TextRank, evidencia un avance significativo en la realización de resúmenes. Podemos observar la coherencia del texto y como se comprende fácilmente la idea principal de la noticia que se tomó como ejemplo.\n",
    "     </p>\n",
    "    <hr/>\n",
    "    <p style=\"text-align: right;\">Mg. Luis Felipe Bustamante Narváez</p>\n",
    "</div>"
   ]
  }
 ],
 "metadata": {
  "kernelspec": {
   "display_name": "Python 3 (ipykernel)",
   "language": "python",
   "name": "python3"
  },
  "language_info": {
   "codemirror_mode": {
    "name": "ipython",
    "version": 3
   },
   "file_extension": ".py",
   "mimetype": "text/x-python",
   "name": "python",
   "nbconvert_exporter": "python",
   "pygments_lexer": "ipython3",
   "version": "3.12.9"
  }
 },
 "nbformat": 4,
 "nbformat_minor": 5
}
