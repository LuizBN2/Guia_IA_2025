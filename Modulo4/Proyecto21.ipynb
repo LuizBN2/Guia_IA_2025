{
 "cells": [
  {
   "cell_type": "markdown",
   "id": "1b164ffe-0c0e-4b1e-a4ff-a283428907b9",
   "metadata": {},
   "source": [
    "<div style=\"text-align: center;\">\n",
    "    <h1 style=\"color: #a64dff;\">Anexo 21</h1>\n",
    "    <h3>Proyecto 21: Clasificador de Texto con CNN's para NLP</h3>\n",
    "    <hr/>\n",
    "    <p style=\"text-align: right;\">Mg. Luis Felipe Bustamante Narváez</p>\n",
    "</div>"
   ]
  },
  {
   "cell_type": "markdown",
   "id": "4c98b61f-ec86-4b55-ac77-c9887e135c6e",
   "metadata": {},
   "source": [
    "En este proyecto, diseñaremos un clasificador de texto, utilizando redes neuronales convoucionales, recurso que permite un procesamiento más complejo de los ejercicios anteriores, pero a su vez más preciso y con excelente eficiencia, y mínimo coste computacional."
   ]
  },
  {
   "cell_type": "markdown",
   "id": "268c09ca-6e43-4643-966c-c73417207406",
   "metadata": {},
   "source": [
    "## Librerías"
   ]
  },
  {
   "cell_type": "code",
   "execution_count": 2,
   "id": "8efd0a9d-c7d4-46c2-a6a7-14e175313e38",
   "metadata": {},
   "outputs": [],
   "source": [
    "import numpy as np\n",
    "import pandas as pd\n",
    "import tensorflow as tf\n",
    "import matplotlib.pyplot as plt\n",
    "from sklearn.model_selection import train_test_split\n",
    "from tensorflow.keras.preprocessing.text import Tokenizer\n",
    "from tensorflow.keras.preprocessing.sequence import pad_sequences\n",
    "from tensorflow.keras.layers import Dense, Input, GlobalMaxPooling1D\n",
    "from tensorflow.keras.layers import Conv1D, MaxPooling1D, Embedding\n",
    "from tensorflow.keras.models import Model\n",
    "from tensorflow.keras.losses import SparseCategoricalCrossentropy\n",
    "import itertools\n",
    "from keras.models import load_model\n",
    "from keras.optimizers import RMSprop\n",
    "import pickle"
   ]
  },
  {
   "cell_type": "markdown",
   "id": "667758e9-8741-4bf9-99de-50a5afea4a9d",
   "metadata": {},
   "source": [
    "## Cargamos los Datos"
   ]
  },
  {
   "cell_type": "code",
   "execution_count": 3,
   "id": "b4b84b64-fb43-4983-9415-50611d11be45",
   "metadata": {},
   "outputs": [],
   "source": [
    "path = 'data/df_total.csv'\n",
    "df = pd.read_csv(path)"
   ]
  },
  {
   "cell_type": "code",
   "execution_count": 4,
   "id": "79fc70ca-7719-4c88-a6c2-2277cf10d837",
   "metadata": {},
   "outputs": [
    {
     "data": {
      "text/html": [
       "<div>\n",
       "<style scoped>\n",
       "    .dataframe tbody tr th:only-of-type {\n",
       "        vertical-align: middle;\n",
       "    }\n",
       "\n",
       "    .dataframe tbody tr th {\n",
       "        vertical-align: top;\n",
       "    }\n",
       "\n",
       "    .dataframe thead th {\n",
       "        text-align: right;\n",
       "    }\n",
       "</style>\n",
       "<table border=\"1\" class=\"dataframe\">\n",
       "  <thead>\n",
       "    <tr style=\"text-align: right;\">\n",
       "      <th></th>\n",
       "      <th>url</th>\n",
       "      <th>news</th>\n",
       "      <th>Type</th>\n",
       "    </tr>\n",
       "  </thead>\n",
       "  <tbody>\n",
       "    <tr>\n",
       "      <th>0</th>\n",
       "      <td>https://www.larepublica.co/redirect/post/3201905</td>\n",
       "      <td>Durante el foro La banca articulador empresari...</td>\n",
       "      <td>Otra</td>\n",
       "    </tr>\n",
       "    <tr>\n",
       "      <th>1</th>\n",
       "      <td>https://www.larepublica.co/redirect/post/3210288</td>\n",
       "      <td>El regulador de valores de China dijo el domin...</td>\n",
       "      <td>Regulaciones</td>\n",
       "    </tr>\n",
       "    <tr>\n",
       "      <th>2</th>\n",
       "      <td>https://www.larepublica.co/redirect/post/3240676</td>\n",
       "      <td>En una industria históricamente masculina como...</td>\n",
       "      <td>Alianzas</td>\n",
       "    </tr>\n",
       "    <tr>\n",
       "      <th>3</th>\n",
       "      <td>https://www.larepublica.co/redirect/post/3342889</td>\n",
       "      <td>Con el dato de marzo el IPC interanual encaden...</td>\n",
       "      <td>Macroeconomia</td>\n",
       "    </tr>\n",
       "    <tr>\n",
       "      <th>4</th>\n",
       "      <td>https://www.larepublica.co/redirect/post/3427208</td>\n",
       "      <td>Ayer en Cartagena se dio inicio a la versión n...</td>\n",
       "      <td>Otra</td>\n",
       "    </tr>\n",
       "    <tr>\n",
       "      <th>...</th>\n",
       "      <td>...</td>\n",
       "      <td>...</td>\n",
       "      <td>...</td>\n",
       "    </tr>\n",
       "    <tr>\n",
       "      <th>1212</th>\n",
       "      <td>https://www.bbva.com/es/como-lograr-que-los-in...</td>\n",
       "      <td>En la vida de toda empresa emergente llega un ...</td>\n",
       "      <td>Innovacion</td>\n",
       "    </tr>\n",
       "    <tr>\n",
       "      <th>1213</th>\n",
       "      <td>https://www.bbva.com/es/podcast-como-nos-afect...</td>\n",
       "      <td>La espiral alcista de los precios continúa y g...</td>\n",
       "      <td>Macroeconomia</td>\n",
       "    </tr>\n",
       "    <tr>\n",
       "      <th>1214</th>\n",
       "      <td>https://www.larepublica.co/redirect/post/3253735</td>\n",
       "      <td>Las grandes derrotas nacionales son experienci...</td>\n",
       "      <td>Alianzas</td>\n",
       "    </tr>\n",
       "    <tr>\n",
       "      <th>1215</th>\n",
       "      <td>https://www.bbva.com/es/bbva-y-barcelona-healt...</td>\n",
       "      <td>BBVA ha alcanzado un acuerdo de colaboración c...</td>\n",
       "      <td>Innovacion</td>\n",
       "    </tr>\n",
       "    <tr>\n",
       "      <th>1216</th>\n",
       "      <td>https://www.larepublica.co/redirect/post/3263980</td>\n",
       "      <td>Casi entrando a la parte final de noviembre la...</td>\n",
       "      <td>Alianzas</td>\n",
       "    </tr>\n",
       "  </tbody>\n",
       "</table>\n",
       "<p>1217 rows × 3 columns</p>\n",
       "</div>"
      ],
      "text/plain": [
       "                                                    url  \\\n",
       "0      https://www.larepublica.co/redirect/post/3201905   \n",
       "1      https://www.larepublica.co/redirect/post/3210288   \n",
       "2      https://www.larepublica.co/redirect/post/3240676   \n",
       "3      https://www.larepublica.co/redirect/post/3342889   \n",
       "4      https://www.larepublica.co/redirect/post/3427208   \n",
       "...                                                 ...   \n",
       "1212  https://www.bbva.com/es/como-lograr-que-los-in...   \n",
       "1213  https://www.bbva.com/es/podcast-como-nos-afect...   \n",
       "1214   https://www.larepublica.co/redirect/post/3253735   \n",
       "1215  https://www.bbva.com/es/bbva-y-barcelona-healt...   \n",
       "1216   https://www.larepublica.co/redirect/post/3263980   \n",
       "\n",
       "                                                   news           Type  \n",
       "0     Durante el foro La banca articulador empresari...           Otra  \n",
       "1     El regulador de valores de China dijo el domin...   Regulaciones  \n",
       "2     En una industria históricamente masculina como...       Alianzas  \n",
       "3     Con el dato de marzo el IPC interanual encaden...  Macroeconomia  \n",
       "4     Ayer en Cartagena se dio inicio a la versión n...           Otra  \n",
       "...                                                 ...            ...  \n",
       "1212  En la vida de toda empresa emergente llega un ...     Innovacion  \n",
       "1213  La espiral alcista de los precios continúa y g...  Macroeconomia  \n",
       "1214  Las grandes derrotas nacionales son experienci...       Alianzas  \n",
       "1215  BBVA ha alcanzado un acuerdo de colaboración c...     Innovacion  \n",
       "1216  Casi entrando a la parte final de noviembre la...       Alianzas  \n",
       "\n",
       "[1217 rows x 3 columns]"
      ]
     },
     "execution_count": 4,
     "metadata": {},
     "output_type": "execute_result"
    }
   ],
   "source": [
    "df"
   ]
  },
  {
   "cell_type": "markdown",
   "id": "b35a8052-ceed-4e30-b6e8-b14c3b329bb9",
   "metadata": {},
   "source": [
    "## Procesamiento de Datos"
   ]
  },
  {
   "cell_type": "markdown",
   "id": "66b5f560-d7fe-4b94-952b-f9184bc86f65",
   "metadata": {},
   "source": [
    "### Creamos las categorías"
   ]
  },
  {
   "cell_type": "code",
   "execution_count": 5,
   "id": "572a680c-1de3-45e6-bec0-cb4b504cb67c",
   "metadata": {},
   "outputs": [],
   "source": [
    "target = df['Type'].astype('category').cat.codes"
   ]
  },
  {
   "cell_type": "code",
   "execution_count": 6,
   "id": "54a4221a-67bd-48a2-b29a-73d90ecbd3e2",
   "metadata": {},
   "outputs": [
    {
     "data": {
      "text/plain": [
       "0       3\n",
       "1       4\n",
       "2       0\n",
       "3       2\n",
       "4       3\n",
       "       ..\n",
       "1212    1\n",
       "1213    2\n",
       "1214    0\n",
       "1215    1\n",
       "1216    0\n",
       "Length: 1217, dtype: int8"
      ]
     },
     "execution_count": 6,
     "metadata": {},
     "output_type": "execute_result"
    }
   ],
   "source": [
    "target"
   ]
  },
  {
   "cell_type": "code",
   "execution_count": 7,
   "id": "143affc2-63a8-45ff-a97f-4b320675c124",
   "metadata": {},
   "outputs": [],
   "source": [
    "# Adicionamos la columna al df\n",
    "df['target'] = target"
   ]
  },
  {
   "cell_type": "code",
   "execution_count": 8,
   "id": "55c97c48-376b-4549-b334-cbf0923ea85e",
   "metadata": {},
   "outputs": [
    {
     "data": {
      "text/html": [
       "<div>\n",
       "<style scoped>\n",
       "    .dataframe tbody tr th:only-of-type {\n",
       "        vertical-align: middle;\n",
       "    }\n",
       "\n",
       "    .dataframe tbody tr th {\n",
       "        vertical-align: top;\n",
       "    }\n",
       "\n",
       "    .dataframe thead th {\n",
       "        text-align: right;\n",
       "    }\n",
       "</style>\n",
       "<table border=\"1\" class=\"dataframe\">\n",
       "  <thead>\n",
       "    <tr style=\"text-align: right;\">\n",
       "      <th></th>\n",
       "      <th>url</th>\n",
       "      <th>news</th>\n",
       "      <th>Type</th>\n",
       "      <th>target</th>\n",
       "    </tr>\n",
       "  </thead>\n",
       "  <tbody>\n",
       "    <tr>\n",
       "      <th>0</th>\n",
       "      <td>https://www.larepublica.co/redirect/post/3201905</td>\n",
       "      <td>Durante el foro La banca articulador empresari...</td>\n",
       "      <td>Otra</td>\n",
       "      <td>3</td>\n",
       "    </tr>\n",
       "    <tr>\n",
       "      <th>1</th>\n",
       "      <td>https://www.larepublica.co/redirect/post/3210288</td>\n",
       "      <td>El regulador de valores de China dijo el domin...</td>\n",
       "      <td>Regulaciones</td>\n",
       "      <td>4</td>\n",
       "    </tr>\n",
       "    <tr>\n",
       "      <th>2</th>\n",
       "      <td>https://www.larepublica.co/redirect/post/3240676</td>\n",
       "      <td>En una industria históricamente masculina como...</td>\n",
       "      <td>Alianzas</td>\n",
       "      <td>0</td>\n",
       "    </tr>\n",
       "    <tr>\n",
       "      <th>3</th>\n",
       "      <td>https://www.larepublica.co/redirect/post/3342889</td>\n",
       "      <td>Con el dato de marzo el IPC interanual encaden...</td>\n",
       "      <td>Macroeconomia</td>\n",
       "      <td>2</td>\n",
       "    </tr>\n",
       "    <tr>\n",
       "      <th>4</th>\n",
       "      <td>https://www.larepublica.co/redirect/post/3427208</td>\n",
       "      <td>Ayer en Cartagena se dio inicio a la versión n...</td>\n",
       "      <td>Otra</td>\n",
       "      <td>3</td>\n",
       "    </tr>\n",
       "    <tr>\n",
       "      <th>...</th>\n",
       "      <td>...</td>\n",
       "      <td>...</td>\n",
       "      <td>...</td>\n",
       "      <td>...</td>\n",
       "    </tr>\n",
       "    <tr>\n",
       "      <th>1212</th>\n",
       "      <td>https://www.bbva.com/es/como-lograr-que-los-in...</td>\n",
       "      <td>En la vida de toda empresa emergente llega un ...</td>\n",
       "      <td>Innovacion</td>\n",
       "      <td>1</td>\n",
       "    </tr>\n",
       "    <tr>\n",
       "      <th>1213</th>\n",
       "      <td>https://www.bbva.com/es/podcast-como-nos-afect...</td>\n",
       "      <td>La espiral alcista de los precios continúa y g...</td>\n",
       "      <td>Macroeconomia</td>\n",
       "      <td>2</td>\n",
       "    </tr>\n",
       "    <tr>\n",
       "      <th>1214</th>\n",
       "      <td>https://www.larepublica.co/redirect/post/3253735</td>\n",
       "      <td>Las grandes derrotas nacionales son experienci...</td>\n",
       "      <td>Alianzas</td>\n",
       "      <td>0</td>\n",
       "    </tr>\n",
       "    <tr>\n",
       "      <th>1215</th>\n",
       "      <td>https://www.bbva.com/es/bbva-y-barcelona-healt...</td>\n",
       "      <td>BBVA ha alcanzado un acuerdo de colaboración c...</td>\n",
       "      <td>Innovacion</td>\n",
       "      <td>1</td>\n",
       "    </tr>\n",
       "    <tr>\n",
       "      <th>1216</th>\n",
       "      <td>https://www.larepublica.co/redirect/post/3263980</td>\n",
       "      <td>Casi entrando a la parte final de noviembre la...</td>\n",
       "      <td>Alianzas</td>\n",
       "      <td>0</td>\n",
       "    </tr>\n",
       "  </tbody>\n",
       "</table>\n",
       "<p>1217 rows × 4 columns</p>\n",
       "</div>"
      ],
      "text/plain": [
       "                                                    url  \\\n",
       "0      https://www.larepublica.co/redirect/post/3201905   \n",
       "1      https://www.larepublica.co/redirect/post/3210288   \n",
       "2      https://www.larepublica.co/redirect/post/3240676   \n",
       "3      https://www.larepublica.co/redirect/post/3342889   \n",
       "4      https://www.larepublica.co/redirect/post/3427208   \n",
       "...                                                 ...   \n",
       "1212  https://www.bbva.com/es/como-lograr-que-los-in...   \n",
       "1213  https://www.bbva.com/es/podcast-como-nos-afect...   \n",
       "1214   https://www.larepublica.co/redirect/post/3253735   \n",
       "1215  https://www.bbva.com/es/bbva-y-barcelona-healt...   \n",
       "1216   https://www.larepublica.co/redirect/post/3263980   \n",
       "\n",
       "                                                   news           Type  target  \n",
       "0     Durante el foro La banca articulador empresari...           Otra       3  \n",
       "1     El regulador de valores de China dijo el domin...   Regulaciones       4  \n",
       "2     En una industria históricamente masculina como...       Alianzas       0  \n",
       "3     Con el dato de marzo el IPC interanual encaden...  Macroeconomia       2  \n",
       "4     Ayer en Cartagena se dio inicio a la versión n...           Otra       3  \n",
       "...                                                 ...            ...     ...  \n",
       "1212  En la vida de toda empresa emergente llega un ...     Innovacion       1  \n",
       "1213  La espiral alcista de los precios continúa y g...  Macroeconomia       2  \n",
       "1214  Las grandes derrotas nacionales son experienci...       Alianzas       0  \n",
       "1215  BBVA ha alcanzado un acuerdo de colaboración c...     Innovacion       1  \n",
       "1216  Casi entrando a la parte final de noviembre la...       Alianzas       0  \n",
       "\n",
       "[1217 rows x 4 columns]"
      ]
     },
     "execution_count": 8,
     "metadata": {},
     "output_type": "execute_result"
    }
   ],
   "source": [
    "df"
   ]
  },
  {
   "cell_type": "markdown",
   "id": "9ae28208-6d82-4440-96cf-158b2c0c2277",
   "metadata": {},
   "source": [
    "### Separamos los conjuntos de Datos"
   ]
  },
  {
   "cell_type": "code",
   "execution_count": 9,
   "id": "9f12b139-25f1-43a5-884a-e5138e94ee3f",
   "metadata": {},
   "outputs": [],
   "source": [
    "df_train, df_test = train_test_split(df, test_size=0.3)"
   ]
  },
  {
   "cell_type": "markdown",
   "id": "e5d6c59a-15ce-4dda-b765-4e01b00d1717",
   "metadata": {},
   "source": [
    "### Obtenemos el número de clases"
   ]
  },
  {
   "cell_type": "code",
   "execution_count": 10,
   "id": "72e02758-fc65-4dea-8e83-789e6f1e936b",
   "metadata": {},
   "outputs": [
    {
     "data": {
      "text/plain": [
       "7"
      ]
     },
     "execution_count": 10,
     "metadata": {},
     "output_type": "execute_result"
    }
   ],
   "source": [
    "K = df['target'].max() + 1\n",
    "K"
   ]
  },
  {
   "cell_type": "markdown",
   "id": "d4158035-db66-4511-bef1-e26502ae9ce9",
   "metadata": {},
   "source": [
    "### Creamos los conjuntos de salida"
   ]
  },
  {
   "cell_type": "code",
   "execution_count": 11,
   "id": "009ba07c-9144-4c60-b58a-ffff707db53d",
   "metadata": {},
   "outputs": [],
   "source": [
    "Y_train = df_train['target']\n",
    "Y_test = df_test['target']"
   ]
  },
  {
   "cell_type": "code",
   "execution_count": 12,
   "id": "f8c35548-1cac-4b10-a467-3a82530d6630",
   "metadata": {},
   "outputs": [
    {
     "data": {
      "text/plain": [
       "851"
      ]
     },
     "execution_count": 12,
     "metadata": {},
     "output_type": "execute_result"
    }
   ],
   "source": [
    "len(Y_train)"
   ]
  },
  {
   "cell_type": "code",
   "execution_count": 13,
   "id": "db80b7ae-1ea2-4c39-b3c0-6b75f6364e18",
   "metadata": {},
   "outputs": [
    {
     "data": {
      "text/plain": [
       "366"
      ]
     },
     "execution_count": 13,
     "metadata": {},
     "output_type": "execute_result"
    }
   ],
   "source": [
    "len(Y_test)"
   ]
  },
  {
   "cell_type": "markdown",
   "id": "98763ef3-9137-4633-83db-b746993637c3",
   "metadata": {},
   "source": [
    "## Tokenización"
   ]
  },
  {
   "cell_type": "markdown",
   "id": "36ac0cab-3c3d-4bc5-933b-dda41c7328a1",
   "metadata": {},
   "source": [
    "### Tokenizamos oraciones en Secuencias"
   ]
  },
  {
   "cell_type": "code",
   "execution_count": 14,
   "id": "6e72ab69-8310-4912-bd4b-7c116d7efc59",
   "metadata": {},
   "outputs": [],
   "source": [
    "#Vocabulario máximo\n",
    "max_vocab_size = 30000\n",
    "#Iniciamos el tokenizador\n",
    "tokenizer = Tokenizer(num_words=max_vocab_size)\n",
    "#Tokenizamos\n",
    "tokenizer.fit_on_texts(df_train['news'])\n",
    "#Creamos las secuencias\n",
    "secuences_train = tokenizer.texts_to_sequences(df_train['news'])\n",
    "secuences_test = tokenizer.texts_to_sequences(df_test['news'])"
   ]
  },
  {
   "cell_type": "markdown",
   "id": "ab76f3db-88de-4336-b9c8-f299cf6328b1",
   "metadata": {},
   "source": [
    "### Diccionario de palabras tokenizadas"
   ]
  },
  {
   "cell_type": "code",
   "execution_count": 15,
   "id": "49620e71-2ad7-43fb-aa9f-fc6a67c0f54e",
   "metadata": {},
   "outputs": [
    {
     "name": "stdout",
     "output_type": "stream",
     "text": [
      "Se encontraron 26211 tokens.\n"
     ]
    }
   ],
   "source": [
    "# Creamos el diccionario\n",
    "word2index = tokenizer.word_index\n",
    "# Calculamos el tamaño del tokenizado\n",
    "V = len(word2index)\n",
    "# mostramos\n",
    "print(f'Se encontraron {V} tokens.')"
   ]
  },
  {
   "cell_type": "code",
   "execution_count": 16,
   "id": "524c5a89-2bf1-4788-b00c-ce865801e724",
   "metadata": {},
   "outputs": [
    {
     "name": "stdout",
     "output_type": "stream",
     "text": [
      "Estas son las 10 primeras palabras que más se repiten son:\n",
      "{'de': 1, 'la': 2, 'en': 3, 'el': 4, 'que': 5, 'y': 6, 'a': 7, 'los': 8, 'las': 9, 'del': 10}\n"
     ]
    }
   ],
   "source": [
    "diez = dict(itertools.islice(word2index.items(), 10))\n",
    "print(f'Estas son las 10 primeras palabras que más se repiten son:\\n{diez}')"
   ]
  },
  {
   "cell_type": "markdown",
   "id": "ad01c4af-2604-4368-a976-bd4655bbda41",
   "metadata": {},
   "source": [
    "### Rellenamos las Secuencias (padding)"
   ]
  },
  {
   "cell_type": "code",
   "execution_count": 17,
   "id": "e02669e2-2d83-4ad1-a546-f78315f7aedd",
   "metadata": {},
   "outputs": [
    {
     "name": "stdout",
     "output_type": "stream",
     "text": [
      "Dimensiones del tensor de entrenamiento: (851, 3015)\n",
      "Longitud de la secuencia de entrenamiento: 3015\n"
     ]
    }
   ],
   "source": [
    "# Rellenar la secuencia de entrenamiento\n",
    "data_train = pad_sequences(secuences_train)\n",
    "print(f'Dimensiones del tensor de entrenamiento: {data_train.shape}')\n",
    "# Longitud de la secuencia de entrenamiento\n",
    "T = data_train.shape[1]\n",
    "print(f'Longitud de la secuencia de entrenamiento: {T}')"
   ]
  },
  {
   "cell_type": "code",
   "execution_count": 18,
   "id": "7c781bce-bcac-4f56-b67c-938d654fc20c",
   "metadata": {},
   "outputs": [
    {
     "name": "stdout",
     "output_type": "stream",
     "text": [
      "Dimensiones del tensor de prueba: (366, 3015)\n",
      "Longitud de la secuencia de prueba: 3015\n"
     ]
    }
   ],
   "source": [
    "# Rellenar la secuencia de prueba\n",
    "data_test = pad_sequences(secuences_test, maxlen=T)\n",
    "print(f'Dimensiones del tensor de prueba: {data_test.shape}')\n",
    "# Longitud de la secuencia de prueba\n",
    "print(f'Longitud de la secuencia de prueba: {data_test.shape[1]}')"
   ]
  },
  {
   "cell_type": "markdown",
   "id": "88ee5ab2-3b32-4d59-a3ae-0cd48fb925a9",
   "metadata": {},
   "source": [
    "## Embedding y Modelo"
   ]
  },
  {
   "cell_type": "markdown",
   "id": "6f2c59cd-12eb-4608-ab9d-f2dcbd48a85a",
   "metadata": {},
   "source": [
    "### Dimensiones del Embedding"
   ]
  },
  {
   "cell_type": "code",
   "execution_count": 19,
   "id": "3b266d80-7e03-4ba2-a75a-e7fa48f84d6e",
   "metadata": {},
   "outputs": [],
   "source": [
    "# A modo de prueba\n",
    "D = 50"
   ]
  },
  {
   "cell_type": "markdown",
   "id": "0854a726-c0b9-4acc-a3b5-273b4c7e75bd",
   "metadata": {},
   "source": [
    "### Construcción del Modelo"
   ]
  },
  {
   "cell_type": "code",
   "execution_count": 20,
   "id": "88a3ab5c-7764-41ce-94c9-74a08239cf1c",
   "metadata": {},
   "outputs": [],
   "source": [
    "# Capa de entrada\n",
    "i = Input(shape=(T,))\n",
    "# Capa de embedding\n",
    "x = Embedding(V + 1, D)(i) #+1 para el token especial de palabras desconocidas padding\n",
    "# Capa de convolución\n",
    "x = Conv1D(32, 3, activation='relu')(x)  # 32 filtros por cada 3 palabras\n",
    "# Capa de pooling\n",
    "x = GlobalMaxPooling1D()(x)\n",
    "\n",
    "# Otras capas que podemos aplicar según lo visto\n",
    "#x = MaxPooling1D(3)(x)\n",
    "#x = Conv1D(64, 3, activation='relu')(x)\n",
    "#x = MaxPooling1D(3)(x)\n",
    "#x = Conv1D(128, 3, activation='relu')(x)\n",
    "\n",
    "# Capa Densa\n",
    "x = Dense(K)(x)\n",
    "\n",
    "# Creación del modelo\n",
    "modelo = Model(i, x)"
   ]
  },
  {
   "cell_type": "markdown",
   "id": "537cb2a1-ab93-4664-8e48-171907b7fd7d",
   "metadata": {},
   "source": [
    "### Resumen del Modelo"
   ]
  },
  {
   "cell_type": "code",
   "execution_count": 21,
   "id": "aa322b09-dba6-4d63-acdb-711563ee8b58",
   "metadata": {},
   "outputs": [
    {
     "data": {
      "text/html": [
       "<pre style=\"white-space:pre;overflow-x:auto;line-height:normal;font-family:Menlo,'DejaVu Sans Mono',consolas,'Courier New',monospace\"><span style=\"font-weight: bold\">Model: \"functional\"</span>\n",
       "</pre>\n"
      ],
      "text/plain": [
       "\u001b[1mModel: \"functional\"\u001b[0m\n"
      ]
     },
     "metadata": {},
     "output_type": "display_data"
    },
    {
     "data": {
      "text/html": [
       "<pre style=\"white-space:pre;overflow-x:auto;line-height:normal;font-family:Menlo,'DejaVu Sans Mono',consolas,'Courier New',monospace\">┏━━━━━━━━━━━━━━━━━━━━━━━━━━━━━━━━━┳━━━━━━━━━━━━━━━━━━━━━━━━┳━━━━━━━━━━━━━━━┓\n",
       "┃<span style=\"font-weight: bold\"> Layer (type)                    </span>┃<span style=\"font-weight: bold\"> Output Shape           </span>┃<span style=\"font-weight: bold\">       Param # </span>┃\n",
       "┡━━━━━━━━━━━━━━━━━━━━━━━━━━━━━━━━━╇━━━━━━━━━━━━━━━━━━━━━━━━╇━━━━━━━━━━━━━━━┩\n",
       "│ input_layer (<span style=\"color: #0087ff; text-decoration-color: #0087ff\">InputLayer</span>)        │ (<span style=\"color: #00d7ff; text-decoration-color: #00d7ff\">None</span>, <span style=\"color: #00af00; text-decoration-color: #00af00\">3015</span>)           │             <span style=\"color: #00af00; text-decoration-color: #00af00\">0</span> │\n",
       "├─────────────────────────────────┼────────────────────────┼───────────────┤\n",
       "│ embedding (<span style=\"color: #0087ff; text-decoration-color: #0087ff\">Embedding</span>)           │ (<span style=\"color: #00d7ff; text-decoration-color: #00d7ff\">None</span>, <span style=\"color: #00af00; text-decoration-color: #00af00\">3015</span>, <span style=\"color: #00af00; text-decoration-color: #00af00\">50</span>)       │     <span style=\"color: #00af00; text-decoration-color: #00af00\">1,310,600</span> │\n",
       "├─────────────────────────────────┼────────────────────────┼───────────────┤\n",
       "│ conv1d (<span style=\"color: #0087ff; text-decoration-color: #0087ff\">Conv1D</span>)                 │ (<span style=\"color: #00d7ff; text-decoration-color: #00d7ff\">None</span>, <span style=\"color: #00af00; text-decoration-color: #00af00\">3013</span>, <span style=\"color: #00af00; text-decoration-color: #00af00\">32</span>)       │         <span style=\"color: #00af00; text-decoration-color: #00af00\">4,832</span> │\n",
       "├─────────────────────────────────┼────────────────────────┼───────────────┤\n",
       "│ global_max_pooling1d            │ (<span style=\"color: #00d7ff; text-decoration-color: #00d7ff\">None</span>, <span style=\"color: #00af00; text-decoration-color: #00af00\">32</span>)             │             <span style=\"color: #00af00; text-decoration-color: #00af00\">0</span> │\n",
       "│ (<span style=\"color: #0087ff; text-decoration-color: #0087ff\">GlobalMaxPooling1D</span>)            │                        │               │\n",
       "├─────────────────────────────────┼────────────────────────┼───────────────┤\n",
       "│ dense (<span style=\"color: #0087ff; text-decoration-color: #0087ff\">Dense</span>)                   │ (<span style=\"color: #00d7ff; text-decoration-color: #00d7ff\">None</span>, <span style=\"color: #00af00; text-decoration-color: #00af00\">7</span>)              │           <span style=\"color: #00af00; text-decoration-color: #00af00\">231</span> │\n",
       "└─────────────────────────────────┴────────────────────────┴───────────────┘\n",
       "</pre>\n"
      ],
      "text/plain": [
       "┏━━━━━━━━━━━━━━━━━━━━━━━━━━━━━━━━━┳━━━━━━━━━━━━━━━━━━━━━━━━┳━━━━━━━━━━━━━━━┓\n",
       "┃\u001b[1m \u001b[0m\u001b[1mLayer (type)                   \u001b[0m\u001b[1m \u001b[0m┃\u001b[1m \u001b[0m\u001b[1mOutput Shape          \u001b[0m\u001b[1m \u001b[0m┃\u001b[1m \u001b[0m\u001b[1m      Param #\u001b[0m\u001b[1m \u001b[0m┃\n",
       "┡━━━━━━━━━━━━━━━━━━━━━━━━━━━━━━━━━╇━━━━━━━━━━━━━━━━━━━━━━━━╇━━━━━━━━━━━━━━━┩\n",
       "│ input_layer (\u001b[38;5;33mInputLayer\u001b[0m)        │ (\u001b[38;5;45mNone\u001b[0m, \u001b[38;5;34m3015\u001b[0m)           │             \u001b[38;5;34m0\u001b[0m │\n",
       "├─────────────────────────────────┼────────────────────────┼───────────────┤\n",
       "│ embedding (\u001b[38;5;33mEmbedding\u001b[0m)           │ (\u001b[38;5;45mNone\u001b[0m, \u001b[38;5;34m3015\u001b[0m, \u001b[38;5;34m50\u001b[0m)       │     \u001b[38;5;34m1,310,600\u001b[0m │\n",
       "├─────────────────────────────────┼────────────────────────┼───────────────┤\n",
       "│ conv1d (\u001b[38;5;33mConv1D\u001b[0m)                 │ (\u001b[38;5;45mNone\u001b[0m, \u001b[38;5;34m3013\u001b[0m, \u001b[38;5;34m32\u001b[0m)       │         \u001b[38;5;34m4,832\u001b[0m │\n",
       "├─────────────────────────────────┼────────────────────────┼───────────────┤\n",
       "│ global_max_pooling1d            │ (\u001b[38;5;45mNone\u001b[0m, \u001b[38;5;34m32\u001b[0m)             │             \u001b[38;5;34m0\u001b[0m │\n",
       "│ (\u001b[38;5;33mGlobalMaxPooling1D\u001b[0m)            │                        │               │\n",
       "├─────────────────────────────────┼────────────────────────┼───────────────┤\n",
       "│ dense (\u001b[38;5;33mDense\u001b[0m)                   │ (\u001b[38;5;45mNone\u001b[0m, \u001b[38;5;34m7\u001b[0m)              │           \u001b[38;5;34m231\u001b[0m │\n",
       "└─────────────────────────────────┴────────────────────────┴───────────────┘\n"
      ]
     },
     "metadata": {},
     "output_type": "display_data"
    },
    {
     "data": {
      "text/html": [
       "<pre style=\"white-space:pre;overflow-x:auto;line-height:normal;font-family:Menlo,'DejaVu Sans Mono',consolas,'Courier New',monospace\"><span style=\"font-weight: bold\"> Total params: </span><span style=\"color: #00af00; text-decoration-color: #00af00\">1,315,663</span> (5.02 MB)\n",
       "</pre>\n"
      ],
      "text/plain": [
       "\u001b[1m Total params: \u001b[0m\u001b[38;5;34m1,315,663\u001b[0m (5.02 MB)\n"
      ]
     },
     "metadata": {},
     "output_type": "display_data"
    },
    {
     "data": {
      "text/html": [
       "<pre style=\"white-space:pre;overflow-x:auto;line-height:normal;font-family:Menlo,'DejaVu Sans Mono',consolas,'Courier New',monospace\"><span style=\"font-weight: bold\"> Trainable params: </span><span style=\"color: #00af00; text-decoration-color: #00af00\">1,315,663</span> (5.02 MB)\n",
       "</pre>\n"
      ],
      "text/plain": [
       "\u001b[1m Trainable params: \u001b[0m\u001b[38;5;34m1,315,663\u001b[0m (5.02 MB)\n"
      ]
     },
     "metadata": {},
     "output_type": "display_data"
    },
    {
     "data": {
      "text/html": [
       "<pre style=\"white-space:pre;overflow-x:auto;line-height:normal;font-family:Menlo,'DejaVu Sans Mono',consolas,'Courier New',monospace\"><span style=\"font-weight: bold\"> Non-trainable params: </span><span style=\"color: #00af00; text-decoration-color: #00af00\">0</span> (0.00 B)\n",
       "</pre>\n"
      ],
      "text/plain": [
       "\u001b[1m Non-trainable params: \u001b[0m\u001b[38;5;34m0\u001b[0m (0.00 B)\n"
      ]
     },
     "metadata": {},
     "output_type": "display_data"
    }
   ],
   "source": [
    "modelo.summary()"
   ]
  },
  {
   "cell_type": "markdown",
   "id": "90c2be69-1ab3-4d88-8f3a-070b93dfebd9",
   "metadata": {},
   "source": [
    "### Compilamos el Modelo"
   ]
  },
  {
   "cell_type": "code",
   "execution_count": 22,
   "id": "cf44605e-410f-4c97-8561-c63381a351c1",
   "metadata": {},
   "outputs": [],
   "source": [
    "modelo.compile(\n",
    "    loss= SparseCategoricalCrossentropy(from_logits=True),\n",
    "    optimizer='adam',\n",
    "    metrics=['accuracy']    \n",
    ")"
   ]
  },
  {
   "cell_type": "markdown",
   "id": "904cb66d-e3c7-42d7-aa42-2718a740cc9a",
   "metadata": {},
   "source": [
    "### Entrenamos el Modelo"
   ]
  },
  {
   "cell_type": "code",
   "execution_count": 23,
   "id": "d4ae54ea-1d0e-450b-bea3-0b72105cd825",
   "metadata": {},
   "outputs": [
    {
     "name": "stdout",
     "output_type": "stream",
     "text": [
      "Entrenando el modelo...\n",
      "Epoch 1/50\n",
      "\u001b[1m27/27\u001b[0m \u001b[32m━━━━━━━━━━━━━━━━━━━━\u001b[0m\u001b[37m\u001b[0m \u001b[1m4s\u001b[0m 94ms/step - accuracy: 0.2044 - loss: 1.9174 - val_accuracy: 0.3743 - val_loss: 1.8217\n",
      "Epoch 2/50\n",
      "\u001b[1m27/27\u001b[0m \u001b[32m━━━━━━━━━━━━━━━━━━━━\u001b[0m\u001b[37m\u001b[0m \u001b[1m2s\u001b[0m 77ms/step - accuracy: 0.4886 - loss: 1.7329 - val_accuracy: 0.5301 - val_loss: 1.6466\n",
      "Epoch 3/50\n",
      "\u001b[1m27/27\u001b[0m \u001b[32m━━━━━━━━━━━━━━━━━━━━\u001b[0m\u001b[37m\u001b[0m \u001b[1m2s\u001b[0m 79ms/step - accuracy: 0.5219 - loss: 1.5242 - val_accuracy: 0.5492 - val_loss: 1.3515\n",
      "Epoch 4/50\n",
      "\u001b[1m27/27\u001b[0m \u001b[32m━━━━━━━━━━━━━━━━━━━━\u001b[0m\u001b[37m\u001b[0m \u001b[1m2s\u001b[0m 77ms/step - accuracy: 0.6132 - loss: 1.1348 - val_accuracy: 0.5847 - val_loss: 1.0305\n",
      "Epoch 5/50\n",
      "\u001b[1m27/27\u001b[0m \u001b[32m━━━━━━━━━━━━━━━━━━━━\u001b[0m\u001b[37m\u001b[0m \u001b[1m2s\u001b[0m 84ms/step - accuracy: 0.7493 - loss: 0.8580 - val_accuracy: 0.7459 - val_loss: 0.8614\n",
      "Epoch 6/50\n",
      "\u001b[1m27/27\u001b[0m \u001b[32m━━━━━━━━━━━━━━━━━━━━\u001b[0m\u001b[37m\u001b[0m \u001b[1m2s\u001b[0m 90ms/step - accuracy: 0.9018 - loss: 0.6951 - val_accuracy: 0.7814 - val_loss: 0.7717\n",
      "Epoch 7/50\n",
      "\u001b[1m27/27\u001b[0m \u001b[32m━━━━━━━━━━━━━━━━━━━━\u001b[0m\u001b[37m\u001b[0m \u001b[1m3s\u001b[0m 91ms/step - accuracy: 0.9438 - loss: 0.5200 - val_accuracy: 0.8033 - val_loss: 0.6967\n",
      "Epoch 8/50\n",
      "\u001b[1m27/27\u001b[0m \u001b[32m━━━━━━━━━━━━━━━━━━━━\u001b[0m\u001b[37m\u001b[0m \u001b[1m2s\u001b[0m 86ms/step - accuracy: 0.9339 - loss: 0.4408 - val_accuracy: 0.8115 - val_loss: 0.6394\n",
      "Epoch 9/50\n",
      "\u001b[1m27/27\u001b[0m \u001b[32m━━━━━━━━━━━━━━━━━━━━\u001b[0m\u001b[37m\u001b[0m \u001b[1m3s\u001b[0m 95ms/step - accuracy: 0.9510 - loss: 0.3213 - val_accuracy: 0.8197 - val_loss: 0.5854\n",
      "Epoch 10/50\n",
      "\u001b[1m27/27\u001b[0m \u001b[32m━━━━━━━━━━━━━━━━━━━━\u001b[0m\u001b[37m\u001b[0m \u001b[1m2s\u001b[0m 90ms/step - accuracy: 0.9521 - loss: 0.2538 - val_accuracy: 0.8333 - val_loss: 0.5459\n",
      "Epoch 11/50\n",
      "\u001b[1m27/27\u001b[0m \u001b[32m━━━━━━━━━━━━━━━━━━━━\u001b[0m\u001b[37m\u001b[0m \u001b[1m3s\u001b[0m 95ms/step - accuracy: 0.9692 - loss: 0.1931 - val_accuracy: 0.8333 - val_loss: 0.5127\n",
      "Epoch 12/50\n",
      "\u001b[1m27/27\u001b[0m \u001b[32m━━━━━━━━━━━━━━━━━━━━\u001b[0m\u001b[37m\u001b[0m \u001b[1m3s\u001b[0m 93ms/step - accuracy: 0.9820 - loss: 0.1362 - val_accuracy: 0.8388 - val_loss: 0.4936\n",
      "Epoch 13/50\n",
      "\u001b[1m27/27\u001b[0m \u001b[32m━━━━━━━━━━━━━━━━━━━━\u001b[0m\u001b[37m\u001b[0m \u001b[1m3s\u001b[0m 92ms/step - accuracy: 0.9868 - loss: 0.1071 - val_accuracy: 0.8497 - val_loss: 0.4709\n",
      "Epoch 14/50\n",
      "\u001b[1m27/27\u001b[0m \u001b[32m━━━━━━━━━━━━━━━━━━━━\u001b[0m\u001b[37m\u001b[0m \u001b[1m2s\u001b[0m 87ms/step - accuracy: 0.9930 - loss: 0.0916 - val_accuracy: 0.8415 - val_loss: 0.4605\n",
      "Epoch 15/50\n",
      "\u001b[1m27/27\u001b[0m \u001b[32m━━━━━━━━━━━━━━━━━━━━\u001b[0m\u001b[37m\u001b[0m \u001b[1m2s\u001b[0m 90ms/step - accuracy: 0.9967 - loss: 0.0721 - val_accuracy: 0.8497 - val_loss: 0.4491\n",
      "Epoch 16/50\n",
      "\u001b[1m27/27\u001b[0m \u001b[32m━━━━━━━━━━━━━━━━━━━━\u001b[0m\u001b[37m\u001b[0m \u001b[1m3s\u001b[0m 92ms/step - accuracy: 0.9949 - loss: 0.0637 - val_accuracy: 0.8470 - val_loss: 0.4411\n",
      "Epoch 17/50\n",
      "\u001b[1m27/27\u001b[0m \u001b[32m━━━━━━━━━━━━━━━━━━━━\u001b[0m\u001b[37m\u001b[0m \u001b[1m3s\u001b[0m 96ms/step - accuracy: 0.9977 - loss: 0.0479 - val_accuracy: 0.8470 - val_loss: 0.4351\n",
      "Epoch 18/50\n",
      "\u001b[1m27/27\u001b[0m \u001b[32m━━━━━━━━━━━━━━━━━━━━\u001b[0m\u001b[37m\u001b[0m \u001b[1m3s\u001b[0m 97ms/step - accuracy: 0.9972 - loss: 0.0418 - val_accuracy: 0.8497 - val_loss: 0.4294\n",
      "Epoch 19/50\n",
      "\u001b[1m27/27\u001b[0m \u001b[32m━━━━━━━━━━━━━━━━━━━━\u001b[0m\u001b[37m\u001b[0m \u001b[1m3s\u001b[0m 92ms/step - accuracy: 0.9966 - loss: 0.0342 - val_accuracy: 0.8552 - val_loss: 0.4271\n",
      "Epoch 20/50\n",
      "\u001b[1m27/27\u001b[0m \u001b[32m━━━━━━━━━━━━━━━━━━━━\u001b[0m\u001b[37m\u001b[0m \u001b[1m3s\u001b[0m 98ms/step - accuracy: 0.9976 - loss: 0.0276 - val_accuracy: 0.8552 - val_loss: 0.4237\n",
      "Epoch 21/50\n",
      "\u001b[1m27/27\u001b[0m \u001b[32m━━━━━━━━━━━━━━━━━━━━\u001b[0m\u001b[37m\u001b[0m \u001b[1m2s\u001b[0m 88ms/step - accuracy: 0.9994 - loss: 0.0245 - val_accuracy: 0.8552 - val_loss: 0.4204\n",
      "Epoch 22/50\n",
      "\u001b[1m27/27\u001b[0m \u001b[32m━━━━━━━━━━━━━━━━━━━━\u001b[0m\u001b[37m\u001b[0m \u001b[1m3s\u001b[0m 95ms/step - accuracy: 0.9978 - loss: 0.0207 - val_accuracy: 0.8497 - val_loss: 0.4215\n",
      "Epoch 23/50\n",
      "\u001b[1m27/27\u001b[0m \u001b[32m━━━━━━━━━━━━━━━━━━━━\u001b[0m\u001b[37m\u001b[0m \u001b[1m3s\u001b[0m 93ms/step - accuracy: 0.9991 - loss: 0.0187 - val_accuracy: 0.8497 - val_loss: 0.4203\n",
      "Epoch 24/50\n",
      "\u001b[1m27/27\u001b[0m \u001b[32m━━━━━━━━━━━━━━━━━━━━\u001b[0m\u001b[37m\u001b[0m \u001b[1m3s\u001b[0m 95ms/step - accuracy: 0.9971 - loss: 0.0198 - val_accuracy: 0.8525 - val_loss: 0.4179\n",
      "Epoch 25/50\n",
      "\u001b[1m27/27\u001b[0m \u001b[32m━━━━━━━━━━━━━━━━━━━━\u001b[0m\u001b[37m\u001b[0m \u001b[1m2s\u001b[0m 90ms/step - accuracy: 0.9954 - loss: 0.0314 - val_accuracy: 0.8497 - val_loss: 0.4178\n",
      "Epoch 26/50\n",
      "\u001b[1m27/27\u001b[0m \u001b[32m━━━━━━━━━━━━━━━━━━━━\u001b[0m\u001b[37m\u001b[0m \u001b[1m2s\u001b[0m 91ms/step - accuracy: 0.9977 - loss: 0.0155 - val_accuracy: 0.8497 - val_loss: 0.4185\n",
      "Epoch 27/50\n",
      "\u001b[1m27/27\u001b[0m \u001b[32m━━━━━━━━━━━━━━━━━━━━\u001b[0m\u001b[37m\u001b[0m \u001b[1m2s\u001b[0m 91ms/step - accuracy: 0.9986 - loss: 0.0161 - val_accuracy: 0.8497 - val_loss: 0.4153\n",
      "Epoch 28/50\n",
      "\u001b[1m27/27\u001b[0m \u001b[32m━━━━━━━━━━━━━━━━━━━━\u001b[0m\u001b[37m\u001b[0m \u001b[1m3s\u001b[0m 99ms/step - accuracy: 0.9988 - loss: 0.0152 - val_accuracy: 0.8497 - val_loss: 0.4183\n",
      "Epoch 29/50\n",
      "\u001b[1m27/27\u001b[0m \u001b[32m━━━━━━━━━━━━━━━━━━━━\u001b[0m\u001b[37m\u001b[0m \u001b[1m2s\u001b[0m 90ms/step - accuracy: 0.9980 - loss: 0.0122 - val_accuracy: 0.8470 - val_loss: 0.4179\n",
      "Epoch 30/50\n",
      "\u001b[1m27/27\u001b[0m \u001b[32m━━━━━━━━━━━━━━━━━━━━\u001b[0m\u001b[37m\u001b[0m \u001b[1m2s\u001b[0m 88ms/step - accuracy: 0.9977 - loss: 0.0131 - val_accuracy: 0.8470 - val_loss: 0.4181\n",
      "Epoch 31/50\n",
      "\u001b[1m27/27\u001b[0m \u001b[32m━━━━━━━━━━━━━━━━━━━━\u001b[0m\u001b[37m\u001b[0m \u001b[1m3s\u001b[0m 100ms/step - accuracy: 0.9940 - loss: 0.0174 - val_accuracy: 0.8525 - val_loss: 0.4193\n",
      "Epoch 32/50\n",
      "\u001b[1m27/27\u001b[0m \u001b[32m━━━━━━━━━━━━━━━━━━━━\u001b[0m\u001b[37m\u001b[0m \u001b[1m3s\u001b[0m 99ms/step - accuracy: 0.9989 - loss: 0.0077 - val_accuracy: 0.8497 - val_loss: 0.4163\n",
      "Epoch 33/50\n",
      "\u001b[1m27/27\u001b[0m \u001b[32m━━━━━━━━━━━━━━━━━━━━\u001b[0m\u001b[37m\u001b[0m \u001b[1m2s\u001b[0m 91ms/step - accuracy: 0.9989 - loss: 0.0093 - val_accuracy: 0.8525 - val_loss: 0.4161\n",
      "Epoch 34/50\n",
      "\u001b[1m27/27\u001b[0m \u001b[32m━━━━━━━━━━━━━━━━━━━━\u001b[0m\u001b[37m\u001b[0m \u001b[1m3s\u001b[0m 101ms/step - accuracy: 0.9971 - loss: 0.0103 - val_accuracy: 0.8579 - val_loss: 0.4150\n",
      "Epoch 35/50\n",
      "\u001b[1m27/27\u001b[0m \u001b[32m━━━━━━━━━━━━━━━━━━━━\u001b[0m\u001b[37m\u001b[0m \u001b[1m3s\u001b[0m 94ms/step - accuracy: 0.9937 - loss: 0.0191 - val_accuracy: 0.8552 - val_loss: 0.4156\n",
      "Epoch 36/50\n",
      "\u001b[1m27/27\u001b[0m \u001b[32m━━━━━━━━━━━━━━━━━━━━\u001b[0m\u001b[37m\u001b[0m \u001b[1m3s\u001b[0m 93ms/step - accuracy: 0.9990 - loss: 0.0067 - val_accuracy: 0.8552 - val_loss: 0.4188\n",
      "Epoch 37/50\n",
      "\u001b[1m27/27\u001b[0m \u001b[32m━━━━━━━━━━━━━━━━━━━━\u001b[0m\u001b[37m\u001b[0m \u001b[1m3s\u001b[0m 100ms/step - accuracy: 0.9964 - loss: 0.0107 - val_accuracy: 0.8579 - val_loss: 0.4195\n",
      "Epoch 38/50\n",
      "\u001b[1m27/27\u001b[0m \u001b[32m━━━━━━━━━━━━━━━━━━━━\u001b[0m\u001b[37m\u001b[0m \u001b[1m3s\u001b[0m 95ms/step - accuracy: 0.9964 - loss: 0.0135 - val_accuracy: 0.8579 - val_loss: 0.4188\n",
      "Epoch 39/50\n",
      "\u001b[1m27/27\u001b[0m \u001b[32m━━━━━━━━━━━━━━━━━━━━\u001b[0m\u001b[37m\u001b[0m \u001b[1m3s\u001b[0m 96ms/step - accuracy: 0.9978 - loss: 0.0079 - val_accuracy: 0.8552 - val_loss: 0.4184\n",
      "Epoch 40/50\n",
      "\u001b[1m27/27\u001b[0m \u001b[32m━━━━━━━━━━━━━━━━━━━━\u001b[0m\u001b[37m\u001b[0m \u001b[1m3s\u001b[0m 94ms/step - accuracy: 0.9963 - loss: 0.0115 - val_accuracy: 0.8607 - val_loss: 0.4186\n",
      "Epoch 41/50\n",
      "\u001b[1m27/27\u001b[0m \u001b[32m━━━━━━━━━━━━━━━━━━━━\u001b[0m\u001b[37m\u001b[0m \u001b[1m3s\u001b[0m 93ms/step - accuracy: 0.9986 - loss: 0.0091 - val_accuracy: 0.8552 - val_loss: 0.4196\n",
      "Epoch 42/50\n",
      "\u001b[1m27/27\u001b[0m \u001b[32m━━━━━━━━━━━━━━━━━━━━\u001b[0m\u001b[37m\u001b[0m \u001b[1m3s\u001b[0m 94ms/step - accuracy: 0.9983 - loss: 0.0090 - val_accuracy: 0.8579 - val_loss: 0.4242\n",
      "Epoch 43/50\n",
      "\u001b[1m27/27\u001b[0m \u001b[32m━━━━━━━━━━━━━━━━━━━━\u001b[0m\u001b[37m\u001b[0m \u001b[1m3s\u001b[0m 95ms/step - accuracy: 0.9982 - loss: 0.0108 - val_accuracy: 0.8579 - val_loss: 0.4255\n",
      "Epoch 44/50\n",
      "\u001b[1m27/27\u001b[0m \u001b[32m━━━━━━━━━━━━━━━━━━━━\u001b[0m\u001b[37m\u001b[0m \u001b[1m3s\u001b[0m 92ms/step - accuracy: 0.9967 - loss: 0.0106 - val_accuracy: 0.8579 - val_loss: 0.4189\n",
      "Epoch 45/50\n",
      "\u001b[1m27/27\u001b[0m \u001b[32m━━━━━━━━━━━━━━━━━━━━\u001b[0m\u001b[37m\u001b[0m \u001b[1m3s\u001b[0m 92ms/step - accuracy: 0.9954 - loss: 0.0156 - val_accuracy: 0.8634 - val_loss: 0.4245\n",
      "Epoch 46/50\n",
      "\u001b[1m27/27\u001b[0m \u001b[32m━━━━━━━━━━━━━━━━━━━━\u001b[0m\u001b[37m\u001b[0m \u001b[1m3s\u001b[0m 97ms/step - accuracy: 0.9962 - loss: 0.0072 - val_accuracy: 0.8634 - val_loss: 0.4238\n",
      "Epoch 47/50\n",
      "\u001b[1m27/27\u001b[0m \u001b[32m━━━━━━━━━━━━━━━━━━━━\u001b[0m\u001b[37m\u001b[0m \u001b[1m3s\u001b[0m 94ms/step - accuracy: 0.9964 - loss: 0.0121 - val_accuracy: 0.8634 - val_loss: 0.4222\n",
      "Epoch 48/50\n",
      "\u001b[1m27/27\u001b[0m \u001b[32m━━━━━━━━━━━━━━━━━━━━\u001b[0m\u001b[37m\u001b[0m \u001b[1m3s\u001b[0m 92ms/step - accuracy: 0.9956 - loss: 0.0136 - val_accuracy: 0.8661 - val_loss: 0.4298\n",
      "Epoch 49/50\n",
      "\u001b[1m27/27\u001b[0m \u001b[32m━━━━━━━━━━━━━━━━━━━━\u001b[0m\u001b[37m\u001b[0m \u001b[1m3s\u001b[0m 95ms/step - accuracy: 0.9969 - loss: 0.0098 - val_accuracy: 0.8634 - val_loss: 0.4251\n",
      "Epoch 50/50\n",
      "\u001b[1m27/27\u001b[0m \u001b[32m━━━━━━━━━━━━━━━━━━━━\u001b[0m\u001b[37m\u001b[0m \u001b[1m3s\u001b[0m 95ms/step - accuracy: 0.9988 - loss: 0.0080 - val_accuracy: 0.8634 - val_loss: 0.4250\n"
     ]
    }
   ],
   "source": [
    "print('Entrenando el modelo...')\n",
    "r = modelo.fit(\n",
    "    data_train,\n",
    "    Y_train,\n",
    "    epochs=50,\n",
    "    validation_data=(data_test, Y_test)\n",
    ")"
   ]
  },
  {
   "cell_type": "markdown",
   "id": "218db3aa-f81b-4ded-a7c4-2c047271782c",
   "metadata": {},
   "source": [
    "### Gráfico de la pérdida por iteración"
   ]
  },
  {
   "cell_type": "code",
   "execution_count": 24,
   "id": "7759c61e-25c1-4257-b5ed-b791ab327efe",
   "metadata": {},
   "outputs": [
    {
     "data": {
      "image/png": "[encoded data removed]",
      "text/plain": [
       "<Figure size 640x480 with 1 Axes>"
      ]
     },
     "metadata": {},
     "output_type": "display_data"
    }
   ],
   "source": [
    "# Gráfico de la función de pérdida (loss)\n",
    "plt.plot(r.history['loss'], label='Pérdida del Entrenamiento', color='blue')\n",
    "plt.plot(r.history['val_loss'], label='Pérdida del set de prueba', color='orange')\n",
    "plt.xlabel('Épocas')\n",
    "plt.ylabel('Pérdida')\n",
    "plt.title('Evolución del entrenamiento')\n",
    "plt.legend()\n",
    "plt.grid(True)\n",
    "plt.show()"
   ]
  },
  {
   "cell_type": "markdown",
   "id": "8fa59ad4-f49a-4757-a158-91ea8526fbd7",
   "metadata": {},
   "source": [
    "### Gráfico de la presición por iteración"
   ]
  },
  {
   "cell_type": "code",
   "execution_count": 25,
   "id": "28ee1716-fc6f-4601-b78a-071d0d058bc2",
   "metadata": {},
   "outputs": [
    {
     "data": {
      "image/png": "[encoded data removed]",
      "text/plain": [
       "<Figure size 640x480 with 1 Axes>"
      ]
     },
     "metadata": {},
     "output_type": "display_data"
    }
   ],
   "source": [
    "# Gráfico de la métrica de presición (accuracy)\n",
    "plt.plot(r.history['accuracy'], label='Presición del Entrenamiento', color='red')\n",
    "plt.plot(r.history['val_accuracy'], label='Presición del set de prueba', color='black')\n",
    "plt.xlabel('Épocas')\n",
    "plt.ylabel('Presición')\n",
    "plt.title('Evolución del entrenamiento')\n",
    "plt.legend()\n",
    "plt.grid(True)\n",
    "plt.show()"
   ]
  },
  {
   "cell_type": "markdown",
   "id": "e67fb689-3a94-4d22-9b3a-4c7253d0da3a",
   "metadata": {},
   "source": [
    "## Guardar Modelo y sus Pesos"
   ]
  },
  {
   "cell_type": "code",
   "execution_count": 26,
   "id": "e1887e08-ddaf-4aa5-b72e-01e661ec212d",
   "metadata": {},
   "outputs": [
    {
     "name": "stdout",
     "output_type": "stream",
     "text": [
      "Modelo guardado con éxito.\n"
     ]
    }
   ],
   "source": [
    "# Archivo con extensión HDF5 (deprecado) o keras (actual)\n",
    "modelo.save('modelo21.keras')\n",
    "print('Modelo guardado con éxito.')"
   ]
  },
  {
   "cell_type": "code",
   "execution_count": 27,
   "id": "aa771fcf-c692-4d57-a99b-30a47b69c98e",
   "metadata": {},
   "outputs": [
    {
     "name": "stdout",
     "output_type": "stream",
     "text": [
      "Pesos del modelo guardados con éxito.\n"
     ]
    }
   ],
   "source": [
    "# Guardamos los pesos\n",
    "modelo.save_weights('modelo21_pesos.weights.h5')\n",
    "print('Pesos del modelo guardados con éxito.')"
   ]
  },
  {
   "cell_type": "code",
   "execution_count": 33,
   "id": "eb3cfcb1-0236-4e3e-ae1a-f77de202cad4",
   "metadata": {},
   "outputs": [],
   "source": [
    "# Guardamos el historial del modelo\n",
    "with open('historial_entrenamiento_21.pkl', 'wb') as f:\n",
    "    pickle.dump(r.history, f)"
   ]
  },
  {
   "cell_type": "code",
   "execution_count": 34,
   "id": "352d25d6-3532-48fb-b2d3-d4d70328b45c",
   "metadata": {},
   "outputs": [],
   "source": [
    "# Guardamos el tokenizador\n",
    "with open('tokenizer_21.pkl', 'wb') as f:\n",
    "    pickle.dump(tokenizer, f)"
   ]
  },
  {
   "cell_type": "markdown",
   "id": "f0279880-8f2f-4314-ba6b-be6569cca81c",
   "metadata": {},
   "source": [
    "## Cargar el Modelo para futuras pruebas"
   ]
  },
  {
   "cell_type": "code",
   "execution_count": 30,
   "id": "515eb9c7-286f-46a4-b6f5-86ae6de46012",
   "metadata": {},
   "outputs": [
    {
     "name": "stdout",
     "output_type": "stream",
     "text": [
      "El Modelo <Functional name=functional, built=True> se ha cargado, y recompilado correctamente.\n"
     ]
    }
   ],
   "source": [
    "model_load = load_model('modelo21.keras', compile=False)\n",
    "\n",
    "model_load.compile(\n",
    "    optimizer = RMSprop(),\n",
    "    loss = SparseCategoricalCrossentropy(from_logits=True),\n",
    "    metrics = ['accuracy']\n",
    ")\n",
    "\n",
    "print(f'El Modelo {model_load} se ha cargado, y recompilado correctamente.')"
   ]
  },
  {
   "cell_type": "markdown",
   "id": "76150952-8c0d-4623-a487-5023caaca399",
   "metadata": {},
   "source": [
    "## Probamos el Modelo con Datos nuevos"
   ]
  },
  {
   "cell_type": "markdown",
   "id": "55176551-663e-4124-86b5-5cd8f2307a35",
   "metadata": {},
   "source": [
    "### Función para predecir texto"
   ]
  },
  {
   "cell_type": "code",
   "execution_count": 31,
   "id": "89bcf6af-e239-4deb-9e9e-38a81043c226",
   "metadata": {},
   "outputs": [],
   "source": [
    "def predecir_texto(texto, modelo, tokenizer, T, idx2label=None):\n",
    "    # Asegurarse que el texto está en una lista\n",
    "    if isinstance(texto, str):\n",
    "        texto = [texto]\n",
    "\n",
    "    # Tokenizar y hacer padding\n",
    "    secuencia = tokenizer.texts_to_sequences(texto)\n",
    "    secuencia_padded = pad_sequences(secuencia, maxlen=T)\n",
    "\n",
    "    # Predicción\n",
    "    pred = modelo.predict(secuencia_padded)\n",
    "    clase_predicha = np.argmax(pred, axis=1)[0]\n",
    "\n",
    "    # Mostrar resultado\n",
    "    if idx2label:\n",
    "        print(f'Clase predicha: {clase_predicha} ({idx2label[clase_predicha]})')\n",
    "        return idx2label[clase_predicha]\n",
    "    else:\n",
    "        print(f'Clase predicha: {clase_predicha}')\n",
    "        return clase_predicha"
   ]
  },
  {
   "cell_type": "markdown",
   "id": "3efd0f14-373f-42db-997c-ac68e02923a2",
   "metadata": {},
   "source": [
    "### Llamamos la función"
   ]
  },
  {
   "cell_type": "code",
   "execution_count": 32,
   "id": "1394362e-553a-4557-8b69-2e7ef8089f85",
   "metadata": {},
   "outputs": [
    {
     "name": "stdout",
     "output_type": "stream",
     "text": [
      "\u001b[1m1/1\u001b[0m \u001b[32m━━━━━━━━━━━━━━━━━━━━\u001b[0m\u001b[37m\u001b[0m \u001b[1m0s\u001b[0m 115ms/step\n",
      "Clase predicha: 2\n"
     ]
    },
    {
     "data": {
      "text/plain": [
       "{0: 'Alianzas',\n",
       " 1: 'Innovacion',\n",
       " 2: 'Macroeconomia',\n",
       " 3: 'Otra',\n",
       " 4: 'Regulaciones',\n",
       " 5: 'Reputacion',\n",
       " 6: 'Sostenibilidad'}"
      ]
     },
     "execution_count": 32,
     "metadata": {},
     "output_type": "execute_result"
    }
   ],
   "source": [
    "texto_de_prueba = \"Este es un ejemplo de noticia económica internacional\"\n",
    "# Crear mapeo inverso de índices a nombres\n",
    "idx2label = dict(enumerate(df['Type'].astype('category').cat.categories))\n",
    "predecir_texto(texto_de_prueba, model_load, tokenizer, T)\n",
    "idx2label"
   ]
  },
  {
   "cell_type": "markdown",
   "id": "b36fe0d3-cd66-4e72-be80-03b7511d2ac3",
   "metadata": {},
   "source": [
    "## Conclusiones"
   ]
  },
  {
   "cell_type": "markdown",
   "id": "2202403e-5211-477b-9ef8-7ca5dd7364e2",
   "metadata": {},
   "source": [
    "<div style=\"text-align: center;\">\n",
    "    <p>En este modelo, se logró crear una clasificación a través de keras, capaz de indetificar, a partir del contenido de una noticia, cuál es su cateoría. Con un entrenamiento a través de embeddings y redes neuronales convolucionales, hemos generado un clasificador de mayor presición capaz de clasificar cualquier texto informativo.</p>\n",
    "        <hr/>\n",
    "    <p style=\"text-align: right;\">Mg. Luis Felipe Bustamante Narváez</p>\n",
    "</div>"
   ]
  }
 ],
 "metadata": {
  "kernelspec": {
   "display_name": "Python 3 (ipykernel)",
   "language": "python",
   "name": "python3"
  },
  "language_info": {
   "codemirror_mode": {
    "name": "ipython",
    "version": 3
   },
   "file_extension": ".py",
   "mimetype": "text/x-python",
   "name": "python",
   "nbconvert_exporter": "python",
   "pygments_lexer": "ipython3",
   "version": "3.12.9"
  }
 },
 "nbformat": 4,
 "nbformat_minor": 5
}
