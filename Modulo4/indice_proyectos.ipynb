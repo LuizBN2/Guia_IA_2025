{
 "cells": [
  {
   "cell_type": "markdown",
   "id": "fceb14db-84ac-4dec-ac3b-d5fde018411a",
   "metadata": {},
   "source": [
    "<div style=\"text-align: center;\">\n",
    "    <h1 style=\"color: red;\">Índice de Anexos</h1>\n",
    "    <h3>Ineligencia Artificial 1</h3>\n",
    "    <hr/>\n",
    "    <p style=\"text-align: right;\">Mg. Luis Felipe Bustamante Narváez</p>\n",
    "</div>"
   ]
  },
  {
   "cell_type": "markdown",
   "id": "d9c7b9f8-8f75-42be-bc38-c42a8b96c03d",
   "metadata": {},
   "source": [
    "<h1 style=\"color: red;\">Módulo 1</h1>\n",
    "\n",
    "- Proyectos del 1 al 7"
   ]
  },
  {
   "cell_type": "markdown",
   "id": "819edb94-9364-4c09-81f3-c6b3e19e70ec",
   "metadata": {},
   "source": [
    "<h3 style=\"color: red;\">Anexo 1</h3>"
   ]
  },
  {
   "cell_type": "markdown",
   "id": "36192d96-6b0d-40c7-be9b-5e709d2fe627",
   "metadata": {},
   "source": [
    "<h3 style=\"color: red;\">Anexo 2</h3>"
   ]
  },
  {
   "cell_type": "markdown",
   "id": "5409070e-f4dc-4b86-b89d-f3783c15b8d0",
   "metadata": {},
   "source": [
    "<h3 style=\"color: red;\">Anexo 3</h3>"
   ]
  },
  {
   "cell_type": "markdown",
   "id": "533c38da-17f1-4c36-a445-0dcf9cdf379d",
   "metadata": {},
   "source": [
    "<h3 style=\"color: red;\">Anexo 4</h3>"
   ]
  },
  {
   "cell_type": "markdown",
   "id": "bf9e1c43-2be8-4b82-9c9d-6c0e54dcd568",
   "metadata": {},
   "source": [
    "<h3 style=\"color: red;\">Anexo 5</h3>"
   ]
  },
  {
   "cell_type": "markdown",
   "id": "89268d3d-c564-4f83-8979-244919fe2890",
   "metadata": {},
   "source": [
    "<h3 style=\"color: red;\">Anexo 6</h3>"
   ]
  },
  {
   "cell_type": "markdown",
   "id": "6370aaae-7cd0-4fcb-af62-d39d7ee390a7",
   "metadata": {},
   "source": [
    "<h3 style=\"color: red;\">Anexo 7</h3>"
   ]
  },
  {
   "cell_type": "markdown",
   "id": "667fb403-e3db-4af0-969c-a2bfa0584c2d",
   "metadata": {},
   "source": [
    "<h1 style=\"color: blue;\">Módulo 2</h1>\n",
    "\n",
    "- Proyectos del 8 al 10"
   ]
  },
  {
   "cell_type": "markdown",
   "id": "39a40f32-ecf9-4001-821e-9db883de7a86",
   "metadata": {},
   "source": [
    "<h3 style=\"color: blue;\">Anexo 8</h3>"
   ]
  },
  {
   "cell_type": "markdown",
   "id": "37c01894-3673-4de2-97f0-b10ce75cb3db",
   "metadata": {},
   "source": [
    "<h3 style=\"color: blue;\">Anexo 9</h3>"
   ]
  },
  {
   "cell_type": "markdown",
   "id": "dee2a582-1456-4695-8bfc-fca838aded46",
   "metadata": {},
   "source": [
    "<h3 style=\"color: blue;\">Anexo 10</h3>"
   ]
  },
  {
   "cell_type": "markdown",
   "id": "2db9bd21-2917-4102-b3b8-72636b025ca2",
   "metadata": {},
   "source": []
  },
  {
   "cell_type": "markdown",
   "id": "4725020f-d4c1-4487-8b22-8b6dca33f21c",
   "metadata": {},
   "source": []
  },
  {
   "cell_type": "markdown",
   "id": "9af56bb3-1c83-4638-8fe1-90b523cfc987",
   "metadata": {},
   "source": []
  },
  {
   "cell_type": "markdown",
   "id": "718f9834-f0ad-4fb6-a135-66684b532d15",
   "metadata": {},
   "source": []
  },
  {
   "cell_type": "markdown",
   "id": "deb98155-e188-466c-8346-a2ee503370c7",
   "metadata": {},
   "source": []
  },
  {
   "cell_type": "markdown",
   "id": "f95a7c98-54f7-469a-a2e9-fc27ffac70f1",
   "metadata": {},
   "source": []
  }
 ],
 "metadata": {
  "kernelspec": {
   "display_name": "Python 3 (ipykernel)",
   "language": "python",
   "name": "python3"
  },
  "language_info": {
   "codemirror_mode": {
    "name": "ipython",
    "version": 3
   },
   "file_extension": ".py",
   "mimetype": "text/x-python",
   "name": "python",
   "nbconvert_exporter": "python",
   "pygments_lexer": "ipython3",
   "version": "3.12.9"
  }
 },
 "nbformat": 4,
 "nbformat_minor": 5
}
