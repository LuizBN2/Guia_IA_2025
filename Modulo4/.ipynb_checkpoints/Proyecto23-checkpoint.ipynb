{
 "cells": [
  {
   "cell_type": "markdown",
   "id": "4ba3ed30-de69-475a-ad6c-05273470de98",
   "metadata": {},
   "source": [
    "<div style=\"text-align: center;\">\n",
    "    <h1 style=\"color: #a64dff;\">Anexo 23</h1>\n",
    "    <h3>Proyecto 23: Clasificador de Texto con RNN's para NLP</h3>\n",
    "    <hr/>\n",
    "    <p style=\"text-align: right;\">Mg. Luis Felipe Bustamante Narváez</p>\n",
    "</div>"
   ]
  },
  {
   "cell_type": "markdown",
   "id": "973bd9b4-c88f-40c4-966b-4c37dccb3189",
   "metadata": {},
   "source": [
    "En este proyecto, diseñaremos un clasificador de texto, utilizando redes neuronales recurrentes, recurso que permite un procesamiento más complejo de los ejercicios anteriores, pero a su vez más preciso y con excelente eficiencia, y mínimo coste computacional."
   ]
  },
  {
   "cell_type": "markdown",
   "id": "dd009ef8-2251-48fc-9e58-26ecc71c54b6",
   "metadata": {},
   "source": [
    "## Librerías"
   ]
  },
  {
   "cell_type": "code",
   "execution_count": 1,
   "id": "802688ae-3f3f-4898-97b3-6d83aa193463",
   "metadata": {},
   "outputs": [],
   "source": [
    "import numpy as np\n",
    "import pandas as pd\n",
    "import tensorflow as tf\n",
    "import matplotlib.pyplot as plt\n",
    "from sklearn.model_selection import train_test_split\n",
    "from tensorflow.keras.preprocessing.text import Tokenizer\n",
    "from tensorflow.keras.preprocessing.sequence import pad_sequences\n",
    "from tensorflow.keras.layers import Dense, Input, GlobalMaxPooling1D\n",
    "from tensorflow.keras.layers import LSTM, GRU, SimpleRNN, Embedding\n",
    "from tensorflow.keras.models import Model\n",
    "from tensorflow.keras.losses import SparseCategoricalCrossentropy\n",
    "import itertools\n",
    "from keras.models import load_model\n",
    "from keras.optimizers import RMSprop\n",
    "import pickle"
   ]
  },
  {
   "cell_type": "markdown",
   "id": "06fa27c2-1c6b-4bc8-a51d-56703ce2b270",
   "metadata": {},
   "source": [
    "## Cargamos los datos"
   ]
  },
  {
   "cell_type": "code",
   "execution_count": 2,
   "id": "52774c4e-393c-4469-8adf-aa79fa3a1ad9",
   "metadata": {},
   "outputs": [],
   "source": [
    "path = 'data/df_total.csv'\n",
    "df = pd.read_csv(path)"
   ]
  },
  {
   "cell_type": "code",
   "execution_count": 3,
   "id": "1bbe64fd-4821-47e3-bbcf-c7ab27dba3b0",
   "metadata": {},
   "outputs": [
    {
     "data": {
      "text/html": [
       "<div>\n",
       "<style scoped>\n",
       "    .dataframe tbody tr th:only-of-type {\n",
       "        vertical-align: middle;\n",
       "    }\n",
       "\n",
       "    .dataframe tbody tr th {\n",
       "        vertical-align: top;\n",
       "    }\n",
       "\n",
       "    .dataframe thead th {\n",
       "        text-align: right;\n",
       "    }\n",
       "</style>\n",
       "<table border=\"1\" class=\"dataframe\">\n",
       "  <thead>\n",
       "    <tr style=\"text-align: right;\">\n",
       "      <th></th>\n",
       "      <th>url</th>\n",
       "      <th>news</th>\n",
       "      <th>Type</th>\n",
       "    </tr>\n",
       "  </thead>\n",
       "  <tbody>\n",
       "    <tr>\n",
       "      <th>0</th>\n",
       "      <td>https://www.larepublica.co/redirect/post/3201905</td>\n",
       "      <td>Durante el foro La banca articulador empresari...</td>\n",
       "      <td>Otra</td>\n",
       "    </tr>\n",
       "    <tr>\n",
       "      <th>1</th>\n",
       "      <td>https://www.larepublica.co/redirect/post/3210288</td>\n",
       "      <td>El regulador de valores de China dijo el domin...</td>\n",
       "      <td>Regulaciones</td>\n",
       "    </tr>\n",
       "    <tr>\n",
       "      <th>2</th>\n",
       "      <td>https://www.larepublica.co/redirect/post/3240676</td>\n",
       "      <td>En una industria históricamente masculina como...</td>\n",
       "      <td>Alianzas</td>\n",
       "    </tr>\n",
       "    <tr>\n",
       "      <th>3</th>\n",
       "      <td>https://www.larepublica.co/redirect/post/3342889</td>\n",
       "      <td>Con el dato de marzo el IPC interanual encaden...</td>\n",
       "      <td>Macroeconomia</td>\n",
       "    </tr>\n",
       "    <tr>\n",
       "      <th>4</th>\n",
       "      <td>https://www.larepublica.co/redirect/post/3427208</td>\n",
       "      <td>Ayer en Cartagena se dio inicio a la versión n...</td>\n",
       "      <td>Otra</td>\n",
       "    </tr>\n",
       "    <tr>\n",
       "      <th>...</th>\n",
       "      <td>...</td>\n",
       "      <td>...</td>\n",
       "      <td>...</td>\n",
       "    </tr>\n",
       "    <tr>\n",
       "      <th>1212</th>\n",
       "      <td>https://www.bbva.com/es/como-lograr-que-los-in...</td>\n",
       "      <td>En la vida de toda empresa emergente llega un ...</td>\n",
       "      <td>Innovacion</td>\n",
       "    </tr>\n",
       "    <tr>\n",
       "      <th>1213</th>\n",
       "      <td>https://www.bbva.com/es/podcast-como-nos-afect...</td>\n",
       "      <td>La espiral alcista de los precios continúa y g...</td>\n",
       "      <td>Macroeconomia</td>\n",
       "    </tr>\n",
       "    <tr>\n",
       "      <th>1214</th>\n",
       "      <td>https://www.larepublica.co/redirect/post/3253735</td>\n",
       "      <td>Las grandes derrotas nacionales son experienci...</td>\n",
       "      <td>Alianzas</td>\n",
       "    </tr>\n",
       "    <tr>\n",
       "      <th>1215</th>\n",
       "      <td>https://www.bbva.com/es/bbva-y-barcelona-healt...</td>\n",
       "      <td>BBVA ha alcanzado un acuerdo de colaboración c...</td>\n",
       "      <td>Innovacion</td>\n",
       "    </tr>\n",
       "    <tr>\n",
       "      <th>1216</th>\n",
       "      <td>https://www.larepublica.co/redirect/post/3263980</td>\n",
       "      <td>Casi entrando a la parte final de noviembre la...</td>\n",
       "      <td>Alianzas</td>\n",
       "    </tr>\n",
       "  </tbody>\n",
       "</table>\n",
       "<p>1217 rows × 3 columns</p>\n",
       "</div>"
      ],
      "text/plain": [
       "                                                    url  ...           Type\n",
       "0      https://www.larepublica.co/redirect/post/3201905  ...           Otra\n",
       "1      https://www.larepublica.co/redirect/post/3210288  ...   Regulaciones\n",
       "2      https://www.larepublica.co/redirect/post/3240676  ...       Alianzas\n",
       "3      https://www.larepublica.co/redirect/post/3342889  ...  Macroeconomia\n",
       "4      https://www.larepublica.co/redirect/post/3427208  ...           Otra\n",
       "...                                                 ...  ...            ...\n",
       "1212  https://www.bbva.com/es/como-lograr-que-los-in...  ...     Innovacion\n",
       "1213  https://www.bbva.com/es/podcast-como-nos-afect...  ...  Macroeconomia\n",
       "1214   https://www.larepublica.co/redirect/post/3253735  ...       Alianzas\n",
       "1215  https://www.bbva.com/es/bbva-y-barcelona-healt...  ...     Innovacion\n",
       "1216   https://www.larepublica.co/redirect/post/3263980  ...       Alianzas\n",
       "\n",
       "[1217 rows x 3 columns]"
      ]
     },
     "execution_count": 3,
     "metadata": {},
     "output_type": "execute_result"
    }
   ],
   "source": [
    "df"
   ]
  },
  {
   "cell_type": "markdown",
   "id": "eafce340-5cc7-4832-a92c-7611be6559db",
   "metadata": {},
   "source": [
    "## Procesamiento de Datos"
   ]
  },
  {
   "cell_type": "markdown",
   "id": "170327bd-b4f7-4d50-a745-620c5cc8e963",
   "metadata": {},
   "source": [
    "### Creamos las categorías"
   ]
  },
  {
   "cell_type": "code",
   "execution_count": 4,
   "id": "e0165872-e369-4e4d-9d1e-d0987d0fc099",
   "metadata": {},
   "outputs": [],
   "source": [
    "target = df['Type'].astype('category').cat.codes"
   ]
  },
  {
   "cell_type": "code",
   "execution_count": 5,
   "id": "85f318d3-3a53-452e-9501-481b37f80284",
   "metadata": {},
   "outputs": [
    {
     "data": {
      "text/plain": [
       "0       3\n",
       "1       4\n",
       "2       0\n",
       "3       2\n",
       "4       3\n",
       "       ..\n",
       "1212    1\n",
       "1213    2\n",
       "1214    0\n",
       "1215    1\n",
       "1216    0\n",
       "Length: 1217, dtype: int8"
      ]
     },
     "execution_count": 5,
     "metadata": {},
     "output_type": "execute_result"
    }
   ],
   "source": [
    "target"
   ]
  },
  {
   "cell_type": "code",
   "execution_count": 6,
   "id": "5df172f6-34c2-4033-9d90-be6f412d336d",
   "metadata": {},
   "outputs": [],
   "source": [
    "# Adicionamos la columna al df\n",
    "df['target'] = target"
   ]
  },
  {
   "cell_type": "code",
   "execution_count": 7,
   "id": "338b25f0-5fc7-4bdf-b9bc-3f39d62bd880",
   "metadata": {},
   "outputs": [
    {
     "data": {
      "text/html": [
       "<div>\n",
       "<style scoped>\n",
       "    .dataframe tbody tr th:only-of-type {\n",
       "        vertical-align: middle;\n",
       "    }\n",
       "\n",
       "    .dataframe tbody tr th {\n",
       "        vertical-align: top;\n",
       "    }\n",
       "\n",
       "    .dataframe thead th {\n",
       "        text-align: right;\n",
       "    }\n",
       "</style>\n",
       "<table border=\"1\" class=\"dataframe\">\n",
       "  <thead>\n",
       "    <tr style=\"text-align: right;\">\n",
       "      <th></th>\n",
       "      <th>url</th>\n",
       "      <th>news</th>\n",
       "      <th>Type</th>\n",
       "      <th>target</th>\n",
       "    </tr>\n",
       "  </thead>\n",
       "  <tbody>\n",
       "    <tr>\n",
       "      <th>0</th>\n",
       "      <td>https://www.larepublica.co/redirect/post/3201905</td>\n",
       "      <td>Durante el foro La banca articulador empresari...</td>\n",
       "      <td>Otra</td>\n",
       "      <td>3</td>\n",
       "    </tr>\n",
       "    <tr>\n",
       "      <th>1</th>\n",
       "      <td>https://www.larepublica.co/redirect/post/3210288</td>\n",
       "      <td>El regulador de valores de China dijo el domin...</td>\n",
       "      <td>Regulaciones</td>\n",
       "      <td>4</td>\n",
       "    </tr>\n",
       "    <tr>\n",
       "      <th>2</th>\n",
       "      <td>https://www.larepublica.co/redirect/post/3240676</td>\n",
       "      <td>En una industria históricamente masculina como...</td>\n",
       "      <td>Alianzas</td>\n",
       "      <td>0</td>\n",
       "    </tr>\n",
       "    <tr>\n",
       "      <th>3</th>\n",
       "      <td>https://www.larepublica.co/redirect/post/3342889</td>\n",
       "      <td>Con el dato de marzo el IPC interanual encaden...</td>\n",
       "      <td>Macroeconomia</td>\n",
       "      <td>2</td>\n",
       "    </tr>\n",
       "    <tr>\n",
       "      <th>4</th>\n",
       "      <td>https://www.larepublica.co/redirect/post/3427208</td>\n",
       "      <td>Ayer en Cartagena se dio inicio a la versión n...</td>\n",
       "      <td>Otra</td>\n",
       "      <td>3</td>\n",
       "    </tr>\n",
       "    <tr>\n",
       "      <th>...</th>\n",
       "      <td>...</td>\n",
       "      <td>...</td>\n",
       "      <td>...</td>\n",
       "      <td>...</td>\n",
       "    </tr>\n",
       "    <tr>\n",
       "      <th>1212</th>\n",
       "      <td>https://www.bbva.com/es/como-lograr-que-los-in...</td>\n",
       "      <td>En la vida de toda empresa emergente llega un ...</td>\n",
       "      <td>Innovacion</td>\n",
       "      <td>1</td>\n",
       "    </tr>\n",
       "    <tr>\n",
       "      <th>1213</th>\n",
       "      <td>https://www.bbva.com/es/podcast-como-nos-afect...</td>\n",
       "      <td>La espiral alcista de los precios continúa y g...</td>\n",
       "      <td>Macroeconomia</td>\n",
       "      <td>2</td>\n",
       "    </tr>\n",
       "    <tr>\n",
       "      <th>1214</th>\n",
       "      <td>https://www.larepublica.co/redirect/post/3253735</td>\n",
       "      <td>Las grandes derrotas nacionales son experienci...</td>\n",
       "      <td>Alianzas</td>\n",
       "      <td>0</td>\n",
       "    </tr>\n",
       "    <tr>\n",
       "      <th>1215</th>\n",
       "      <td>https://www.bbva.com/es/bbva-y-barcelona-healt...</td>\n",
       "      <td>BBVA ha alcanzado un acuerdo de colaboración c...</td>\n",
       "      <td>Innovacion</td>\n",
       "      <td>1</td>\n",
       "    </tr>\n",
       "    <tr>\n",
       "      <th>1216</th>\n",
       "      <td>https://www.larepublica.co/redirect/post/3263980</td>\n",
       "      <td>Casi entrando a la parte final de noviembre la...</td>\n",
       "      <td>Alianzas</td>\n",
       "      <td>0</td>\n",
       "    </tr>\n",
       "  </tbody>\n",
       "</table>\n",
       "<p>1217 rows × 4 columns</p>\n",
       "</div>"
      ],
      "text/plain": [
       "                                                    url  ... target\n",
       "0      https://www.larepublica.co/redirect/post/3201905  ...      3\n",
       "1      https://www.larepublica.co/redirect/post/3210288  ...      4\n",
       "2      https://www.larepublica.co/redirect/post/3240676  ...      0\n",
       "3      https://www.larepublica.co/redirect/post/3342889  ...      2\n",
       "4      https://www.larepublica.co/redirect/post/3427208  ...      3\n",
       "...                                                 ...  ...    ...\n",
       "1212  https://www.bbva.com/es/como-lograr-que-los-in...  ...      1\n",
       "1213  https://www.bbva.com/es/podcast-como-nos-afect...  ...      2\n",
       "1214   https://www.larepublica.co/redirect/post/3253735  ...      0\n",
       "1215  https://www.bbva.com/es/bbva-y-barcelona-healt...  ...      1\n",
       "1216   https://www.larepublica.co/redirect/post/3263980  ...      0\n",
       "\n",
       "[1217 rows x 4 columns]"
      ]
     },
     "execution_count": 7,
     "metadata": {},
     "output_type": "execute_result"
    }
   ],
   "source": [
    "df"
   ]
  },
  {
   "cell_type": "markdown",
   "id": "a6c7b3a2-6080-4fe7-9fed-178b616d5f3b",
   "metadata": {},
   "source": [
    "### Separamos los conjuntos de Datos"
   ]
  },
  {
   "cell_type": "code",
   "execution_count": 8,
   "id": "e5e49971-e0a1-4e7d-91a9-48831fadf4e8",
   "metadata": {},
   "outputs": [],
   "source": [
    "df_train, df_test = train_test_split(df, test_size=0.3)"
   ]
  },
  {
   "cell_type": "markdown",
   "id": "be75e0e9-c68a-46f9-bb25-165ef725004a",
   "metadata": {},
   "source": [
    "### Obtenemos el número de clases"
   ]
  },
  {
   "cell_type": "code",
   "execution_count": 9,
   "id": "0ea11ea4-d1e7-4318-b270-0833c6cf5d59",
   "metadata": {},
   "outputs": [
    {
     "data": {
      "text/plain": [
       "7"
      ]
     },
     "execution_count": 9,
     "metadata": {},
     "output_type": "execute_result"
    }
   ],
   "source": [
    "K = df['target'].max() + 1\n",
    "K"
   ]
  },
  {
   "cell_type": "markdown",
   "id": "f97308e9-3cd0-44e5-8a99-3bcf19e554ae",
   "metadata": {},
   "source": [
    "### Creamos los conjuntos de salida"
   ]
  },
  {
   "cell_type": "code",
   "execution_count": 10,
   "id": "305f9cac-483d-4bbc-8689-07381bc85583",
   "metadata": {},
   "outputs": [],
   "source": [
    "Y_train = df_train['target']\n",
    "Y_test = df_test['target']"
   ]
  },
  {
   "cell_type": "markdown",
   "id": "15960996-1358-41ad-9ca1-783f8ecdc6f0",
   "metadata": {},
   "source": [
    "## Tokenización"
   ]
  },
  {
   "cell_type": "markdown",
   "id": "523dca44-fc01-41d3-bc36-dd6433e5ea81",
   "metadata": {},
   "source": [
    "### Tokenizamos oraciones en secuencias"
   ]
  },
  {
   "cell_type": "code",
   "execution_count": 11,
   "id": "4be0f0ff-7b0f-40e4-919e-a7765defd952",
   "metadata": {},
   "outputs": [],
   "source": [
    "#Vocabulario máximo\n",
    "max_vocab_size = 30000\n",
    "#Iniciamos el tokenizador\n",
    "tokenizer = Tokenizer(num_words=max_vocab_size)\n",
    "#Tokenizamos\n",
    "tokenizer.fit_on_texts(df_train['news'])\n",
    "#Creamos las secuencias\n",
    "secuences_train = tokenizer.texts_to_sequences(df_train['news'])\n",
    "secuences_test = tokenizer.texts_to_sequences(df_test['news'])"
   ]
  },
  {
   "cell_type": "markdown",
   "id": "36e76072-037a-4510-8567-5907fd5d63d3",
   "metadata": {},
   "source": [
    "### Diccionario de palabras tokenizadas"
   ]
  },
  {
   "cell_type": "code",
   "execution_count": 12,
   "id": "388b0c28-be37-4b6d-89ce-44a1fe4829b3",
   "metadata": {},
   "outputs": [
    {
     "name": "stdout",
     "output_type": "stream",
     "text": [
      "Se encontraron 26213 tokens.\n"
     ]
    }
   ],
   "source": [
    "# Creamos el diccionario\n",
    "word2index = tokenizer.word_index\n",
    "# Calculamos el tamaño del tokenizado\n",
    "V = len(word2index)\n",
    "# mostramos\n",
    "print(f'Se encontraron {V} tokens.')"
   ]
  },
  {
   "cell_type": "code",
   "execution_count": 13,
   "id": "9bfff19c-e8eb-4f3f-894c-5a435a7fc6e0",
   "metadata": {},
   "outputs": [
    {
     "name": "stdout",
     "output_type": "stream",
     "text": [
      "Estas son las 10 primeras palabras que más se repiten son:\n",
      "{'de': 1, 'la': 2, 'en': 3, 'el': 4, 'que': 5, 'y': 6, 'a': 7, 'los': 8, 'las': 9, 'del': 10}\n"
     ]
    }
   ],
   "source": [
    "diez = dict(itertools.islice(word2index.items(), 10))\n",
    "print(f'Estas son las 10 primeras palabras que más se repiten son:\\n{diez}')"
   ]
  },
  {
   "cell_type": "markdown",
   "id": "fc62717a-e04c-4be3-9d40-af7b2b0e0773",
   "metadata": {},
   "source": [
    "### Rellenamos las Secuencias (padding)"
   ]
  },
  {
   "cell_type": "code",
   "execution_count": 14,
   "id": "3cee598e-0f83-480f-8b78-f7e2a28df719",
   "metadata": {},
   "outputs": [
    {
     "name": "stdout",
     "output_type": "stream",
     "text": [
      "Dimensiones del tensor de entrenamiento: (851, 3015)\n",
      "Longitud de la secuencia de entrenamiento: 3015\n"
     ]
    }
   ],
   "source": [
    "# Rellenar la secuencia de entrenamiento\n",
    "data_train = pad_sequences(secuences_train)\n",
    "print(f'Dimensiones del tensor de entrenamiento: {data_train.shape}')\n",
    "# Longitud de la secuencia de entrenamiento\n",
    "T = data_train.shape[1]\n",
    "print(f'Longitud de la secuencia de entrenamiento: {T}')"
   ]
  },
  {
   "cell_type": "code",
   "execution_count": 15,
   "id": "9859f019-e967-4334-bda4-db6eb17d83ff",
   "metadata": {},
   "outputs": [
    {
     "name": "stdout",
     "output_type": "stream",
     "text": [
      "Dimensiones del tensor de prueba: (366, 3015)\n",
      "Longitud de la secuencia de prueba: 3015\n"
     ]
    }
   ],
   "source": [
    "# Rellenar la secuencia de prueba\n",
    "data_test = pad_sequences(secuences_test, maxlen=T)\n",
    "print(f'Dimensiones del tensor de prueba: {data_test.shape}')\n",
    "# Longitud de la secuencia de prueba\n",
    "print(f'Longitud de la secuencia de prueba: {data_test.shape[1]}')"
   ]
  },
  {
   "cell_type": "markdown",
   "id": "f651ee87-16d4-4fe4-b8e1-f5c8eacca0e5",
   "metadata": {},
   "source": [
    "## Embedding y Modelo"
   ]
  },
  {
   "cell_type": "markdown",
   "id": "298931e1-1e81-4413-952a-2b756c4e14e3",
   "metadata": {},
   "source": [
    "### Dimensiones del Embedding"
   ]
  },
  {
   "cell_type": "code",
   "execution_count": 16,
   "id": "deba6a54-8157-4b62-91d3-cc569cb35df2",
   "metadata": {},
   "outputs": [],
   "source": [
    "D = 20"
   ]
  },
  {
   "cell_type": "markdown",
   "id": "552ad083-d1a0-48a0-bfa2-1f0c55226da3",
   "metadata": {},
   "source": [
    "### Construcción del Modelo"
   ]
  },
  {
   "cell_type": "code",
   "execution_count": 17,
   "id": "c726f74c-51f4-4005-b32a-debbe97ccc3d",
   "metadata": {},
   "outputs": [],
   "source": [
    "# Capa de entrada\n",
    "i = Input(shape=(T,))\n",
    "# Capa de embedding\n",
    "x = Embedding(V + 1, D)(i) #+1 para el token especial de palabras desconocidas padding\n",
    "# Capa de convolución\n",
    "x = LSTM(32, return_sequences=True)(x)  # 32 filtros para las secuencias de palabras\n",
    "# Capa de pooling\n",
    "x = GlobalMaxPooling1D()(x)\n",
    "# Capa Densa\n",
    "x = Dense(K)(x)\n",
    "# Creación del modelo\n",
    "modelo = Model(i, x)"
   ]
  },
  {
   "cell_type": "markdown",
   "id": "1cf9c4d0-9b93-4215-b73f-749ffcc8b417",
   "metadata": {},
   "source": [
    "### Resumen del Modelo"
   ]
  },
  {
   "cell_type": "code",
   "execution_count": 18,
   "id": "ad9a2c0f-91a1-478b-b0a0-dbb58ee426ec",
   "metadata": {},
   "outputs": [
    {
     "data": {
      "text/html": [
       "<pre style=\"white-space:pre;overflow-x:auto;line-height:normal;font-family:Menlo,'DejaVu Sans Mono',consolas,'Courier New',monospace\"><span style=\"font-weight: bold\">Model: \"functional\"</span>\n",
       "</pre>\n"
      ],
      "text/plain": [
       "\u001b[1mModel: \"functional\"\u001b[0m\n"
      ]
     },
     "metadata": {},
     "output_type": "display_data"
    },
    {
     "data": {
      "text/html": [
       "<pre style=\"white-space:pre;overflow-x:auto;line-height:normal;font-family:Menlo,'DejaVu Sans Mono',consolas,'Courier New',monospace\">┏━━━━━━━━━━━━━━━━━━━━━━━━━━━━━━━━━┳━━━━━━━━━━━━━━━━━━━━━━━━┳━━━━━━━━━━━━━━━┓\n",
       "┃<span style=\"font-weight: bold\"> Layer (type)                    </span>┃<span style=\"font-weight: bold\"> Output Shape           </span>┃<span style=\"font-weight: bold\">       Param # </span>┃\n",
       "┡━━━━━━━━━━━━━━━━━━━━━━━━━━━━━━━━━╇━━━━━━━━━━━━━━━━━━━━━━━━╇━━━━━━━━━━━━━━━┩\n",
       "│ input_layer (<span style=\"color: #0087ff; text-decoration-color: #0087ff\">InputLayer</span>)        │ (<span style=\"color: #00d7ff; text-decoration-color: #00d7ff\">None</span>, <span style=\"color: #00af00; text-decoration-color: #00af00\">3015</span>)           │             <span style=\"color: #00af00; text-decoration-color: #00af00\">0</span> │\n",
       "├─────────────────────────────────┼────────────────────────┼───────────────┤\n",
       "│ embedding (<span style=\"color: #0087ff; text-decoration-color: #0087ff\">Embedding</span>)           │ (<span style=\"color: #00d7ff; text-decoration-color: #00d7ff\">None</span>, <span style=\"color: #00af00; text-decoration-color: #00af00\">3015</span>, <span style=\"color: #00af00; text-decoration-color: #00af00\">20</span>)       │       <span style=\"color: #00af00; text-decoration-color: #00af00\">524,280</span> │\n",
       "├─────────────────────────────────┼────────────────────────┼───────────────┤\n",
       "│ lstm (<span style=\"color: #0087ff; text-decoration-color: #0087ff\">LSTM</span>)                     │ (<span style=\"color: #00d7ff; text-decoration-color: #00d7ff\">None</span>, <span style=\"color: #00af00; text-decoration-color: #00af00\">3015</span>, <span style=\"color: #00af00; text-decoration-color: #00af00\">32</span>)       │         <span style=\"color: #00af00; text-decoration-color: #00af00\">6,784</span> │\n",
       "├─────────────────────────────────┼────────────────────────┼───────────────┤\n",
       "│ global_max_pooling1d            │ (<span style=\"color: #00d7ff; text-decoration-color: #00d7ff\">None</span>, <span style=\"color: #00af00; text-decoration-color: #00af00\">32</span>)             │             <span style=\"color: #00af00; text-decoration-color: #00af00\">0</span> │\n",
       "│ (<span style=\"color: #0087ff; text-decoration-color: #0087ff\">GlobalMaxPooling1D</span>)            │                        │               │\n",
       "├─────────────────────────────────┼────────────────────────┼───────────────┤\n",
       "│ dense (<span style=\"color: #0087ff; text-decoration-color: #0087ff\">Dense</span>)                   │ (<span style=\"color: #00d7ff; text-decoration-color: #00d7ff\">None</span>, <span style=\"color: #00af00; text-decoration-color: #00af00\">7</span>)              │           <span style=\"color: #00af00; text-decoration-color: #00af00\">231</span> │\n",
       "└─────────────────────────────────┴────────────────────────┴───────────────┘\n",
       "</pre>\n"
      ],
      "text/plain": [
       "┏━━━━━━━━━━━━━━━━━━━━━━━━━━━━━━━━━┳━━━━━━━━━━━━━━━━━━━━━━━━┳━━━━━━━━━━━━━━━┓\n",
       "┃\u001b[1m \u001b[0m\u001b[1mLayer (type)                   \u001b[0m\u001b[1m \u001b[0m┃\u001b[1m \u001b[0m\u001b[1mOutput Shape          \u001b[0m\u001b[1m \u001b[0m┃\u001b[1m \u001b[0m\u001b[1m      Param #\u001b[0m\u001b[1m \u001b[0m┃\n",
       "┡━━━━━━━━━━━━━━━━━━━━━━━━━━━━━━━━━╇━━━━━━━━━━━━━━━━━━━━━━━━╇━━━━━━━━━━━━━━━┩\n",
       "│ input_layer (\u001b[38;5;33mInputLayer\u001b[0m)        │ (\u001b[38;5;45mNone\u001b[0m, \u001b[38;5;34m3015\u001b[0m)           │             \u001b[38;5;34m0\u001b[0m │\n",
       "├─────────────────────────────────┼────────────────────────┼───────────────┤\n",
       "│ embedding (\u001b[38;5;33mEmbedding\u001b[0m)           │ (\u001b[38;5;45mNone\u001b[0m, \u001b[38;5;34m3015\u001b[0m, \u001b[38;5;34m20\u001b[0m)       │       \u001b[38;5;34m524,280\u001b[0m │\n",
       "├─────────────────────────────────┼────────────────────────┼───────────────┤\n",
       "│ lstm (\u001b[38;5;33mLSTM\u001b[0m)                     │ (\u001b[38;5;45mNone\u001b[0m, \u001b[38;5;34m3015\u001b[0m, \u001b[38;5;34m32\u001b[0m)       │         \u001b[38;5;34m6,784\u001b[0m │\n",
       "├─────────────────────────────────┼────────────────────────┼───────────────┤\n",
       "│ global_max_pooling1d            │ (\u001b[38;5;45mNone\u001b[0m, \u001b[38;5;34m32\u001b[0m)             │             \u001b[38;5;34m0\u001b[0m │\n",
       "│ (\u001b[38;5;33mGlobalMaxPooling1D\u001b[0m)            │                        │               │\n",
       "├─────────────────────────────────┼────────────────────────┼───────────────┤\n",
       "│ dense (\u001b[38;5;33mDense\u001b[0m)                   │ (\u001b[38;5;45mNone\u001b[0m, \u001b[38;5;34m7\u001b[0m)              │           \u001b[38;5;34m231\u001b[0m │\n",
       "└─────────────────────────────────┴────────────────────────┴───────────────┘\n"
      ]
     },
     "metadata": {},
     "output_type": "display_data"
    },
    {
     "data": {
      "text/html": [
       "<pre style=\"white-space:pre;overflow-x:auto;line-height:normal;font-family:Menlo,'DejaVu Sans Mono',consolas,'Courier New',monospace\"><span style=\"font-weight: bold\"> Total params: </span><span style=\"color: #00af00; text-decoration-color: #00af00\">531,295</span> (2.03 MB)\n",
       "</pre>\n"
      ],
      "text/plain": [
       "\u001b[1m Total params: \u001b[0m\u001b[38;5;34m531,295\u001b[0m (2.03 MB)\n"
      ]
     },
     "metadata": {},
     "output_type": "display_data"
    },
    {
     "data": {
      "text/html": [
       "<pre style=\"white-space:pre;overflow-x:auto;line-height:normal;font-family:Menlo,'DejaVu Sans Mono',consolas,'Courier New',monospace\"><span style=\"font-weight: bold\"> Trainable params: </span><span style=\"color: #00af00; text-decoration-color: #00af00\">531,295</span> (2.03 MB)\n",
       "</pre>\n"
      ],
      "text/plain": [
       "\u001b[1m Trainable params: \u001b[0m\u001b[38;5;34m531,295\u001b[0m (2.03 MB)\n"
      ]
     },
     "metadata": {},
     "output_type": "display_data"
    },
    {
     "data": {
      "text/html": [
       "<pre style=\"white-space:pre;overflow-x:auto;line-height:normal;font-family:Menlo,'DejaVu Sans Mono',consolas,'Courier New',monospace\"><span style=\"font-weight: bold\"> Non-trainable params: </span><span style=\"color: #00af00; text-decoration-color: #00af00\">0</span> (0.00 B)\n",
       "</pre>\n"
      ],
      "text/plain": [
       "\u001b[1m Non-trainable params: \u001b[0m\u001b[38;5;34m0\u001b[0m (0.00 B)\n"
      ]
     },
     "metadata": {},
     "output_type": "display_data"
    }
   ],
   "source": [
    "modelo.summary()"
   ]
  },
  {
   "cell_type": "markdown",
   "id": "cecd532d-7a65-4860-afc4-1c5f4d1553c0",
   "metadata": {},
   "source": [
    "### Compilamos el Modelo"
   ]
  },
  {
   "cell_type": "code",
   "execution_count": 19,
   "id": "eb890a30-d56b-452c-850f-f84c3c07871d",
   "metadata": {},
   "outputs": [],
   "source": [
    "modelo.compile(\n",
    "    loss= SparseCategoricalCrossentropy(from_logits=True),\n",
    "    optimizer='adam',\n",
    "    metrics=['accuracy']    \n",
    ")"
   ]
  },
  {
   "cell_type": "markdown",
   "id": "fdfbdebc-253d-43ae-9085-81fe6d5ddfa4",
   "metadata": {},
   "source": [
    "### Entrenamos el Modelo"
   ]
  },
  {
   "cell_type": "code",
   "execution_count": null,
   "id": "c94290bc-252c-41a1-87b8-f2e7d2f7914f",
   "metadata": {},
   "outputs": [],
   "source": [
    "print('Entrenando el modelo...')\n",
    "r = modelo.fit(\n",
    "    data_train,\n",
    "    Y_train,\n",
    "    epochs=50,\n",
    "    validation_data=(data_test, Y_test)\n",
    ")"
   ]
  },
  {
   "cell_type": "markdown",
   "id": "58720973-db4b-4a65-93a7-ed3d95376d5e",
   "metadata": {},
   "source": [
    "### Gráfico de la pérdida por iteración"
   ]
  },
  {
   "cell_type": "code",
   "execution_count": 21,
   "id": "7948a8a7-b26a-4b71-995b-dc40703d84cf",
   "metadata": {},
   "outputs": [
    {
     "data": {
      "image/png": "[encoded data removed]",
      "text/plain": [
       "<Figure size 640x480 with 1 Axes>"
      ]
     },
     "metadata": {},
     "output_type": "display_data"
    }
   ],
   "source": [
    "# Gráfico de la función de pérdida (loss)\n",
    "plt.plot(r.history['loss'], label='Pérdida del Entrenamiento', color='blue')\n",
    "plt.plot(r.history['val_loss'], label='Pérdida del set de prueba', color='orange')\n",
    "plt.xlabel('Épocas')\n",
    "plt.ylabel('Pérdida')\n",
    "plt.title('Evolución del entrenamiento')\n",
    "plt.legend()\n",
    "plt.grid(True)\n",
    "plt.show()"
   ]
  },
  {
   "cell_type": "markdown",
   "id": "47b89e96-9633-4f8b-af37-01cc5b115fe1",
   "metadata": {},
   "source": [
    "### Gráfico de la presición por iteración"
   ]
  },
  {
   "cell_type": "code",
   "execution_count": 22,
   "id": "bd879701-4bbb-41c7-a10d-8e58e64ceadd",
   "metadata": {},
   "outputs": [
    {
     "data": {
      "image/png": "[encoded data removed]",
      "text/plain": [
       "<Figure size 640x480 with 1 Axes>"
      ]
     },
     "metadata": {},
     "output_type": "display_data"
    }
   ],
   "source": [
    "# Gráfico de la métrica de presición (accuracy)\n",
    "plt.plot(r.history['accuracy'], label='Presición del Entrenamiento', color='red')\n",
    "plt.plot(r.history['val_accuracy'], label='Presición del set de prueba', color='black')\n",
    "plt.xlabel('Épocas')\n",
    "plt.ylabel('Presición')\n",
    "plt.title('Evolución del entrenamiento')\n",
    "plt.legend()\n",
    "plt.grid(True)\n",
    "plt.show()"
   ]
  },
  {
   "cell_type": "markdown",
   "id": "283fd85d-6e03-4be1-bf88-448108c96772",
   "metadata": {},
   "source": [
    "### Guardar Modelo y otros archivos necesarios"
   ]
  },
  {
   "cell_type": "code",
   "execution_count": 23,
   "id": "886a8546-ec23-4151-9b69-7da7edea79b9",
   "metadata": {},
   "outputs": [
    {
     "name": "stdout",
     "output_type": "stream",
     "text": [
      "Modelo guardado con éxito.\n"
     ]
    }
   ],
   "source": [
    "# Archivo con extensión HDF5 (deprecado) o keras (actual)\n",
    "modelo.save('modelo23.keras')\n",
    "print('Modelo guardado con éxito.')"
   ]
  },
  {
   "cell_type": "code",
   "execution_count": 24,
   "id": "c469bd11-17bc-4b8b-b0d3-745eccd4fe3b",
   "metadata": {},
   "outputs": [
    {
     "name": "stdout",
     "output_type": "stream",
     "text": [
      "Pesos del modelo guardados con éxito.\n"
     ]
    }
   ],
   "source": [
    "# Guardamos los pesos\n",
    "modelo.save_weights('modelo23_pesos.weights.h5')\n",
    "print('Pesos del modelo guardados con éxito.')"
   ]
  },
  {
   "cell_type": "code",
   "execution_count": 25,
   "id": "9f4402e3-1c17-4d47-a364-5fa214b9cd96",
   "metadata": {},
   "outputs": [],
   "source": [
    "# Guardamos el historial del modelo\n",
    "with open('historial_entrenamiento_23.pkl', 'wb') as f:\n",
    "    pickle.dump(r.history, f)"
   ]
  },
  {
   "cell_type": "code",
   "execution_count": 26,
   "id": "d9c4f8df-b372-419c-8488-382363f99153",
   "metadata": {},
   "outputs": [],
   "source": [
    "# Guardamos el tokenizador\n",
    "with open('tokenizer_23.pkl', 'wb') as f:\n",
    "    pickle.dump(tokenizer, f)"
   ]
  },
  {
   "cell_type": "markdown",
   "id": "95a4ecf5-1627-4ab3-ad6b-a935c5df35e4",
   "metadata": {},
   "source": [
    "### Cargar el Modelo para futuras pruebas"
   ]
  },
  {
   "cell_type": "code",
   "execution_count": 27,
   "id": "b1f4a278-572f-4e89-9f8d-d6e1991abb1d",
   "metadata": {},
   "outputs": [
    {
     "name": "stdout",
     "output_type": "stream",
     "text": [
      "El Modelo <Functional name=functional, built=True> se ha cargado, y recompilado correctamente.\n"
     ]
    }
   ],
   "source": [
    "model_load = load_model('modelo23.keras', compile=False)\n",
    "\n",
    "model_load.compile(\n",
    "    optimizer = RMSprop(),\n",
    "    loss = SparseCategoricalCrossentropy(from_logits=True),\n",
    "    metrics = ['accuracy']\n",
    ")\n",
    "\n",
    "print(f'El Modelo {model_load} se ha cargado, y recompilado correctamente.')"
   ]
  },
  {
   "cell_type": "markdown",
   "id": "550272f6-1156-4411-b5f1-d62362da6303",
   "metadata": {},
   "source": [
    "## Probamos el Modelo con Datos Nuevos"
   ]
  },
  {
   "cell_type": "markdown",
   "id": "b54a7c0a-1ec9-4a4e-ab84-1f114c57a405",
   "metadata": {},
   "source": [
    "### Función para predecir texto"
   ]
  },
  {
   "cell_type": "code",
   "execution_count": 28,
   "id": "87a11552-f14c-4e2b-91d0-e4514129947d",
   "metadata": {},
   "outputs": [],
   "source": [
    "def predecir_texto(texto, modelo, tokenizer, T, idx2label=None):\n",
    "    # Asegurarse que el texto está en una lista\n",
    "    if isinstance(texto, str):\n",
    "        texto = [texto]\n",
    "\n",
    "    # Tokenizar y hacer padding\n",
    "    secuencia = tokenizer.texts_to_sequences(texto)\n",
    "    secuencia_padded = pad_sequences(secuencia, maxlen=T)\n",
    "\n",
    "    # Predicción\n",
    "    pred = modelo.predict(secuencia_padded)\n",
    "    clase_predicha = np.argmax(pred, axis=1)[0]\n",
    "\n",
    "    # Mostrar resultado\n",
    "    if idx2label:\n",
    "        print(f'Clase predicha: {clase_predicha} ({idx2label[clase_predicha]})')\n",
    "        return idx2label[clase_predicha]\n",
    "    else:\n",
    "        print(f'Clase predicha: {clase_predicha}')\n",
    "        return clase_predicha"
   ]
  },
  {
   "cell_type": "markdown",
   "id": "fdad7e64-4584-4502-aea3-7d495c91d4d7",
   "metadata": {},
   "source": [
    "### Llamamos la función"
   ]
  },
  {
   "cell_type": "code",
   "execution_count": 29,
   "id": "5fc64cff-9440-4622-a809-623aabde6621",
   "metadata": {},
   "outputs": [
    {
     "name": "stdout",
     "output_type": "stream",
     "text": [
      "\u001b[1m1/1\u001b[0m \u001b[32m━━━━━━━━━━━━━━━━━━━━\u001b[0m\u001b[37m\u001b[0m \u001b[1m1s\u001b[0m 833ms/step\n",
      "Clase predicha: 4\n"
     ]
    },
    {
     "data": {
      "text/plain": [
       "{0: 'Alianzas',\n",
       " 1: 'Innovacion',\n",
       " 2: 'Macroeconomia',\n",
       " 3: 'Otra',\n",
       " 4: 'Regulaciones',\n",
       " 5: 'Reputacion',\n",
       " 6: 'Sostenibilidad'}"
      ]
     },
     "execution_count": 29,
     "metadata": {},
     "output_type": "execute_result"
    }
   ],
   "source": [
    "texto_de_prueba = \"Este es un ejemplo de noticia económica internacional\"\n",
    "# Crear mapeo inverso de índices a nombres\n",
    "idx2label = dict(enumerate(df['Type'].astype('category').cat.categories))\n",
    "predecir_texto(texto_de_prueba, model_load, tokenizer, T)\n",
    "idx2label"
   ]
  },
  {
   "cell_type": "markdown",
   "id": "a0bea5bf-5b3a-40a8-82ce-140d91930f53",
   "metadata": {},
   "source": [
    "## Conclusiones"
   ]
  },
  {
   "cell_type": "markdown",
   "id": "aa5e56cc-490a-4114-93ba-a429a4b047f2",
   "metadata": {},
   "source": [
    "<div style=\"text-align: center;\">\n",
    "    <p>En este modelo, se logró crear una clasificación a través de keras, capaz de indetificar, a partir del contenido de una noticia, cuál es su cateoría. Con un entrenamiento a través de embeddings y redes neuronales recurrentes, hemos generado un clasificador de mayor presición capaz de clasificar cualquier texto informativo. Aunque el tiempo de entrenamiento es mucho mayor, la precisión del modelo es bastante mejor que los anteriores.</p>\n",
    "        <hr/>\n",
    "    <p style=\"text-align: right;\">Mg. Luis Felipe Bustamante Narváez</p>\n",
    "</div>"
   ]
  }
 ],
 "metadata": {
  "kernelspec": {
   "display_name": "Python 3 (ipykernel)",
   "language": "python",
   "name": "python3"
  },
  "language_info": {
   "codemirror_mode": {
    "name": "ipython",
    "version": 3
   },
   "file_extension": ".py",
   "mimetype": "text/x-python",
   "name": "python",
   "nbconvert_exporter": "python",
   "pygments_lexer": "ipython3",
   "version": "3.12.9"
  }
 },
 "nbformat": 4,
 "nbformat_minor": 5
}
