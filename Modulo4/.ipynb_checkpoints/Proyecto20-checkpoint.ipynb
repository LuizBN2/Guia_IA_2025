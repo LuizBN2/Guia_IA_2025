{
 "cells": [
  {
   "cell_type": "markdown",
   "id": "edab8484-e2a5-47ef-96cd-cc068eb9089a",
   "metadata": {},
   "source": [
    "<div style=\"text-align: center;\">\n",
    "    <h1 style=\"color: #a64dff;\">Anexo 20</h1>\n",
    "    <h3>Proyecto 20: Manejo de TensorFlow para NLP</h3>\n",
    "    <hr/>\n",
    "    <p style=\"text-align: right;\">Mg. Luis Felipe Bustamante Narváez</p>\n",
    "</div>"
   ]
  },
  {
   "cell_type": "markdown",
   "id": "440cccc0-86d4-4fbd-bf55-d46b7147434c",
   "metadata": {},
   "source": [
    "En este ejercicio, aplicaremos sentencias de TensorFlow para procesar estructuras de datos, con el fin de prepararnos para siguientes proyectos."
   ]
  },
  {
   "cell_type": "markdown",
   "id": "caf737bb-c062-408c-96a3-f65f79476cd1",
   "metadata": {},
   "source": [
    "## Librerías"
   ]
  },
  {
   "cell_type": "code",
   "execution_count": 1,
   "id": "5cbda165-334f-4f45-89e5-54ff680f9bb9",
   "metadata": {},
   "outputs": [],
   "source": [
    "from tensorflow.keras.preprocessing.text import Tokenizer\n",
    "from tensorflow.keras.preprocessing.sequence import pad_sequences"
   ]
  },
  {
   "cell_type": "markdown",
   "id": "430166da-fd98-4ed8-9e46-2366302d2002",
   "metadata": {},
   "source": [
    "## Datos"
   ]
  },
  {
   "cell_type": "code",
   "execution_count": 14,
   "id": "cb89da30-4d63-48a1-bb5f-3980cd8b6020",
   "metadata": {},
   "outputs": [],
   "source": [
    "oraciones = ['me gusta el fútbol e ir al estadio',\n",
    "            'juego fútbol los fines de semana.',\n",
    "            'no me gusta perder']"
   ]
  },
  {
   "cell_type": "markdown",
   "id": "6b30c13c-3ffd-4aa1-8ff5-85393e80bc90",
   "metadata": {},
   "source": [
    "## Procesamiento de Datos"
   ]
  },
  {
   "cell_type": "code",
   "execution_count": 15,
   "id": "2e249166-f1af-4cc3-8271-62b4637eea7c",
   "metadata": {},
   "outputs": [],
   "source": [
    "#Vocabulario máximo\n",
    "max_vocab_size = 30000\n",
    "#Iniciamos el tokenizador\n",
    "tokenizer = Tokenizer(num_words=max_vocab_size)\n",
    "#Tokenizamos\n",
    "tokenizer.fit_on_texts(oraciones)\n",
    "#Creamos las secuencias\n",
    "secuencias = tokenizer.texts_to_sequences(oraciones)"
   ]
  },
  {
   "cell_type": "code",
   "execution_count": 16,
   "id": "ee10218b-0d45-400f-b7af-c5f996c66c2d",
   "metadata": {},
   "outputs": [
    {
     "name": "stdout",
     "output_type": "stream",
     "text": [
      "[[1, 2, 4, 3, 5, 6, 7, 8], [9, 3, 10, 11, 12, 13], [14, 1, 2, 15]]\n"
     ]
    }
   ],
   "source": [
    "print(secuencias)"
   ]
  },
  {
   "cell_type": "code",
   "execution_count": 17,
   "id": "64cffdea-3d2b-4670-a73a-6c128133edf5",
   "metadata": {},
   "outputs": [
    {
     "data": {
      "text/plain": [
       "{'me': 1,\n",
       " 'gusta': 2,\n",
       " 'fútbol': 3,\n",
       " 'el': 4,\n",
       " 'e': 5,\n",
       " 'ir': 6,\n",
       " 'al': 7,\n",
       " 'estadio': 8,\n",
       " 'juego': 9,\n",
       " 'los': 10,\n",
       " 'fines': 11,\n",
       " 'de': 12,\n",
       " 'semana': 13,\n",
       " 'no': 14,\n",
       " 'perder': 15}"
      ]
     },
     "execution_count": 17,
     "metadata": {},
     "output_type": "execute_result"
    }
   ],
   "source": [
    "#Diccionario de palabras (los ordena por peso: mayor frecuencia)\n",
    "tokenizer.word_index"
   ]
  },
  {
   "cell_type": "code",
   "execution_count": 18,
   "id": "9fbb6690-e937-49a4-95c9-d20792c215a1",
   "metadata": {},
   "outputs": [
    {
     "name": "stdout",
     "output_type": "stream",
     "text": [
      "[[ 1  2  4  3  5  6  7  8]\n",
      " [ 0  0  9  3 10 11 12 13]\n",
      " [ 0  0  0  0 14  1  2 15]]\n"
     ]
    }
   ],
   "source": [
    "#Organizamos la secuencia estandarizando la cantidad de elementos por vectores\n",
    "data = pad_sequences(secuencias)\n",
    "print(data)"
   ]
  },
  {
   "cell_type": "code",
   "execution_count": 19,
   "id": "05955b1e-3e41-4e4a-ba06-81c47608888a",
   "metadata": {},
   "outputs": [
    {
     "name": "stdout",
     "output_type": "stream",
     "text": [
      "[[ 3  5  6  7  8]\n",
      " [ 3 10 11 12 13]\n",
      " [ 0 14  1  2 15]]\n"
     ]
    }
   ],
   "source": [
    "#Limitamos el número de palabras con relleno al ppio\n",
    "max_secuence_length = 5\n",
    "data = pad_sequences(secuencias, maxlen=max_secuence_length)\n",
    "print(data)"
   ]
  },
  {
   "cell_type": "code",
   "execution_count": 20,
   "id": "ed3bca61-b209-4025-b02b-a61de7caceba",
   "metadata": {},
   "outputs": [
    {
     "name": "stdout",
     "output_type": "stream",
     "text": [
      "[[ 3  5  6  7  8]\n",
      " [ 3 10 11 12 13]\n",
      " [14  1  2 15  0]]\n"
     ]
    }
   ],
   "source": [
    "#Limitamos el número de palabras con relleno al final\n",
    "max_secuence_length = 5\n",
    "data = pad_sequences(secuencias, maxlen=max_secuence_length, padding='post')\n",
    "print(data)"
   ]
  },
  {
   "cell_type": "code",
   "execution_count": 21,
   "id": "8c27f6c8-8305-468c-a2db-a467f1e6d455",
   "metadata": {},
   "outputs": [
    {
     "name": "stdout",
     "output_type": "stream",
     "text": [
      "[[ 4  3  5  6  7  8]\n",
      " [ 9  3 10 11 12 13]\n",
      " [ 0  0 14  1  2 15]]\n"
     ]
    }
   ],
   "source": [
    "# cambiamos los valores directamente en el método\n",
    "data = pad_sequences(secuencias, maxlen=6)\n",
    "print(data)"
   ]
  },
  {
   "cell_type": "markdown",
   "id": "d44f9043-4fdb-4441-b0cf-8cd148d99b66",
   "metadata": {},
   "source": [
    "## Conclusiones"
   ]
  },
  {
   "cell_type": "markdown",
   "id": "82954ba1-730d-4e08-b13e-08cbc8de8dec",
   "metadata": {},
   "source": [
    "<div style=\"text-align: center;\">\n",
    "    <p>Este proyecto permite indagar sobre algunas sentencias de TensorFlow para procesar datos, tema que será de gran aporte, cuando desarrollemos proyectos robustos de Inteligencia Artificial.\n",
    "    </p>\n",
    "        <hr/>\n",
    "    <p style=\"text-align: right;\">Mg. Luis Felipe Bustamante Narváez</p>\n",
    "</div>"
   ]
  }
 ],
 "metadata": {
  "kernelspec": {
   "display_name": "Python 3 (ipykernel)",
   "language": "python",
   "name": "python3"
  },
  "language_info": {
   "codemirror_mode": {
    "name": "ipython",
    "version": 3
   },
   "file_extension": ".py",
   "mimetype": "text/x-python",
   "name": "python",
   "nbconvert_exporter": "python",
   "pygments_lexer": "ipython3",
   "version": "3.12.9"
  }
 },
 "nbformat": 4,
 "nbformat_minor": 5
}
