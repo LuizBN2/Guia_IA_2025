{
 "cells": [
  {
   "cell_type": "markdown",
   "id": "b215bf7c-b9aa-4643-a0be-9b4c029273f7",
   "metadata": {},
   "source": [
    "<div style=\"text-align: center;\">\n",
    "    <h1 style=\"color: #a64dff;\">Anexo 19</h1>\n",
    "    <h3>Proyecto 19: Creación de Red Neuronal</h3>\n",
    "    <hr/>\n",
    "    <p style=\"text-align: right;\">Mg. Luis Felipe Bustamante Narváez</p>\n",
    "</div>"
   ]
  },
  {
   "cell_type": "markdown",
   "id": "a234946d-2fd2-45e8-a0ee-7454be43bd47",
   "metadata": {},
   "source": [
    "En este ejercicio diseñaremos una red neuronal capaz de hacer predicciones sobre diferentes categorías de noticias de un dataset implementado en otros proyectos, donde observaremos como mejora la calidad del proceso con la implementación de las redes.\n",
    "\n",
    "<div align=\"center\">\n",
    "  <img src=\"images/red_neuronal.png\" alt=\"Descripción\" width=\"400\">\n",
    "</div>\n"
   ]
  },
  {
   "cell_type": "markdown",
   "id": "a24a4ab6-9daa-4688-a44b-fcfb804a70a3",
   "metadata": {},
   "source": [
    "## Librerías"
   ]
  },
  {
   "cell_type": "code",
   "execution_count": 56,
   "id": "2557c00d-5be7-41df-829b-df1edf112e31",
   "metadata": {},
   "outputs": [],
   "source": [
    "import numpy as np\n",
    "import pandas as pd\n",
    "import tensorflow as tf\n",
    "import matplotlib.pyplot as plt\n",
    "from sklearn.model_selection import train_test_split\n",
    "from sklearn.feature_extraction.text import TfidfVectorizer\n",
    "from tensorflow.keras.layers import Dense, Input\n",
    "from tensorflow.keras.models import Model\n",
    "from tensorflow.keras.optimizers import Adam\n",
    "from IPython.display import display, HTML"
   ]
  },
  {
   "cell_type": "markdown",
   "id": "93d0d4b2-1db5-4280-a719-868897529227",
   "metadata": {},
   "source": [
    "## Cargamos los Datos"
   ]
  },
  {
   "cell_type": "code",
   "execution_count": 2,
   "id": "4d4ee5c2-9d3a-48a6-9abc-a9b34ce3a410",
   "metadata": {},
   "outputs": [],
   "source": [
    "path = 'data/df_total.csv'\n",
    "df = pd.read_csv(path)"
   ]
  },
  {
   "cell_type": "code",
   "execution_count": 3,
   "id": "0e9c3084-2a76-4b9c-b974-0cae4dc4d2ca",
   "metadata": {},
   "outputs": [
    {
     "data": {
      "text/html": [
       "<div>\n",
       "<style scoped>\n",
       "    .dataframe tbody tr th:only-of-type {\n",
       "        vertical-align: middle;\n",
       "    }\n",
       "\n",
       "    .dataframe tbody tr th {\n",
       "        vertical-align: top;\n",
       "    }\n",
       "\n",
       "    .dataframe thead th {\n",
       "        text-align: right;\n",
       "    }\n",
       "</style>\n",
       "<table border=\"1\" class=\"dataframe\">\n",
       "  <thead>\n",
       "    <tr style=\"text-align: right;\">\n",
       "      <th></th>\n",
       "      <th>url</th>\n",
       "      <th>news</th>\n",
       "      <th>Type</th>\n",
       "    </tr>\n",
       "  </thead>\n",
       "  <tbody>\n",
       "    <tr>\n",
       "      <th>0</th>\n",
       "      <td>https://www.larepublica.co/redirect/post/3201905</td>\n",
       "      <td>Durante el foro La banca articulador empresari...</td>\n",
       "      <td>Otra</td>\n",
       "    </tr>\n",
       "    <tr>\n",
       "      <th>1</th>\n",
       "      <td>https://www.larepublica.co/redirect/post/3210288</td>\n",
       "      <td>El regulador de valores de China dijo el domin...</td>\n",
       "      <td>Regulaciones</td>\n",
       "    </tr>\n",
       "    <tr>\n",
       "      <th>2</th>\n",
       "      <td>https://www.larepublica.co/redirect/post/3240676</td>\n",
       "      <td>En una industria históricamente masculina como...</td>\n",
       "      <td>Alianzas</td>\n",
       "    </tr>\n",
       "    <tr>\n",
       "      <th>3</th>\n",
       "      <td>https://www.larepublica.co/redirect/post/3342889</td>\n",
       "      <td>Con el dato de marzo el IPC interanual encaden...</td>\n",
       "      <td>Macroeconomia</td>\n",
       "    </tr>\n",
       "    <tr>\n",
       "      <th>4</th>\n",
       "      <td>https://www.larepublica.co/redirect/post/3427208</td>\n",
       "      <td>Ayer en Cartagena se dio inicio a la versión n...</td>\n",
       "      <td>Otra</td>\n",
       "    </tr>\n",
       "    <tr>\n",
       "      <th>...</th>\n",
       "      <td>...</td>\n",
       "      <td>...</td>\n",
       "      <td>...</td>\n",
       "    </tr>\n",
       "    <tr>\n",
       "      <th>1212</th>\n",
       "      <td>https://www.bbva.com/es/como-lograr-que-los-in...</td>\n",
       "      <td>En la vida de toda empresa emergente llega un ...</td>\n",
       "      <td>Innovacion</td>\n",
       "    </tr>\n",
       "    <tr>\n",
       "      <th>1213</th>\n",
       "      <td>https://www.bbva.com/es/podcast-como-nos-afect...</td>\n",
       "      <td>La espiral alcista de los precios continúa y g...</td>\n",
       "      <td>Macroeconomia</td>\n",
       "    </tr>\n",
       "    <tr>\n",
       "      <th>1214</th>\n",
       "      <td>https://www.larepublica.co/redirect/post/3253735</td>\n",
       "      <td>Las grandes derrotas nacionales son experienci...</td>\n",
       "      <td>Alianzas</td>\n",
       "    </tr>\n",
       "    <tr>\n",
       "      <th>1215</th>\n",
       "      <td>https://www.bbva.com/es/bbva-y-barcelona-healt...</td>\n",
       "      <td>BBVA ha alcanzado un acuerdo de colaboración c...</td>\n",
       "      <td>Innovacion</td>\n",
       "    </tr>\n",
       "    <tr>\n",
       "      <th>1216</th>\n",
       "      <td>https://www.larepublica.co/redirect/post/3263980</td>\n",
       "      <td>Casi entrando a la parte final de noviembre la...</td>\n",
       "      <td>Alianzas</td>\n",
       "    </tr>\n",
       "  </tbody>\n",
       "</table>\n",
       "<p>1217 rows × 3 columns</p>\n",
       "</div>"
      ],
      "text/plain": [
       "                                                    url  ...           Type\n",
       "0      https://www.larepublica.co/redirect/post/3201905  ...           Otra\n",
       "1      https://www.larepublica.co/redirect/post/3210288  ...   Regulaciones\n",
       "2      https://www.larepublica.co/redirect/post/3240676  ...       Alianzas\n",
       "3      https://www.larepublica.co/redirect/post/3342889  ...  Macroeconomia\n",
       "4      https://www.larepublica.co/redirect/post/3427208  ...           Otra\n",
       "...                                                 ...  ...            ...\n",
       "1212  https://www.bbva.com/es/como-lograr-que-los-in...  ...     Innovacion\n",
       "1213  https://www.bbva.com/es/podcast-como-nos-afect...  ...  Macroeconomia\n",
       "1214   https://www.larepublica.co/redirect/post/3253735  ...       Alianzas\n",
       "1215  https://www.bbva.com/es/bbva-y-barcelona-healt...  ...     Innovacion\n",
       "1216   https://www.larepublica.co/redirect/post/3263980  ...       Alianzas\n",
       "\n",
       "[1217 rows x 3 columns]"
      ]
     },
     "execution_count": 3,
     "metadata": {},
     "output_type": "execute_result"
    }
   ],
   "source": [
    "df"
   ]
  },
  {
   "cell_type": "markdown",
   "id": "7b62cecc-c806-4fd4-b64c-222e63c1eb1d",
   "metadata": {},
   "source": [
    "## Procesamiento de los Datos"
   ]
  },
  {
   "cell_type": "markdown",
   "id": "9ff869ae-17d7-4298-b4a3-2a2e44196612",
   "metadata": {},
   "source": [
    "### Creamos las categorías"
   ]
  },
  {
   "cell_type": "code",
   "execution_count": 4,
   "id": "f35d1ad5-fc22-4ccc-8213-a1fd792c1caa",
   "metadata": {},
   "outputs": [],
   "source": [
    "target = df['Type'].astype('category').cat.codes"
   ]
  },
  {
   "cell_type": "code",
   "execution_count": 5,
   "id": "a63aa578-218b-4a37-9179-f4ec9547ce77",
   "metadata": {},
   "outputs": [
    {
     "data": {
      "text/plain": [
       "0       3\n",
       "1       4\n",
       "2       0\n",
       "3       2\n",
       "4       3\n",
       "       ..\n",
       "1212    1\n",
       "1213    2\n",
       "1214    0\n",
       "1215    1\n",
       "1216    0\n",
       "Length: 1217, dtype: int8"
      ]
     },
     "execution_count": 5,
     "metadata": {},
     "output_type": "execute_result"
    }
   ],
   "source": [
    "target"
   ]
  },
  {
   "cell_type": "code",
   "execution_count": 6,
   "id": "dbb15dcc-74d6-4358-ab04-18d274796116",
   "metadata": {},
   "outputs": [],
   "source": [
    "# Adicionamos la columna al df\n",
    "df['target'] = target"
   ]
  },
  {
   "cell_type": "code",
   "execution_count": 7,
   "id": "a3c16703-14bc-406f-86f3-245a3e1d50cf",
   "metadata": {},
   "outputs": [
    {
     "data": {
      "text/html": [
       "<div>\n",
       "<style scoped>\n",
       "    .dataframe tbody tr th:only-of-type {\n",
       "        vertical-align: middle;\n",
       "    }\n",
       "\n",
       "    .dataframe tbody tr th {\n",
       "        vertical-align: top;\n",
       "    }\n",
       "\n",
       "    .dataframe thead th {\n",
       "        text-align: right;\n",
       "    }\n",
       "</style>\n",
       "<table border=\"1\" class=\"dataframe\">\n",
       "  <thead>\n",
       "    <tr style=\"text-align: right;\">\n",
       "      <th></th>\n",
       "      <th>url</th>\n",
       "      <th>news</th>\n",
       "      <th>Type</th>\n",
       "      <th>target</th>\n",
       "    </tr>\n",
       "  </thead>\n",
       "  <tbody>\n",
       "    <tr>\n",
       "      <th>0</th>\n",
       "      <td>https://www.larepublica.co/redirect/post/3201905</td>\n",
       "      <td>Durante el foro La banca articulador empresari...</td>\n",
       "      <td>Otra</td>\n",
       "      <td>3</td>\n",
       "    </tr>\n",
       "    <tr>\n",
       "      <th>1</th>\n",
       "      <td>https://www.larepublica.co/redirect/post/3210288</td>\n",
       "      <td>El regulador de valores de China dijo el domin...</td>\n",
       "      <td>Regulaciones</td>\n",
       "      <td>4</td>\n",
       "    </tr>\n",
       "    <tr>\n",
       "      <th>2</th>\n",
       "      <td>https://www.larepublica.co/redirect/post/3240676</td>\n",
       "      <td>En una industria históricamente masculina como...</td>\n",
       "      <td>Alianzas</td>\n",
       "      <td>0</td>\n",
       "    </tr>\n",
       "    <tr>\n",
       "      <th>3</th>\n",
       "      <td>https://www.larepublica.co/redirect/post/3342889</td>\n",
       "      <td>Con el dato de marzo el IPC interanual encaden...</td>\n",
       "      <td>Macroeconomia</td>\n",
       "      <td>2</td>\n",
       "    </tr>\n",
       "    <tr>\n",
       "      <th>4</th>\n",
       "      <td>https://www.larepublica.co/redirect/post/3427208</td>\n",
       "      <td>Ayer en Cartagena se dio inicio a la versión n...</td>\n",
       "      <td>Otra</td>\n",
       "      <td>3</td>\n",
       "    </tr>\n",
       "    <tr>\n",
       "      <th>...</th>\n",
       "      <td>...</td>\n",
       "      <td>...</td>\n",
       "      <td>...</td>\n",
       "      <td>...</td>\n",
       "    </tr>\n",
       "    <tr>\n",
       "      <th>1212</th>\n",
       "      <td>https://www.bbva.com/es/como-lograr-que-los-in...</td>\n",
       "      <td>En la vida de toda empresa emergente llega un ...</td>\n",
       "      <td>Innovacion</td>\n",
       "      <td>1</td>\n",
       "    </tr>\n",
       "    <tr>\n",
       "      <th>1213</th>\n",
       "      <td>https://www.bbva.com/es/podcast-como-nos-afect...</td>\n",
       "      <td>La espiral alcista de los precios continúa y g...</td>\n",
       "      <td>Macroeconomia</td>\n",
       "      <td>2</td>\n",
       "    </tr>\n",
       "    <tr>\n",
       "      <th>1214</th>\n",
       "      <td>https://www.larepublica.co/redirect/post/3253735</td>\n",
       "      <td>Las grandes derrotas nacionales son experienci...</td>\n",
       "      <td>Alianzas</td>\n",
       "      <td>0</td>\n",
       "    </tr>\n",
       "    <tr>\n",
       "      <th>1215</th>\n",
       "      <td>https://www.bbva.com/es/bbva-y-barcelona-healt...</td>\n",
       "      <td>BBVA ha alcanzado un acuerdo de colaboración c...</td>\n",
       "      <td>Innovacion</td>\n",
       "      <td>1</td>\n",
       "    </tr>\n",
       "    <tr>\n",
       "      <th>1216</th>\n",
       "      <td>https://www.larepublica.co/redirect/post/3263980</td>\n",
       "      <td>Casi entrando a la parte final de noviembre la...</td>\n",
       "      <td>Alianzas</td>\n",
       "      <td>0</td>\n",
       "    </tr>\n",
       "  </tbody>\n",
       "</table>\n",
       "<p>1217 rows × 4 columns</p>\n",
       "</div>"
      ],
      "text/plain": [
       "                                                    url  ... target\n",
       "0      https://www.larepublica.co/redirect/post/3201905  ...      3\n",
       "1      https://www.larepublica.co/redirect/post/3210288  ...      4\n",
       "2      https://www.larepublica.co/redirect/post/3240676  ...      0\n",
       "3      https://www.larepublica.co/redirect/post/3342889  ...      2\n",
       "4      https://www.larepublica.co/redirect/post/3427208  ...      3\n",
       "...                                                 ...  ...    ...\n",
       "1212  https://www.bbva.com/es/como-lograr-que-los-in...  ...      1\n",
       "1213  https://www.bbva.com/es/podcast-como-nos-afect...  ...      2\n",
       "1214   https://www.larepublica.co/redirect/post/3253735  ...      0\n",
       "1215  https://www.bbva.com/es/bbva-y-barcelona-healt...  ...      1\n",
       "1216   https://www.larepublica.co/redirect/post/3263980  ...      0\n",
       "\n",
       "[1217 rows x 4 columns]"
      ]
     },
     "execution_count": 7,
     "metadata": {},
     "output_type": "execute_result"
    }
   ],
   "source": [
    "df"
   ]
  },
  {
   "cell_type": "markdown",
   "id": "5700a6dc-cc25-4114-96a2-05c004242c44",
   "metadata": {},
   "source": [
    "### Separamos el conjunto de Datos"
   ]
  },
  {
   "cell_type": "code",
   "execution_count": 8,
   "id": "07638940-ed08-41ce-9211-fca5e1d5cd34",
   "metadata": {},
   "outputs": [],
   "source": [
    "df_train, df_test = train_test_split(df, test_size=0.3)"
   ]
  },
  {
   "cell_type": "markdown",
   "id": "339e91ff-3cf7-4a70-b835-e53f4525e2ea",
   "metadata": {},
   "source": [
    "### Vectorizamos con TF-IDF"
   ]
  },
  {
   "cell_type": "code",
   "execution_count": 9,
   "id": "8794c59b-87b3-48cf-9574-c0e016cda165",
   "metadata": {},
   "outputs": [],
   "source": [
    "vectorizer = TfidfVectorizer()\n",
    "X_train = vectorizer.fit_transform(df_train['news'])\n",
    "X_test = vectorizer.transform(df_test['news'])"
   ]
  },
  {
   "cell_type": "code",
   "execution_count": 12,
   "id": "767195ef-d4ca-42b6-9235-0cb5e362ee62",
   "metadata": {},
   "outputs": [
    {
     "data": {
      "text/plain": [
       "<851x25101 sparse matrix of type '<class 'numpy.float64'>'\n",
       "\twith 203924 stored elements in Compressed Sparse Row format>"
      ]
     },
     "execution_count": 12,
     "metadata": {},
     "output_type": "execute_result"
    }
   ],
   "source": [
    "X_train"
   ]
  },
  {
   "cell_type": "code",
   "execution_count": 13,
   "id": "580837ed-4218-4da1-ba2a-ae2305bff104",
   "metadata": {},
   "outputs": [
    {
     "data": {
      "text/plain": [
       "<366x25101 sparse matrix of type '<class 'numpy.float64'>'\n",
       "\twith 82175 stored elements in Compressed Sparse Row format>"
      ]
     },
     "execution_count": 13,
     "metadata": {},
     "output_type": "execute_result"
    }
   ],
   "source": [
    "X_test"
   ]
  },
  {
   "cell_type": "markdown",
   "id": "033b305c-a0cf-4d58-8212-d1623915f3f2",
   "metadata": {},
   "source": [
    "### Convertimos los conjuntos a Arreglos (tensorFlow)"
   ]
  },
  {
   "cell_type": "code",
   "execution_count": 26,
   "id": "ee8167d0-7cde-4095-b08b-7ec4f979616d",
   "metadata": {},
   "outputs": [],
   "source": [
    "X_train = X_train.toarray()\n",
    "X_test = X_test.toarray()"
   ]
  },
  {
   "cell_type": "markdown",
   "id": "6c058813-6d9b-4bf0-88d9-fcce2b4fe049",
   "metadata": {},
   "source": [
    "### Creamos los conjuntos de salida"
   ]
  },
  {
   "cell_type": "code",
   "execution_count": 10,
   "id": "6f04f404-d44f-4ec6-8274-0c611dab730b",
   "metadata": {},
   "outputs": [],
   "source": [
    "Y_train = df_train['target']\n",
    "Y_test = df_test['target']"
   ]
  },
  {
   "cell_type": "code",
   "execution_count": 15,
   "id": "81c158b4-035b-40e2-b7e2-f2a41c22d495",
   "metadata": {},
   "outputs": [
    {
     "data": {
      "text/plain": [
       "851"
      ]
     },
     "execution_count": 15,
     "metadata": {},
     "output_type": "execute_result"
    }
   ],
   "source": [
    "len(Y_train)"
   ]
  },
  {
   "cell_type": "code",
   "execution_count": 16,
   "id": "80f14a70-bcec-446f-846f-6813804cf364",
   "metadata": {},
   "outputs": [
    {
     "data": {
      "text/plain": [
       "366"
      ]
     },
     "execution_count": 16,
     "metadata": {},
     "output_type": "execute_result"
    }
   ],
   "source": [
    "len(Y_test)"
   ]
  },
  {
   "cell_type": "markdown",
   "id": "23bf0008-ff0c-49f0-838f-f5b376b4c629",
   "metadata": {},
   "source": [
    "### Obtenemos el número de clases"
   ]
  },
  {
   "cell_type": "code",
   "execution_count": 20,
   "id": "341df254-1c08-44b6-91f6-0d3e3c629dab",
   "metadata": {},
   "outputs": [
    {
     "data": {
      "text/plain": [
       "7"
      ]
     },
     "execution_count": 20,
     "metadata": {},
     "output_type": "execute_result"
    }
   ],
   "source": [
    "K = df['target'].max() + 1\n",
    "K"
   ]
  },
  {
   "cell_type": "markdown",
   "id": "53c7a706-c07b-4be0-955a-2a39b9d3df6d",
   "metadata": {},
   "source": [
    "### Obtenemos las Dimensiones"
   ]
  },
  {
   "cell_type": "code",
   "execution_count": 21,
   "id": "11c521e7-e4e0-481a-8897-72ed27df1bc1",
   "metadata": {},
   "outputs": [],
   "source": [
    "D = X_train.shape[1]"
   ]
  },
  {
   "cell_type": "code",
   "execution_count": 36,
   "id": "dcfc3382-9de8-4066-b9b6-85774d8995a4",
   "metadata": {},
   "outputs": [
    {
     "data": {
      "text/plain": [
       "25101"
      ]
     },
     "execution_count": 36,
     "metadata": {},
     "output_type": "execute_result"
    }
   ],
   "source": [
    "D"
   ]
  },
  {
   "cell_type": "markdown",
   "id": "0f501276-9e1d-485c-877f-038fc26720be",
   "metadata": {},
   "source": [
    "#### Explicación\n",
    "\n",
    "1. `train_test_split(df, test_size=0.3)` divide el DataFrame en un 70% para entrenamiento y un 30% para prueba.\n",
    "2. `TfidfVectorizer()` convierte el texto (columna `'news'`) en vectores numéricos usando TF-IDF.\n",
    "3. `fit_transform()` y `transform()` generan la matriz de características para entrenamiento y prueba.\n",
    "4. `toarray()` convierte las matrices dispersas a arrays NumPy densos.\n",
    "5. `Y_train` y `Y_test` son las etiquetas objetivo.\n",
    "6. `K` es el número total de clases (asumiendo clases de 0 a K−1).\n",
    "7. `D` es la dimensión de entrada, es decir, el número de características por muestra."
   ]
  },
  {
   "cell_type": "markdown",
   "id": "8dd667f0-3784-4155-8a49-08a694953074",
   "metadata": {},
   "source": [
    "## Modelo"
   ]
  },
  {
   "cell_type": "markdown",
   "id": "5eb480b2-e7f0-4b28-aa1c-3dcad1cea9d7",
   "metadata": {},
   "source": [
    "### Construcción del Modelo"
   ]
  },
  {
   "cell_type": "code",
   "execution_count": 23,
   "id": "f95e28b7-7151-4847-8cd1-3443da9f6eb8",
   "metadata": {},
   "outputs": [],
   "source": [
    "# Capa de entrada\n",
    "i = Input(shape=(D,))\n",
    "# Capa Densa\n",
    "x = Dense(300, activation='relu')(i)\n",
    "#Capa de salida Softmax\n",
    "x = Dense(K)(x)\n",
    "\n",
    "#Creación del modelo\n",
    "modelo = Model(i, x)"
   ]
  },
  {
   "cell_type": "markdown",
   "id": "57d61fc7-378d-431c-9f27-85a618543692",
   "metadata": {},
   "source": [
    "### Resumen del Modelo"
   ]
  },
  {
   "cell_type": "code",
   "execution_count": 24,
   "id": "122aa5a6-3286-43f1-8cb6-491ac841275b",
   "metadata": {},
   "outputs": [
    {
     "data": {
      "text/html": [
       "<pre style=\"white-space:pre;overflow-x:auto;line-height:normal;font-family:Menlo,'DejaVu Sans Mono',consolas,'Courier New',monospace\"><span style=\"font-weight: bold\">Model: \"functional\"</span>\n",
       "</pre>\n"
      ],
      "text/plain": [
       "\u001b[1mModel: \"functional\"\u001b[0m\n"
      ]
     },
     "metadata": {},
     "output_type": "display_data"
    },
    {
     "data": {
      "text/html": [
       "<pre style=\"white-space:pre;overflow-x:auto;line-height:normal;font-family:Menlo,'DejaVu Sans Mono',consolas,'Courier New',monospace\">┏━━━━━━━━━━━━━━━━━━━━━━━━━━━━━━━━━┳━━━━━━━━━━━━━━━━━━━━━━━━┳━━━━━━━━━━━━━━━┓\n",
       "┃<span style=\"font-weight: bold\"> Layer (type)                    </span>┃<span style=\"font-weight: bold\"> Output Shape           </span>┃<span style=\"font-weight: bold\">       Param # </span>┃\n",
       "┡━━━━━━━━━━━━━━━━━━━━━━━━━━━━━━━━━╇━━━━━━━━━━━━━━━━━━━━━━━━╇━━━━━━━━━━━━━━━┩\n",
       "│ input_layer_1 (<span style=\"color: #0087ff; text-decoration-color: #0087ff\">InputLayer</span>)      │ (<span style=\"color: #00d7ff; text-decoration-color: #00d7ff\">None</span>, <span style=\"color: #00af00; text-decoration-color: #00af00\">25101</span>)          │             <span style=\"color: #00af00; text-decoration-color: #00af00\">0</span> │\n",
       "├─────────────────────────────────┼────────────────────────┼───────────────┤\n",
       "│ dense_1 (<span style=\"color: #0087ff; text-decoration-color: #0087ff\">Dense</span>)                 │ (<span style=\"color: #00d7ff; text-decoration-color: #00d7ff\">None</span>, <span style=\"color: #00af00; text-decoration-color: #00af00\">300</span>)            │     <span style=\"color: #00af00; text-decoration-color: #00af00\">7,530,600</span> │\n",
       "├─────────────────────────────────┼────────────────────────┼───────────────┤\n",
       "│ dense_2 (<span style=\"color: #0087ff; text-decoration-color: #0087ff\">Dense</span>)                 │ (<span style=\"color: #00d7ff; text-decoration-color: #00d7ff\">None</span>, <span style=\"color: #00af00; text-decoration-color: #00af00\">7</span>)              │         <span style=\"color: #00af00; text-decoration-color: #00af00\">2,107</span> │\n",
       "└─────────────────────────────────┴────────────────────────┴───────────────┘\n",
       "</pre>\n"
      ],
      "text/plain": [
       "┏━━━━━━━━━━━━━━━━━━━━━━━━━━━━━━━━━┳━━━━━━━━━━━━━━━━━━━━━━━━┳━━━━━━━━━━━━━━━┓\n",
       "┃\u001b[1m \u001b[0m\u001b[1mLayer (type)                   \u001b[0m\u001b[1m \u001b[0m┃\u001b[1m \u001b[0m\u001b[1mOutput Shape          \u001b[0m\u001b[1m \u001b[0m┃\u001b[1m \u001b[0m\u001b[1m      Param #\u001b[0m\u001b[1m \u001b[0m┃\n",
       "┡━━━━━━━━━━━━━━━━━━━━━━━━━━━━━━━━━╇━━━━━━━━━━━━━━━━━━━━━━━━╇━━━━━━━━━━━━━━━┩\n",
       "│ input_layer_1 (\u001b[38;5;33mInputLayer\u001b[0m)      │ (\u001b[38;5;45mNone\u001b[0m, \u001b[38;5;34m25101\u001b[0m)          │             \u001b[38;5;34m0\u001b[0m │\n",
       "├─────────────────────────────────┼────────────────────────┼───────────────┤\n",
       "│ dense_1 (\u001b[38;5;33mDense\u001b[0m)                 │ (\u001b[38;5;45mNone\u001b[0m, \u001b[38;5;34m300\u001b[0m)            │     \u001b[38;5;34m7,530,600\u001b[0m │\n",
       "├─────────────────────────────────┼────────────────────────┼───────────────┤\n",
       "│ dense_2 (\u001b[38;5;33mDense\u001b[0m)                 │ (\u001b[38;5;45mNone\u001b[0m, \u001b[38;5;34m7\u001b[0m)              │         \u001b[38;5;34m2,107\u001b[0m │\n",
       "└─────────────────────────────────┴────────────────────────┴───────────────┘\n"
      ]
     },
     "metadata": {},
     "output_type": "display_data"
    },
    {
     "data": {
      "text/html": [
       "<pre style=\"white-space:pre;overflow-x:auto;line-height:normal;font-family:Menlo,'DejaVu Sans Mono',consolas,'Courier New',monospace\"><span style=\"font-weight: bold\"> Total params: </span><span style=\"color: #00af00; text-decoration-color: #00af00\">7,532,707</span> (28.73 MB)\n",
       "</pre>\n"
      ],
      "text/plain": [
       "\u001b[1m Total params: \u001b[0m\u001b[38;5;34m7,532,707\u001b[0m (28.73 MB)\n"
      ]
     },
     "metadata": {},
     "output_type": "display_data"
    },
    {
     "data": {
      "text/html": [
       "<pre style=\"white-space:pre;overflow-x:auto;line-height:normal;font-family:Menlo,'DejaVu Sans Mono',consolas,'Courier New',monospace\"><span style=\"font-weight: bold\"> Trainable params: </span><span style=\"color: #00af00; text-decoration-color: #00af00\">7,532,707</span> (28.73 MB)\n",
       "</pre>\n"
      ],
      "text/plain": [
       "\u001b[1m Trainable params: \u001b[0m\u001b[38;5;34m7,532,707\u001b[0m (28.73 MB)\n"
      ]
     },
     "metadata": {},
     "output_type": "display_data"
    },
    {
     "data": {
      "text/html": [
       "<pre style=\"white-space:pre;overflow-x:auto;line-height:normal;font-family:Menlo,'DejaVu Sans Mono',consolas,'Courier New',monospace\"><span style=\"font-weight: bold\"> Non-trainable params: </span><span style=\"color: #00af00; text-decoration-color: #00af00\">0</span> (0.00 B)\n",
       "</pre>\n"
      ],
      "text/plain": [
       "\u001b[1m Non-trainable params: \u001b[0m\u001b[38;5;34m0\u001b[0m (0.00 B)\n"
      ]
     },
     "metadata": {},
     "output_type": "display_data"
    }
   ],
   "source": [
    "modelo.summary()"
   ]
  },
  {
   "cell_type": "markdown",
   "id": "7315fa29-97ec-45b6-bdd1-1122faa26e77",
   "metadata": {},
   "source": [
    "### Compilamos el Modelo"
   ]
  },
  {
   "cell_type": "code",
   "execution_count": 25,
   "id": "a259f1a1-d7ef-4be7-876c-a631740b2d9a",
   "metadata": {},
   "outputs": [],
   "source": [
    "modelo.compile(\n",
    "    loss= tf.keras.losses.SparseCategoricalCrossentropy(from_logits=True),\n",
    "    optimizer='adam',\n",
    "    metrics=['accuracy']    \n",
    ")"
   ]
  },
  {
   "cell_type": "markdown",
   "id": "1d472e4f-5050-4d74-90e9-85ffd79a0967",
   "metadata": {},
   "source": [
    "### Entrenamos el Modelo"
   ]
  },
  {
   "cell_type": "code",
   "execution_count": null,
   "id": "ef798043-9b66-48b5-b905-935c78bafd3c",
   "metadata": {},
   "outputs": [],
   "source": [
    "r = modelo.fit(\n",
    "    X_train,\n",
    "    Y_train,\n",
    "    validation_data= (X_test, Y_test),\n",
    "    epochs= 100,\n",
    "    batch_size= 12   #Total de datos / 12\n",
    ")"
   ]
  },
  {
   "cell_type": "markdown",
   "id": "2aae91f1-a7c0-4972-bc53-bfd7cf0c7113",
   "metadata": {},
   "source": [
    "#### Explicación\n",
    "\n",
    "### 📌 Arquitectura del modelo:\n",
    "- `Input(shape=(D,))`: entrada de dimensión `D` (viene de la matriz TF-IDF).\n",
    "- `Dense(300, activation='relu')`: una capa totalmente conectada con 300 neuronas y activación ReLU.\n",
    "- `Dense(K)`: capa de salida con `K` neuronas (una por clase). No lleva activación porque usamos `from_logits=True` en la pérdida.\n",
    "\n",
    "---\n",
    "\n",
    "### 🧠 Compilación:\n",
    "- **Loss**: `SparseCategoricalCrossentropy(from_logits=True)` se usa porque las etiquetas están codificadas como enteros y la salida aún no pasa por softmax.\n",
    "- **Optimizer**: `'adam'` para una optimización eficiente.\n",
    "- **Métrica**: `'accuracy'` para evaluar el desempeño.\n",
    "\n",
    "---\n",
    "\n",
    "### 📊 Entrenamiento:\n",
    "- Entrena durante `100` épocas, usando lotes de tamaño `12`.\n",
    "- Se valida en cada época usando `X_test` y `Y_test`.\n",
    "\n",
    "---"
   ]
  },
  {
   "cell_type": "markdown",
   "id": "c722c7f6-559a-42e9-90bc-9dcd38a5e131",
   "metadata": {},
   "source": [
    "### Gráfico de la pérdida por iteración"
   ]
  },
  {
   "cell_type": "code",
   "execution_count": 34,
   "id": "926b48ed-8d25-48ed-9b7e-3f06b70d6938",
   "metadata": {},
   "outputs": [
    {
     "data": {
      "image/png": "[encoded data removed]",
      "text/plain": [
       "<Figure size 640x480 with 1 Axes>"
      ]
     },
     "metadata": {},
     "output_type": "display_data"
    }
   ],
   "source": [
    "# Gráfico de la función de pérdida (loss)\n",
    "plt.plot(r.history['loss'], label='Pérdida del Entrenamiento', color='blue')\n",
    "plt.plot(r.history['val_loss'], label='Pérdida del set de prueba', color='orange')\n",
    "plt.xlabel('Épocas')\n",
    "plt.ylabel('Pérdida')\n",
    "plt.title('Evolución del entrenamiento')\n",
    "plt.legend()\n",
    "plt.grid(True)\n",
    "plt.show()"
   ]
  },
  {
   "cell_type": "markdown",
   "id": "160de704-39ea-4c57-8b6f-b9056d73bad4",
   "metadata": {},
   "source": [
    "### Gráfico de la presición por iteración"
   ]
  },
  {
   "cell_type": "code",
   "execution_count": 35,
   "id": "32c174f5-6ad2-4164-a8a0-800e78e4a482",
   "metadata": {},
   "outputs": [
    {
     "data": {
      "image/png": "[encoded data removed]",
      "text/plain": [
       "<Figure size 640x480 with 1 Axes>"
      ]
     },
     "metadata": {},
     "output_type": "display_data"
    }
   ],
   "source": [
    "# Gráfico de la métrica de presición (accuracy)\n",
    "plt.plot(r.history['accuracy'], label='Presición del Entrenamiento', color='red')\n",
    "plt.plot(r.history['val_accuracy'], label='Presición del set de prueba', color='black')\n",
    "plt.xlabel('Épocas')\n",
    "plt.ylabel('Presición')\n",
    "plt.title('Evolución del entrenamiento')\n",
    "plt.legend()\n",
    "plt.grid(True)\n",
    "plt.show()"
   ]
  },
  {
   "cell_type": "markdown",
   "id": "675040f9-35af-4ed8-8208-ebc7c8cbb3ce",
   "metadata": {},
   "source": [
    "## Prueba del Modelo"
   ]
  },
  {
   "cell_type": "code",
   "execution_count": 61,
   "id": "c4cb84c1-34cf-4214-85cf-85436b0d9cb5",
   "metadata": {},
   "outputs": [
    {
     "name": "stdout",
     "output_type": "stream",
     "text": [
      "\u001b[1m1/1\u001b[0m \u001b[32m━━━━━━━━━━━━━━━━━━━━\u001b[0m\u001b[37m\u001b[0m \u001b[1m0s\u001b[0m 41ms/step\n"
     ]
    },
    {
     "data": {
      "text/html": [
       "<h3><b>Clase predicha para la noticia:</b>                Macroeconomia</h3>"
      ],
      "text/plain": [
       "<IPython.core.display.HTML object>"
      ]
     },
     "metadata": {},
     "output_type": "display_data"
    },
    {
     "data": {
      "text/html": [
       "<div>\n",
       "<style scoped>\n",
       "    .dataframe tbody tr th:only-of-type {\n",
       "        vertical-align: middle;\n",
       "    }\n",
       "\n",
       "    .dataframe tbody tr th {\n",
       "        vertical-align: top;\n",
       "    }\n",
       "\n",
       "    .dataframe thead th {\n",
       "        text-align: right;\n",
       "    }\n",
       "</style>\n",
       "<table border=\"1\" class=\"dataframe\">\n",
       "  <thead>\n",
       "    <tr style=\"text-align: right;\">\n",
       "      <th></th>\n",
       "      <th>Categoría</th>\n",
       "      <th>Probabilidad</th>\n",
       "    </tr>\n",
       "  </thead>\n",
       "  <tbody>\n",
       "    <tr>\n",
       "      <th>0</th>\n",
       "      <td>Macroeconomia</td>\n",
       "      <td>0.919483</td>\n",
       "    </tr>\n",
       "    <tr>\n",
       "      <th>1</th>\n",
       "      <td>Sostenibilidad</td>\n",
       "      <td>0.055128</td>\n",
       "    </tr>\n",
       "    <tr>\n",
       "      <th>2</th>\n",
       "      <td>Alianzas</td>\n",
       "      <td>0.019083</td>\n",
       "    </tr>\n",
       "    <tr>\n",
       "      <th>3</th>\n",
       "      <td>Otra</td>\n",
       "      <td>0.004394</td>\n",
       "    </tr>\n",
       "    <tr>\n",
       "      <th>4</th>\n",
       "      <td>Regulaciones</td>\n",
       "      <td>0.001539</td>\n",
       "    </tr>\n",
       "    <tr>\n",
       "      <th>5</th>\n",
       "      <td>Reputacion</td>\n",
       "      <td>0.000312</td>\n",
       "    </tr>\n",
       "    <tr>\n",
       "      <th>6</th>\n",
       "      <td>Innovacion</td>\n",
       "      <td>0.000060</td>\n",
       "    </tr>\n",
       "  </tbody>\n",
       "</table>\n",
       "</div>"
      ],
      "text/plain": [
       "        Categoría  Probabilidad\n",
       "0   Macroeconomia      0.919483\n",
       "1  Sostenibilidad      0.055128\n",
       "2        Alianzas      0.019083\n",
       "3            Otra      0.004394\n",
       "4    Regulaciones      0.001539\n",
       "5      Reputacion      0.000312\n",
       "6      Innovacion      0.000060"
      ]
     },
     "execution_count": 61,
     "metadata": {},
     "output_type": "execute_result"
    }
   ],
   "source": [
    "# Ejemplo de una nueva noticia\n",
    "nueva_noticia = [\"El presidente anunció nuevas medidas \\\n",
    "                    económicas para enfrentar la inflación.\"]\n",
    "\n",
    "# Transformar la noticia con el mismo vectorizador usado en entrenamiento\n",
    "X_nueva = vectorizer.transform(nueva_noticia).toarray()\n",
    "\n",
    "# Obtener la predicción (logits)\n",
    "Predict = modelo.predict(X_nueva)\n",
    "\n",
    "# Aplicar softmax para convertir P en probabilidades\n",
    "probs = tf.nn.softmax(Predict).numpy()\n",
    "\n",
    "# Obtener la clase predicha\n",
    "clase_predicha = np.argmax(probs)\n",
    "\n",
    "# Obtener el mapeo de códigos a etiquetas\n",
    "category_mapping = dict(enumerate(df['Type'].astype('category').cat.categories))\n",
    "\n",
    "# Creamos diccionario para almacenar la probabilidad de cada categoría\n",
    "probs_dict = {\n",
    "    category_mapping[i]: float(prob)\n",
    "    for i, prob in enumerate(probs[0])\n",
    "}\n",
    "display(HTML(f\"<h3><b>Clase predicha para la noticia:</b>\\\n",
    "                {category_mapping[clase_predicha]}</h3>\"))\n",
    "\n",
    "#Salida en pandas\n",
    "# Crear DataFrame con categorías y probabilidades\n",
    "df_probs = pd.DataFrame({\n",
    "    'Categoría': list(probs_dict.keys()),\n",
    "    'Probabilidad': list(probs_dict.values())\n",
    "})\n",
    "\n",
    "# Ordenar por probabilidad descendente\n",
    "df_probs = df_probs.sort_values(by='Probabilidad', ascending=False).reset_index(drop=True)\n",
    "\n",
    "# Mostrar la tabla\n",
    "df_probs"
   ]
  },
  {
   "cell_type": "markdown",
   "id": "5c598096-3f2e-4255-aaaa-892de678b0b3",
   "metadata": {},
   "source": [
    "### Gráfico de la salida"
   ]
  },
  {
   "cell_type": "code",
   "execution_count": 58,
   "id": "717987a7-1261-4f86-98fc-d356cee9e13a",
   "metadata": {},
   "outputs": [
    {
     "data": {
      "image/png": "[encoded data removed]",
      "text/plain": [
       "<Figure size 800x500 with 1 Axes>"
      ]
     },
     "metadata": {},
     "output_type": "display_data"
    }
   ],
   "source": [
    "# Gráfico de barras\n",
    "plt.figure(figsize=(8, 5))\n",
    "bars = plt.barh(df_probs['Categoría'], df_probs['Probabilidad'], color='skyblue')\n",
    "plt.xlabel('Probabilidad')\n",
    "plt.title('Distribución de Probabilidades por Categoría')\n",
    "plt.gca().invert_yaxis()  # Opcional: categoría más probable arriba\n",
    "plt.grid(axis='x', linestyle='--', alpha=0.7)\n",
    "\n",
    "#Agregamos etiquetas a cada barra\n",
    "for bar in bars:\n",
    "    width = bar.get_width()\n",
    "    plt.text(width + 0.01,\n",
    "             bar.get_y() + bar.get_height()/2,\n",
    "            f'{width:.4f}',\n",
    "             va= 'center'\n",
    "            )\n",
    "\n",
    "plt.tight_layout()\n",
    "plt.show()"
   ]
  },
  {
   "cell_type": "markdown",
   "id": "c90f6acb-087a-4b09-a0bd-98cac897b92d",
   "metadata": {},
   "source": [
    "## Conclusiones"
   ]
  },
  {
   "cell_type": "markdown",
   "id": "516d5288-7225-451e-84e3-5e08fc5dfd06",
   "metadata": {},
   "source": [
    "<div style=\"text-align: center;\">\n",
    "    <p>En este modelo, se logró crear una clasificación a través de keras, capaz de indetificar, a partir del contenido de una noticia, cuál es su cateoría. Con un entrenamiento más robusto, podríamos generar un clasificador de mayor presición capaz de clasificar cualquier texto informativo.</p>\n",
    "        <hr/>\n",
    "    <p style=\"text-align: right;\">Mg. Luis Felipe Bustamante Narváez</p>\n",
    "</div>"
   ]
  }
 ],
 "metadata": {
  "kernelspec": {
   "display_name": "Python 3 (ipykernel)",
   "language": "python",
   "name": "python3"
  },
  "language_info": {
   "codemirror_mode": {
    "name": "ipython",
    "version": 3
   },
   "file_extension": ".py",
   "mimetype": "text/x-python",
   "name": "python",
   "nbconvert_exporter": "python",
   "pygments_lexer": "ipython3",
   "version": "3.12.9"
  }
 },
 "nbformat": 4,
 "nbformat_minor": 5
}
