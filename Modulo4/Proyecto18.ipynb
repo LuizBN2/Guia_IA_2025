{
 "cells": [
  {
   "cell_type": "markdown",
   "id": "1a5de896-1532-4196-a1be-2beae0083f41",
   "metadata": {},
   "source": [
    "<div style=\"text-align: center;\">\n",
    "    <h1 style=\"color: #a64dff;\">Anexo 18</h1>\n",
    "    <h3>Proyecto 18: Análisis de Sentimiento con TensorFlow</h3>\n",
    "    <hr/>\n",
    "    <p style=\"text-align: right;\">Mg. Luis Felipe Bustamante Narváez</p>\n",
    "</div>"
   ]
  },
  {
   "attachments": {},
   "cell_type": "markdown",
   "id": "43a07726-431c-46f0-a9dd-445869966419",
   "metadata": {},
   "source": [
    "En este ejercicio, desarrollaremos un Analizador de Sentimiento utilizando esta vez, TensorFlow, aquí observaremos de qué manera se corrigen errores encontrados en los ejemplos anteriores de clasificación de textos.\n",
    "\n",
    "<div align=\"center\">\n",
    "  <img src=\"images/tensor.jpg\" alt=\"Descripción\" width=\"400\">\n",
    "</div>"
   ]
  },
  {
   "cell_type": "markdown",
   "id": "bbd5ae15-a7bf-4dca-ad33-3940d9c7544d",
   "metadata": {},
   "source": [
    "## Librerías"
   ]
  },
  {
   "cell_type": "code",
   "execution_count": 104,
   "id": "50eeea97-e004-40a0-af2a-53ff264c108e",
   "metadata": {},
   "outputs": [],
   "source": [
    "import numpy as np\n",
    "import pandas as pd\n",
    "import seaborn as sn\n",
    "import tensorflow as tf\n",
    "import matplotlib.pyplot as plt\n",
    "from sklearn.model_selection import train_test_split\n",
    "from sklearn.feature_extraction.text import TfidfVectorizer\n",
    "from sklearn.metrics import roc_auc_score, f1_score, confusion_matrix\n",
    "from sklearn.metrics import roc_curve, auc, precision_score, recall_score\n",
    "from tensorflow.keras.layers import Dense, Input\n",
    "from tensorflow.keras.models import Model\n",
    "from tensorflow.keras.losses import BinaryCrossentropy\n",
    "from tensorflow.keras.optimizers import Adam"
   ]
  },
  {
   "cell_type": "markdown",
   "id": "b6cab951-4c3e-4099-91ad-ed55c88e637f",
   "metadata": {},
   "source": [
    "## Cargamos los Datos"
   ]
  },
  {
   "cell_type": "code",
   "execution_count": 79,
   "id": "c305ae12-a1b4-4974-b5e2-56854038ca56",
   "metadata": {},
   "outputs": [],
   "source": [
    "path = 'data/comentarios_npl.csv'\n",
    "df = pd.read_csv(path)"
   ]
  },
  {
   "cell_type": "code",
   "execution_count": 119,
   "id": "70adf299-64a8-4899-ad7f-bafa17c58182",
   "metadata": {},
   "outputs": [
    {
     "data": {
      "text/html": [
       "<div>\n",
       "<style scoped>\n",
       "    .dataframe tbody tr th:only-of-type {\n",
       "        vertical-align: middle;\n",
       "    }\n",
       "\n",
       "    .dataframe tbody tr th {\n",
       "        vertical-align: top;\n",
       "    }\n",
       "\n",
       "    .dataframe thead th {\n",
       "        text-align: right;\n",
       "    }\n",
       "</style>\n",
       "<table border=\"1\" class=\"dataframe\">\n",
       "  <thead>\n",
       "    <tr style=\"text-align: right;\">\n",
       "      <th></th>\n",
       "      <th>comentario</th>\n",
       "      <th>review_text</th>\n",
       "      <th>target</th>\n",
       "    </tr>\n",
       "  </thead>\n",
       "  <tbody>\n",
       "    <tr>\n",
       "      <th>0</th>\n",
       "      <td>negativo</td>\n",
       "      <td>Como fan de las series españolas y de Najwa, e...</td>\n",
       "      <td>0</td>\n",
       "    </tr>\n",
       "    <tr>\n",
       "      <th>1</th>\n",
       "      <td>negativo</td>\n",
       "      <td>Todo lo malo que puede tener una serie lo pose...</td>\n",
       "      <td>0</td>\n",
       "    </tr>\n",
       "    <tr>\n",
       "      <th>2</th>\n",
       "      <td>negativo</td>\n",
       "      <td>La serie es un drama médico que intenta \"copia...</td>\n",
       "      <td>0</td>\n",
       "    </tr>\n",
       "    <tr>\n",
       "      <th>3</th>\n",
       "      <td>negativo</td>\n",
       "      <td>Nadie te obliga a ver nada que no quieras ver ...</td>\n",
       "      <td>0</td>\n",
       "    </tr>\n",
       "    <tr>\n",
       "      <th>4</th>\n",
       "      <td>negativo</td>\n",
       "      <td>Está serie da vergüenza ajena. Una serie donde...</td>\n",
       "      <td>0</td>\n",
       "    </tr>\n",
       "    <tr>\n",
       "      <th>...</th>\n",
       "      <td>...</td>\n",
       "      <td>...</td>\n",
       "      <td>...</td>\n",
       "    </tr>\n",
       "    <tr>\n",
       "      <th>10053</th>\n",
       "      <td>negativo</td>\n",
       "      <td>Un misterioso asesinato provoca diversión y de...</td>\n",
       "      <td>0</td>\n",
       "    </tr>\n",
       "    <tr>\n",
       "      <th>10054</th>\n",
       "      <td>negativo</td>\n",
       "      <td>Empieza bien, pero va perdiendo fuerza y coher...</td>\n",
       "      <td>0</td>\n",
       "    </tr>\n",
       "    <tr>\n",
       "      <th>10055</th>\n",
       "      <td>negativo</td>\n",
       "      <td>Segunda entrega de la serie \"Pesadillas y enso...</td>\n",
       "      <td>0</td>\n",
       "    </tr>\n",
       "    <tr>\n",
       "      <th>10056</th>\n",
       "      <td>positivo</td>\n",
       "      <td>Con Old House comienza la serie de siete episo...</td>\n",
       "      <td>1</td>\n",
       "    </tr>\n",
       "    <tr>\n",
       "      <th>10057</th>\n",
       "      <td>negativo</td>\n",
       "      <td>Tercera entrega de \"Pesadillas y ensoñaciones\"...</td>\n",
       "      <td>0</td>\n",
       "    </tr>\n",
       "  </tbody>\n",
       "</table>\n",
       "<p>10058 rows × 3 columns</p>\n",
       "</div>"
      ],
      "text/plain": [
       "      comentario                                        review_text  target\n",
       "0       negativo  Como fan de las series españolas y de Najwa, e...       0\n",
       "1       negativo  Todo lo malo que puede tener una serie lo pose...       0\n",
       "2       negativo  La serie es un drama médico que intenta \"copia...       0\n",
       "3       negativo  Nadie te obliga a ver nada que no quieras ver ...       0\n",
       "4       negativo  Está serie da vergüenza ajena. Una serie donde...       0\n",
       "...          ...                                                ...     ...\n",
       "10053   negativo  Un misterioso asesinato provoca diversión y de...       0\n",
       "10054   negativo  Empieza bien, pero va perdiendo fuerza y coher...       0\n",
       "10055   negativo  Segunda entrega de la serie \"Pesadillas y enso...       0\n",
       "10056   positivo  Con Old House comienza la serie de siete episo...       1\n",
       "10057   negativo  Tercera entrega de \"Pesadillas y ensoñaciones\"...       0\n",
       "\n",
       "[10058 rows x 3 columns]"
      ]
     },
     "execution_count": 119,
     "metadata": {},
     "output_type": "execute_result"
    }
   ],
   "source": [
    "df"
   ]
  },
  {
   "cell_type": "code",
   "execution_count": 81,
   "id": "2c3fdaf8-25a9-4e1d-a06b-ed63123c8fd7",
   "metadata": {},
   "outputs": [],
   "source": [
    "# Tomamos las columnas que necesitamos\n",
    "df = df[['comentario', 'review_text']]"
   ]
  },
  {
   "cell_type": "code",
   "execution_count": 82,
   "id": "4beb6447-4250-41a6-b896-a3f770daa891",
   "metadata": {},
   "outputs": [
    {
     "data": {
      "image/png": "[encoded data removed]",
      "text/plain": [
       "<Figure size 640x480 with 1 Axes>"
      ]
     },
     "metadata": {},
     "output_type": "display_data"
    }
   ],
   "source": [
    "# Mostramos el histograma de los comentarios\n",
    "df['comentario'].hist();"
   ]
  },
  {
   "cell_type": "code",
   "execution_count": 120,
   "id": "d0b0a8a3-0f38-4de9-975a-e330228e0d29",
   "metadata": {},
   "outputs": [],
   "source": [
    "# Creamos la columna binaria\n",
    "df = df.copy()\n",
    "target_map = {'positivo': 1, 'negativo': 0}\n",
    "df['target'] = df['comentario'].map(target_map)"
   ]
  },
  {
   "cell_type": "code",
   "execution_count": 121,
   "id": "9529b910-5293-400f-addc-86f18864424c",
   "metadata": {},
   "outputs": [
    {
     "data": {
      "text/html": [
       "<div>\n",
       "<style scoped>\n",
       "    .dataframe tbody tr th:only-of-type {\n",
       "        vertical-align: middle;\n",
       "    }\n",
       "\n",
       "    .dataframe tbody tr th {\n",
       "        vertical-align: top;\n",
       "    }\n",
       "\n",
       "    .dataframe thead th {\n",
       "        text-align: right;\n",
       "    }\n",
       "</style>\n",
       "<table border=\"1\" class=\"dataframe\">\n",
       "  <thead>\n",
       "    <tr style=\"text-align: right;\">\n",
       "      <th></th>\n",
       "      <th>comentario</th>\n",
       "      <th>review_text</th>\n",
       "      <th>target</th>\n",
       "    </tr>\n",
       "  </thead>\n",
       "  <tbody>\n",
       "    <tr>\n",
       "      <th>0</th>\n",
       "      <td>negativo</td>\n",
       "      <td>Como fan de las series españolas y de Najwa, e...</td>\n",
       "      <td>0</td>\n",
       "    </tr>\n",
       "    <tr>\n",
       "      <th>1</th>\n",
       "      <td>negativo</td>\n",
       "      <td>Todo lo malo que puede tener una serie lo pose...</td>\n",
       "      <td>0</td>\n",
       "    </tr>\n",
       "    <tr>\n",
       "      <th>2</th>\n",
       "      <td>negativo</td>\n",
       "      <td>La serie es un drama médico que intenta \"copia...</td>\n",
       "      <td>0</td>\n",
       "    </tr>\n",
       "    <tr>\n",
       "      <th>3</th>\n",
       "      <td>negativo</td>\n",
       "      <td>Nadie te obliga a ver nada que no quieras ver ...</td>\n",
       "      <td>0</td>\n",
       "    </tr>\n",
       "    <tr>\n",
       "      <th>4</th>\n",
       "      <td>negativo</td>\n",
       "      <td>Está serie da vergüenza ajena. Una serie donde...</td>\n",
       "      <td>0</td>\n",
       "    </tr>\n",
       "    <tr>\n",
       "      <th>...</th>\n",
       "      <td>...</td>\n",
       "      <td>...</td>\n",
       "      <td>...</td>\n",
       "    </tr>\n",
       "    <tr>\n",
       "      <th>10053</th>\n",
       "      <td>negativo</td>\n",
       "      <td>Un misterioso asesinato provoca diversión y de...</td>\n",
       "      <td>0</td>\n",
       "    </tr>\n",
       "    <tr>\n",
       "      <th>10054</th>\n",
       "      <td>negativo</td>\n",
       "      <td>Empieza bien, pero va perdiendo fuerza y coher...</td>\n",
       "      <td>0</td>\n",
       "    </tr>\n",
       "    <tr>\n",
       "      <th>10055</th>\n",
       "      <td>negativo</td>\n",
       "      <td>Segunda entrega de la serie \"Pesadillas y enso...</td>\n",
       "      <td>0</td>\n",
       "    </tr>\n",
       "    <tr>\n",
       "      <th>10056</th>\n",
       "      <td>positivo</td>\n",
       "      <td>Con Old House comienza la serie de siete episo...</td>\n",
       "      <td>1</td>\n",
       "    </tr>\n",
       "    <tr>\n",
       "      <th>10057</th>\n",
       "      <td>negativo</td>\n",
       "      <td>Tercera entrega de \"Pesadillas y ensoñaciones\"...</td>\n",
       "      <td>0</td>\n",
       "    </tr>\n",
       "  </tbody>\n",
       "</table>\n",
       "<p>10058 rows × 3 columns</p>\n",
       "</div>"
      ],
      "text/plain": [
       "      comentario                                        review_text  target\n",
       "0       negativo  Como fan de las series españolas y de Najwa, e...       0\n",
       "1       negativo  Todo lo malo que puede tener una serie lo pose...       0\n",
       "2       negativo  La serie es un drama médico que intenta \"copia...       0\n",
       "3       negativo  Nadie te obliga a ver nada que no quieras ver ...       0\n",
       "4       negativo  Está serie da vergüenza ajena. Una serie donde...       0\n",
       "...          ...                                                ...     ...\n",
       "10053   negativo  Un misterioso asesinato provoca diversión y de...       0\n",
       "10054   negativo  Empieza bien, pero va perdiendo fuerza y coher...       0\n",
       "10055   negativo  Segunda entrega de la serie \"Pesadillas y enso...       0\n",
       "10056   positivo  Con Old House comienza la serie de siete episo...       1\n",
       "10057   negativo  Tercera entrega de \"Pesadillas y ensoñaciones\"...       0\n",
       "\n",
       "[10058 rows x 3 columns]"
      ]
     },
     "execution_count": 121,
     "metadata": {},
     "output_type": "execute_result"
    }
   ],
   "source": [
    "df"
   ]
  },
  {
   "cell_type": "markdown",
   "id": "2ad8b0d0-9832-4042-9dbe-a085610fdefb",
   "metadata": {},
   "source": [
    "## Procesamiento de los Datos"
   ]
  },
  {
   "cell_type": "markdown",
   "id": "93a93015-ca40-4a65-b3f6-50494d754424",
   "metadata": {},
   "source": [
    "### Separamos el conjunto de Datos"
   ]
  },
  {
   "cell_type": "code",
   "execution_count": 122,
   "id": "b59fb44b-a3f2-4cb5-a524-6cad99037dbf",
   "metadata": {},
   "outputs": [],
   "source": [
    "df_train, df_test = train_test_split(df, random_state=42)"
   ]
  },
  {
   "cell_type": "markdown",
   "id": "626ad8a2-d3e1-4ae9-b434-705a89a62dc2",
   "metadata": {},
   "source": [
    "### Vectorizamos los Datos"
   ]
  },
  {
   "cell_type": "code",
   "execution_count": 86,
   "id": "5edd1932-2267-4923-9be9-65b7ce626c72",
   "metadata": {},
   "outputs": [],
   "source": [
    "vectorizer = TfidfVectorizer(max_features=2000)\n",
    "X_train = vectorizer.fit_transform(df_train['review_text'])\n",
    "X_test = vectorizer.transform(df_test['review_text'])"
   ]
  },
  {
   "cell_type": "markdown",
   "id": "4f2f6f4a-c449-4461-a4cc-ccdfa907f096",
   "metadata": {},
   "source": [
    "### Convertimos a arreglos"
   ]
  },
  {
   "cell_type": "code",
   "execution_count": 87,
   "id": "137c6f96-94cd-4b4b-89a4-11becf93c65f",
   "metadata": {},
   "outputs": [],
   "source": [
    "X_train = X_train.toarray()\n",
    "X_test = X_test.toarray()"
   ]
  },
  {
   "cell_type": "markdown",
   "id": "acb0152c-be2f-4999-b7ab-51ded157d4cb",
   "metadata": {},
   "source": [
    "### Creamos los conjuntos de Datos Objetivo"
   ]
  },
  {
   "cell_type": "code",
   "execution_count": 88,
   "id": "16179cc0-471e-4f91-882d-a4b2c8e9b937",
   "metadata": {},
   "outputs": [],
   "source": [
    "Y_train = df_train['target']\n",
    "Y_test = df_test['target']"
   ]
  },
  {
   "cell_type": "markdown",
   "id": "5fee43d4-4e04-40f5-a2cc-88aa5ed01fce",
   "metadata": {},
   "source": [
    "### Definimos la dimensión del entrenamiento"
   ]
  },
  {
   "cell_type": "code",
   "execution_count": 89,
   "id": "40b2e51e-39f8-4731-a881-23ef58da0fe6",
   "metadata": {},
   "outputs": [],
   "source": [
    "D = X_train.shape[1]"
   ]
  },
  {
   "cell_type": "code",
   "execution_count": 90,
   "id": "ba4add25-7f1c-4f7e-a4b2-ba9a5f7e281f",
   "metadata": {},
   "outputs": [
    {
     "data": {
      "text/plain": [
       "2000"
      ]
     },
     "execution_count": 90,
     "metadata": {},
     "output_type": "execute_result"
    }
   ],
   "source": [
    "D"
   ]
  },
  {
   "cell_type": "markdown",
   "id": "c3caef67-5763-41b3-a787-5602d241592b",
   "metadata": {},
   "source": [
    "## Modelo"
   ]
  },
  {
   "cell_type": "code",
   "execution_count": 91,
   "id": "a2861b89-8b8d-42b3-96dd-c6ad2a08a5d1",
   "metadata": {},
   "outputs": [],
   "source": [
    "#Capa de entrada\n",
    "i = Input(shape=(D,))\n",
    "# Capa Densa\n",
    "x = Dense(1)(i) # función sigmoide incluyendo la función de pérdida\n",
    "#modelo\n",
    "modelo = Model(i, x)"
   ]
  },
  {
   "cell_type": "markdown",
   "id": "ec541776-10c7-4475-81a6-e4c8b1126a00",
   "metadata": {},
   "source": [
    "### Resumen del modelo"
   ]
  },
  {
   "cell_type": "code",
   "execution_count": 92,
   "id": "0a6c7e1a-1eda-4f76-9a05-5d25fb7d574d",
   "metadata": {},
   "outputs": [
    {
     "data": {
      "text/html": [
       "<pre style=\"white-space:pre;overflow-x:auto;line-height:normal;font-family:Menlo,'DejaVu Sans Mono',consolas,'Courier New',monospace\"><span style=\"font-weight: bold\">Model: \"functional_5\"</span>\n",
       "</pre>\n"
      ],
      "text/plain": [
       "\u001b[1mModel: \"functional_5\"\u001b[0m\n"
      ]
     },
     "metadata": {},
     "output_type": "display_data"
    },
    {
     "data": {
      "text/html": [
       "<pre style=\"white-space:pre;overflow-x:auto;line-height:normal;font-family:Menlo,'DejaVu Sans Mono',consolas,'Courier New',monospace\">┏━━━━━━━━━━━━━━━━━━━━━━━━━━━━━━━━━┳━━━━━━━━━━━━━━━━━━━━━━━━┳━━━━━━━━━━━━━━━┓\n",
       "┃<span style=\"font-weight: bold\"> Layer (type)                    </span>┃<span style=\"font-weight: bold\"> Output Shape           </span>┃<span style=\"font-weight: bold\">       Param # </span>┃\n",
       "┡━━━━━━━━━━━━━━━━━━━━━━━━━━━━━━━━━╇━━━━━━━━━━━━━━━━━━━━━━━━╇━━━━━━━━━━━━━━━┩\n",
       "│ input_layer_5 (<span style=\"color: #0087ff; text-decoration-color: #0087ff\">InputLayer</span>)      │ (<span style=\"color: #00d7ff; text-decoration-color: #00d7ff\">None</span>, <span style=\"color: #00af00; text-decoration-color: #00af00\">2000</span>)           │             <span style=\"color: #00af00; text-decoration-color: #00af00\">0</span> │\n",
       "├─────────────────────────────────┼────────────────────────┼───────────────┤\n",
       "│ dense_5 (<span style=\"color: #0087ff; text-decoration-color: #0087ff\">Dense</span>)                 │ (<span style=\"color: #00d7ff; text-decoration-color: #00d7ff\">None</span>, <span style=\"color: #00af00; text-decoration-color: #00af00\">1</span>)              │         <span style=\"color: #00af00; text-decoration-color: #00af00\">2,001</span> │\n",
       "└─────────────────────────────────┴────────────────────────┴───────────────┘\n",
       "</pre>\n"
      ],
      "text/plain": [
       "┏━━━━━━━━━━━━━━━━━━━━━━━━━━━━━━━━━┳━━━━━━━━━━━━━━━━━━━━━━━━┳━━━━━━━━━━━━━━━┓\n",
       "┃\u001b[1m \u001b[0m\u001b[1mLayer (type)                   \u001b[0m\u001b[1m \u001b[0m┃\u001b[1m \u001b[0m\u001b[1mOutput Shape          \u001b[0m\u001b[1m \u001b[0m┃\u001b[1m \u001b[0m\u001b[1m      Param #\u001b[0m\u001b[1m \u001b[0m┃\n",
       "┡━━━━━━━━━━━━━━━━━━━━━━━━━━━━━━━━━╇━━━━━━━━━━━━━━━━━━━━━━━━╇━━━━━━━━━━━━━━━┩\n",
       "│ input_layer_5 (\u001b[38;5;33mInputLayer\u001b[0m)      │ (\u001b[38;5;45mNone\u001b[0m, \u001b[38;5;34m2000\u001b[0m)           │             \u001b[38;5;34m0\u001b[0m │\n",
       "├─────────────────────────────────┼────────────────────────┼───────────────┤\n",
       "│ dense_5 (\u001b[38;5;33mDense\u001b[0m)                 │ (\u001b[38;5;45mNone\u001b[0m, \u001b[38;5;34m1\u001b[0m)              │         \u001b[38;5;34m2,001\u001b[0m │\n",
       "└─────────────────────────────────┴────────────────────────┴───────────────┘\n"
      ]
     },
     "metadata": {},
     "output_type": "display_data"
    },
    {
     "data": {
      "text/html": [
       "<pre style=\"white-space:pre;overflow-x:auto;line-height:normal;font-family:Menlo,'DejaVu Sans Mono',consolas,'Courier New',monospace\"><span style=\"font-weight: bold\"> Total params: </span><span style=\"color: #00af00; text-decoration-color: #00af00\">2,001</span> (7.82 KB)\n",
       "</pre>\n"
      ],
      "text/plain": [
       "\u001b[1m Total params: \u001b[0m\u001b[38;5;34m2,001\u001b[0m (7.82 KB)\n"
      ]
     },
     "metadata": {},
     "output_type": "display_data"
    },
    {
     "data": {
      "text/html": [
       "<pre style=\"white-space:pre;overflow-x:auto;line-height:normal;font-family:Menlo,'DejaVu Sans Mono',consolas,'Courier New',monospace\"><span style=\"font-weight: bold\"> Trainable params: </span><span style=\"color: #00af00; text-decoration-color: #00af00\">2,001</span> (7.82 KB)\n",
       "</pre>\n"
      ],
      "text/plain": [
       "\u001b[1m Trainable params: \u001b[0m\u001b[38;5;34m2,001\u001b[0m (7.82 KB)\n"
      ]
     },
     "metadata": {},
     "output_type": "display_data"
    },
    {
     "data": {
      "text/html": [
       "<pre style=\"white-space:pre;overflow-x:auto;line-height:normal;font-family:Menlo,'DejaVu Sans Mono',consolas,'Courier New',monospace\"><span style=\"font-weight: bold\"> Non-trainable params: </span><span style=\"color: #00af00; text-decoration-color: #00af00\">0</span> (0.00 B)\n",
       "</pre>\n"
      ],
      "text/plain": [
       "\u001b[1m Non-trainable params: \u001b[0m\u001b[38;5;34m0\u001b[0m (0.00 B)\n"
      ]
     },
     "metadata": {},
     "output_type": "display_data"
    }
   ],
   "source": [
    "modelo.summary()"
   ]
  },
  {
   "cell_type": "markdown",
   "id": "5f767ef4-6643-48a6-91ed-ea9a6512ff34",
   "metadata": {},
   "source": [
    "### Compilamos el modelo"
   ]
  },
  {
   "cell_type": "code",
   "execution_count": 93,
   "id": "471ebc35-2bda-4d16-883b-fb0e81aea5d7",
   "metadata": {},
   "outputs": [],
   "source": [
    "modelo.compile(\n",
    "    loss= BinaryCrossentropy(from_logits=True),\n",
    "    optimizer=Adam(learning_rate=0.01),\n",
    "    metrics=['accuracy']\n",
    ")"
   ]
  },
  {
   "cell_type": "markdown",
   "id": "f3b85d80-b027-47a8-9fbd-04b19c50d6a9",
   "metadata": {},
   "source": [
    "### Entrenamos el modelo"
   ]
  },
  {
   "cell_type": "code",
   "execution_count": null,
   "id": "2e1f3565-7025-4030-a267-fe16c0ce35fe",
   "metadata": {},
   "outputs": [],
   "source": [
    "r = modelo.fit(\n",
    "    X_train,\n",
    "    Y_train,\n",
    "    validation_data=(X_test, Y_test),\n",
    "    epochs=100,\n",
    "    batch_size=128\n",
    ")"
   ]
  },
  {
   "cell_type": "markdown",
   "id": "8c25556e-9660-402e-94e6-ccc0a4d0fc90",
   "metadata": {},
   "source": [
    "## Predicción"
   ]
  },
  {
   "cell_type": "code",
   "execution_count": 95,
   "id": "a45218f9-3e6e-4da9-94e2-876562145028",
   "metadata": {},
   "outputs": [
    {
     "name": "stdout",
     "output_type": "stream",
     "text": [
      "\u001b[1m236/236\u001b[0m \u001b[32m━━━━━━━━━━━━━━━━━━━━\u001b[0m\u001b[37m\u001b[0m \u001b[1m0s\u001b[0m 1ms/step \n",
      "\u001b[1m79/79\u001b[0m \u001b[32m━━━━━━━━━━━━━━━━━━━━\u001b[0m\u001b[37m\u001b[0m \u001b[1m0s\u001b[0m 1ms/step \n"
     ]
    }
   ],
   "source": [
    "# Con el entrenamiento\n",
    "P_train = ((modelo.predict(X_train) > 0)*1.0).flatten()\n",
    "# Con los test\n",
    "P_test = ((modelo.predict(X_test) > 0)*1.0).flatten()"
   ]
  },
  {
   "cell_type": "markdown",
   "id": "5ec4b5db-1b3a-4e6d-a2bf-9f22ec3e2807",
   "metadata": {},
   "source": [
    "### Matriz de Confusión"
   ]
  },
  {
   "cell_type": "code",
   "execution_count": 96,
   "id": "fdc6f6f2-d5e3-4d39-9b9b-8bab1ea9b225",
   "metadata": {},
   "outputs": [
    {
     "data": {
      "text/plain": [
       "array([[0.96471304, 0.03528696],\n",
       "       [0.11906585, 0.88093415]])"
      ]
     },
     "execution_count": 96,
     "metadata": {},
     "output_type": "execute_result"
    }
   ],
   "source": [
    "conf_matrix = confusion_matrix(Y_train, P_train, normalize='true')\n",
    "conf_matrix"
   ]
  },
  {
   "cell_type": "code",
   "execution_count": 97,
   "id": "5f58f85b-b13d-4ccf-8945-96edf55308b0",
   "metadata": {},
   "outputs": [],
   "source": [
    "# Gráfico de la matriz de confusión\n",
    "def plot_conf_matrix(c_m, color):\n",
    "    classes = ['negativo', 'positivo']\n",
    "    df_cm = pd.DataFrame(c_m, index=classes, columns=classes)\n",
    "    ax = sn.heatmap(df_cm, annot=True, fmt='g', cmap=color)\n",
    "    ax.set_xlabel('Predecido')\n",
    "    ax.set_ylabel('Objetivo')"
   ]
  },
  {
   "cell_type": "code",
   "execution_count": 74,
   "id": "fab07a43-ea89-47b6-abff-9b6df49c5acd",
   "metadata": {},
   "outputs": [
    {
     "data": {
      "image/png": "[encoded data removed]",
      "text/plain": [
       "<Figure size 640x480 with 2 Axes>"
      ]
     },
     "metadata": {},
     "output_type": "display_data"
    }
   ],
   "source": [
    "# Graficamos la matriz\n",
    "color = 'cividis'  #coolwarm / viridis / Blues / Greens / Reds / magma / cividis\n",
    "plot_conf_matrix(conf_matrix, color)"
   ]
  },
  {
   "cell_type": "markdown",
   "id": "f56339bb-250b-411b-8014-2871a994e16b",
   "metadata": {},
   "source": [
    "## Métricas del modelo"
   ]
  },
  {
   "cell_type": "markdown",
   "id": "a0b3b19f-2011-4beb-91d5-ae76384427ee",
   "metadata": {},
   "source": [
    "### Área bajo la curva"
   ]
  },
  {
   "cell_type": "code",
   "execution_count": 98,
   "id": "6a95dfc7-8df5-4b8e-87a6-a71a5ca2f586",
   "metadata": {},
   "outputs": [
    {
     "name": "stdout",
     "output_type": "stream",
     "text": [
      "\u001b[1m236/236\u001b[0m \u001b[32m━━━━━━━━━━━━━━━━━━━━\u001b[0m\u001b[37m\u001b[0m \u001b[1m0s\u001b[0m 1ms/step  \n",
      "\u001b[1m79/79\u001b[0m \u001b[32m━━━━━━━━━━━━━━━━━━━━\u001b[0m\u001b[37m\u001b[0m \u001b[1m0s\u001b[0m 2ms/step \n",
      "AUC Train: 0.9824012412642088\n",
      "AUC Test: 0.8738661092976261\n"
     ]
    }
   ],
   "source": [
    "Pr_train = modelo.predict(X_train)\n",
    "Pr_test = modelo.predict(X_test)\n",
    "auc_train = roc_auc_score(Y_train, Pr_train)\n",
    "auc_test = roc_auc_score(Y_test, Pr_test)\n",
    "print(f'AUC Train: {auc_train}')\n",
    "print(f'AUC Test: {auc_test}')"
   ]
  },
  {
   "cell_type": "markdown",
   "id": "5e9229b7-45b6-499c-8ef8-cf2b6e75a4ec",
   "metadata": {},
   "source": [
    "#### Explicación\n",
    "---\n",
    "1. **<span style=\"color:#a64dff\"><b>Pr_train = modelo.predict(X_train)</b></span>**\n",
    "\n",
    "   Esta línea genera las **predicciones del modelo** sobre los datos de entrenamiento.  \n",
    "   El modelo devuelve probabilidades (o logits, dependiendo del `loss`) para cada muestra en `X_train`.\n",
    "\n",
    "   - `Pr_train` almacena esas predicciones.\n",
    "   - Cada valor indica la **probabilidad de que la muestra pertenezca a la clase positiva**.\n",
    "\n",
    "---\n",
    "\n",
    "2. **<span style=\"color:#a64dff\"><b>Pr_test = modelo.predict(X_test)</b></span>**\n",
    "\n",
    "   Igual que el anterior, pero esta vez se obtienen las **predicciones sobre los datos de prueba (`X_test`)**.  \n",
    "   Esto permite evaluar qué tan bien generaliza el modelo a datos nuevos que no ha visto antes.\n",
    "\n",
    "---\n",
    "\n",
    "3. **<span style=\"color:#a64dff\"><b>auc_train = roc_auc_score(Y_train, Pr_train)</b></span>**\n",
    "\n",
    "   Aquí se calcula el **AUC (Área Bajo la Curva ROC)** para el conjunto de entrenamiento.\n",
    "\n",
    "   - **`roc_auc_score`** mide qué tan bien el modelo es capaz de distinguir entre clases.\n",
    "   - Cuanto más cerca esté de **1.0**, mejor será la capacidad del modelo de clasificar correctamente.\n",
    "   - Se usa `Y_train` como etiquetas verdaderas, y `Pr_train` como las probabilidades predichas.\n",
    "\n",
    "---\n",
    "\n",
    "4. **<span style=\"color:#a64dff\"><b>auc_test = roc_auc_score(Y_test, Pr_test)</b></span>**\n",
    "\n",
    "   Similar a la anterior, pero para el **conjunto de prueba**.\n",
    "\n",
    "   - Esto es importante porque el `AUC` en test te dice si el modelo está **generalizando bien** o si está **sobreajustado** (overfitting).\n",
    "\n",
    "---\n",
    "\n",
    "5. **<span style=\"color:#a64dff\"><b>print(f'AUC Train: {auc_train}')</b></span>**  \n",
    "   **<span style=\"color:#a64dff\"><b>print(f'AUC Test: {auc_test}')</b></span>**\n",
    "\n",
    "   Finalmente, se imprimen en pantalla los valores de AUC tanto para entrenamiento como para test.\n",
    "\n",
    "---\n",
    "\n",
    "### 📈 ¿Qué significa un buen AUC?\n",
    "\n",
    "- **AUC = 0.5** → el modelo **no distingue** entre clases (como lanzar una moneda).\n",
    "- **AUC > 0.8** → el modelo es **bastante bueno**.\n",
    "- **AUC ≈ 1.0** → el modelo clasifica casi perfectamente.\n",
    "\n",
    "---"
   ]
  },
  {
   "cell_type": "markdown",
   "id": "26d12534-12bd-492b-95cf-a56fe81694f5",
   "metadata": {},
   "source": [
    "### Presición / Exhaustividad"
   ]
  },
  {
   "cell_type": "code",
   "execution_count": 99,
   "id": "f7012fcd-e00d-440e-8507-25d451f9aab5",
   "metadata": {},
   "outputs": [
    {
     "name": "stdout",
     "output_type": "stream",
     "text": [
      "f1 Train: 0.904658934539021\n",
      "f1 Test: 0.7161676646706587\n"
     ]
    }
   ],
   "source": [
    "f1_train = f1_score(Y_train, P_train)\n",
    "f1_test = f1_score(Y_test, P_test)\n",
    "print(f'f1 Train: {f1_train}')\n",
    "print(f'f1 Test: {f1_test}')"
   ]
  },
  {
   "cell_type": "markdown",
   "id": "51eca0c5-c0fd-46d8-8380-6b2138db631d",
   "metadata": {},
   "source": [
    "#### Explicación\n",
    "---\n",
    "\n",
    "1. **<span style=\"color:#a64dff\"><b>f1_train = f1_score(Y_train, P_train)</b></span>**\n",
    "\n",
    "   - Esta línea calcula el **F1-score** para los datos de entrenamiento.\n",
    "   - **`Y_train`** contiene las **etiquetas verdaderas**.\n",
    "   - **`P_train`** contiene las **predicciones del modelo**, ya convertidas en 0 o 1.\n",
    "   - El **F1-score** es una métrica que combina **precisión** y **recall** en un solo valor, usando la fórmula:\n",
    "\n",
    "     \\[\n",
    "     F1 = 2 \\cdot \\frac{\\text{Precisión} \\cdot \\text{Recall}}{\\text{Precisión} + \\text{Recall}}\n",
    "     \\]\n",
    "\n",
    "   - Es especialmente útil cuando tienes **clases desbalanceadas** o cuando te interesa encontrar un equilibrio entre falsos positivos y falsos negativos.\n",
    "\n",
    "---\n",
    "\n",
    "2. **<span style=\"color:#a64dff\"><b>f1_test = f1_score(Y_test, P_test)</b></span>**\n",
    "\n",
    "   - Similar a la anterior, pero ahora calcula el **F1-score en los datos de prueba**.\n",
    "   - Así evalúas cómo se comporta el modelo con ejemplos **no vistos**.\n",
    "   - Una diferencia muy grande entre `f1_train` y `f1_test` puede indicar **overfitting**.\n",
    "\n",
    "---\n",
    "\n",
    "3. **<span style=\"color:#a64dff\"><b>print(f'f1 Train: {f1_train}')</b></span>**  \n",
    "   **<span style=\"color:#a64dff\"><b>print(f'f1 Test: {f1_test}')</b></span>**\n",
    "\n",
    "   - Estas líneas imprimen los resultados del F1-score para entrenamiento y prueba.\n",
    "   - Te ayudan a comparar el rendimiento del modelo y saber si está **bien entrenado**, **sobreajustado** o **subentrenado**.\n",
    "\n",
    "---\n",
    "\n",
    "### 📌 Nota adicional\n",
    "\n",
    "- El F1-score **oscila entre 0 y 1**:\n",
    "  - **1.0** significa **predicción perfecta**.\n",
    "  - **0.0** indica que **no se acertó nada**.\n",
    "- Si tienes un warning de tipo `UndefinedMetricWarning`, puedes agregar `zero_division=0` para evitarlo:\n",
    "\n",
    "```python\n",
    "f1_score(Y_train, P_train, zero_division=0)\n",
    "```\n",
    "\n",
    "---\n"
   ]
  },
  {
   "cell_type": "markdown",
   "id": "d42b4c6a-343e-401a-ad9b-74d31edba8ec",
   "metadata": {},
   "source": [
    "## Probamos el modelo"
   ]
  },
  {
   "cell_type": "code",
   "execution_count": 113,
   "id": "e4698459-8794-4371-b518-1116f8b58786",
   "metadata": {},
   "outputs": [
    {
     "name": "stdout",
     "output_type": "stream",
     "text": [
      "\u001b[1m1/1\u001b[0m \u001b[32m━━━━━━━━━━━━━━━━━━━━\u001b[0m\u001b[37m\u001b[0m \u001b[1m0s\u001b[0m 105ms/step\n",
      "'estuvo muy entretenida la película' → negativo (0.01)\n",
      "'estuvo horrible la película, me aburrí mucho' → negativo (0.00)\n",
      "'no la recomiendo' → negativo (0.00)\n"
     ]
    }
   ],
   "source": [
    "prueba = [\n",
    "    'estuvo muy entretenida la película',\n",
    "    'estuvo horrible la película, me aburrí mucho',\n",
    "    'no la recomiendo'\n",
    "]\n",
    "\n",
    "# Vectorizar los nuevos textos con el mismo vectorizer usado en entrenamiento\n",
    "X_prueba = vectorizer.transform(prueba)\n",
    "\n",
    "# Realizar predicciones (logits)\n",
    "logits = modelo.predict(X_prueba)\n",
    "\n",
    "# Convertir logits a probabilidades\n",
    "probabilidades = 1 / (1 + np.exp(-logits))  # función sigmoide\n",
    "\n",
    "# Interpretar los resultados\n",
    "for texto, prob in zip(prueba, probabilidades):\n",
    "    clase = \"positivo\" if prob >= 0.5 else \"negativo\"\n",
    "    print(f\"'{texto}' → {clase} ({prob[0]:.2f})\")"
   ]
  },
  {
   "cell_type": "markdown",
   "id": "2427c3a8-bd5c-46c9-abf1-e1730b27949b",
   "metadata": {},
   "source": [
    "### Gráfico del área bajo la curva"
   ]
  },
  {
   "cell_type": "code",
   "execution_count": 32,
   "id": "7f35103e-31e8-4d33-a71b-41817383e9b4",
   "metadata": {},
   "outputs": [],
   "source": [
    "prueba = ['estuvo muy entretenida la película',\n",
    "          'estuvo horrible la película, me aburrí mucho',\n",
    "         'no la recomiendo']"
   ]
  },
  {
   "cell_type": "code",
   "execution_count": 103,
   "id": "a1d56332-fcef-400e-8fc9-a8361894dfb9",
   "metadata": {},
   "outputs": [
    {
     "name": "stdout",
     "output_type": "stream",
     "text": [
      "\u001b[1m79/79\u001b[0m \u001b[32m━━━━━━━━━━━━━━━━━━━━\u001b[0m\u001b[37m\u001b[0m \u001b[1m0s\u001b[0m 2ms/step \n"
     ]
    },
    {
     "data": {
      "image/png": "[encoded data removed]",
      "text/plain": [
       "<Figure size 800x600 with 1 Axes>"
      ]
     },
     "metadata": {},
     "output_type": "display_data"
    }
   ],
   "source": [
    "# Aplicar sigmoid a logits de test\n",
    "logits_test = modelo.predict(X_test)\n",
    "probs_test = 1 / (1 + np.exp(-logits_test))  # sigmoid\n",
    "\n",
    "# Calcular la curva ROC\n",
    "fpr, tpr, thresholds = roc_curve(Y_test, probs_test)\n",
    "roc_auc = auc(fpr, tpr)\n",
    "\n",
    "# Graficar\n",
    "plt.figure(figsize=(8,6))\n",
    "plt.plot(fpr, tpr, color='darkorange', lw=2, label=f'ROC curve (área = {roc_auc:.2f})')\n",
    "plt.plot([0, 1], [0, 1], color='gray', linestyle='--', label='Aleatorio (línea base)')\n",
    "plt.xlabel('Tasa de Falsos Positivos (FPR)')\n",
    "plt.ylabel('Tasa de Verdaderos Positivos (TPR)')\n",
    "plt.title('Curva ROC del modelo')\n",
    "plt.legend(loc='lower right')\n",
    "plt.grid(True)\n",
    "plt.show()"
   ]
  },
  {
   "cell_type": "markdown",
   "id": "48634b93-bf96-4c99-9ad5-a722ea982e2a",
   "metadata": {},
   "source": [
    "#### Explicación\n",
    "---\n",
    "1. **<span style=\"color:#a64dff\"><b>logits_test = modelo.predict(X_test)</b></span>**\n",
    "\n",
    "   - Se obtienen las **predicciones del modelo para los datos de prueba**, pero **antes de aplicar la función sigmoide**.\n",
    "   - Estas predicciones se llaman *logits* (valores reales sin convertir a probabilidades).\n",
    "\n",
    "---\n",
    "\n",
    "2. **<span style=\"color:#a64dff\"><b>probs_test = 1 / (1 + np.exp(-logits_test))</b></span>**\n",
    "\n",
    "   - Se aplica la **función sigmoide** manualmente para convertir los logits a **probabilidades entre 0 y 1**.\n",
    "   - Esto es necesario porque el modelo fue compilado con `from_logits=True`, lo que significa que aún no están en escala de probabilidad.\n",
    "\n",
    "---\n",
    "\n",
    "3. **<span style=\"color:#a64dff\"><b>fpr, tpr, thresholds = roc_curve(Y_test, probs_test)</b></span>**\n",
    "\n",
    "   - Se calcula la **curva ROC (Receiver Operating Characteristic)**.\n",
    "   - Esta función devuelve:\n",
    "     - **FPR**: tasa de falsos positivos.\n",
    "     - **TPR**: tasa de verdaderos positivos (también llamado recall).\n",
    "     - **thresholds**: umbrales para convertir la probabilidad en clases (0 o 1).\n",
    "\n",
    "---\n",
    "\n",
    "4. **<span style=\"color:#a64dff\"><b>roc_auc = auc(fpr, tpr)</b></span>**\n",
    "\n",
    "   - Calcula el **Área Bajo la Curva ROC (AUC)**.\n",
    "   - Este valor indica **qué tan bien separa el modelo las clases**:\n",
    "     - AUC ≈ 0.5 → modelo no mejor que el azar.\n",
    "     - AUC ≈ 1.0 → modelo perfecto.\n",
    "\n",
    "---\n",
    "\n",
    "5. **<span style=\"color:#a64dff\"><b>plt.figure(figsize=(8,6))</b></span>**\n",
    "\n",
    "   - Se configura el tamaño del gráfico.\n",
    "\n",
    "---\n",
    "\n",
    "6. **<span style=\"color:#a64dff\"><b>plt.plot(fpr, tpr, ...)</b></span>**\n",
    "\n",
    "   - Se **dibuja la curva ROC**.\n",
    "   - Representa gráficamente la relación entre FPR y TPR para distintos umbrales.\n",
    "\n",
    "---\n",
    "\n",
    "7. **<span style=\"color:#a64dff\"><b>plt.plot([0, 1], [0, 1], ...)</b></span>**\n",
    "\n",
    "   - Dibuja una **línea diagonal** como referencia, que representa un **modelo aleatorio** (sin capacidad de clasificación).\n",
    "\n",
    "---\n",
    "\n",
    "8. **<span style=\"color:#a64dff\"><b>plt.xlabel(...)</b></span> y <span style=\"color:#a64dff\"><b>plt.ylabel(...)</b></span>**\n",
    "\n",
    "   - Etiquetas para los ejes:\n",
    "     - X → Tasa de Falsos Positivos.\n",
    "     - Y → Tasa de Verdaderos Positivos.\n",
    "\n",
    "---\n",
    "\n",
    "9. **<span style=\"color:#a64dff\"><b>plt.title('Curva ROC del modelo')</b></span>**\n",
    "\n",
    "   - Título descriptivo del gráfico.\n",
    "\n",
    "---\n",
    "\n",
    "10. **<span style=\"color:#a64dff\"><b>plt.legend(...)</b></span>**\n",
    "\n",
    "   - Muestra leyendas para identificar las curvas.\n",
    "\n",
    "---\n",
    "\n",
    "11. **<span style=\"color:#a64dff\"><b>plt.grid(True)</b></span>**  \n",
    "    **<span style=\"color:#a64dff\"><b>plt.show()</b></span>**\n",
    "\n",
    "   - Se activa la cuadrícula del gráfico.\n",
    "   - Finalmente, se **muestra la figura en pantalla**.\n",
    "\n",
    "---\n",
    "\n",
    "### ¿Qué te permite ver este gráfico?\n",
    "\n",
    "La curva ROC te ayuda a entender **cómo se comporta el modelo** para diferentes umbrales de decisión. Cuanto más cerca esté la curva del vértice superior izquierdo, **mejor será el modelo**."
   ]
  },
  {
   "cell_type": "markdown",
   "id": "dde1cb1e-a145-4472-a320-13a06bd0cc2b",
   "metadata": {},
   "source": [
    "### Lista de las métricas"
   ]
  },
  {
   "cell_type": "code",
   "execution_count": 111,
   "id": "87fbbb87-d84f-4373-b578-d57d451b62fc",
   "metadata": {},
   "outputs": [
    {
     "name": "stdout",
     "output_type": "stream",
     "text": [
      "\u001b[1m79/79\u001b[0m \u001b[32m━━━━━━━━━━━━━━━━━━━━\u001b[0m\u001b[37m\u001b[0m \u001b[1m0s\u001b[0m 1ms/step  \n",
      "Mejor umbral según F1 Score: 0.35 (F1 = 0.741)\n"
     ]
    },
    {
     "data": {
      "text/html": [
       "<div>\n",
       "<style scoped>\n",
       "    .dataframe tbody tr th:only-of-type {\n",
       "        vertical-align: middle;\n",
       "    }\n",
       "\n",
       "    .dataframe tbody tr th {\n",
       "        vertical-align: top;\n",
       "    }\n",
       "\n",
       "    .dataframe thead th {\n",
       "        text-align: right;\n",
       "    }\n",
       "</style>\n",
       "<table border=\"1\" class=\"dataframe\">\n",
       "  <thead>\n",
       "    <tr style=\"text-align: right;\">\n",
       "      <th></th>\n",
       "      <th>Umbral</th>\n",
       "      <th>Precision</th>\n",
       "      <th>Recall</th>\n",
       "      <th>F1 Score</th>\n",
       "    </tr>\n",
       "  </thead>\n",
       "  <tbody>\n",
       "    <tr>\n",
       "      <th>0</th>\n",
       "      <td>0.00</td>\n",
       "      <td>0.351</td>\n",
       "      <td>1.000</td>\n",
       "      <td>0.520</td>\n",
       "    </tr>\n",
       "    <tr>\n",
       "      <th>1</th>\n",
       "      <td>0.05</td>\n",
       "      <td>0.467</td>\n",
       "      <td>0.958</td>\n",
       "      <td>0.628</td>\n",
       "    </tr>\n",
       "    <tr>\n",
       "      <th>2</th>\n",
       "      <td>0.10</td>\n",
       "      <td>0.530</td>\n",
       "      <td>0.918</td>\n",
       "      <td>0.672</td>\n",
       "    </tr>\n",
       "    <tr>\n",
       "      <th>3</th>\n",
       "      <td>0.15</td>\n",
       "      <td>0.581</td>\n",
       "      <td>0.891</td>\n",
       "      <td>0.704</td>\n",
       "    </tr>\n",
       "    <tr>\n",
       "      <th>4</th>\n",
       "      <td>0.20</td>\n",
       "      <td>0.621</td>\n",
       "      <td>0.865</td>\n",
       "      <td>0.723</td>\n",
       "    </tr>\n",
       "    <tr>\n",
       "      <th>5</th>\n",
       "      <td>0.25</td>\n",
       "      <td>0.657</td>\n",
       "      <td>0.832</td>\n",
       "      <td>0.735</td>\n",
       "    </tr>\n",
       "    <tr>\n",
       "      <th>6</th>\n",
       "      <td>0.30</td>\n",
       "      <td>0.687</td>\n",
       "      <td>0.804</td>\n",
       "      <td>0.741</td>\n",
       "    </tr>\n",
       "    <tr>\n",
       "      <th>7</th>\n",
       "      <td>0.35</td>\n",
       "      <td>0.711</td>\n",
       "      <td>0.775</td>\n",
       "      <td>0.741</td>\n",
       "    </tr>\n",
       "    <tr>\n",
       "      <th>8</th>\n",
       "      <td>0.40</td>\n",
       "      <td>0.724</td>\n",
       "      <td>0.735</td>\n",
       "      <td>0.730</td>\n",
       "    </tr>\n",
       "    <tr>\n",
       "      <th>9</th>\n",
       "      <td>0.45</td>\n",
       "      <td>0.746</td>\n",
       "      <td>0.709</td>\n",
       "      <td>0.727</td>\n",
       "    </tr>\n",
       "    <tr>\n",
       "      <th>10</th>\n",
       "      <td>0.50</td>\n",
       "      <td>0.760</td>\n",
       "      <td>0.677</td>\n",
       "      <td>0.716</td>\n",
       "    </tr>\n",
       "    <tr>\n",
       "      <th>11</th>\n",
       "      <td>0.55</td>\n",
       "      <td>0.783</td>\n",
       "      <td>0.640</td>\n",
       "      <td>0.704</td>\n",
       "    </tr>\n",
       "    <tr>\n",
       "      <th>12</th>\n",
       "      <td>0.60</td>\n",
       "      <td>0.798</td>\n",
       "      <td>0.595</td>\n",
       "      <td>0.681</td>\n",
       "    </tr>\n",
       "    <tr>\n",
       "      <th>13</th>\n",
       "      <td>0.65</td>\n",
       "      <td>0.814</td>\n",
       "      <td>0.564</td>\n",
       "      <td>0.666</td>\n",
       "    </tr>\n",
       "    <tr>\n",
       "      <th>14</th>\n",
       "      <td>0.70</td>\n",
       "      <td>0.825</td>\n",
       "      <td>0.530</td>\n",
       "      <td>0.646</td>\n",
       "    </tr>\n",
       "    <tr>\n",
       "      <th>15</th>\n",
       "      <td>0.75</td>\n",
       "      <td>0.855</td>\n",
       "      <td>0.486</td>\n",
       "      <td>0.619</td>\n",
       "    </tr>\n",
       "    <tr>\n",
       "      <th>16</th>\n",
       "      <td>0.80</td>\n",
       "      <td>0.873</td>\n",
       "      <td>0.436</td>\n",
       "      <td>0.582</td>\n",
       "    </tr>\n",
       "    <tr>\n",
       "      <th>17</th>\n",
       "      <td>0.85</td>\n",
       "      <td>0.894</td>\n",
       "      <td>0.384</td>\n",
       "      <td>0.537</td>\n",
       "    </tr>\n",
       "    <tr>\n",
       "      <th>18</th>\n",
       "      <td>0.90</td>\n",
       "      <td>0.910</td>\n",
       "      <td>0.320</td>\n",
       "      <td>0.474</td>\n",
       "    </tr>\n",
       "    <tr>\n",
       "      <th>19</th>\n",
       "      <td>0.95</td>\n",
       "      <td>0.934</td>\n",
       "      <td>0.223</td>\n",
       "      <td>0.360</td>\n",
       "    </tr>\n",
       "    <tr>\n",
       "      <th>20</th>\n",
       "      <td>1.00</td>\n",
       "      <td>0.000</td>\n",
       "      <td>0.000</td>\n",
       "      <td>0.000</td>\n",
       "    </tr>\n",
       "  </tbody>\n",
       "</table>\n",
       "</div>"
      ],
      "text/plain": [
       "    Umbral  Precision  Recall  F1 Score\n",
       "0     0.00      0.351   1.000     0.520\n",
       "1     0.05      0.467   0.958     0.628\n",
       "2     0.10      0.530   0.918     0.672\n",
       "3     0.15      0.581   0.891     0.704\n",
       "4     0.20      0.621   0.865     0.723\n",
       "5     0.25      0.657   0.832     0.735\n",
       "6     0.30      0.687   0.804     0.741\n",
       "7     0.35      0.711   0.775     0.741\n",
       "8     0.40      0.724   0.735     0.730\n",
       "9     0.45      0.746   0.709     0.727\n",
       "10    0.50      0.760   0.677     0.716\n",
       "11    0.55      0.783   0.640     0.704\n",
       "12    0.60      0.798   0.595     0.681\n",
       "13    0.65      0.814   0.564     0.666\n",
       "14    0.70      0.825   0.530     0.646\n",
       "15    0.75      0.855   0.486     0.619\n",
       "16    0.80      0.873   0.436     0.582\n",
       "17    0.85      0.894   0.384     0.537\n",
       "18    0.90      0.910   0.320     0.474\n",
       "19    0.95      0.934   0.223     0.360\n",
       "20    1.00      0.000   0.000     0.000"
      ]
     },
     "execution_count": 111,
     "metadata": {},
     "output_type": "execute_result"
    }
   ],
   "source": [
    "# Obtener logits y aplicar función sigmoide\n",
    "logits_test = modelo.predict(X_test)\n",
    "probs_test = 1 / (1 + np.exp(-logits_test))\n",
    "\n",
    "# Umbrales a evaluar\n",
    "thresholds = np.arange(0.0, 1.01, 0.05)\n",
    "\n",
    "# Guardamos las métricas\n",
    "precisions = []\n",
    "recalls = []\n",
    "f1_scores = []\n",
    "\n",
    "# Calcular métricas para cada umbral\n",
    "for thresh in thresholds:\n",
    "    preds = (probs_test >= thresh).astype(int)\n",
    "    precisions.append(precision_score(Y_test, preds, zero_division=0))\n",
    "    recalls.append(recall_score(Y_test, preds))\n",
    "    f1_scores.append(f1_score(Y_test, preds, zero_division=0))\n",
    "\n",
    "# Crear DataFrame\n",
    "df_metrics = pd.DataFrame({\n",
    "    'Umbral': thresholds,\n",
    "    'Precision': precisions,\n",
    "    'Recall': recalls,\n",
    "    'F1 Score': f1_scores\n",
    "})\n",
    "\n",
    "# Encontrar el umbral con mayor F1\n",
    "best_index = np.argmax(df_metrics['F1 Score'])\n",
    "best_threshold = df_metrics.loc[best_index, 'Umbral']\n",
    "best_f1 = df_metrics.loc[best_index, 'F1 Score']\n",
    "\n",
    "print(f'Mejor umbral según F1 Score: {best_threshold:.2f} (F1 = {best_f1:.3f})')\n",
    "df_metrics.round(3)"
   ]
  },
  {
   "cell_type": "markdown",
   "id": "1c84d4c0-4e17-4942-836a-9132a8181739",
   "metadata": {},
   "source": [
    "#### Explicación\n",
    "---\n",
    "\n",
    "1. **<span style=\"color:#a64dff\"><b>logits_test = modelo.predict(X_test)</b></span>**\n",
    "\n",
    "   - Se obtienen los **logits** del modelo (valores reales no escalados aún).\n",
    "\n",
    "2. **<span style=\"color:#a64dff\"><b>probs_test = 1 / (1 + np.exp(-logits_test))</b></span>**\n",
    "\n",
    "   - Se aplica la **función sigmoide** para convertir los logits a **probabilidades entre 0 y 1**.\n",
    "\n",
    "---\n",
    "\n",
    "3. **<span style=\"color:#a64dff\"><b>thresholds = np.arange(0.0, 1.01, 0.05)</b></span>**\n",
    "\n",
    "   - Se crea una lista de **umbrales** (thresholds) desde 0 hasta 1, avanzando de 0.05 en 0.05.\n",
    "\n",
    "---\n",
    "\n",
    "4. **<span style=\"color:#a64dff\"><b>precisions, recalls, f1_scores = []</b></span>**\n",
    "\n",
    "   - Se inicializan listas vacías para guardar las **métricas de precisión, recall y F1** que se obtendrán más adelante.\n",
    "\n",
    "---\n",
    "\n",
    "5. **<span style=\"color:#a64dff\"><b>for thresh in thresholds:</b></span>**\n",
    "\n",
    "   - Se itera por cada umbral para **evaluar cómo cambia el rendimiento del modelo** si consideramos distintos cortes de decisión.\n",
    "\n",
    "---\n",
    "\n",
    "6. **<span style=\"color:#a64dff\"><b>preds = (probs_test >= thresh).astype(int)</b></span>**\n",
    "\n",
    "   - Para cada umbral `thresh`, se convierte la probabilidad a 1 (positivo) si es mayor o igual al umbral, o 0 (negativo) si no.\n",
    "\n",
    "---\n",
    "\n",
    "7. **<span style=\"color:#a64dff\"><b>precision_score(...)</b></span>, <span style=\"color:#a64dff\"><b>recall_score(...)</b></span>, <span style=\"color:#a64dff\"><b>f1_score(...)</b></span>**\n",
    "\n",
    "   - Se calculan las **métricas** correspondientes para ese umbral:\n",
    "     - **Precisión**: cuántas predicciones positivas fueron correctas.\n",
    "     - **Recall**: cuántos positivos reales fueron detectados.\n",
    "     - **F1**: balance entre precisión y recall.\n",
    "\n",
    "---\n",
    "\n",
    "8. **<span style=\"color:#a64dff\"><b>df_metrics = pd.DataFrame(...)</b></span>**\n",
    "\n",
    "   - Se construye un **DataFrame** que guarda todas las métricas evaluadas para cada umbral.\n",
    "\n",
    "---\n",
    "\n",
    "9. **<span style=\"color:#a64dff\"><b>best_index = np.argmax(df_metrics['F1 Score'])</b></span>**\n",
    "\n",
    "   - Se identifica la fila (índice) con el **mayor valor de F1 Score**.\n",
    "\n",
    "10. **<span style=\"color:#a64dff\"><b>best_threshold = df_metrics.loc[best_index, 'Umbral']</b></span>**\n",
    "\n",
    "    - Se obtiene el **mejor umbral de decisión** según el F1 Score.\n",
    "\n",
    "11. **<span style=\"color:#a64dff\"><b>print(...) y df_metrics.round(3)</b></span>**\n",
    "\n",
    "    - Se imprime el umbral óptimo junto con su F1 score.\n",
    "    - Y se muestra la tabla con métricas redondeadas a 3 decimales.\n",
    "\n",
    "---\n",
    "\n",
    "### ¿Para qué sirve este análisis?\n",
    "\n",
    "Este procedimiento permite **elegir el umbral óptimo** para convertir las probabilidades a clases, no simplemente usar el típico `0.5`. Así puedes maximizar la métrica que más te interese (en este caso el **F1 Score**, que es útil cuando hay **desequilibrio de clases**)."
   ]
  },
  {
   "cell_type": "markdown",
   "id": "76a6cfeb-06b6-4f9c-a664-4c84391da8a7",
   "metadata": {},
   "source": [
    "### Graficar las métricas y ubicar el umbral"
   ]
  },
  {
   "cell_type": "code",
   "execution_count": 123,
   "id": "3d4f2517-f331-4603-a3e8-7e13ba44381f",
   "metadata": {},
   "outputs": [
    {
     "data": {
      "image/png": "[encoded data removed]",
      "text/plain": [
       "<Figure size 1000x600 with 1 Axes>"
      ]
     },
     "metadata": {},
     "output_type": "display_data"
    }
   ],
   "source": [
    "plt.figure(figsize=(10,6))\n",
    "plt.plot(thresholds, precisions, label='Precision', marker='o')\n",
    "plt.plot(thresholds, recalls, label='Recall', marker='s')\n",
    "plt.plot(thresholds, f1_scores, label='F1 Score', marker='^')\n",
    "\n",
    "# Línea vertical en el mejor umbral\n",
    "plt.axvline(x=best_threshold, color='red', linestyle='--', label=f'Umbral óptimo (F1)', alpha=0.7)\n",
    "\n",
    "plt.xlabel('Umbral')\n",
    "plt.ylabel('Métrica')\n",
    "plt.title('Métricas vs. Umbral de Clasificación')\n",
    "plt.legend()\n",
    "plt.grid(True)\n",
    "plt.xticks(np.arange(0, 1.05, 0.05))\n",
    "plt.show()"
   ]
  },
  {
   "cell_type": "markdown",
   "id": "1e0a2488-4c82-46ae-abfa-e5a01fb142cf",
   "metadata": {},
   "source": [
    "#### Explicación\n",
    "---\n",
    "1. **<span style=\"color:#a64dff\"><b>plt.figure(figsize=(10,6))</b></span>**\n",
    "\n",
    "   - Crea una nueva figura con un tamaño de 10x6 pulgadas para que el gráfico sea más legible.\n",
    "\n",
    "---\n",
    "\n",
    "2. **<span style=\"color:#a64dff\"><b>plt.plot(thresholds, precisions, label='Precision', marker='o')</b></span>**\n",
    "\n",
    "   - Dibuja la curva de **precisión** frente a los **umbrales**.\n",
    "   - Cada punto se marca con un **círculo (o)**.\n",
    "\n",
    "---\n",
    "\n",
    "3. **<span style=\"color:#a64dff\"><b>plt.plot(thresholds, recalls, label='Recall', marker='s')</b></span>**\n",
    "\n",
    "   - Dibuja la curva de **recall** frente a los **umbrales**.\n",
    "   - Cada punto se marca con un **cuadrado (s)**.\n",
    "\n",
    "---\n",
    "\n",
    "4. **<span style=\"color:#a64dff\"><b>plt.plot(thresholds, f1_scores, label='F1 Score', marker='^')</b></span>**\n",
    "\n",
    "   - Dibuja la curva del **F1 Score** en función del umbral.\n",
    "   - Los puntos son **triángulos (^)**.\n",
    "\n",
    "---\n",
    "\n",
    "5. **<span style=\"color:#a64dff\"><b>plt.axvline(...)</b></span>**\n",
    "\n",
    "   - Dibuja una **línea vertical punteada** en el **umbral óptimo** (el que da el mejor F1).\n",
    "   - Color rojo, con transparencia (`alpha=0.7`), sirve para destacar ese punto clave.\n",
    "\n",
    "---\n",
    "\n",
    "6. **<span style=\"color:#a64dff\"><b>plt.xlabel(...), plt.ylabel(...), plt.title(...)</b></span>**\n",
    "\n",
    "   - Etiquetas para los ejes y el título del gráfico:\n",
    "     - Eje X: **Umbral de clasificación**\n",
    "     - Eje Y: **Valor de la métrica**\n",
    "     - Título: Comparación de métricas según el umbral\n",
    "\n",
    "---\n",
    "\n",
    "7. **<span style=\"color:#a64dff\"><b>plt.legend()</b></span>**\n",
    "\n",
    "   - Añade una **leyenda** para identificar las tres curvas: Precisión, Recall y F1 Score.\n",
    "\n",
    "---\n",
    "\n",
    "8. **<span style=\"color:#a64dff\"><b>plt.grid(True)</b></span>**\n",
    "\n",
    "   - Activa una **cuadrícula de fondo** para facilitar la lectura visual del gráfico.\n",
    "\n",
    "---\n",
    "\n",
    "9. **<span style=\"color:#a64dff\"><b>plt.xticks(np.arange(0, 1.05, 0.05))</b></span>**\n",
    "\n",
    "   - Define los valores del eje X de 0 a 1 con paso de 0.05, igual a los **umbrales evaluados**.\n",
    "\n",
    "---\n",
    "\n",
    "10. **<span style=\"color:#a64dff\"><b>plt.show()</b></span>**\n",
    "\n",
    "   - Muestra el gráfico final con todas las curvas y anotaciones.\n",
    "\n",
    "---\n",
    "\n",
    "### ¿Qué te aporta este gráfico?\n",
    "\n",
    "Este gráfico **visualiza cómo varía el rendimiento del modelo según el umbral de clasificación**. Te ayuda a decidir si usar el clásico `0.5` o algún otro que maximice el F1 o alguna métrica en particular. Es ideal para modelos de clasificación binaria con salidas probabilísticas, como el tuyo. \n",
    "\n",
    "---\n"
   ]
  },
  {
   "cell_type": "markdown",
   "id": "6cacf17d-ae95-4eac-ac8a-53bab1077f59",
   "metadata": {},
   "source": [
    "### Prueba con modificación de umbral"
   ]
  },
  {
   "cell_type": "code",
   "execution_count": 115,
   "id": "3f51d4fb-2fad-4d77-a31e-4cd61fc79e4c",
   "metadata": {},
   "outputs": [
    {
     "name": "stdout",
     "output_type": "stream",
     "text": [
      "\u001b[1m1/1\u001b[0m \u001b[32m━━━━━━━━━━━━━━━━━━━━\u001b[0m\u001b[37m\u001b[0m \u001b[1m0s\u001b[0m 94ms/step\n",
      "'estuvo muy buena la película' → negativo (0.00)\n",
      "'estuvo horrible la película, me aburrí mucho' → negativo (0.00)\n",
      "'no la recomiendo' → negativo (0.00)\n"
     ]
    }
   ],
   "source": [
    "prueba = [\n",
    "    'estuvo muy buena la película',\n",
    "    'estuvo horrible la película, me aburrí mucho',\n",
    "    'no la recomiendo'\n",
    "]\n",
    "\n",
    "# Vectorizar los nuevos textos con el mismo vectorizer usado en entrenamiento\n",
    "X_prueba = vectorizer.transform(prueba)\n",
    "\n",
    "# Realizar predicciones (logits)\n",
    "logits = modelo.predict(X_prueba)\n",
    "\n",
    "# Convertir logits a probabilidades\n",
    "probabilidades = 1 / (1 + np.exp(-logits))  # función sigmoide\n",
    "\n",
    "# Interpretar los resultados\n",
    "for texto, prob in zip(prueba, probabilidades):\n",
    "    clase = \"positivo\" if prob >= 0.35 else \"negativo\"\n",
    "    print(f\"'{texto}' → {clase} ({prob[0]:.2f})\")"
   ]
  },
  {
   "cell_type": "markdown",
   "id": "1915855f-2717-489f-8707-829318b23ef0",
   "metadata": {},
   "source": [
    "## Conclusiones"
   ]
  },
  {
   "cell_type": "markdown",
   "id": "3f2c377f-eb17-4027-9311-13b0c8da955a",
   "metadata": {},
   "source": [
    "<div style=\"text-align: center;\">\n",
    "    <p>El modelo de Keras entrenado con comentarios de películas permite predecir sentimientos positivos o negativos con una arquitectura simple de una capa densa. Evaluamos su desempeño usando métricas como accuracy, AUC y F1 Score, y exploramos cómo varía según el umbral de clasificación. Esto nos permite ajustar el modelo para maximizar su rendimiento en tareas reales de análisis de sentimiento.</p>\n",
    "    <div align=\"center\">\n",
    "  <img src=\"images/resumen.png\" alt=\"Descripción\" width=\"400\">\n",
    "</div>\n",
    "    <hr/>\n",
    "    <p style=\"text-align: right;\">Mg. Luis Felipe Bustamante Narváez</p>\n",
    "</div>"
   ]
  }
 ],
 "metadata": {
  "kernelspec": {
   "display_name": "Python 3 (ipykernel)",
   "language": "python",
   "name": "python3"
  },
  "language_info": {
   "codemirror_mode": {
    "name": "ipython",
    "version": 3
   },
   "file_extension": ".py",
   "mimetype": "text/x-python",
   "name": "python",
   "nbconvert_exporter": "python",
   "pygments_lexer": "ipython3",
   "version": "3.12.9"
  }
 },
 "nbformat": 4,
 "nbformat_minor": 5
}
